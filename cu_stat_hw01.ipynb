{
 "nbformat": 4,
 "nbformat_minor": 0,
 "metadata": {
  "colab": {
   "provenance": [],
   "collapsed_sections": [
    "97bsreDkDkYf",
    "FPMUORu9DnBG",
    "sVHFp_qcNPrf",
    "dcvKhtdSNT8W",
    "vHmmI7tTNUPO",
    "iZYKQ328DnRC",
    "9l5bPhWSh3tO",
    "4zdsKS8XmvWC",
    "U6HjdxUNiPzU",
    "kI9UKCyzQwmK",
    "-__BJSHK0cOe",
    "OVR5CZCbQ3QA",
    "_VBV9bUrQ3Sf",
    "8YwnyeqDQ3U4",
    "KOsM42eXQ4JL"
   ],
   "include_colab_link": true
  },
  "kernelspec": {
   "name": "python3",
   "display_name": "Python 3 (ipykernel)",
   "language": "python"
  },
  "language_info": {
   "name": "python"
  }
 },
 "cells": [
  {
   "cell_type": "markdown",
   "metadata": {
    "id": "view-in-github",
    "colab_type": "text"
   },
   "source": [
    "<a href=\"https://colab.research.google.com/github/stakancheck/cu-colab-statistic/blob/main/cu_stat_hw01.ipynb\" target=\"_parent\"><img src=\"https://colab.research.google.com/assets/colab-badge.svg\" alt=\"Open In Colab\"/></a>"
   ]
  },
  {
   "cell_type": "markdown",
   "source": [
    "# Задача 1. Классифицируй датасеты"
   ],
   "metadata": {
    "id": "97bsreDkDkYf"
   }
  },
  {
   "cell_type": "markdown",
   "source": [
    "## 1. (blue, баллы: 0.2) Типы датасетов\n",
    "Определи тип каждого из датасетов."
   ],
   "metadata": {
    "id": "8VKoqFKPDm-C"
   }
  },
  {
   "cell_type": "markdown",
   "source": [
    "   - Cross-section\n",
    "   - Time Series\n",
    "   - Panel Data"
   ],
   "metadata": {
    "id": "IcipsNYmgmKD"
   }
  },
  {
   "cell_type": "markdown",
   "source": [
    "   - [Датасет 1](https://raw.githubusercontent.com/zalig/cu-datasets/main/01_dataset1.csv)\n",
    "   - [Датасет 2](https://raw.githubusercontent.com/zalig/cu-datasets/main/01_dataset2.csv)\n",
    "   - [Датасет 3](https://raw.githubusercontent.com/zalig/cu-datasets/main/01_dataset3.csv)"
   ],
   "metadata": {
    "id": "a2xEyczIJ5AN"
   }
  },
  {
   "cell_type": "markdown",
   "source": [
    "**Решение**\n",
    "\n",
    "1 – Cross-section, так как в датасете есть данные по разным объектам в неизвестный момент времени.\n",
    "\n",
    "2 – Time Series, так как в датасете есть данные по одним и тем же объектам в разные моменты времени.\n",
    "\n",
    "3 – Panel Data, так как в датасете есть данные по разным объектам в разные моменты времени."
   ],
   "metadata": {
    "id": "5hxsPN0ZEEmj"
   }
  },
  {
   "cell_type": "code",
   "source": [
    "# Твоё решение тут"
   ],
   "metadata": {
    "id": "xjXTT5uv6gHx",
    "ExecuteTime": {
     "end_time": "2024-09-11T11:23:00.499789Z",
     "start_time": "2024-09-11T11:23:00.485008Z"
    }
   },
   "outputs": [],
   "execution_count": 1
  },
  {
   "cell_type": "markdown",
   "source": [
    "## 2. (blue, баллы: 0.2) Примеры датасетов в реальной жизни.\n",
    "Придумай примеры из реальной жизни датасетов каждого вида."
   ],
   "metadata": {
    "id": "S-hziYPoJuOX"
   }
  },
  {
   "cell_type": "markdown",
   "source": [
    "   - Cross-section\n",
    "   - Time Series\n",
    "   - Panel Data"
   ],
   "metadata": {
    "id": "t6n0p1dxJ7fT"
   }
  },
  {
   "cell_type": "markdown",
   "source": [
    "**Решение**\n",
    "\n",
    "**Cross-section:** Датасет соотвествия результатов экзаменов студентов их учебным группам.\n",
    "\n",
    "**Time Series:** Датасет ключевой ставки ЦБ РФ за последние 10 лет, значение на каждый год.\n",
    "\n",
    "**Panel Data:** Датасет с данными о количестве заказов разных товаров на маркетплейсе в разные дни сентября 2024 года.\n"
   ],
   "metadata": {
    "id": "4XnNEnbLg1QO"
   }
  },
  {
   "cell_type": "code",
   "source": [
    "# Твоё решение тут"
   ],
   "metadata": {
    "id": "SxTf-SXJJuOY",
    "ExecuteTime": {
     "end_time": "2024-09-11T12:53:02.225070Z",
     "start_time": "2024-09-11T12:53:02.220445Z"
    }
   },
   "outputs": [],
   "execution_count": 3
  },
  {
   "cell_type": "markdown",
   "source": [
    "# Задача 2. Прокомментируй различия типов данных"
   ],
   "metadata": {
    "id": "FPMUORu9DnBG"
   }
  },
  {
   "cell_type": "markdown",
   "source": [
    "Дан [датасет](https://raw.githubusercontent.com/zalig/cu-datasets/main/01_datatypes1.csv), состоящий из четырёх наблюдений и шести столбцов.\n",
    "\n",
    "<table>\n",
    "  <tr>\n",
    "    <th>Age</th>\n",
    "    <th>Salary</th>\n",
    "    <th>Female</th>\n",
    "    <th>Education Level</th>\n",
    "    <th>No of Elementary School</th>\n",
    "    <th>Favorite Color</th>\n",
    "  </tr>\n",
    "  <tr>\n",
    "    <td>23</td>\n",
    "    <td>30</td>\n",
    "    <td>1</td>\n",
    "    <td>1</td>\n",
    "    <td>25</td>\n",
    "    <td>blue</td>\n",
    "  </tr>\n",
    "  <tr>\n",
    "    <td>30</td>\n",
    "    <td>80</td>\n",
    "    <td>1</td>\n",
    "    <td>3</td>\n",
    "    <td>3</td>\n",
    "    <td>pink</td>\n",
    "  </tr>\n",
    "  <tr>\n",
    "    <td>22</td>\n",
    "    <td>15</td>\n",
    "    <td>0</td>\n",
    "    <td>2</td>\n",
    "    <td>50</td>\n",
    "    <td>yellow</td>\n",
    "  </tr>\n",
    "  <tr>\n",
    "    <td>41</td>\n",
    "    <td>80</td>\n",
    "    <td>1</td>\n",
    "    <td>3</td>\n",
    "    <td>1544</td>\n",
    "    <td>black</td>\n",
    "  </tr>\n",
    "</table>\n",
    "\n",
    "Описание столбцов датасета:\n",
    "\n",
    "- Age – возраст человека в годах.\n",
    "- Salary – доход человека в тысячах рублей в месяц.\n",
    "- Female – индикатор женского пола (1 – женщина, 0 – мужчина).\n",
    "- Education Level – ступень образования (1 – нет оконченного высшего, 2 – оконченное высшее без учёной степени, 3 – кандидат или доктор наук или PhD).\n",
    "- No of Elementary School – номер средней школы, из которой выпустился человек.\n",
    "- Favorite Color – любимый цвет.\n",
    "\n",
    "Для этого датасета выполни следующее:\n",
    "1. (blue, баллы: 0.4) Определи тип данных каждого столбца.\n",
    "2. (blue, баллы: 0.4) Столбец Age. Найдя разность 41 и 22, получим 19. Разумно ли сказать, что четвёртый человек на 19 лет старше третьего? Можно ли сказать, что второй человек старше первого?\n",
    "3. (blue, баллы: 0.4) Столбец Female. Число 1 больше, чем число 0: осмысленно ли сказать, что пол второго человека «больше», чем пол первого? Можно ли сказать, во сколько раз? В бесконечность?\n",
    "4. (blue, баллы: 0.4) Столбец Education Level. Можно ли сказать, что второй человек более образованный, чем первый, потому что 3 > 1? Можно ли сказать, что второй человек в три раза более образованный, чем первый?\n",
    "5. (blue, баллы: 0.4) Столбец No of Elementary School. Можно ли сказать, что школа третьего человека вдвое отличается от школы первого человека, потому что 50 = 25 × 2? Можно ли сказать, что школа второго человека намного меньше школы первого? Можно ли сказать, что школа четвёртого человека очень отличается от школ первых троих, потому что 1544 намного больше 25, 3, 50?\n",
    "6. (blue, баллы: 0.4) Столбец Favorite Color. Можно ли сказать, что цвет первого человека «больше», чем у второго? Во сколько раз больше?\n"
   ],
   "metadata": {
    "id": "-eUBjXa8DnEQ"
   }
  },
  {
   "cell_type": "markdown",
   "source": [
    "## 1. (blue, баллы: 0.4) Типы данных в столбцах.\n",
    "Определи тип данных каждого столбца."
   ],
   "metadata": {
    "id": "sVHFp_qcNPrf"
   }
  },
  {
   "cell_type": "markdown",
   "source": [
    "**Решение**\n",
    "\n",
    "1. Age – числовой.\n",
    "2. Salary – числовой.\n",
    "3. Female – неупорядоченный.\n",
    "4. Education Level – упорядоченный.\n",
    "5. No of Elementary School – неупорядоченный.\n",
    "6. Favorite Color – неупорядоченный."
   ],
   "metadata": {
    "id": "9YsKPG5REGfJ"
   }
  },
  {
   "cell_type": "code",
   "source": [
    "# Твоё решение тут"
   ],
   "metadata": {
    "id": "WPTzk_IyEGfK"
   },
   "execution_count": null,
   "outputs": []
  },
  {
   "cell_type": "markdown",
   "source": [
    "## 2. (blue, баллы: 0.4) Столбец Age.\n",
    "Найдя разность 41 и 22, получим 19. Разумно ли сказать, что четвёртый человек на 19 лет старше третьего? Можно ли сказать, что второй человек старше первого?"
   ],
   "metadata": {
    "id": "dcvKhtdSNT8W"
   }
  },
  {
   "cell_type": "markdown",
   "source": [
    "**Решение**\n",
    "\n",
    "Четвёртый человек на 19 лет старше третьего, так как 41 - 22 = 19. Второй человек старше первого, так как 30 < 22. Да, можно сказать, такие операции уместны, так как тип данных числовой."
   ],
   "metadata": {
    "id": "mMREc9uxNT8X"
   }
  },
  {
   "cell_type": "code",
   "source": [
    "# Твоё решение тут"
   ],
   "metadata": {
    "id": "mHnTbLCbNT8X"
   },
   "execution_count": null,
   "outputs": []
  },
  {
   "cell_type": "markdown",
   "source": [
    "## 3. (blue, баллы: 0.4) Столбец Female.\n",
    "Число 1 больше, чем число 0: осмысленно ли сказать, что пол второго человека «больше», чем пол первого? Можно ли сказать, во сколько раз? В бесконечность?"
   ],
   "metadata": {
    "id": "vHmmI7tTNUPO"
   }
  },
  {
   "cell_type": "markdown",
   "source": [
    "**Решение**\n",
    "\n",
    "Нет, нельзя делать такие выводы и проводить такие операции, они бессмысленны. Тип данных неупорядоченный. Мы можем ли заявить факт того, что какой-то человек обладает тем или иным полом и сгруппировать людей по одному полу."
   ],
   "metadata": {
    "id": "Hz_yu2dtNUPO"
   }
  },
  {
   "cell_type": "code",
   "source": [
    "# Твоё решение тут"
   ],
   "metadata": {
    "id": "YYrHHN_2NUPO"
   },
   "execution_count": null,
   "outputs": []
  },
  {
   "cell_type": "markdown",
   "source": [
    "## 4. (blue, баллы: 0.4) Столбец Education Level.\n",
    "Можно ли сказать, что второй человек более образованный, чем первый, потому что 3 > 1? Можно ли сказать, что второй человек в три раза более образованный, чем первый?"
   ],
   "metadata": {
    "id": "YBTIGh-rNUd3"
   }
  },
  {
   "cell_type": "markdown",
   "source": [
    "**Решение**\n",
    "\n",
    "Мы можем сказать, что второй человек более образованный. Однако, проводить любые арифметические операции бессмысленно, так как эти данные упорядоченные."
   ],
   "metadata": {
    "id": "Edh9MqkTNUd4"
   }
  },
  {
   "cell_type": "code",
   "source": [
    "# Твоё решение тут"
   ],
   "metadata": {
    "id": "AY7NUjqbNUd5"
   },
   "execution_count": null,
   "outputs": []
  },
  {
   "cell_type": "markdown",
   "source": [
    "## 5. (blue, баллы: 0.4) Столбец No of Elementary School.\n",
    "Можно ли сказать, что школа третьего человека вдвое отличается от школы первого человека, потому что 50 = 25 × 2? Можно ли сказать, что школа второго человека намного меньше школы первого? Можно ли сказать, что школа четвёртого человека очень отличается от школ первых троих, потому что 1544 намного больше 25, 3, 50?\n"
   ],
   "metadata": {
    "id": "3Cdi0XkWNUrG"
   }
  },
  {
   "cell_type": "markdown",
   "source": [
    "**Решение**\n",
    "\n",
    "Нет, нельзя делать такие выводы и проводить такие операции, они бессмысленны. Тип данных неупорядоченный. Мы можем лишь сгруппировать людей по номеру школы."
   ],
   "metadata": {
    "id": "NPc4NkR_NUrH"
   }
  },
  {
   "cell_type": "code",
   "source": [
    "# Твоё решение тут"
   ],
   "metadata": {
    "id": "T4nDLYcFNUrH"
   },
   "execution_count": null,
   "outputs": []
  },
  {
   "cell_type": "markdown",
   "source": [
    "## 6. (blue, баллы: 0.4) Столбец Favorite Color.\n",
    "Можно ли сказать, что цвет первого человека «больше», чем у второго? Во сколько раз больше?"
   ],
   "metadata": {
    "id": "cmk4hEtFNU9e"
   }
  },
  {
   "cell_type": "markdown",
   "source": [
    "**Решение**\n",
    "\n",
    "Нет, нельзя делать такие выводы и проводить такие операции, они бессмысленны. Тип данных неупорядоченный. Мы можем лишь сгруппировать людей по любимому цвету. Или, например, найти самый популярный цвет."
   ],
   "metadata": {
    "id": "1iF5uOh3NU9e"
   }
  },
  {
   "cell_type": "code",
   "source": [
    "# Твоё решение тут"
   ],
   "metadata": {
    "id": "LQbisrPuNU9f"
   },
   "execution_count": null,
   "outputs": []
  },
  {
   "cell_type": "markdown",
   "source": [
    "# Задача 3. Найди описательные статистики по формулам\n"
   ],
   "metadata": {
    "id": "iZYKQ328DnRC"
   }
  },
  {
   "cell_type": "markdown",
   "source": [
    " Известны доходы в тысячах рублей первых четырёх клиентов $X$: 50, 30, 60, 60. Найди указанные ниже показатели и продемонстрируй не только финальный ответ, но и ход расчётов:\n",
    " - использованные математические формулы,\n",
    " - подставляемые в них числа.\n",
    "\n",
    "Нельзя просто написать «после загрузки чисел в Python такой-то командой всё как-то само посчиталось».\n",
    "\n",
    "Проинтерпретируй указанные ниже показатели, то есть объясни их смысл.\n",
    "\n",
    "1. (blue, баллы: 0.5) Найди среднее и централизацию каждого клиента относительно среднего. Проинтерпретируй централизацию второго клиента. Напомним, что централизацией мы называем отклонение конкретного значения от среднего значения.\n",
    "2. (blue, баллы: 0.5) Найди среднее абсолютное отклонение от среднего, размах и проинтерпретируй их.\n",
    "3. (blue, баллы: 0.5) Найди смещённое стандартное отклонение.\n",
    "4. (blue, баллы: 0.5) Найди медиану и проинтерпретируй её.\n",
    "5. (blue, баллы: 0.5) Найди нижний и верхний квартили, 30%-персентиль и 0.8-квантиль. Проинтерпретируй нижний квартиль.\n",
    "6. (blue, баллы: 0.5) Найди межквартильный размах и проинтерпретируй его."
   ],
   "metadata": {
    "id": "Y3g0vJWqQNcu"
   }
  },
  {
   "cell_type": "markdown",
   "source": [
    "## 1. (blue, баллы: 0.5) Среднее и централизация.\n",
    "Найди среднее и централизацию каждого клиента относительно среднего. Проинтерпретируй централизацию второго клиента. Напомним, что централизацией мы называем отклонение конкретного значения от среднего значения."
   ],
   "metadata": {
    "id": "ud8Va70bO2Yq"
   }
  },
  {
   "cell_type": "markdown",
   "source": [
    "**Решение**\n",
    "\n",
    "**Интерпретация:** Централизация второго клиента равна -20, это означает, что доходы второго клиента на 20 тысяч рублей меньше среднего. "
   ],
   "metadata": {
    "id": "VQN6tEGaEIfK"
   }
  },
  {
   "cell_type": "code",
   "source": [
    "# Твоё решение тут\n",
    "import numpy\n",
    "\n",
    "# Данные\n",
    "X = [50, 30, 60, 60]\n",
    "\n",
    "# Среднее\n",
    "mean = sum(X) / len(X)\n",
    "\n",
    "# Централизация\n",
    "centralization = [x - mean for x in X]\n",
    "\n",
    "centralization"
   ],
   "metadata": {
    "id": "dVm5zl5kEIfS",
    "ExecuteTime": {
     "end_time": "2024-09-13T12:17:56.067352Z",
     "start_time": "2024-09-13T12:17:55.853416Z"
    }
   },
   "outputs": [
    {
     "data": {
      "text/plain": [
       "[0.0, -20.0, 10.0, 10.0]"
      ]
     },
     "execution_count": 1,
     "metadata": {},
     "output_type": "execute_result"
    }
   ],
   "execution_count": 1
  },
  {
   "cell_type": "markdown",
   "source": [
    "## 2. (blue, баллы: 0.5) Среднее абсолютное отклонение и размах.\n",
    "Найди среднее абсолютное отклонение от среднего, размах и проинтерпретируй их."
   ],
   "metadata": {
    "id": "V5nw3DybO_e6"
   }
  },
  {
   "cell_type": "markdown",
   "source": [
    "**Решение**\n",
    "\n",
    "**Интерпретация:** Среднее абсолютное отклонение равно 10, это означает, что в среднем доходы клиентов отклоняются от среднего на 10 тысяч рублей. Размах равен 30, это означает, что разница между минимальным и максимальным доходом клиентов составляет 30 тысяч рублей."
   ],
   "metadata": {
    "id": "oCiEP7Q2O_e7"
   }
  },
  {
   "cell_type": "code",
   "source": [
    "# Твоё решение тут\n",
    "\n",
    "# Среднее абсолютное отклонение MAD\n",
    "mean_abs_dev = sum([abs(x - mean) for x in X]) / len(X)\n",
    "\n",
    "# Размах\n",
    "range_X = max(X) - min(X)\n",
    "\n",
    "mean_abs_dev, range_X"
   ],
   "metadata": {
    "id": "ErW72xuDO_e7",
    "ExecuteTime": {
     "end_time": "2024-09-13T12:23:08.488752Z",
     "start_time": "2024-09-13T12:23:08.481976Z"
    }
   },
   "outputs": [
    {
     "data": {
      "text/plain": [
       "(10.0, 30)"
      ]
     },
     "execution_count": 3,
     "metadata": {},
     "output_type": "execute_result"
    }
   ],
   "execution_count": 3
  },
  {
   "cell_type": "markdown",
   "source": [
    "## 3. (blue, баллы: 0.5) Смещённое стандартное отклонение.\n",
    "Найди смещённое стандартное отклонение.\n"
   ],
   "metadata": {
    "id": "Bb6IB2uBO_mX"
   }
  },
  {
   "cell_type": "markdown",
   "source": [
    "**Решение**"
   ],
   "metadata": {
    "id": "pahviO0XO_mX"
   }
  },
  {
   "cell_type": "code",
   "source": [
    "# Твоё решение тут\n",
    "import math\n",
    "\n",
    "# Среднее квадратичное отклонение MSD\n",
    "mean_sq_dev = sum([(x - mean) ** 2 for x in X]) / len(X)\n",
    "\n",
    "# Смещённое стандартное отклонение\n",
    "biased_st_dev = math.sqrt(mean_sq_dev)\n",
    "\n",
    "biased_st_dev"
   ],
   "metadata": {
    "id": "4REOO4gDO_mX",
    "ExecuteTime": {
     "end_time": "2024-09-13T12:57:23.001584Z",
     "start_time": "2024-09-13T12:57:22.970301Z"
    }
   },
   "outputs": [
    {
     "data": {
      "text/plain": [
       "12.24744871391589"
      ]
     },
     "execution_count": 4,
     "metadata": {},
     "output_type": "execute_result"
    }
   ],
   "execution_count": 4
  },
  {
   "cell_type": "markdown",
   "source": [
    "## 4. (blue, баллы: 0.5) Медиана.\n",
    "Найди медиану и проинтерпретируй её."
   ],
   "metadata": {
    "id": "NUKahh5hO_xF"
   }
  },
  {
   "cell_type": "markdown",
   "source": [
    "**Решение**\n",
    "\n",
    "**Интерпретация:** Медиана равна 55, это означает, что половина клиентов имеют доходы менее 55 тысяч рублей, а другая половина — более 55 тысяч рублей."
   ],
   "metadata": {
    "id": "uOOlzfEZO_xG"
   }
  },
  {
   "cell_type": "code",
   "source": [
    "# Твоё решение тут\n",
    "\n",
    "# Медиана\n",
    "x_sorted = sorted(X)\n",
    "n = len(X)\n",
    "median = x_sorted[n // 2] if n % 2 != 0 else (x_sorted[n // 2 - 1] + x_sorted[n // 2]) / 2\n",
    "\n",
    "median"
   ],
   "metadata": {
    "id": "D_hSzb_FO_xG",
    "ExecuteTime": {
     "end_time": "2024-09-13T12:59:38.271144Z",
     "start_time": "2024-09-13T12:59:38.256145Z"
    }
   },
   "outputs": [
    {
     "data": {
      "text/plain": [
       "55.0"
      ]
     },
     "execution_count": 5,
     "metadata": {},
     "output_type": "execute_result"
    }
   ],
   "execution_count": 5
  },
  {
   "cell_type": "markdown",
   "source": [
    "## 5. (blue, баллы: 0.5) Квантили.\n",
    "Найди нижний и верхний квартили, 30%-персентиль и 0.8-квантиль. Проинтерпретируй нижний квартиль."
   ],
   "metadata": {
    "id": "QgdXmGpqPAQz"
   }
  },
  {
   "cell_type": "markdown",
   "source": [
    "**Решение**\n",
    "\n",
    "**Интерпретация:** нижний квартиль равен 45, это означает, что 25% клиентов имеют доходы менее 45 тысяч рублей."
   ],
   "metadata": {
    "id": "kdkOS0uePAQz"
   }
  },
  {
   "cell_type": "code",
   "source": [
    "# Твоё решение тут\n",
    "\n",
    "# Нижняя и верхняя квартиль\n",
    "q1 = numpy.percentile(X, 25)\n",
    "q3 = numpy.percentile(X, 75)\n",
    "\n",
    "# 30%-персентиль\n",
    "p30 = numpy.percentile(X, 30)\n",
    "\n",
    "# 0.8-квантиль\n",
    "q8 = numpy.percentile(X, 80)\n",
    "\n",
    "q1, q3, p30, q8"
   ],
   "metadata": {
    "id": "7cD-Q2l1PAQz",
    "ExecuteTime": {
     "end_time": "2024-09-13T13:02:56.383249Z",
     "start_time": "2024-09-13T13:02:56.371542Z"
    }
   },
   "outputs": [
    {
     "data": {
      "text/plain": [
       "(np.float64(45.0), np.float64(60.0), np.float64(48.0), np.float64(60.0))"
      ]
     },
     "execution_count": 7,
     "metadata": {},
     "output_type": "execute_result"
    }
   ],
   "execution_count": 7
  },
  {
   "cell_type": "markdown",
   "source": [
    "## 6. (blue, баллы: 0.5) Межквартильный размах.\n",
    "Найди межквартильный размах и проинтерпретируй его."
   ],
   "metadata": {
    "id": "Lrkt_-ylPPMS"
   }
  },
  {
   "cell_type": "markdown",
   "source": [
    "**Решение**\n",
    "\n",
    "**Интерпретация:** Межквартильный размах равен 15, это означает, что средние 50% значений доходов людей имеют разброс в 15 тысяч."
   ],
   "metadata": {
    "id": "LTbTNqQ5PPMY"
   }
  },
  {
   "cell_type": "code",
   "source": [
    "# Твоё решение тут\n",
    "\n",
    "# Межквартильный размах\n",
    "iqr = q3 - q1\n",
    "\n",
    "iqr"
   ],
   "metadata": {
    "id": "GfwUDXu1PPMY",
    "ExecuteTime": {
     "end_time": "2024-09-13T13:10:44.190760Z",
     "start_time": "2024-09-13T13:10:44.157460Z"
    }
   },
   "outputs": [
    {
     "data": {
      "text/plain": [
       "np.float64(15.0)"
      ]
     },
     "execution_count": 8,
     "metadata": {},
     "output_type": "execute_result"
    }
   ],
   "execution_count": 8
  },
  {
   "cell_type": "markdown",
   "source": [
    "# Задача 4. Проведи очистку данных и рассчитай статистики в «Питоне»"
   ],
   "metadata": {
    "id": "9l5bPhWSh3tO"
   }
  },
  {
   "cell_type": "markdown",
   "source": [
    "Датасет [duration.csv](https://raw.githubusercontent.com/zalig/cu-datasets/main/01_duration.csv) содержит единственный столбец: время в секундах, проведённое\n",
    "посетителем на сайте в течение одного сеанса, согласно серверным логам.\n",
    "\n",
    "## 1. (blue, баллы: 1) Рассчитай описательные статистики.\n"
   ],
   "metadata": {
    "id": "4zdsKS8XmvWC"
   }
  },
  {
   "cell_type": "markdown",
   "source": [
    "\n",
    "Найди среднее, размах, смещённое стандартное отклонение, медиану, нижний и верхний квартили, межквартильный размах.\n",
    "\n",
    "Не забудь очистить данные от явно ошибочных значений (например, 74393479 секунд, это больше 2 лет — явно ошибочное значение).\n",
    "\n",
    "Подсказка: отсортируй числа и посмотри на начало и конец, а затем отфильтруй\n",
    "явно неподходящие значения."
   ],
   "metadata": {
    "id": "ZtIeEaLP7Ubb"
   }
  },
  {
   "cell_type": "markdown",
   "source": [
    "**Решение**"
   ],
   "metadata": {
    "id": "Hkich0wVPwjx"
   }
  },
  {
   "cell_type": "code",
   "source": [
    "# Твоё решение тут\n",
    "\n",
    "import pandas as pd\n",
    "\n",
    "df = pd.read_csv(\"https://raw.githubusercontent.com/zalig/cu-datasets/main/01_duration.csv\")\n",
    "\n",
    "# Проверим \"мусор\"\n",
    "# df['duration'].sort_values().tail()\n",
    "\n",
    "df = df[(df['duration'] >= 0) & (df['duration'] < 1000)][['duration']]\n",
    "\n",
    "\n",
    "def Q1(x):\n",
    "    return x.quantile(0.25)\n",
    "\n",
    "\n",
    "def Q3(x):\n",
    "    return x.quantile(0.75)\n",
    "\n",
    "\n",
    "def std_n(x):\n",
    "    return x.std(ddof=0)\n",
    "\n",
    "\n",
    "def IQR(x):\n",
    "    return Q3(x) - Q1(x)\n",
    "\n",
    "\n",
    "def rng(x):\n",
    "    return max(x) - min(x)\n",
    "\n",
    "\n",
    "df.agg([\"mean\", std_n, \"median\", Q1, Q3, IQR])"
   ],
   "metadata": {
    "id": "fZ-4jPTTPqz6",
    "ExecuteTime": {
     "end_time": "2024-09-14T19:13:33.328101Z",
     "start_time": "2024-09-14T19:13:31.738412Z"
    }
   },
   "outputs": [
    {
     "data": {
      "text/plain": [
       "          duration\n",
       "mean     66.967742\n",
       "std_n   121.547677\n",
       "median    7.000000\n",
       "Q1        1.500000\n",
       "Q3       24.500000\n",
       "IQR      23.000000"
      ],
      "text/html": [
       "<div>\n",
       "<style scoped>\n",
       "    .dataframe tbody tr th:only-of-type {\n",
       "        vertical-align: middle;\n",
       "    }\n",
       "\n",
       "    .dataframe tbody tr th {\n",
       "        vertical-align: top;\n",
       "    }\n",
       "\n",
       "    .dataframe thead th {\n",
       "        text-align: right;\n",
       "    }\n",
       "</style>\n",
       "<table border=\"1\" class=\"dataframe\">\n",
       "  <thead>\n",
       "    <tr style=\"text-align: right;\">\n",
       "      <th></th>\n",
       "      <th>duration</th>\n",
       "    </tr>\n",
       "  </thead>\n",
       "  <tbody>\n",
       "    <tr>\n",
       "      <th>mean</th>\n",
       "      <td>66.967742</td>\n",
       "    </tr>\n",
       "    <tr>\n",
       "      <th>std_n</th>\n",
       "      <td>121.547677</td>\n",
       "    </tr>\n",
       "    <tr>\n",
       "      <th>median</th>\n",
       "      <td>7.000000</td>\n",
       "    </tr>\n",
       "    <tr>\n",
       "      <th>Q1</th>\n",
       "      <td>1.500000</td>\n",
       "    </tr>\n",
       "    <tr>\n",
       "      <th>Q3</th>\n",
       "      <td>24.500000</td>\n",
       "    </tr>\n",
       "    <tr>\n",
       "      <th>IQR</th>\n",
       "      <td>23.000000</td>\n",
       "    </tr>\n",
       "  </tbody>\n",
       "</table>\n",
       "</div>"
      ]
     },
     "execution_count": 3,
     "metadata": {},
     "output_type": "execute_result"
    }
   ],
   "execution_count": 3
  },
  {
   "cell_type": "markdown",
   "source": [
    "# Задача 5. Проведи расчёты для кейса «Золотая жила»"
   ],
   "metadata": {
    "id": "U6HjdxUNiPzU"
   }
  },
  {
   "cell_type": "markdown",
   "source": [
    "Датасет [golden_mine.csv](https://raw.githubusercontent.com/zalig/cu-datasets/main/golden_mine.csv) содержит данные для кейса [«Золотая жила»](https://raw.githubusercontent.com/zalig/cu-datasets/main/case_1_golden_mine.pdf). В нём потребуется с помощью датасета найти наиболее прибыльные категории клиентов (пользователей платформы изучения иностранного языка).\n",
    "\n",
    "В этом домашнем задании нужно познакомиться с датасетом и провести некоторые расчёты в нём. Целиком кейс пока решать не нужно.\n",
    "Подробности кейса — в информационной системе."
   ],
   "metadata": {
    "id": "w3VAopcCh1QF"
   }
  },
  {
   "cell_type": "markdown",
   "source": [
    "Описание столбцов датасета:\n",
    "- Gender — пол клиента;\n",
    "- Age — возраст клиента в годах;\n",
    "- Age Group — возрастная группа;\n",
    "- Payments — общая сумма платежей от игрока в рублях за всё время существования платформы;\n",
    "- Costs — себестоимость оказанных клиенту услуг в рублях за всё время существования платформы;\n",
    "- Profit — разница между Payments и Costs."
   ],
   "metadata": {
    "id": "qEsFcNMIh8B6"
   }
  },
  {
   "cell_type": "markdown",
   "source": [
    "Задания:\n",
    "\n",
    "1. (blue, баллы: 1) Найди и сравни среднюю прибыль в категориях «Женщины до 24 лет» и «Мужчины до 24 лет».\n",
    "2. (blue, баллы: 1) Для этих двух категорий найди абсолютную частоту клиентов, прибыль платформы с которых 60 тысяч рублей или больше, и сравни их.\n",
    "3. (red, баллы: 1) Найди те же харакетристики (среднюю прибыль и частоту прибыли 60 тысяч рублей и больше) для каждой категории пола и возрастной группы и сравни между категориями. Подсказка: не забудь про очистку данных."
   ],
   "metadata": {
    "id": "PW2FonfknmSp"
   }
  },
  {
   "cell_type": "markdown",
   "source": [
    "## 1. (blue, баллы: 1) Средние по категориям.\n",
    "Найди и сравни среднюю прибыль в категориях «Женщины до 24 лет» и «Мужчины до 24 лет»."
   ],
   "metadata": {
    "id": "pWua7ara0I8r"
   }
  },
  {
   "cell_type": "markdown",
   "source": [
    "**Решение**\n",
    "\n",
    "**Описание:** средняя прибыль в категории \"Женщины до 24 лет\" выше, чем в категории \"Мужчины до 24 лет\"."
   ],
   "metadata": {
    "id": "RfZTQVY90EQO"
   }
  },
  {
   "metadata": {
    "ExecuteTime": {
     "end_time": "2024-09-14T19:21:58.065153Z",
     "start_time": "2024-09-14T19:21:54.962691Z"
    }
   },
   "cell_type": "code",
   "source": [
    "df = pd.read_csv(\"https://raw.githubusercontent.com/zalig/cu-datasets/main/golden_mine.csv\")\n",
    "df"
   ],
   "outputs": [
    {
     "data": {
      "text/plain": [
       "      Payments  Costs  Profit  Age  Gender AgeGroup\n",
       "0         9400   8100    1300   19    male    18-24\n",
       "1        26600  13900   12700   29    male    25-39\n",
       "2         9750   6750    3000   20    male    18-24\n",
       "3        29700  11200   18500   18  female    18-24\n",
       "4        49700  10450   39250   21  female    18-24\n",
       "...        ...    ...     ...  ...     ...      ...\n",
       "8710      8650   8600      50   18    male    18-24\n",
       "8711     45350  14350   31000   19  female    18-24\n",
       "8712     41700   9900   31800   18  female    18-24\n",
       "8713    120600  49650   70950   21    male    18-24\n",
       "8714     21700  13150    8550   33  Female    25-39\n",
       "\n",
       "[8715 rows x 6 columns]"
      ],
      "text/html": [
       "<div>\n",
       "<style scoped>\n",
       "    .dataframe tbody tr th:only-of-type {\n",
       "        vertical-align: middle;\n",
       "    }\n",
       "\n",
       "    .dataframe tbody tr th {\n",
       "        vertical-align: top;\n",
       "    }\n",
       "\n",
       "    .dataframe thead th {\n",
       "        text-align: right;\n",
       "    }\n",
       "</style>\n",
       "<table border=\"1\" class=\"dataframe\">\n",
       "  <thead>\n",
       "    <tr style=\"text-align: right;\">\n",
       "      <th></th>\n",
       "      <th>Payments</th>\n",
       "      <th>Costs</th>\n",
       "      <th>Profit</th>\n",
       "      <th>Age</th>\n",
       "      <th>Gender</th>\n",
       "      <th>AgeGroup</th>\n",
       "    </tr>\n",
       "  </thead>\n",
       "  <tbody>\n",
       "    <tr>\n",
       "      <th>0</th>\n",
       "      <td>9400</td>\n",
       "      <td>8100</td>\n",
       "      <td>1300</td>\n",
       "      <td>19</td>\n",
       "      <td>male</td>\n",
       "      <td>18-24</td>\n",
       "    </tr>\n",
       "    <tr>\n",
       "      <th>1</th>\n",
       "      <td>26600</td>\n",
       "      <td>13900</td>\n",
       "      <td>12700</td>\n",
       "      <td>29</td>\n",
       "      <td>male</td>\n",
       "      <td>25-39</td>\n",
       "    </tr>\n",
       "    <tr>\n",
       "      <th>2</th>\n",
       "      <td>9750</td>\n",
       "      <td>6750</td>\n",
       "      <td>3000</td>\n",
       "      <td>20</td>\n",
       "      <td>male</td>\n",
       "      <td>18-24</td>\n",
       "    </tr>\n",
       "    <tr>\n",
       "      <th>3</th>\n",
       "      <td>29700</td>\n",
       "      <td>11200</td>\n",
       "      <td>18500</td>\n",
       "      <td>18</td>\n",
       "      <td>female</td>\n",
       "      <td>18-24</td>\n",
       "    </tr>\n",
       "    <tr>\n",
       "      <th>4</th>\n",
       "      <td>49700</td>\n",
       "      <td>10450</td>\n",
       "      <td>39250</td>\n",
       "      <td>21</td>\n",
       "      <td>female</td>\n",
       "      <td>18-24</td>\n",
       "    </tr>\n",
       "    <tr>\n",
       "      <th>...</th>\n",
       "      <td>...</td>\n",
       "      <td>...</td>\n",
       "      <td>...</td>\n",
       "      <td>...</td>\n",
       "      <td>...</td>\n",
       "      <td>...</td>\n",
       "    </tr>\n",
       "    <tr>\n",
       "      <th>8710</th>\n",
       "      <td>8650</td>\n",
       "      <td>8600</td>\n",
       "      <td>50</td>\n",
       "      <td>18</td>\n",
       "      <td>male</td>\n",
       "      <td>18-24</td>\n",
       "    </tr>\n",
       "    <tr>\n",
       "      <th>8711</th>\n",
       "      <td>45350</td>\n",
       "      <td>14350</td>\n",
       "      <td>31000</td>\n",
       "      <td>19</td>\n",
       "      <td>female</td>\n",
       "      <td>18-24</td>\n",
       "    </tr>\n",
       "    <tr>\n",
       "      <th>8712</th>\n",
       "      <td>41700</td>\n",
       "      <td>9900</td>\n",
       "      <td>31800</td>\n",
       "      <td>18</td>\n",
       "      <td>female</td>\n",
       "      <td>18-24</td>\n",
       "    </tr>\n",
       "    <tr>\n",
       "      <th>8713</th>\n",
       "      <td>120600</td>\n",
       "      <td>49650</td>\n",
       "      <td>70950</td>\n",
       "      <td>21</td>\n",
       "      <td>male</td>\n",
       "      <td>18-24</td>\n",
       "    </tr>\n",
       "    <tr>\n",
       "      <th>8714</th>\n",
       "      <td>21700</td>\n",
       "      <td>13150</td>\n",
       "      <td>8550</td>\n",
       "      <td>33</td>\n",
       "      <td>Female</td>\n",
       "      <td>25-39</td>\n",
       "    </tr>\n",
       "  </tbody>\n",
       "</table>\n",
       "<p>8715 rows × 6 columns</p>\n",
       "</div>"
      ]
     },
     "execution_count": 11,
     "metadata": {},
     "output_type": "execute_result"
    }
   ],
   "execution_count": 11
  },
  {
   "cell_type": "code",
   "source": [
    "# Твоё решение тут\n",
    "\n",
    "female_df = df[(df['Age'] < 24) & (df['Gender'] == 'female')]\n",
    "male_df = df[(df['Age'] < 24) & (df['Gender'] == 'male')]\n",
    "\n",
    "female_mean_profit = int(female_df['Profit'].mean().round())\n",
    "male_mean_profit = int(male_df['Profit'].mean().round())\n",
    "\n",
    "pd.DataFrame([['Женщины до 24 лет', female_mean_profit], ['Мужчины до 24 лет', male_mean_profit]],\n",
    "             columns=['Группа', 'Средняя прибыль'])"
   ],
   "metadata": {
    "id": "EXurgINT0EQY",
    "ExecuteTime": {
     "end_time": "2024-09-14T19:19:54.159757Z",
     "start_time": "2024-09-14T19:19:53.373541Z"
    }
   },
   "outputs": [
    {
     "data": {
      "text/plain": [
       "              Группа  Средняя прибыль\n",
       "0  Женщины до 24 лет            26152\n",
       "1  Мужчины до 24 лет            12327"
      ],
      "text/html": [
       "<div>\n",
       "<style scoped>\n",
       "    .dataframe tbody tr th:only-of-type {\n",
       "        vertical-align: middle;\n",
       "    }\n",
       "\n",
       "    .dataframe tbody tr th {\n",
       "        vertical-align: top;\n",
       "    }\n",
       "\n",
       "    .dataframe thead th {\n",
       "        text-align: right;\n",
       "    }\n",
       "</style>\n",
       "<table border=\"1\" class=\"dataframe\">\n",
       "  <thead>\n",
       "    <tr style=\"text-align: right;\">\n",
       "      <th></th>\n",
       "      <th>Группа</th>\n",
       "      <th>Средняя прибыль</th>\n",
       "    </tr>\n",
       "  </thead>\n",
       "  <tbody>\n",
       "    <tr>\n",
       "      <th>0</th>\n",
       "      <td>Женщины до 24 лет</td>\n",
       "      <td>26152</td>\n",
       "    </tr>\n",
       "    <tr>\n",
       "      <th>1</th>\n",
       "      <td>Мужчины до 24 лет</td>\n",
       "      <td>12327</td>\n",
       "    </tr>\n",
       "  </tbody>\n",
       "</table>\n",
       "</div>"
      ]
     },
     "execution_count": 10,
     "metadata": {},
     "output_type": "execute_result"
    }
   ],
   "execution_count": 10
  },
  {
   "cell_type": "markdown",
   "source": [
    "## 2. (blue, баллы: 1) Абсолютные частоты.\n",
    "Для этих двух категорий найди абсолютную частоту клиентов, прибыль платформы с которых 60 тысяч рублей или больше, и сравни их."
   ],
   "metadata": {
    "id": "dWZXGr9K0O8a"
   }
  },
  {
   "cell_type": "markdown",
   "source": [
    "**Решение**\n",
    "\n",
    "**Описание**: Абсолютная частота мужчин до 24 лет, делающих покупки свеше 60 тысяч рублей для  "
   ],
   "metadata": {
    "id": "FFeXnq0M0Ea0"
   }
  },
  {
   "cell_type": "code",
   "source": [
    "# Твоё решение тут\n",
    "\n",
    "female_count = len(female_df[female_df['Profit'] > 60])\n",
    "male_count = len(male_df[male_df['Profit'] > 60])\n",
    "\n",
    "pd.DataFrame([['Женщины до 24 лет', female_count], ['Мужчины до 24 лет', male_count]],\n",
    "             columns=['Группа', 'Абсолютная частота'])\n"
   ],
   "metadata": {
    "id": "3JhXWNQq0Ea1",
    "ExecuteTime": {
     "end_time": "2024-09-14T19:26:15.444858Z",
     "start_time": "2024-09-14T19:26:14.854415Z"
    }
   },
   "outputs": [
    {
     "data": {
      "text/plain": [
       "              Группа  Абсолютная частота\n",
       "0  Женщины до 24 лет                2598\n",
       "1  Мужчины до 24 лет                3041"
      ],
      "text/html": [
       "<div>\n",
       "<style scoped>\n",
       "    .dataframe tbody tr th:only-of-type {\n",
       "        vertical-align: middle;\n",
       "    }\n",
       "\n",
       "    .dataframe tbody tr th {\n",
       "        vertical-align: top;\n",
       "    }\n",
       "\n",
       "    .dataframe thead th {\n",
       "        text-align: right;\n",
       "    }\n",
       "</style>\n",
       "<table border=\"1\" class=\"dataframe\">\n",
       "  <thead>\n",
       "    <tr style=\"text-align: right;\">\n",
       "      <th></th>\n",
       "      <th>Группа</th>\n",
       "      <th>Абсолютная частота</th>\n",
       "    </tr>\n",
       "  </thead>\n",
       "  <tbody>\n",
       "    <tr>\n",
       "      <th>0</th>\n",
       "      <td>Женщины до 24 лет</td>\n",
       "      <td>2598</td>\n",
       "    </tr>\n",
       "    <tr>\n",
       "      <th>1</th>\n",
       "      <td>Мужчины до 24 лет</td>\n",
       "      <td>3041</td>\n",
       "    </tr>\n",
       "  </tbody>\n",
       "</table>\n",
       "</div>"
      ]
     },
     "execution_count": 17,
     "metadata": {},
     "output_type": "execute_result"
    }
   ],
   "execution_count": 17
  },
  {
   "cell_type": "markdown",
   "source": [
    "## 3. (red, баллы: 1) Средние и абсолютные частоты по категориям.\n",
    "Найди те же харакетристики (среднюю прибыль и частоту прибыли 60 тысяч рублей и больше) для каждой категории пола и возрастной группы и сравни между категориями. Подсказка: не забудь про очистку данных."
   ],
   "metadata": {
    "id": "EXoPTJsZ0TYe"
   }
  },
  {
   "cell_type": "markdown",
   "source": [
    "**Решение**"
   ],
   "metadata": {
    "id": "v2OwjWsYTVoc"
   }
  },
  {
   "cell_type": "code",
   "source": [
    "# Твоё решение тут"
   ],
   "metadata": {
    "id": "QYMWgdm0TVoe"
   },
   "execution_count": null,
   "outputs": []
  },
  {
   "cell_type": "markdown",
   "source": [
    "# Задача 6. Проведи математические преобразования"
   ],
   "metadata": {
    "id": "kI9UKCyzQwmK"
   }
  },
  {
   "cell_type": "markdown",
   "source": [
    "Про каждое из утверждений обоснуй, почему оно верно для любых значений $X_{i}$, или обоснуй, что оно неверно при некоторых значениях $X_{i}$, где $i = 1, \\dots, n$, причём $n \\geqslant 2$.\n",
    "\n",
    "1. (blue, баллы: 0.2) $\\sum\\limits _{i=1}^{n}X_{i} = n \\cdot \\overline{X}$.\n",
    "2. (blue, баллы: 0.2) $\\sum\\limits _{i=1}^{n}X_{i} = n \\cdot X_{i}$.\n",
    "3. (blue, баллы: 0.2) $\\sum\\limits _{i=1}^{n}\\overline{X} = n \\cdot \\overline{X}$.\n",
    "4. (blue, баллы: 0.2) $\\sum\\limits _{i=1}^{n}(X_{i} - \\overline{X}) = 0$.\n",
    "5. (blue, баллы: 0.2) $\\sum\\limits _{i=1}^{n}|X_{i} - \\overline{X}| = 0$.\n",
    "6. (blue, баллы: 0.2) $\\sum\\limits _{i=1}^{n}(X_{i} - \\overline{X})^{2} = 0$.\n",
    "7. (red, баллы: 0.2) $\\sum(X_{i} - \\overline{X})^{2} = \\sum X_{i}^{2} - n \\cdot \\overline{X}^{2}$.  \n",
    "  Подсказка: сначала воспользуйся формулой $(a-b)^{2} = a^{2} - 2ab + b^{2}$.\n",
    "8. (red, баллы: 0.2) $\\sum\\limits _{i=1}^{n}X_{i}^{2} = \\left(\\sum\\limits _{i=1}^{n}X_{i}\\right)^{2}$.\n",
    "9. (red, баллы: 0.2) $\\overline{X^{2}} = \\overline{X}^{2}$, где $\\overline{X^{2}} = \\frac{1}{n}\\sum\\limits _{i=1}^{n}X_{i}^{2}$.\n",
    "10. (black, баллы: 0.2) $\\overline{XY} = \\overline{X} \\cdot \\overline{Y}$, где $\\overline{XY} = \\frac{1}{n}\\sum\\limits _{i=1}^{n}X_{i}Y_{i}$.\n"
   ],
   "metadata": {
    "id": "IIEvqzlIRD0p"
   }
  },
  {
   "cell_type": "markdown",
   "source": [
    "## 1. (blue, баллы: 0.2)\n",
    "$\\sum\\limits _{i=1}^{n}X_{i} = n \\cdot \\overline{X}$"
   ],
   "metadata": {
    "id": "-__BJSHK0cOe"
   }
  },
  {
   "cell_type": "markdown",
   "source": [
    "**Решение**"
   ],
   "metadata": {
    "id": "gRO7CP5t1TC3"
   }
  },
  {
   "cell_type": "code",
   "source": [
    "# Твоё решение тут"
   ],
   "metadata": {
    "id": "QjQm3a-A1TC9"
   },
   "execution_count": null,
   "outputs": []
  },
  {
   "cell_type": "markdown",
   "source": [
    "##2. (blue, баллы: 0.2)\n",
    "$\\sum\\limits _{i=1}^{n}X_{i} = n \\cdot X_{i}$"
   ],
   "metadata": {
    "id": "4f_sBm5D0cWg"
   }
  },
  {
   "cell_type": "markdown",
   "source": [
    "**Решение**"
   ],
   "metadata": {
    "id": "xp5IHqxo1ToF"
   }
  },
  {
   "cell_type": "code",
   "source": [
    "# Твоё решение тут"
   ],
   "metadata": {
    "id": "STMRoEQX1ToF"
   },
   "execution_count": null,
   "outputs": []
  },
  {
   "cell_type": "markdown",
   "source": [
    "## 3. (blue, баллы: 0.2)\n",
    "$\\sum\\limits _{i=1}^{n}\\overline{X} = n \\cdot \\overline{X}$"
   ],
   "metadata": {
    "id": "4cK1GfbX0cZn"
   }
  },
  {
   "cell_type": "markdown",
   "source": [
    "**Решение**"
   ],
   "metadata": {
    "id": "0rcYlm001UL8"
   }
  },
  {
   "cell_type": "code",
   "source": [
    "# Твоё решение тут"
   ],
   "metadata": {
    "id": "C1egyr3a1UL8"
   },
   "execution_count": null,
   "outputs": []
  },
  {
   "cell_type": "markdown",
   "source": [
    "## 4. (blue, баллы: 0.2)\n",
    "$\\sum\\limits _{i=1}^{n}(X_{i} - \\overline{X}) = 0$\n"
   ],
   "metadata": {
    "id": "Dykcbfjw0cc8"
   }
  },
  {
   "cell_type": "markdown",
   "source": [
    "**Решение**"
   ],
   "metadata": {
    "id": "WLUtH6oY1UfE"
   }
  },
  {
   "cell_type": "code",
   "source": [
    "# Твоё решение тут"
   ],
   "metadata": {
    "id": "PLdfWk121UfE"
   },
   "execution_count": null,
   "outputs": []
  },
  {
   "cell_type": "markdown",
   "source": [
    "## 5. (blue, баллы: 0.2)\n",
    "$\\sum\\limits _{i=1}^{n}|X_{i} - \\overline{X}| = 0$\n"
   ],
   "metadata": {
    "id": "VR0ABSmV0cgT"
   }
  },
  {
   "cell_type": "markdown",
   "source": [
    "**Решение**"
   ],
   "metadata": {
    "id": "aJx3f_ha1Usi"
   }
  },
  {
   "cell_type": "code",
   "source": [
    "# Твоё решение тут"
   ],
   "metadata": {
    "id": "Dk6as51W1Usi"
   },
   "execution_count": null,
   "outputs": []
  },
  {
   "cell_type": "markdown",
   "source": [
    "## 6. (blue, баллы: 0.2)\n",
    "$\\sum\\limits _{i=1}^{n}(X_{i} - \\overline{X})^{2} = 0$"
   ],
   "metadata": {
    "id": "BbWnoQ8q0clr"
   }
  },
  {
   "cell_type": "markdown",
   "source": [
    "**Решение**"
   ],
   "metadata": {
    "id": "eW7pZAO31U4T"
   }
  },
  {
   "cell_type": "code",
   "source": [
    "# Твоё решение тут"
   ],
   "metadata": {
    "id": "bCxQFTxI1U4U"
   },
   "execution_count": null,
   "outputs": []
  },
  {
   "cell_type": "markdown",
   "source": [
    "## 7. (red, баллы: 0.2)\n",
    "$\\sum(X_{i} - \\overline{X})^{2} = \\sum X_{i}^{2} - n \\cdot \\overline{X}^{2}$.\n",
    "  Подсказка: сначала воспользуйся формулой $(a-b)^{2} = a^{2} - 2ab + b^{2}$."
   ],
   "metadata": {
    "id": "GcLE5dtk0cqA"
   }
  },
  {
   "cell_type": "markdown",
   "source": [
    "**Решение**\n",
    "\n",
    "$$\n",
    "\\begin{align}\n",
    "\\sum(X_i-\\overline{X})^2 = \\sum X_i^2 - n \\cdot \\overline{T}^2 \\\\\n",
    "\\sum(X_i^2-2X_i\\overline{X}+\\overline{X}^2) = \\sum X_i^2 - n \\cdot \\overline{T}^2 \\\\\n",
    "\\sum X_i^2 - 2\\cdot n \\cdot \\overline{X}^2 + n \\cdot \\overline{T}^2\n",
    "= \\sum X_i^2 - n \\cdot \\overline{T}^2 \\\\\n",
    "\\sum X_i^2 - n \\cdot \\overline{T}^2 = \\sum X_i^2 - n \\cdot \\overline{T}^2 \\\\\n",
    "\\end{align}\n",
    "$$"
   ],
   "metadata": {
    "id": "zAl3aMfU1VJc"
   }
  },
  {
   "cell_type": "code",
   "source": [
    "# Твоё решение тут"
   ],
   "metadata": {
    "id": "xQClyEGi1VJd",
    "ExecuteTime": {
     "end_time": "2024-09-16T16:01:12.768851Z",
     "start_time": "2024-09-16T16:01:12.763861Z"
    }
   },
   "outputs": [],
   "execution_count": 1
  },
  {
   "cell_type": "markdown",
   "source": [
    "## 8. (red, баллы: 0.2)\n",
    "$\\sum\\limits _{i=1}^{n}X_{i}^{2} = \\left(\\sum\\limits _{i=1}^{n}X_{i}\\right)^{2}$"
   ],
   "metadata": {
    "id": "jYa3f-tN0iqw"
   }
  },
  {
   "cell_type": "markdown",
   "source": [
    "**Решение**\n",
    "\n",
    "$$\n",
    "\\begin{gathered}\n",
    "\\sum^{n}_{i=1} X_i^2 = (\\sum^{n}_{i=1} X_i)^2 \\\\\n",
    "X_1^2 + X_3^2 + X_4^2 + ... X_n^2 = (X_1 + X_2 + X_3 + ... + X_n)^2 \\\\\n",
    "\\text{Объективно неверное выражение}\n",
    "\\end{gathered}\n",
    "$$"
   ],
   "metadata": {
    "id": "WuYPddrn1VWH"
   }
  },
  {
   "cell_type": "code",
   "source": [
    "# Твоё решение тут"
   ],
   "metadata": {
    "id": "Ix1k-rAP1VWI"
   },
   "execution_count": null,
   "outputs": []
  },
  {
   "cell_type": "markdown",
   "source": [
    "## 9. (red, баллы: 0.2)\n",
    "$\\overline{X^{2}} = \\overline{X}^{2}$, где $\\overline{X^{2}} = \\frac{1}{n}\\sum\\limits _{i=1}^{n}X_{i}^{2}$"
   ],
   "metadata": {
    "id": "BtDO8EqK0i0l"
   }
  },
  {
   "cell_type": "markdown",
   "source": [
    "**Решение**"
   ],
   "metadata": {
    "id": "bf6ys6AW1ViA"
   }
  },
  {
   "cell_type": "code",
   "source": [
    "# Твоё решение тут"
   ],
   "metadata": {
    "id": "yG0zbxMz1ViA"
   },
   "execution_count": null,
   "outputs": []
  },
  {
   "cell_type": "markdown",
   "source": [
    "## 10. (black, баллы: 0.2)\n",
    "$\\overline{XY} = \\overline{X} \\cdot \\overline{Y}$, где $\\overline{XY} = \\frac{1}{n}\\sum\\limits _{i=1}^{n}X_{i}Y_{i}$"
   ],
   "metadata": {
    "id": "aGgzI7BH0i3N"
   }
  },
  {
   "cell_type": "markdown",
   "source": [
    "**Решение**"
   ],
   "metadata": {
    "id": "BTRJkbfk1V3y"
   }
  },
  {
   "cell_type": "code",
   "source": [
    "# Твоё решение тут"
   ],
   "metadata": {
    "id": "PglaSqm-1V3z"
   },
   "execution_count": null,
   "outputs": []
  },
  {
   "cell_type": "markdown",
   "source": [
    "# Задача 7. Исследуй устойчивость описательных статистик"
   ],
   "metadata": {
    "id": "OVR5CZCbQ3QA"
   }
  },
  {
   "cell_type": "markdown",
   "source": [
    "Датасет состоит из пяти строк и одного столбца «Доход человека в тысячах рублей в месяц». Значения в столбце: 30, 170, 27, 40, 82.\n",
    "\n",
    "1. (red, баллы: 0.2) Можно ли, изменив лишь одно наблюдение, сделать средний доход равным 200?\n",
    "2. (red, баллы: 0.5) Какие значения медианы можно получить, изменив лишь одно наблюдение?\n",
    "3. (red, баллы: 0.2) Прокомментируй."
   ],
   "metadata": {
    "id": "D_wFQrBN1y6q"
   }
  },
  {
   "cell_type": "markdown",
   "source": [
    "## 1. (red, баллы: 0.2) Изменения среднего.\n",
    "Можно ли, изменив лишь одно наблюдение, сделать средний доход равным 200?"
   ],
   "metadata": {
    "id": "F4u472Ol2eAP"
   }
  },
  {
   "cell_type": "markdown",
   "source": [
    "**Решение**\n",
    "\n",
    "Да, можно\n",
    "$$\n",
    "\\begin{gathered}\n",
    "X = \\{30; 170; 27; 40; 82\\} \\\\\n",
    "\\overline{X} = \\frac{30+170+27+40+82}{5} = 69,8 \\\\\n",
    "\\\\\n",
    "\\text{Пусть новое наблюдение будет равно x} \\\\\n",
    "x+170+27+40+82=1000\\\\\n",
    "x = 1000 - 170-27-40-82\\\\\n",
    "x = 681\n",
    "\\end{gathered}\n",
    "$$"
   ],
   "metadata": {
    "id": "U4GVh_jR2sQE"
   }
  },
  {
   "cell_type": "code",
   "source": [
    "# Твоё решение тут"
   ],
   "metadata": {
    "id": "oWHWcyQd2sQE"
   },
   "execution_count": null,
   "outputs": []
  },
  {
   "cell_type": "markdown",
   "source": [
    "## 2. (red, баллы: 0.5) Изменения медианы.\n",
    "Какие значения медианы можно получить, изменив лишь одно наблюдение?"
   ],
   "metadata": {
    "id": "1Yfhe5Jd2g1m"
   }
  },
  {
   "cell_type": "markdown",
   "source": [
    "**Решение**\n",
    "   \n",
    "\n",
    "При изменении отдельного одного наблюдения медиана будет: $ 30 \\leq m \\leq 82$."
   ],
   "metadata": {
    "id": "eswgAti92sjU"
   }
  },
  {
   "cell_type": "code",
   "source": [
    "# Твоё решение тут"
   ],
   "metadata": {
    "id": "x_7UAEAK2sjU"
   },
   "execution_count": null,
   "outputs": []
  },
  {
   "cell_type": "markdown",
   "source": [
    "## 3. (red, баллы: 0.2) Прокомментируй."
   ],
   "metadata": {
    "id": "-HdsA3tM2jPR"
   }
  },
  {
   "cell_type": "markdown",
   "source": [
    "**Решение**\n",
    "\n",
    "Медиана это значение, которое находится посередине в упорядоченном по не убыванию ряду. Следовательно, если мы поменяв какое-либо значение мы можем либо изменить текущее медианное значение на любое в диапазоне от значения до медианы и после. Либо мы можем заменить значение, чтобы ряд сместился. Максимальное смещение будет на одну позицию при изменении одного наблюдения, значит, что мы можем получить медианную равную значению справа или слева от медианного. Из этого следует, что при изменении отдельного одного наблюдения медиана будет: $ 30 \\leq m \\leq 82$."
   ],
   "metadata": {
    "id": "ZvaQvHew2tAZ"
   }
  },
  {
   "cell_type": "code",
   "source": [
    "# Твоё решение тут"
   ],
   "metadata": {
    "id": "zEmqQG1k2tAZ"
   },
   "execution_count": null,
   "outputs": []
  },
  {
   "cell_type": "markdown",
   "source": [
    "# Задача 8. Проинтерпретируй показатели"
   ],
   "metadata": {
    "id": "_VBV9bUrQ3Sf"
   }
  },
  {
   "cell_type": "markdown",
   "source": [
    "В этой задаче пункты не связаны друг с другом. В каждом пункте дана таблица, описывающая датасет.\n",
    "\n",
    "- Объясни, что показывают выделенные числа.\n",
    "- Если возможно, сделай выводы о датасете.\n",
    "\n",
    "В части выводов проверяться будет использование имеющихся данных для обоснования вывода, а также наличие здравого смысла в рассуждениях.\n"
   ],
   "metadata": {
    "id": "JJ4CaV1p83MF"
   }
  },
  {
   "cell_type": "markdown",
   "source": [
    "## 1. (red, баллы: 0.5) Интерпретация таблицы с данными.\n",
    "Напиши интерпретацию выделенных (двух) чисел в таблице. Какие выводы можно сделать на основании представленных в таблице данных? Разрешается проводить дополнительные расчёты.\n",
    "\n",
    "   <table>\n",
    "       <thead>\n",
    "           <tr>\n",
    "               <th></th>\n",
    "               <th>неуд.</th>\n",
    "               <th>удовл.</th>\n",
    "               <th>хор.</th>\n",
    "               <th>отл.</th>\n",
    "           </tr>\n",
    "       </thead>\n",
    "       <tbody>\n",
    "           <tr>\n",
    "               <td>группа 1</td>\n",
    "               <td><strong><em>5</em></strong></td>\n",
    "               <td>10</td>\n",
    "               <td>8</td>\n",
    "               <td>2</td>\n",
    "           </tr>\n",
    "           <tr>\n",
    "               <td>остальные группы</td>\n",
    "               <td>20</td>\n",
    "               <td><strong><em>40</em></strong></td>\n",
    "               <td>80</td>\n",
    "               <td>20</td>\n",
    "           </tr>\n",
    "       </tbody>\n",
    "   </table>"
   ],
   "metadata": {
    "id": "JCcacECU8-nc"
   }
  },
  {
   "cell_type": "markdown",
   "source": [
    "**Решение**\n",
    "\n",
    "**Группа 1**\n",
    "$\\frac{5}{10+8+2+5} \\cdot 100% = 20%$ 20% Учеников не усвоили материал и получили неудовлетворительные отметки. Материал или подачу лекции стоит обновить, так как замечена неуспеваемость большого количества студентов.\n",
    "\n",
    "**Остальные группы**\n",
    "$\\frac{40}{20+40+80+20} \\cdot 100% = 25%$ 25% Учеников остальных групп сдали экзамен на удовлетворительную отметку. \n"
   ],
   "metadata": {
    "id": "WWYmrqIX9TPj"
   }
  },
  {
   "cell_type": "code",
   "source": "# Твоё решение тут",
   "metadata": {
    "id": "Qea1xwSO9TPp"
   },
   "execution_count": null,
   "outputs": []
  },
  {
   "cell_type": "markdown",
   "source": [
    "\n",
    "## 2. (red, баллы: 0.5) Интерпретация таблицы с описательными статистиками.\n",
    "Напиши интерпретацию выделенных четырёх чисел в таблице. Какие выводы можно сделать на основании представленных в таблице данных?\n",
    "\n",
    "   <table>\n",
    "       <thead>\n",
    "           <tr>\n",
    "               <th></th>\n",
    "               <th>mean</th>\n",
    "               <th>sd</th>\n",
    "               <th>Q1</th>\n",
    "               <th>med</th>\n",
    "               <th>Q3</th>\n",
    "               <th>min</th>\n",
    "               <th>max</th>\n",
    "           </tr>\n",
    "       </thead>\n",
    "       <tbody>\n",
    "           <tr>\n",
    "               <td>такси</td>\n",
    "               <td>39</td>\n",
    "               <td>22</td>\n",
    "               <td>29</td>\n",
    "               <td>31</td>\n",
    "               <td><strong><em>57</em></strong></td>\n",
    "               <td>25</td>\n",
    "               <td><strong><em>76</em></strong></td>\n",
    "           </tr>\n",
    "           <tr>\n",
    "               <td>общественный транспорт</td>\n",
    "               <td><strong><em>40</em></strong></td>\n",
    "               <td>5</td>\n",
    "               <td>37</td>\n",
    "               <td><strong><em>39</em></strong></td>\n",
    "               <td>43</td>\n",
    "               <td>34</td>\n",
    "               <td>47</td>\n",
    "           </tr>\n",
    "       </tbody>\n",
    "   </table>"
   ],
   "metadata": {
    "id": "JHXpb-1s8-0e"
   }
  },
  {
   "cell_type": "markdown",
   "source": [
    "**Решение**\n",
    "\n",
    "**Такси**\n",
    "- Верхний квартиль равен 57. Это означает, что 75% поездок на такси составляют не более 57 минут. \n",
    "- Максимальное время поездки на такси равно 76 минутам. Это означает, что самая долгая поездка на такси длилась 76 минут.\n",
    "\n",
    "**Общественный транспорт**\n",
    "- Среднее время поездки на общественном транспорте равно 40 минут. Это означает, что в среднем люди проводят 40 минут в общественном транспорте.\n",
    "- Медиана времени поездки на общественном транспорте равна 39 минутам. Это означает, что половина поездок на общественном транспорте занимает не более 39 минут.\n"
   ],
   "metadata": {
    "id": "zuav2Cg59TmP"
   }
  },
  {
   "cell_type": "code",
   "source": "# Твоё решение тут",
   "metadata": {
    "id": "4Gupj8aT9TmQ"
   },
   "execution_count": null,
   "outputs": []
  },
  {
   "cell_type": "markdown",
   "source": [
    "\n",
    "## 3. (red, баллы: 0.5) Выводы на основе таблицы.\n",
    "Какие выводы можно сделать на основе таблицы?\n",
    "\n",
    "   <table>\n",
    "       <thead>\n",
    "           <tr>\n",
    "               <th></th>\n",
    "               <th>mean</th>\n",
    "               <th>sd</th>\n",
    "               <th>Q1</th>\n",
    "               <th>med</th>\n",
    "               <th>Q3</th>\n",
    "               <th>min</th>\n",
    "               <th>max</th>\n",
    "           </tr>\n",
    "       </thead>\n",
    "       <tbody>\n",
    "           <tr>\n",
    "               <td>Время, проведённое посетителями на главной странице сайта (в секундах)</td>\n",
    "               <td>3478</td>\n",
    "               <td>2048</td>\n",
    "               <td>1.3</td>\n",
    "               <td>1.8</td>\n",
    "               <td>120</td>\n",
    "               <td>-98</td>\n",
    "               <td>96783</td>\n",
    "           </tr>\n",
    "       </tbody>\n",
    "   </table>"
   ],
   "metadata": {
    "id": "bqukRiX08-8Q"
   }
  },
  {
   "cell_type": "markdown",
   "source": [
    "**Решение*\n",
    "\n",
    "- Минимальное значение времени проведённое на главной странице сайта равно -98 секунд. Это означает, что некоторые посетители провели на сайте отрицательное количество времени. Вероятно, это ошибка в данных.\n",
    "- Стандартное отклонение равно 2048 секундам или примерно 35 минут. Это означает, что время, проведённое на сайте, сильно разнообразно.\n",
    "- 25% посетителей провели на сайте не более 1.3 секунды, а медиана равна 1.8 секунды. Так как различия во времени между медианой и первым квартилем незначительны, можно сделать вывод, что около половины посетитей проводят на сайте менее 2 секунд, то есть сразу выходят.\n",
    "- Верхний квартиль равен 120 секундам. Это означает, что четверть посетителей провели на сайте не более 20 минут, заинтересовались им."
   ],
   "metadata": {
    "id": "Z1NDONAN9UGR"
   }
  },
  {
   "cell_type": "code",
   "source": [
    "# Твоё решение тут"
   ],
   "metadata": {
    "id": "mAwNBcg29UGS"
   },
   "execution_count": null,
   "outputs": []
  },
  {
   "cell_type": "markdown",
   "source": [
    "# Задача 9. Продумай подход к очистке данных"
   ],
   "metadata": {
    "id": "8YwnyeqDQ3U4"
   }
  },
  {
   "cell_type": "markdown",
   "source": [
    "Мы хотим проанализировать суммы заказов клиентов из Москвы и Ростова-на-Дону. Все денежные суммы измеряются в рублях. Есть [датасет](https://raw.githubusercontent.com/zalig/cu-datasets/main/01_dirty_five_orders.csv):\n",
    "\n",
    "<table>\n",
    "    <thead>\n",
    "        <tr>\n",
    "            <th>City</th>\n",
    "            <th>Age</th>\n",
    "            <th>Orders</th>\n",
    "            <th>OrdersSum</th>\n",
    "            <th>OrdersCount</th>\n",
    "            <th>Comments</th>\n",
    "        </tr>\n",
    "    </thead>\n",
    "    <tbody>\n",
    "        <tr>\n",
    "            <td>Moscow</td>\n",
    "            <td>23</td>\n",
    "            <td>500,800,200,1200</td>\n",
    "            <td>2700</td>\n",
    "            <td>4</td>\n",
    "            <td></td>\n",
    "        </tr>\n",
    "        <tr>\n",
    "            <td>MOSCOW</td>\n",
    "            <td></td>\n",
    "            <td>3000</td>\n",
    "            <td>3000</td>\n",
    "            <td>1</td>\n",
    "            <td>Доп. заказ на 1000 руб.</td>\n",
    "        </tr>\n",
    "        <tr>\n",
    "            <td>Rostov-on-Don</td>\n",
    "            <td>22</td>\n",
    "            <td>-23482934,300,200</td>\n",
    "            <td>-23482434</td>\n",
    "            <td>3</td>\n",
    "            <td></td>\n",
    "        </tr>\n",
    "        <tr>\n",
    "            <td>RostovOnDon</td>\n",
    "            <td>-234</td>\n",
    "            <td>12342134,23423,23493</td>\n",
    "            <td>93457</td>\n",
    "            <td>-324</td>\n",
    "            <td></td>\n",
    "        </tr>\n",
    "        <tr>\n",
    "            <td>Tver</td>\n",
    "            <td>41</td>\n",
    "            <td>200,300,100</td>\n",
    "            <td>1</td>\n",
    "            <td>3</td>\n",
    "            <td>Доп. заказ на 500 руб.</td>\n",
    "        </tr>\n",
    "    </tbody>\n",
    "</table>\n",
    "\n",
    "(red) Как подойти к очистке этого датасета? Составь таблицу с итоговой версией датасета после очистки.\n"
   ],
   "metadata": {
    "id": "U_Q5QUef-Ff8"
   }
  },
  {
   "cell_type": "markdown",
   "source": [
    "## (red, баллы: 1) Очистка датасета."
   ],
   "metadata": {
    "id": "2L-q44qAfSWE"
   }
  },
  {
   "cell_type": "markdown",
   "source": [
    "**Решение**"
   ],
   "metadata": {
    "id": "pmDSzAYqfZY9"
   }
  },
  {
   "cell_type": "code",
   "source": [
    "# Твоё решение тут\n",
    "import pandas as pd\n",
    "\n",
    "df = pd.read_csv(\"https://raw.githubusercontent.com/zalig/cu-datasets/main/01_dirty_five_orders.csv\")\n",
    "\n",
    "\n",
    "# Привести к одному формату названия городов\n",
    "df['City'] = (\n",
    "    df['City'].str.lower()\n",
    "    .str.replace('moscow', 'Москва')\n",
    "    .str.replace('rostov-on-don', 'Ростов-на-Дону')\n",
    "    .str.replace('rostovondon', 'Ростов-на-Дону')\n",
    "    .str.replace('tver', 'Тверь')\n",
    ")\n",
    "\n",
    "# Разбить строки по запятой и создать новые строки\n",
    "df = df.assign(orders=df['Orders'].str.split(',')).explode('orders')\n",
    "\n",
    "# Удалить столбец Orders\n",
    "df.drop(columns=['Orders'], inplace=True)\n",
    "df.drop(columns=['OrdersSum'], inplace=True)\n",
    "\n",
    "# Изменить Nan Comments на пустые строки\n",
    "df['Comments'] = df['Comments'].fillna('')\n",
    "\n",
    "# Удалить строки с отрицательными значениями\n",
    "df = df[df['orders'].astype(int) > 0]\n",
    "df = df[df['OrdersCount'].astype(int) > 0]\n",
    "df.drop(columns=['OrdersCount'], inplace=True)\n",
    "\n",
    "# Очистить пустые строки\n",
    "df = df.dropna()\n",
    "\n",
    "# Переименуем orders в Order\n",
    "df = df.rename(columns={'orders': 'Order', 'Comments': 'Comment'})\n",
    "\n",
    "# Переместим колонку Order влево для удобства\n",
    "df = df[['City', 'Age', 'Order', 'Comment']]\n",
    "\n",
    "# Переиндексация\n",
    "df = df.reset_index(drop=True)\n",
    "\n",
    "df\n"
   ],
   "metadata": {
    "id": "DqooTcEcfZZD",
    "ExecuteTime": {
     "end_time": "2024-09-20T00:43:50.127810Z",
     "start_time": "2024-09-20T00:43:49.906216Z"
    }
   },
   "outputs": [
    {
     "ename": "URLError",
     "evalue": "<urlopen error [SSL: CERTIFICATE_VERIFY_FAILED] certificate verify failed: unable to get local issuer certificate (_ssl.c:1000)>",
     "output_type": "error",
     "traceback": [
      "\u001B[0;31m---------------------------------------------------------------------------\u001B[0m",
      "\u001B[0;31mSSLCertVerificationError\u001B[0m                  Traceback (most recent call last)",
      "File \u001B[0;32m/Library/Frameworks/Python.framework/Versions/3.12/lib/python3.12/urllib/request.py:1344\u001B[0m, in \u001B[0;36mAbstractHTTPHandler.do_open\u001B[0;34m(self, http_class, req, **http_conn_args)\u001B[0m\n\u001B[1;32m   1343\u001B[0m \u001B[38;5;28;01mtry\u001B[39;00m:\n\u001B[0;32m-> 1344\u001B[0m     \u001B[43mh\u001B[49m\u001B[38;5;241;43m.\u001B[39;49m\u001B[43mrequest\u001B[49m\u001B[43m(\u001B[49m\u001B[43mreq\u001B[49m\u001B[38;5;241;43m.\u001B[39;49m\u001B[43mget_method\u001B[49m\u001B[43m(\u001B[49m\u001B[43m)\u001B[49m\u001B[43m,\u001B[49m\u001B[43m \u001B[49m\u001B[43mreq\u001B[49m\u001B[38;5;241;43m.\u001B[39;49m\u001B[43mselector\u001B[49m\u001B[43m,\u001B[49m\u001B[43m \u001B[49m\u001B[43mreq\u001B[49m\u001B[38;5;241;43m.\u001B[39;49m\u001B[43mdata\u001B[49m\u001B[43m,\u001B[49m\u001B[43m \u001B[49m\u001B[43mheaders\u001B[49m\u001B[43m,\u001B[49m\n\u001B[1;32m   1345\u001B[0m \u001B[43m              \u001B[49m\u001B[43mencode_chunked\u001B[49m\u001B[38;5;241;43m=\u001B[39;49m\u001B[43mreq\u001B[49m\u001B[38;5;241;43m.\u001B[39;49m\u001B[43mhas_header\u001B[49m\u001B[43m(\u001B[49m\u001B[38;5;124;43m'\u001B[39;49m\u001B[38;5;124;43mTransfer-encoding\u001B[39;49m\u001B[38;5;124;43m'\u001B[39;49m\u001B[43m)\u001B[49m\u001B[43m)\u001B[49m\n\u001B[1;32m   1346\u001B[0m \u001B[38;5;28;01mexcept\u001B[39;00m \u001B[38;5;167;01mOSError\u001B[39;00m \u001B[38;5;28;01mas\u001B[39;00m err: \u001B[38;5;66;03m# timeout error\u001B[39;00m\n",
      "File \u001B[0;32m/Library/Frameworks/Python.framework/Versions/3.12/lib/python3.12/http/client.py:1336\u001B[0m, in \u001B[0;36mHTTPConnection.request\u001B[0;34m(self, method, url, body, headers, encode_chunked)\u001B[0m\n\u001B[1;32m   1335\u001B[0m \u001B[38;5;250m\u001B[39m\u001B[38;5;124;03m\"\"\"Send a complete request to the server.\"\"\"\u001B[39;00m\n\u001B[0;32m-> 1336\u001B[0m \u001B[38;5;28;43mself\u001B[39;49m\u001B[38;5;241;43m.\u001B[39;49m\u001B[43m_send_request\u001B[49m\u001B[43m(\u001B[49m\u001B[43mmethod\u001B[49m\u001B[43m,\u001B[49m\u001B[43m \u001B[49m\u001B[43murl\u001B[49m\u001B[43m,\u001B[49m\u001B[43m \u001B[49m\u001B[43mbody\u001B[49m\u001B[43m,\u001B[49m\u001B[43m \u001B[49m\u001B[43mheaders\u001B[49m\u001B[43m,\u001B[49m\u001B[43m \u001B[49m\u001B[43mencode_chunked\u001B[49m\u001B[43m)\u001B[49m\n",
      "File \u001B[0;32m/Library/Frameworks/Python.framework/Versions/3.12/lib/python3.12/http/client.py:1382\u001B[0m, in \u001B[0;36mHTTPConnection._send_request\u001B[0;34m(self, method, url, body, headers, encode_chunked)\u001B[0m\n\u001B[1;32m   1381\u001B[0m     body \u001B[38;5;241m=\u001B[39m _encode(body, \u001B[38;5;124m'\u001B[39m\u001B[38;5;124mbody\u001B[39m\u001B[38;5;124m'\u001B[39m)\n\u001B[0;32m-> 1382\u001B[0m \u001B[38;5;28;43mself\u001B[39;49m\u001B[38;5;241;43m.\u001B[39;49m\u001B[43mendheaders\u001B[49m\u001B[43m(\u001B[49m\u001B[43mbody\u001B[49m\u001B[43m,\u001B[49m\u001B[43m \u001B[49m\u001B[43mencode_chunked\u001B[49m\u001B[38;5;241;43m=\u001B[39;49m\u001B[43mencode_chunked\u001B[49m\u001B[43m)\u001B[49m\n",
      "File \u001B[0;32m/Library/Frameworks/Python.framework/Versions/3.12/lib/python3.12/http/client.py:1331\u001B[0m, in \u001B[0;36mHTTPConnection.endheaders\u001B[0;34m(self, message_body, encode_chunked)\u001B[0m\n\u001B[1;32m   1330\u001B[0m     \u001B[38;5;28;01mraise\u001B[39;00m CannotSendHeader()\n\u001B[0;32m-> 1331\u001B[0m \u001B[38;5;28;43mself\u001B[39;49m\u001B[38;5;241;43m.\u001B[39;49m\u001B[43m_send_output\u001B[49m\u001B[43m(\u001B[49m\u001B[43mmessage_body\u001B[49m\u001B[43m,\u001B[49m\u001B[43m \u001B[49m\u001B[43mencode_chunked\u001B[49m\u001B[38;5;241;43m=\u001B[39;49m\u001B[43mencode_chunked\u001B[49m\u001B[43m)\u001B[49m\n",
      "File \u001B[0;32m/Library/Frameworks/Python.framework/Versions/3.12/lib/python3.12/http/client.py:1091\u001B[0m, in \u001B[0;36mHTTPConnection._send_output\u001B[0;34m(self, message_body, encode_chunked)\u001B[0m\n\u001B[1;32m   1090\u001B[0m \u001B[38;5;28;01mdel\u001B[39;00m \u001B[38;5;28mself\u001B[39m\u001B[38;5;241m.\u001B[39m_buffer[:]\n\u001B[0;32m-> 1091\u001B[0m \u001B[38;5;28;43mself\u001B[39;49m\u001B[38;5;241;43m.\u001B[39;49m\u001B[43msend\u001B[49m\u001B[43m(\u001B[49m\u001B[43mmsg\u001B[49m\u001B[43m)\u001B[49m\n\u001B[1;32m   1093\u001B[0m \u001B[38;5;28;01mif\u001B[39;00m message_body \u001B[38;5;129;01mis\u001B[39;00m \u001B[38;5;129;01mnot\u001B[39;00m \u001B[38;5;28;01mNone\u001B[39;00m:\n\u001B[1;32m   1094\u001B[0m \n\u001B[1;32m   1095\u001B[0m     \u001B[38;5;66;03m# create a consistent interface to message_body\u001B[39;00m\n",
      "File \u001B[0;32m/Library/Frameworks/Python.framework/Versions/3.12/lib/python3.12/http/client.py:1035\u001B[0m, in \u001B[0;36mHTTPConnection.send\u001B[0;34m(self, data)\u001B[0m\n\u001B[1;32m   1034\u001B[0m \u001B[38;5;28;01mif\u001B[39;00m \u001B[38;5;28mself\u001B[39m\u001B[38;5;241m.\u001B[39mauto_open:\n\u001B[0;32m-> 1035\u001B[0m     \u001B[38;5;28;43mself\u001B[39;49m\u001B[38;5;241;43m.\u001B[39;49m\u001B[43mconnect\u001B[49m\u001B[43m(\u001B[49m\u001B[43m)\u001B[49m\n\u001B[1;32m   1036\u001B[0m \u001B[38;5;28;01melse\u001B[39;00m:\n",
      "File \u001B[0;32m/Library/Frameworks/Python.framework/Versions/3.12/lib/python3.12/http/client.py:1477\u001B[0m, in \u001B[0;36mHTTPSConnection.connect\u001B[0;34m(self)\u001B[0m\n\u001B[1;32m   1475\u001B[0m     server_hostname \u001B[38;5;241m=\u001B[39m \u001B[38;5;28mself\u001B[39m\u001B[38;5;241m.\u001B[39mhost\n\u001B[0;32m-> 1477\u001B[0m \u001B[38;5;28mself\u001B[39m\u001B[38;5;241m.\u001B[39msock \u001B[38;5;241m=\u001B[39m \u001B[38;5;28;43mself\u001B[39;49m\u001B[38;5;241;43m.\u001B[39;49m\u001B[43m_context\u001B[49m\u001B[38;5;241;43m.\u001B[39;49m\u001B[43mwrap_socket\u001B[49m\u001B[43m(\u001B[49m\u001B[38;5;28;43mself\u001B[39;49m\u001B[38;5;241;43m.\u001B[39;49m\u001B[43msock\u001B[49m\u001B[43m,\u001B[49m\n\u001B[1;32m   1478\u001B[0m \u001B[43m                                      \u001B[49m\u001B[43mserver_hostname\u001B[49m\u001B[38;5;241;43m=\u001B[39;49m\u001B[43mserver_hostname\u001B[49m\u001B[43m)\u001B[49m\n",
      "File \u001B[0;32m/Library/Frameworks/Python.framework/Versions/3.12/lib/python3.12/ssl.py:455\u001B[0m, in \u001B[0;36mSSLContext.wrap_socket\u001B[0;34m(self, sock, server_side, do_handshake_on_connect, suppress_ragged_eofs, server_hostname, session)\u001B[0m\n\u001B[1;32m    449\u001B[0m \u001B[38;5;28;01mdef\u001B[39;00m \u001B[38;5;21mwrap_socket\u001B[39m(\u001B[38;5;28mself\u001B[39m, sock, server_side\u001B[38;5;241m=\u001B[39m\u001B[38;5;28;01mFalse\u001B[39;00m,\n\u001B[1;32m    450\u001B[0m                 do_handshake_on_connect\u001B[38;5;241m=\u001B[39m\u001B[38;5;28;01mTrue\u001B[39;00m,\n\u001B[1;32m    451\u001B[0m                 suppress_ragged_eofs\u001B[38;5;241m=\u001B[39m\u001B[38;5;28;01mTrue\u001B[39;00m,\n\u001B[1;32m    452\u001B[0m                 server_hostname\u001B[38;5;241m=\u001B[39m\u001B[38;5;28;01mNone\u001B[39;00m, session\u001B[38;5;241m=\u001B[39m\u001B[38;5;28;01mNone\u001B[39;00m):\n\u001B[1;32m    453\u001B[0m     \u001B[38;5;66;03m# SSLSocket class handles server_hostname encoding before it calls\u001B[39;00m\n\u001B[1;32m    454\u001B[0m     \u001B[38;5;66;03m# ctx._wrap_socket()\u001B[39;00m\n\u001B[0;32m--> 455\u001B[0m     \u001B[38;5;28;01mreturn\u001B[39;00m \u001B[38;5;28;43mself\u001B[39;49m\u001B[38;5;241;43m.\u001B[39;49m\u001B[43msslsocket_class\u001B[49m\u001B[38;5;241;43m.\u001B[39;49m\u001B[43m_create\u001B[49m\u001B[43m(\u001B[49m\n\u001B[1;32m    456\u001B[0m \u001B[43m        \u001B[49m\u001B[43msock\u001B[49m\u001B[38;5;241;43m=\u001B[39;49m\u001B[43msock\u001B[49m\u001B[43m,\u001B[49m\n\u001B[1;32m    457\u001B[0m \u001B[43m        \u001B[49m\u001B[43mserver_side\u001B[49m\u001B[38;5;241;43m=\u001B[39;49m\u001B[43mserver_side\u001B[49m\u001B[43m,\u001B[49m\n\u001B[1;32m    458\u001B[0m \u001B[43m        \u001B[49m\u001B[43mdo_handshake_on_connect\u001B[49m\u001B[38;5;241;43m=\u001B[39;49m\u001B[43mdo_handshake_on_connect\u001B[49m\u001B[43m,\u001B[49m\n\u001B[1;32m    459\u001B[0m \u001B[43m        \u001B[49m\u001B[43msuppress_ragged_eofs\u001B[49m\u001B[38;5;241;43m=\u001B[39;49m\u001B[43msuppress_ragged_eofs\u001B[49m\u001B[43m,\u001B[49m\n\u001B[1;32m    460\u001B[0m \u001B[43m        \u001B[49m\u001B[43mserver_hostname\u001B[49m\u001B[38;5;241;43m=\u001B[39;49m\u001B[43mserver_hostname\u001B[49m\u001B[43m,\u001B[49m\n\u001B[1;32m    461\u001B[0m \u001B[43m        \u001B[49m\u001B[43mcontext\u001B[49m\u001B[38;5;241;43m=\u001B[39;49m\u001B[38;5;28;43mself\u001B[39;49m\u001B[43m,\u001B[49m\n\u001B[1;32m    462\u001B[0m \u001B[43m        \u001B[49m\u001B[43msession\u001B[49m\u001B[38;5;241;43m=\u001B[39;49m\u001B[43msession\u001B[49m\n\u001B[1;32m    463\u001B[0m \u001B[43m    \u001B[49m\u001B[43m)\u001B[49m\n",
      "File \u001B[0;32m/Library/Frameworks/Python.framework/Versions/3.12/lib/python3.12/ssl.py:1041\u001B[0m, in \u001B[0;36mSSLSocket._create\u001B[0;34m(cls, sock, server_side, do_handshake_on_connect, suppress_ragged_eofs, server_hostname, context, session)\u001B[0m\n\u001B[1;32m   1040\u001B[0m                 \u001B[38;5;28;01mraise\u001B[39;00m \u001B[38;5;167;01mValueError\u001B[39;00m(\u001B[38;5;124m\"\u001B[39m\u001B[38;5;124mdo_handshake_on_connect should not be specified for non-blocking sockets\u001B[39m\u001B[38;5;124m\"\u001B[39m)\n\u001B[0;32m-> 1041\u001B[0m             \u001B[38;5;28;43mself\u001B[39;49m\u001B[38;5;241;43m.\u001B[39;49m\u001B[43mdo_handshake\u001B[49m\u001B[43m(\u001B[49m\u001B[43m)\u001B[49m\n\u001B[1;32m   1042\u001B[0m \u001B[38;5;28;01mexcept\u001B[39;00m:\n",
      "File \u001B[0;32m/Library/Frameworks/Python.framework/Versions/3.12/lib/python3.12/ssl.py:1319\u001B[0m, in \u001B[0;36mSSLSocket.do_handshake\u001B[0;34m(self, block)\u001B[0m\n\u001B[1;32m   1318\u001B[0m         \u001B[38;5;28mself\u001B[39m\u001B[38;5;241m.\u001B[39msettimeout(\u001B[38;5;28;01mNone\u001B[39;00m)\n\u001B[0;32m-> 1319\u001B[0m     \u001B[38;5;28;43mself\u001B[39;49m\u001B[38;5;241;43m.\u001B[39;49m\u001B[43m_sslobj\u001B[49m\u001B[38;5;241;43m.\u001B[39;49m\u001B[43mdo_handshake\u001B[49m\u001B[43m(\u001B[49m\u001B[43m)\u001B[49m\n\u001B[1;32m   1320\u001B[0m \u001B[38;5;28;01mfinally\u001B[39;00m:\n",
      "\u001B[0;31mSSLCertVerificationError\u001B[0m: [SSL: CERTIFICATE_VERIFY_FAILED] certificate verify failed: unable to get local issuer certificate (_ssl.c:1000)",
      "\nDuring handling of the above exception, another exception occurred:\n",
      "\u001B[0;31mURLError\u001B[0m                                  Traceback (most recent call last)",
      "Cell \u001B[0;32mIn[3], line 4\u001B[0m\n\u001B[1;32m      1\u001B[0m \u001B[38;5;66;03m# Твоё решение тут\u001B[39;00m\n\u001B[1;32m      2\u001B[0m \u001B[38;5;28;01mimport\u001B[39;00m \u001B[38;5;21;01mpandas\u001B[39;00m \u001B[38;5;28;01mas\u001B[39;00m \u001B[38;5;21;01mpd\u001B[39;00m\n\u001B[0;32m----> 4\u001B[0m df \u001B[38;5;241m=\u001B[39m \u001B[43mpd\u001B[49m\u001B[38;5;241;43m.\u001B[39;49m\u001B[43mread_csv\u001B[49m\u001B[43m(\u001B[49m\u001B[38;5;124;43m\"\u001B[39;49m\u001B[38;5;124;43mhttps://raw.githubusercontent.com/zalig/cu-datasets/main/01_dirty_five_orders.csv\u001B[39;49m\u001B[38;5;124;43m\"\u001B[39;49m\u001B[43m)\u001B[49m\n\u001B[1;32m      7\u001B[0m \u001B[38;5;66;03m# Привести к одному формату названия городов\u001B[39;00m\n\u001B[1;32m      8\u001B[0m df[\u001B[38;5;124m'\u001B[39m\u001B[38;5;124mCity\u001B[39m\u001B[38;5;124m'\u001B[39m] \u001B[38;5;241m=\u001B[39m (\n\u001B[1;32m      9\u001B[0m     df[\u001B[38;5;124m'\u001B[39m\u001B[38;5;124mCity\u001B[39m\u001B[38;5;124m'\u001B[39m]\u001B[38;5;241m.\u001B[39mstr\u001B[38;5;241m.\u001B[39mlower()\n\u001B[1;32m     10\u001B[0m     \u001B[38;5;241m.\u001B[39mstr\u001B[38;5;241m.\u001B[39mreplace(\u001B[38;5;124m'\u001B[39m\u001B[38;5;124mmoscow\u001B[39m\u001B[38;5;124m'\u001B[39m, \u001B[38;5;124m'\u001B[39m\u001B[38;5;124mМосква\u001B[39m\u001B[38;5;124m'\u001B[39m)\n\u001B[0;32m   (...)\u001B[0m\n\u001B[1;32m     13\u001B[0m     \u001B[38;5;241m.\u001B[39mstr\u001B[38;5;241m.\u001B[39mreplace(\u001B[38;5;124m'\u001B[39m\u001B[38;5;124mtver\u001B[39m\u001B[38;5;124m'\u001B[39m, \u001B[38;5;124m'\u001B[39m\u001B[38;5;124mТверь\u001B[39m\u001B[38;5;124m'\u001B[39m)\n\u001B[1;32m     14\u001B[0m )\n",
      "File \u001B[0;32m~/Projects/cu-colab-statistic/venv/lib/python3.12/site-packages/pandas/io/parsers/readers.py:1026\u001B[0m, in \u001B[0;36mread_csv\u001B[0;34m(filepath_or_buffer, sep, delimiter, header, names, index_col, usecols, dtype, engine, converters, true_values, false_values, skipinitialspace, skiprows, skipfooter, nrows, na_values, keep_default_na, na_filter, verbose, skip_blank_lines, parse_dates, infer_datetime_format, keep_date_col, date_parser, date_format, dayfirst, cache_dates, iterator, chunksize, compression, thousands, decimal, lineterminator, quotechar, quoting, doublequote, escapechar, comment, encoding, encoding_errors, dialect, on_bad_lines, delim_whitespace, low_memory, memory_map, float_precision, storage_options, dtype_backend)\u001B[0m\n\u001B[1;32m   1013\u001B[0m kwds_defaults \u001B[38;5;241m=\u001B[39m _refine_defaults_read(\n\u001B[1;32m   1014\u001B[0m     dialect,\n\u001B[1;32m   1015\u001B[0m     delimiter,\n\u001B[0;32m   (...)\u001B[0m\n\u001B[1;32m   1022\u001B[0m     dtype_backend\u001B[38;5;241m=\u001B[39mdtype_backend,\n\u001B[1;32m   1023\u001B[0m )\n\u001B[1;32m   1024\u001B[0m kwds\u001B[38;5;241m.\u001B[39mupdate(kwds_defaults)\n\u001B[0;32m-> 1026\u001B[0m \u001B[38;5;28;01mreturn\u001B[39;00m \u001B[43m_read\u001B[49m\u001B[43m(\u001B[49m\u001B[43mfilepath_or_buffer\u001B[49m\u001B[43m,\u001B[49m\u001B[43m \u001B[49m\u001B[43mkwds\u001B[49m\u001B[43m)\u001B[49m\n",
      "File \u001B[0;32m~/Projects/cu-colab-statistic/venv/lib/python3.12/site-packages/pandas/io/parsers/readers.py:620\u001B[0m, in \u001B[0;36m_read\u001B[0;34m(filepath_or_buffer, kwds)\u001B[0m\n\u001B[1;32m    617\u001B[0m _validate_names(kwds\u001B[38;5;241m.\u001B[39mget(\u001B[38;5;124m\"\u001B[39m\u001B[38;5;124mnames\u001B[39m\u001B[38;5;124m\"\u001B[39m, \u001B[38;5;28;01mNone\u001B[39;00m))\n\u001B[1;32m    619\u001B[0m \u001B[38;5;66;03m# Create the parser.\u001B[39;00m\n\u001B[0;32m--> 620\u001B[0m parser \u001B[38;5;241m=\u001B[39m \u001B[43mTextFileReader\u001B[49m\u001B[43m(\u001B[49m\u001B[43mfilepath_or_buffer\u001B[49m\u001B[43m,\u001B[49m\u001B[43m \u001B[49m\u001B[38;5;241;43m*\u001B[39;49m\u001B[38;5;241;43m*\u001B[39;49m\u001B[43mkwds\u001B[49m\u001B[43m)\u001B[49m\n\u001B[1;32m    622\u001B[0m \u001B[38;5;28;01mif\u001B[39;00m chunksize \u001B[38;5;129;01mor\u001B[39;00m iterator:\n\u001B[1;32m    623\u001B[0m     \u001B[38;5;28;01mreturn\u001B[39;00m parser\n",
      "File \u001B[0;32m~/Projects/cu-colab-statistic/venv/lib/python3.12/site-packages/pandas/io/parsers/readers.py:1620\u001B[0m, in \u001B[0;36mTextFileReader.__init__\u001B[0;34m(self, f, engine, **kwds)\u001B[0m\n\u001B[1;32m   1617\u001B[0m     \u001B[38;5;28mself\u001B[39m\u001B[38;5;241m.\u001B[39moptions[\u001B[38;5;124m\"\u001B[39m\u001B[38;5;124mhas_index_names\u001B[39m\u001B[38;5;124m\"\u001B[39m] \u001B[38;5;241m=\u001B[39m kwds[\u001B[38;5;124m\"\u001B[39m\u001B[38;5;124mhas_index_names\u001B[39m\u001B[38;5;124m\"\u001B[39m]\n\u001B[1;32m   1619\u001B[0m \u001B[38;5;28mself\u001B[39m\u001B[38;5;241m.\u001B[39mhandles: IOHandles \u001B[38;5;241m|\u001B[39m \u001B[38;5;28;01mNone\u001B[39;00m \u001B[38;5;241m=\u001B[39m \u001B[38;5;28;01mNone\u001B[39;00m\n\u001B[0;32m-> 1620\u001B[0m \u001B[38;5;28mself\u001B[39m\u001B[38;5;241m.\u001B[39m_engine \u001B[38;5;241m=\u001B[39m \u001B[38;5;28;43mself\u001B[39;49m\u001B[38;5;241;43m.\u001B[39;49m\u001B[43m_make_engine\u001B[49m\u001B[43m(\u001B[49m\u001B[43mf\u001B[49m\u001B[43m,\u001B[49m\u001B[43m \u001B[49m\u001B[38;5;28;43mself\u001B[39;49m\u001B[38;5;241;43m.\u001B[39;49m\u001B[43mengine\u001B[49m\u001B[43m)\u001B[49m\n",
      "File \u001B[0;32m~/Projects/cu-colab-statistic/venv/lib/python3.12/site-packages/pandas/io/parsers/readers.py:1880\u001B[0m, in \u001B[0;36mTextFileReader._make_engine\u001B[0;34m(self, f, engine)\u001B[0m\n\u001B[1;32m   1878\u001B[0m     \u001B[38;5;28;01mif\u001B[39;00m \u001B[38;5;124m\"\u001B[39m\u001B[38;5;124mb\u001B[39m\u001B[38;5;124m\"\u001B[39m \u001B[38;5;129;01mnot\u001B[39;00m \u001B[38;5;129;01min\u001B[39;00m mode:\n\u001B[1;32m   1879\u001B[0m         mode \u001B[38;5;241m+\u001B[39m\u001B[38;5;241m=\u001B[39m \u001B[38;5;124m\"\u001B[39m\u001B[38;5;124mb\u001B[39m\u001B[38;5;124m\"\u001B[39m\n\u001B[0;32m-> 1880\u001B[0m \u001B[38;5;28mself\u001B[39m\u001B[38;5;241m.\u001B[39mhandles \u001B[38;5;241m=\u001B[39m \u001B[43mget_handle\u001B[49m\u001B[43m(\u001B[49m\n\u001B[1;32m   1881\u001B[0m \u001B[43m    \u001B[49m\u001B[43mf\u001B[49m\u001B[43m,\u001B[49m\n\u001B[1;32m   1882\u001B[0m \u001B[43m    \u001B[49m\u001B[43mmode\u001B[49m\u001B[43m,\u001B[49m\n\u001B[1;32m   1883\u001B[0m \u001B[43m    \u001B[49m\u001B[43mencoding\u001B[49m\u001B[38;5;241;43m=\u001B[39;49m\u001B[38;5;28;43mself\u001B[39;49m\u001B[38;5;241;43m.\u001B[39;49m\u001B[43moptions\u001B[49m\u001B[38;5;241;43m.\u001B[39;49m\u001B[43mget\u001B[49m\u001B[43m(\u001B[49m\u001B[38;5;124;43m\"\u001B[39;49m\u001B[38;5;124;43mencoding\u001B[39;49m\u001B[38;5;124;43m\"\u001B[39;49m\u001B[43m,\u001B[49m\u001B[43m \u001B[49m\u001B[38;5;28;43;01mNone\u001B[39;49;00m\u001B[43m)\u001B[49m\u001B[43m,\u001B[49m\n\u001B[1;32m   1884\u001B[0m \u001B[43m    \u001B[49m\u001B[43mcompression\u001B[49m\u001B[38;5;241;43m=\u001B[39;49m\u001B[38;5;28;43mself\u001B[39;49m\u001B[38;5;241;43m.\u001B[39;49m\u001B[43moptions\u001B[49m\u001B[38;5;241;43m.\u001B[39;49m\u001B[43mget\u001B[49m\u001B[43m(\u001B[49m\u001B[38;5;124;43m\"\u001B[39;49m\u001B[38;5;124;43mcompression\u001B[39;49m\u001B[38;5;124;43m\"\u001B[39;49m\u001B[43m,\u001B[49m\u001B[43m \u001B[49m\u001B[38;5;28;43;01mNone\u001B[39;49;00m\u001B[43m)\u001B[49m\u001B[43m,\u001B[49m\n\u001B[1;32m   1885\u001B[0m \u001B[43m    \u001B[49m\u001B[43mmemory_map\u001B[49m\u001B[38;5;241;43m=\u001B[39;49m\u001B[38;5;28;43mself\u001B[39;49m\u001B[38;5;241;43m.\u001B[39;49m\u001B[43moptions\u001B[49m\u001B[38;5;241;43m.\u001B[39;49m\u001B[43mget\u001B[49m\u001B[43m(\u001B[49m\u001B[38;5;124;43m\"\u001B[39;49m\u001B[38;5;124;43mmemory_map\u001B[39;49m\u001B[38;5;124;43m\"\u001B[39;49m\u001B[43m,\u001B[49m\u001B[43m \u001B[49m\u001B[38;5;28;43;01mFalse\u001B[39;49;00m\u001B[43m)\u001B[49m\u001B[43m,\u001B[49m\n\u001B[1;32m   1886\u001B[0m \u001B[43m    \u001B[49m\u001B[43mis_text\u001B[49m\u001B[38;5;241;43m=\u001B[39;49m\u001B[43mis_text\u001B[49m\u001B[43m,\u001B[49m\n\u001B[1;32m   1887\u001B[0m \u001B[43m    \u001B[49m\u001B[43merrors\u001B[49m\u001B[38;5;241;43m=\u001B[39;49m\u001B[38;5;28;43mself\u001B[39;49m\u001B[38;5;241;43m.\u001B[39;49m\u001B[43moptions\u001B[49m\u001B[38;5;241;43m.\u001B[39;49m\u001B[43mget\u001B[49m\u001B[43m(\u001B[49m\u001B[38;5;124;43m\"\u001B[39;49m\u001B[38;5;124;43mencoding_errors\u001B[39;49m\u001B[38;5;124;43m\"\u001B[39;49m\u001B[43m,\u001B[49m\u001B[43m \u001B[49m\u001B[38;5;124;43m\"\u001B[39;49m\u001B[38;5;124;43mstrict\u001B[39;49m\u001B[38;5;124;43m\"\u001B[39;49m\u001B[43m)\u001B[49m\u001B[43m,\u001B[49m\n\u001B[1;32m   1888\u001B[0m \u001B[43m    \u001B[49m\u001B[43mstorage_options\u001B[49m\u001B[38;5;241;43m=\u001B[39;49m\u001B[38;5;28;43mself\u001B[39;49m\u001B[38;5;241;43m.\u001B[39;49m\u001B[43moptions\u001B[49m\u001B[38;5;241;43m.\u001B[39;49m\u001B[43mget\u001B[49m\u001B[43m(\u001B[49m\u001B[38;5;124;43m\"\u001B[39;49m\u001B[38;5;124;43mstorage_options\u001B[39;49m\u001B[38;5;124;43m\"\u001B[39;49m\u001B[43m,\u001B[49m\u001B[43m \u001B[49m\u001B[38;5;28;43;01mNone\u001B[39;49;00m\u001B[43m)\u001B[49m\u001B[43m,\u001B[49m\n\u001B[1;32m   1889\u001B[0m \u001B[43m\u001B[49m\u001B[43m)\u001B[49m\n\u001B[1;32m   1890\u001B[0m \u001B[38;5;28;01massert\u001B[39;00m \u001B[38;5;28mself\u001B[39m\u001B[38;5;241m.\u001B[39mhandles \u001B[38;5;129;01mis\u001B[39;00m \u001B[38;5;129;01mnot\u001B[39;00m \u001B[38;5;28;01mNone\u001B[39;00m\n\u001B[1;32m   1891\u001B[0m f \u001B[38;5;241m=\u001B[39m \u001B[38;5;28mself\u001B[39m\u001B[38;5;241m.\u001B[39mhandles\u001B[38;5;241m.\u001B[39mhandle\n",
      "File \u001B[0;32m~/Projects/cu-colab-statistic/venv/lib/python3.12/site-packages/pandas/io/common.py:728\u001B[0m, in \u001B[0;36mget_handle\u001B[0;34m(path_or_buf, mode, encoding, compression, memory_map, is_text, errors, storage_options)\u001B[0m\n\u001B[1;32m    725\u001B[0m     codecs\u001B[38;5;241m.\u001B[39mlookup_error(errors)\n\u001B[1;32m    727\u001B[0m \u001B[38;5;66;03m# open URLs\u001B[39;00m\n\u001B[0;32m--> 728\u001B[0m ioargs \u001B[38;5;241m=\u001B[39m \u001B[43m_get_filepath_or_buffer\u001B[49m\u001B[43m(\u001B[49m\n\u001B[1;32m    729\u001B[0m \u001B[43m    \u001B[49m\u001B[43mpath_or_buf\u001B[49m\u001B[43m,\u001B[49m\n\u001B[1;32m    730\u001B[0m \u001B[43m    \u001B[49m\u001B[43mencoding\u001B[49m\u001B[38;5;241;43m=\u001B[39;49m\u001B[43mencoding\u001B[49m\u001B[43m,\u001B[49m\n\u001B[1;32m    731\u001B[0m \u001B[43m    \u001B[49m\u001B[43mcompression\u001B[49m\u001B[38;5;241;43m=\u001B[39;49m\u001B[43mcompression\u001B[49m\u001B[43m,\u001B[49m\n\u001B[1;32m    732\u001B[0m \u001B[43m    \u001B[49m\u001B[43mmode\u001B[49m\u001B[38;5;241;43m=\u001B[39;49m\u001B[43mmode\u001B[49m\u001B[43m,\u001B[49m\n\u001B[1;32m    733\u001B[0m \u001B[43m    \u001B[49m\u001B[43mstorage_options\u001B[49m\u001B[38;5;241;43m=\u001B[39;49m\u001B[43mstorage_options\u001B[49m\u001B[43m,\u001B[49m\n\u001B[1;32m    734\u001B[0m \u001B[43m\u001B[49m\u001B[43m)\u001B[49m\n\u001B[1;32m    736\u001B[0m handle \u001B[38;5;241m=\u001B[39m ioargs\u001B[38;5;241m.\u001B[39mfilepath_or_buffer\n\u001B[1;32m    737\u001B[0m handles: \u001B[38;5;28mlist\u001B[39m[BaseBuffer]\n",
      "File \u001B[0;32m~/Projects/cu-colab-statistic/venv/lib/python3.12/site-packages/pandas/io/common.py:384\u001B[0m, in \u001B[0;36m_get_filepath_or_buffer\u001B[0;34m(filepath_or_buffer, encoding, compression, mode, storage_options)\u001B[0m\n\u001B[1;32m    382\u001B[0m \u001B[38;5;66;03m# assuming storage_options is to be interpreted as headers\u001B[39;00m\n\u001B[1;32m    383\u001B[0m req_info \u001B[38;5;241m=\u001B[39m urllib\u001B[38;5;241m.\u001B[39mrequest\u001B[38;5;241m.\u001B[39mRequest(filepath_or_buffer, headers\u001B[38;5;241m=\u001B[39mstorage_options)\n\u001B[0;32m--> 384\u001B[0m \u001B[38;5;28;01mwith\u001B[39;00m \u001B[43murlopen\u001B[49m\u001B[43m(\u001B[49m\u001B[43mreq_info\u001B[49m\u001B[43m)\u001B[49m \u001B[38;5;28;01mas\u001B[39;00m req:\n\u001B[1;32m    385\u001B[0m     content_encoding \u001B[38;5;241m=\u001B[39m req\u001B[38;5;241m.\u001B[39mheaders\u001B[38;5;241m.\u001B[39mget(\u001B[38;5;124m\"\u001B[39m\u001B[38;5;124mContent-Encoding\u001B[39m\u001B[38;5;124m\"\u001B[39m, \u001B[38;5;28;01mNone\u001B[39;00m)\n\u001B[1;32m    386\u001B[0m     \u001B[38;5;28;01mif\u001B[39;00m content_encoding \u001B[38;5;241m==\u001B[39m \u001B[38;5;124m\"\u001B[39m\u001B[38;5;124mgzip\u001B[39m\u001B[38;5;124m\"\u001B[39m:\n\u001B[1;32m    387\u001B[0m         \u001B[38;5;66;03m# Override compression based on Content-Encoding header\u001B[39;00m\n",
      "File \u001B[0;32m~/Projects/cu-colab-statistic/venv/lib/python3.12/site-packages/pandas/io/common.py:289\u001B[0m, in \u001B[0;36murlopen\u001B[0;34m(*args, **kwargs)\u001B[0m\n\u001B[1;32m    283\u001B[0m \u001B[38;5;250m\u001B[39m\u001B[38;5;124;03m\"\"\"\u001B[39;00m\n\u001B[1;32m    284\u001B[0m \u001B[38;5;124;03mLazy-import wrapper for stdlib urlopen, as that imports a big chunk of\u001B[39;00m\n\u001B[1;32m    285\u001B[0m \u001B[38;5;124;03mthe stdlib.\u001B[39;00m\n\u001B[1;32m    286\u001B[0m \u001B[38;5;124;03m\"\"\"\u001B[39;00m\n\u001B[1;32m    287\u001B[0m \u001B[38;5;28;01mimport\u001B[39;00m \u001B[38;5;21;01murllib\u001B[39;00m\u001B[38;5;21;01m.\u001B[39;00m\u001B[38;5;21;01mrequest\u001B[39;00m\n\u001B[0;32m--> 289\u001B[0m \u001B[38;5;28;01mreturn\u001B[39;00m \u001B[43murllib\u001B[49m\u001B[38;5;241;43m.\u001B[39;49m\u001B[43mrequest\u001B[49m\u001B[38;5;241;43m.\u001B[39;49m\u001B[43murlopen\u001B[49m\u001B[43m(\u001B[49m\u001B[38;5;241;43m*\u001B[39;49m\u001B[43margs\u001B[49m\u001B[43m,\u001B[49m\u001B[43m \u001B[49m\u001B[38;5;241;43m*\u001B[39;49m\u001B[38;5;241;43m*\u001B[39;49m\u001B[43mkwargs\u001B[49m\u001B[43m)\u001B[49m\n",
      "File \u001B[0;32m/Library/Frameworks/Python.framework/Versions/3.12/lib/python3.12/urllib/request.py:215\u001B[0m, in \u001B[0;36murlopen\u001B[0;34m(url, data, timeout, cafile, capath, cadefault, context)\u001B[0m\n\u001B[1;32m    213\u001B[0m \u001B[38;5;28;01melse\u001B[39;00m:\n\u001B[1;32m    214\u001B[0m     opener \u001B[38;5;241m=\u001B[39m _opener\n\u001B[0;32m--> 215\u001B[0m \u001B[38;5;28;01mreturn\u001B[39;00m \u001B[43mopener\u001B[49m\u001B[38;5;241;43m.\u001B[39;49m\u001B[43mopen\u001B[49m\u001B[43m(\u001B[49m\u001B[43murl\u001B[49m\u001B[43m,\u001B[49m\u001B[43m \u001B[49m\u001B[43mdata\u001B[49m\u001B[43m,\u001B[49m\u001B[43m \u001B[49m\u001B[43mtimeout\u001B[49m\u001B[43m)\u001B[49m\n",
      "File \u001B[0;32m/Library/Frameworks/Python.framework/Versions/3.12/lib/python3.12/urllib/request.py:515\u001B[0m, in \u001B[0;36mOpenerDirector.open\u001B[0;34m(self, fullurl, data, timeout)\u001B[0m\n\u001B[1;32m    512\u001B[0m     req \u001B[38;5;241m=\u001B[39m meth(req)\n\u001B[1;32m    514\u001B[0m sys\u001B[38;5;241m.\u001B[39maudit(\u001B[38;5;124m'\u001B[39m\u001B[38;5;124murllib.Request\u001B[39m\u001B[38;5;124m'\u001B[39m, req\u001B[38;5;241m.\u001B[39mfull_url, req\u001B[38;5;241m.\u001B[39mdata, req\u001B[38;5;241m.\u001B[39mheaders, req\u001B[38;5;241m.\u001B[39mget_method())\n\u001B[0;32m--> 515\u001B[0m response \u001B[38;5;241m=\u001B[39m \u001B[38;5;28;43mself\u001B[39;49m\u001B[38;5;241;43m.\u001B[39;49m\u001B[43m_open\u001B[49m\u001B[43m(\u001B[49m\u001B[43mreq\u001B[49m\u001B[43m,\u001B[49m\u001B[43m \u001B[49m\u001B[43mdata\u001B[49m\u001B[43m)\u001B[49m\n\u001B[1;32m    517\u001B[0m \u001B[38;5;66;03m# post-process response\u001B[39;00m\n\u001B[1;32m    518\u001B[0m meth_name \u001B[38;5;241m=\u001B[39m protocol\u001B[38;5;241m+\u001B[39m\u001B[38;5;124m\"\u001B[39m\u001B[38;5;124m_response\u001B[39m\u001B[38;5;124m\"\u001B[39m\n",
      "File \u001B[0;32m/Library/Frameworks/Python.framework/Versions/3.12/lib/python3.12/urllib/request.py:532\u001B[0m, in \u001B[0;36mOpenerDirector._open\u001B[0;34m(self, req, data)\u001B[0m\n\u001B[1;32m    529\u001B[0m     \u001B[38;5;28;01mreturn\u001B[39;00m result\n\u001B[1;32m    531\u001B[0m protocol \u001B[38;5;241m=\u001B[39m req\u001B[38;5;241m.\u001B[39mtype\n\u001B[0;32m--> 532\u001B[0m result \u001B[38;5;241m=\u001B[39m \u001B[38;5;28;43mself\u001B[39;49m\u001B[38;5;241;43m.\u001B[39;49m\u001B[43m_call_chain\u001B[49m\u001B[43m(\u001B[49m\u001B[38;5;28;43mself\u001B[39;49m\u001B[38;5;241;43m.\u001B[39;49m\u001B[43mhandle_open\u001B[49m\u001B[43m,\u001B[49m\u001B[43m \u001B[49m\u001B[43mprotocol\u001B[49m\u001B[43m,\u001B[49m\u001B[43m \u001B[49m\u001B[43mprotocol\u001B[49m\u001B[43m \u001B[49m\u001B[38;5;241;43m+\u001B[39;49m\n\u001B[1;32m    533\u001B[0m \u001B[43m                          \u001B[49m\u001B[38;5;124;43m'\u001B[39;49m\u001B[38;5;124;43m_open\u001B[39;49m\u001B[38;5;124;43m'\u001B[39;49m\u001B[43m,\u001B[49m\u001B[43m \u001B[49m\u001B[43mreq\u001B[49m\u001B[43m)\u001B[49m\n\u001B[1;32m    534\u001B[0m \u001B[38;5;28;01mif\u001B[39;00m result:\n\u001B[1;32m    535\u001B[0m     \u001B[38;5;28;01mreturn\u001B[39;00m result\n",
      "File \u001B[0;32m/Library/Frameworks/Python.framework/Versions/3.12/lib/python3.12/urllib/request.py:492\u001B[0m, in \u001B[0;36mOpenerDirector._call_chain\u001B[0;34m(self, chain, kind, meth_name, *args)\u001B[0m\n\u001B[1;32m    490\u001B[0m \u001B[38;5;28;01mfor\u001B[39;00m handler \u001B[38;5;129;01min\u001B[39;00m handlers:\n\u001B[1;32m    491\u001B[0m     func \u001B[38;5;241m=\u001B[39m \u001B[38;5;28mgetattr\u001B[39m(handler, meth_name)\n\u001B[0;32m--> 492\u001B[0m     result \u001B[38;5;241m=\u001B[39m \u001B[43mfunc\u001B[49m\u001B[43m(\u001B[49m\u001B[38;5;241;43m*\u001B[39;49m\u001B[43margs\u001B[49m\u001B[43m)\u001B[49m\n\u001B[1;32m    493\u001B[0m     \u001B[38;5;28;01mif\u001B[39;00m result \u001B[38;5;129;01mis\u001B[39;00m \u001B[38;5;129;01mnot\u001B[39;00m \u001B[38;5;28;01mNone\u001B[39;00m:\n\u001B[1;32m    494\u001B[0m         \u001B[38;5;28;01mreturn\u001B[39;00m result\n",
      "File \u001B[0;32m/Library/Frameworks/Python.framework/Versions/3.12/lib/python3.12/urllib/request.py:1392\u001B[0m, in \u001B[0;36mHTTPSHandler.https_open\u001B[0;34m(self, req)\u001B[0m\n\u001B[1;32m   1391\u001B[0m \u001B[38;5;28;01mdef\u001B[39;00m \u001B[38;5;21mhttps_open\u001B[39m(\u001B[38;5;28mself\u001B[39m, req):\n\u001B[0;32m-> 1392\u001B[0m     \u001B[38;5;28;01mreturn\u001B[39;00m \u001B[38;5;28;43mself\u001B[39;49m\u001B[38;5;241;43m.\u001B[39;49m\u001B[43mdo_open\u001B[49m\u001B[43m(\u001B[49m\u001B[43mhttp\u001B[49m\u001B[38;5;241;43m.\u001B[39;49m\u001B[43mclient\u001B[49m\u001B[38;5;241;43m.\u001B[39;49m\u001B[43mHTTPSConnection\u001B[49m\u001B[43m,\u001B[49m\u001B[43m \u001B[49m\u001B[43mreq\u001B[49m\u001B[43m,\u001B[49m\n\u001B[1;32m   1393\u001B[0m \u001B[43m                        \u001B[49m\u001B[43mcontext\u001B[49m\u001B[38;5;241;43m=\u001B[39;49m\u001B[38;5;28;43mself\u001B[39;49m\u001B[38;5;241;43m.\u001B[39;49m\u001B[43m_context\u001B[49m\u001B[43m)\u001B[49m\n",
      "File \u001B[0;32m/Library/Frameworks/Python.framework/Versions/3.12/lib/python3.12/urllib/request.py:1347\u001B[0m, in \u001B[0;36mAbstractHTTPHandler.do_open\u001B[0;34m(self, http_class, req, **http_conn_args)\u001B[0m\n\u001B[1;32m   1344\u001B[0m         h\u001B[38;5;241m.\u001B[39mrequest(req\u001B[38;5;241m.\u001B[39mget_method(), req\u001B[38;5;241m.\u001B[39mselector, req\u001B[38;5;241m.\u001B[39mdata, headers,\n\u001B[1;32m   1345\u001B[0m                   encode_chunked\u001B[38;5;241m=\u001B[39mreq\u001B[38;5;241m.\u001B[39mhas_header(\u001B[38;5;124m'\u001B[39m\u001B[38;5;124mTransfer-encoding\u001B[39m\u001B[38;5;124m'\u001B[39m))\n\u001B[1;32m   1346\u001B[0m     \u001B[38;5;28;01mexcept\u001B[39;00m \u001B[38;5;167;01mOSError\u001B[39;00m \u001B[38;5;28;01mas\u001B[39;00m err: \u001B[38;5;66;03m# timeout error\u001B[39;00m\n\u001B[0;32m-> 1347\u001B[0m         \u001B[38;5;28;01mraise\u001B[39;00m URLError(err)\n\u001B[1;32m   1348\u001B[0m     r \u001B[38;5;241m=\u001B[39m h\u001B[38;5;241m.\u001B[39mgetresponse()\n\u001B[1;32m   1349\u001B[0m \u001B[38;5;28;01mexcept\u001B[39;00m:\n",
      "\u001B[0;31mURLError\u001B[0m: <urlopen error [SSL: CERTIFICATE_VERIFY_FAILED] certificate verify failed: unable to get local issuer certificate (_ssl.c:1000)>"
     ]
    }
   ],
   "execution_count": 3
  },
  {
   "cell_type": "markdown",
   "source": [
    "# Задача 10. Установи связь между статистиками датасета и его частей"
   ],
   "metadata": {
    "id": "KOsM42eXQ4JL"
   }
  },
  {
   "cell_type": "markdown",
   "source": [
    "Есть 300 наблюдений. По первым 100 наблюдениям найдены среднее $mean_{1}=40$, $sd_{1}=10$. По последним 200 наблюдениям найдены те же описательные статистики: $mean_{2}=90$, $sd_{2}=12$. Найди для всех 300 чисел, если это возможно:\n",
    "\n",
    "1. (black, баллы: 0.3) Среднее.\n",
    "2. (black, баллы: 0.7) Смещённое стандартное отклонение.\n",
    "\n",
    "Подсказка: воспользуйся утверждением: $\\sum(X_{i}-\\overline{X})^{2}=\\sum X_{i}^{2}-n\\cdot\\overline{X}^{2}$.\n"
   ],
   "metadata": {
    "id": "MecQcVWn_Upe"
   }
  },
  {
   "cell_type": "markdown",
   "source": [
    "## 1. (black, баллы: 0.3) Среднее."
   ],
   "metadata": {
    "id": "WXbbtFhW_smZ"
   }
  },
  {
   "cell_type": "markdown",
   "source": [
    "**Решение**\n",
    "\n",
    "$$\n",
    "\\begin{gathered}\n",
    "mean = \\frac{mean_1 \\cdot n_1 + mean_2 \\cdot n_2}{n_1 + n_2} \\\\\n",
    "mean = \\frac{40 \\cdot 100 + 90 \\cdot 200}{300} = 73,(3)\n",
    "\\end{gathered}\n",
    "$$"
   ],
   "metadata": {
    "id": "jFqFQs1zH6bT"
   }
  },
  {
   "cell_type": "markdown",
   "source": [
    "## 2. (black, баллы: 0.7) Смещённое стандартное отклонение.\n",
    "\n",
    "   Подсказка: воспользуйся утверждением: $\\sum(X_{i}-\\overline{X})^{2}=\\sum X_{i}^{2}-n\\cdot\\overline{X}^{2}$."
   ],
   "metadata": {
    "id": "UQ6bZUyk_0Xs"
   }
  },
  {
   "cell_type": "markdown",
   "source": [
    "**Решение**\n",
    "\n",
    "$$\n",
    "\\begin{gathered}\n",
    "sd_1 = \\sqrt{(\\sum X_{i1}^2 - n_1 \\cdot mean_1^2) \\cdot \\frac{1}{n_1}} \\\\\n",
    "sd_2 = \\sqrt{(\\sum X_{i2}^2 - n_2 \\cdot mean_2^2) \\cdot \\frac{1}{n_2}} \\\\\n",
    "sd = \\sqrt{(\\sum X_{i}^2 - n \\cdot \\overline{X}^2) \\cdot \\frac{1}{n}}  = \\sqrt{(\\sum X_{i1}^2 +  \\sum X_{i2}^2 -n \\cdot mean^2) \\cdot \\frac{1}{n}} \\\\\n",
    "\\sum X_{i1}^2 = sd_1^2 \\cdot n_1 + n_1 \\cdot mean_1^2 = 10^2 \\cdot 100 + 100 \\cdot 40^2 = 170 000 \\\\\n",
    "\\sum X_{i2}^2 = sd_2^2 \\cdot n_2 + n_2 \\cdot mean_2^2 = 12^2 \\cdot 200 + 200 \\cdot 90^2 = 1 648 800 \\\\\n",
    "sd = \\sqrt{(170 000 + 1 648 800 - 300 \\cdot 73,3^2) \\cdot \\frac{1}{300}} \\approx 26\n",
    "\\end{gathered}\n",
    "$$\n",
    "\n"
   ],
   "metadata": {
    "id": "VcaIZoCBH6oF"
   }
  },
  {
   "cell_type": "markdown",
   "source": [
    "# Задача 11. Проведи расчёты для кейса «Экспансия»\n"
   ],
   "metadata": {
    "id": "0xaExx2FqRVj"
   }
  },
  {
   "cell_type": "markdown",
   "source": [
    "Датасет [expansion.csv](https://raw.githubusercontent.com/zalig/cu-datasets/main/expansion.csv) содержит информацию о приблизительно 2700 ритейлерах, работавших в России. Столбцы содержат данные о каждом ритейлере: специализацию, ценовые категории, регионы присутствия, страну и год основания, количество аутлетов в мире и России."
   ],
   "metadata": {
    "id": "fayG0AciwaXY"
   }
  },
  {
   "cell_type": "markdown",
   "source": [
    "1. (black, баллы: 0.5) Проведи предобработку столбца presence_russia, создай столбец\n",
    "presence_russia_combined, считая присутствие по собственным филиалам суммарно с франчайзинговыми.\n",
    "2. (black, баллы: 0.5) Создай столбец presence_region_count — число регионов присутствия.\n",
    "3. (black, баллы: 0.5) Построй таблицу, которая описывает количество аутлетов во всём датасете. Как именно описывать количество аутлетов (например, с помощью медианы, среднего, частот, максимума), определяй исходя из информативности и здравого смысла.\n",
    "4. (black, баллы: 0.5) Построй таблицу, которая описывает количество аутлетов для каждого количества регионов присутствия.\n",
    "5. (black, баллы: 0.5) Создай столбец presence_in_moscow.\n",
    "6. (black, баллы: 0.5) Разбей presence_russia_combined на 4 категории так, чтобы в каждую попало одинаковое количество данных (или приблизительно одинаковое).\n",
    "7. (black, баллы: 0.5) Построй таблицу, которая описывает присутствие в Москве аутлетов в зависимости от категории presence_russia_combined."
   ],
   "metadata": {
    "id": "hVZfjyiiqaeH"
   }
  },
  {
   "cell_type": "markdown",
   "source": [
    "## 1. (black, баллы: 0.5) Предобработка столбца presence_russia.\n",
    "Проведи предобработку столбца presence_russia, создай столбец presence_russia_combined, считая присутствие по собственным филиалам суммарно с франчайзинговыми.\n"
   ],
   "metadata": {
    "id": "SepKeCEV0drG"
   }
  },
  {
   "cell_type": "markdown",
   "source": [
    "**Решение**"
   ],
   "metadata": {
    "id": "TeR2Am1X02ng"
   }
  },
  {
   "cell_type": "code",
   "source": [
    "# Твоё решение тут\n",
    "\n",
    "import pandas as pd\n",
    "\n",
    "df = pd.read_csv(\"https://raw.githubusercontent.com/zalig/cu-datasets/main/expansion.csv\")\n",
    "\n",
    "def process_presence_russia(value):\n",
    "    if isinstance(value, str):\n",
    "        if 'и' in str(value):\n",
    "            parts = str(value).split(' и ')\n",
    "            return int(parts[0]) + int(parts[1].split()[0])\n",
    "        return int(value)\n",
    "    elif isinstance(value, float):\n",
    "        return value\n",
    "    return None\n",
    "\n",
    "df['presence_russia_combined'] = df['presence_russia'].apply(process_presence_russia)\n",
    "df\n"
   ],
   "metadata": {
    "id": "qpUTHldM02nh",
    "ExecuteTime": {
     "end_time": "2024-09-19T12:04:38.152057Z",
     "start_time": "2024-09-19T12:04:36.346722Z"
    }
   },
   "outputs": [
    {
     "data": {
      "text/plain": [
       "                      name contry_origin                               domain  \\\n",
       "0                  Tamaris      Германия                                Обувь   \n",
       "1               100 Столов        Россия                               Мебель   \n",
       "2        1000 и одна сумка        Россия                           Аксессуары   \n",
       "3     1000 и одна туфелька        Россия            Товары и услуги для детей   \n",
       "4              1001 Платье        Россия                               Одежда   \n",
       "...                    ...           ...                                  ...   \n",
       "2732                 Яркий        Россия            Товары и услуги для детей   \n",
       "2733      Яркий фотомаркет        Россия  Сотовые телефоны, электроника, фото   \n",
       "2734        Ярмарка Мебели        Россия                               Мебель   \n",
       "2735                 Ярче!        Россия                     Продукты питания   \n",
       "2736                  ЯСАМ        Россия            Товары и услуги для детей   \n",
       "\n",
       "              price_category  founded  presence_world  \\\n",
       "0     Средний; Выше среднего   1967.0          1995.0   \n",
       "1                    Средний   2008.0             4.0   \n",
       "2     Ниже среднего; Средний   2003.0             NaN   \n",
       "3                    Средний      NaN             NaN   \n",
       "4                    Средний   2008.0            14.0   \n",
       "...                      ...      ...             ...   \n",
       "2732  Ниже среднего; Средний   2011.0            10.0   \n",
       "2733                 Средний   1995.0             NaN   \n",
       "2734  Ниже среднего; Средний   2008.0             NaN   \n",
       "2735  Ниже среднего; Средний   2012.0             NaN   \n",
       "2736           Ниже среднего   1998.0             NaN   \n",
       "\n",
       "               presence_russia  \\\n",
       "0     80 и 876 франчайзинговых   \n",
       "1                            4   \n",
       "2      69 и 45 франчайзинговых   \n",
       "3                           22   \n",
       "4                           14   \n",
       "...                        ...   \n",
       "2732                        10   \n",
       "2733                        39   \n",
       "2734                        31   \n",
       "2735                       400   \n",
       "2736   23 и 25 франчайзинговых   \n",
       "\n",
       "                                       presence_regions  \\\n",
       "0     Москва; Санкт-Петербург; Барнаул; Бийск; Екате...   \n",
       "1                                                Брянск   \n",
       "2     Москва; Санкт-Петербург; Анапа; Армавир; Астра...   \n",
       "3                                       Санкт-Петербург   \n",
       "4                               Москва; Санкт-Петербург   \n",
       "...                                                 ...   \n",
       "2732                                             Москва   \n",
       "2733            Москва; Санкт-Петербург; Ростов-на-Дону   \n",
       "2734  Москва; Санкт-Петербург; Астрахань; Барнаул; Б...   \n",
       "2735  Москва; Балашиха; Барнаул; Бийск; Видное; Воло...   \n",
       "2736  Москва; Санкт-Петербург; Алушта; Железнодорожн...   \n",
       "\n",
       "      presence_russia_combined  \n",
       "0                        956.0  \n",
       "1                          4.0  \n",
       "2                        114.0  \n",
       "3                         22.0  \n",
       "4                         14.0  \n",
       "...                        ...  \n",
       "2732                      10.0  \n",
       "2733                      39.0  \n",
       "2734                      31.0  \n",
       "2735                     400.0  \n",
       "2736                      48.0  \n",
       "\n",
       "[2737 rows x 9 columns]"
      ],
      "text/html": [
       "<div>\n",
       "<style scoped>\n",
       "    .dataframe tbody tr th:only-of-type {\n",
       "        vertical-align: middle;\n",
       "    }\n",
       "\n",
       "    .dataframe tbody tr th {\n",
       "        vertical-align: top;\n",
       "    }\n",
       "\n",
       "    .dataframe thead th {\n",
       "        text-align: right;\n",
       "    }\n",
       "</style>\n",
       "<table border=\"1\" class=\"dataframe\">\n",
       "  <thead>\n",
       "    <tr style=\"text-align: right;\">\n",
       "      <th></th>\n",
       "      <th>name</th>\n",
       "      <th>contry_origin</th>\n",
       "      <th>domain</th>\n",
       "      <th>price_category</th>\n",
       "      <th>founded</th>\n",
       "      <th>presence_world</th>\n",
       "      <th>presence_russia</th>\n",
       "      <th>presence_regions</th>\n",
       "      <th>presence_russia_combined</th>\n",
       "    </tr>\n",
       "  </thead>\n",
       "  <tbody>\n",
       "    <tr>\n",
       "      <th>0</th>\n",
       "      <td>Tamaris</td>\n",
       "      <td>Германия</td>\n",
       "      <td>Обувь</td>\n",
       "      <td>Средний; Выше среднего</td>\n",
       "      <td>1967.0</td>\n",
       "      <td>1995.0</td>\n",
       "      <td>80 и 876 франчайзинговых</td>\n",
       "      <td>Москва; Санкт-Петербург; Барнаул; Бийск; Екате...</td>\n",
       "      <td>956.0</td>\n",
       "    </tr>\n",
       "    <tr>\n",
       "      <th>1</th>\n",
       "      <td>100 Столов</td>\n",
       "      <td>Россия</td>\n",
       "      <td>Мебель</td>\n",
       "      <td>Средний</td>\n",
       "      <td>2008.0</td>\n",
       "      <td>4.0</td>\n",
       "      <td>4</td>\n",
       "      <td>Брянск</td>\n",
       "      <td>4.0</td>\n",
       "    </tr>\n",
       "    <tr>\n",
       "      <th>2</th>\n",
       "      <td>1000 и одна сумка</td>\n",
       "      <td>Россия</td>\n",
       "      <td>Аксессуары</td>\n",
       "      <td>Ниже среднего; Средний</td>\n",
       "      <td>2003.0</td>\n",
       "      <td>NaN</td>\n",
       "      <td>69 и 45 франчайзинговых</td>\n",
       "      <td>Москва; Санкт-Петербург; Анапа; Армавир; Астра...</td>\n",
       "      <td>114.0</td>\n",
       "    </tr>\n",
       "    <tr>\n",
       "      <th>3</th>\n",
       "      <td>1000 и одна туфелька</td>\n",
       "      <td>Россия</td>\n",
       "      <td>Товары и услуги для детей</td>\n",
       "      <td>Средний</td>\n",
       "      <td>NaN</td>\n",
       "      <td>NaN</td>\n",
       "      <td>22</td>\n",
       "      <td>Санкт-Петербург</td>\n",
       "      <td>22.0</td>\n",
       "    </tr>\n",
       "    <tr>\n",
       "      <th>4</th>\n",
       "      <td>1001 Платье</td>\n",
       "      <td>Россия</td>\n",
       "      <td>Одежда</td>\n",
       "      <td>Средний</td>\n",
       "      <td>2008.0</td>\n",
       "      <td>14.0</td>\n",
       "      <td>14</td>\n",
       "      <td>Москва; Санкт-Петербург</td>\n",
       "      <td>14.0</td>\n",
       "    </tr>\n",
       "    <tr>\n",
       "      <th>...</th>\n",
       "      <td>...</td>\n",
       "      <td>...</td>\n",
       "      <td>...</td>\n",
       "      <td>...</td>\n",
       "      <td>...</td>\n",
       "      <td>...</td>\n",
       "      <td>...</td>\n",
       "      <td>...</td>\n",
       "      <td>...</td>\n",
       "    </tr>\n",
       "    <tr>\n",
       "      <th>2732</th>\n",
       "      <td>Яркий</td>\n",
       "      <td>Россия</td>\n",
       "      <td>Товары и услуги для детей</td>\n",
       "      <td>Ниже среднего; Средний</td>\n",
       "      <td>2011.0</td>\n",
       "      <td>10.0</td>\n",
       "      <td>10</td>\n",
       "      <td>Москва</td>\n",
       "      <td>10.0</td>\n",
       "    </tr>\n",
       "    <tr>\n",
       "      <th>2733</th>\n",
       "      <td>Яркий фотомаркет</td>\n",
       "      <td>Россия</td>\n",
       "      <td>Сотовые телефоны, электроника, фото</td>\n",
       "      <td>Средний</td>\n",
       "      <td>1995.0</td>\n",
       "      <td>NaN</td>\n",
       "      <td>39</td>\n",
       "      <td>Москва; Санкт-Петербург; Ростов-на-Дону</td>\n",
       "      <td>39.0</td>\n",
       "    </tr>\n",
       "    <tr>\n",
       "      <th>2734</th>\n",
       "      <td>Ярмарка Мебели</td>\n",
       "      <td>Россия</td>\n",
       "      <td>Мебель</td>\n",
       "      <td>Ниже среднего; Средний</td>\n",
       "      <td>2008.0</td>\n",
       "      <td>NaN</td>\n",
       "      <td>31</td>\n",
       "      <td>Москва; Санкт-Петербург; Астрахань; Барнаул; Б...</td>\n",
       "      <td>31.0</td>\n",
       "    </tr>\n",
       "    <tr>\n",
       "      <th>2735</th>\n",
       "      <td>Ярче!</td>\n",
       "      <td>Россия</td>\n",
       "      <td>Продукты питания</td>\n",
       "      <td>Ниже среднего; Средний</td>\n",
       "      <td>2012.0</td>\n",
       "      <td>NaN</td>\n",
       "      <td>400</td>\n",
       "      <td>Москва; Балашиха; Барнаул; Бийск; Видное; Воло...</td>\n",
       "      <td>400.0</td>\n",
       "    </tr>\n",
       "    <tr>\n",
       "      <th>2736</th>\n",
       "      <td>ЯСАМ</td>\n",
       "      <td>Россия</td>\n",
       "      <td>Товары и услуги для детей</td>\n",
       "      <td>Ниже среднего</td>\n",
       "      <td>1998.0</td>\n",
       "      <td>NaN</td>\n",
       "      <td>23 и 25 франчайзинговых</td>\n",
       "      <td>Москва; Санкт-Петербург; Алушта; Железнодорожн...</td>\n",
       "      <td>48.0</td>\n",
       "    </tr>\n",
       "  </tbody>\n",
       "</table>\n",
       "<p>2737 rows × 9 columns</p>\n",
       "</div>"
      ]
     },
     "execution_count": 9,
     "metadata": {},
     "output_type": "execute_result"
    }
   ],
   "execution_count": 9
  },
  {
   "cell_type": "markdown",
   "source": [
    "## 2. (black, баллы: 0.5) Создание столбца presence_region_count.\n",
    "Создай столбец presence_region_count — число регионов присутствия."
   ],
   "metadata": {
    "id": "j47EW1Sy0dvu"
   }
  },
  {
   "cell_type": "markdown",
   "source": [
    "**Решение**"
   ],
   "metadata": {
    "id": "LBswSEPF02_z"
   }
  },
  {
   "cell_type": "code",
   "source": [
    "# Твоё решение тут\n",
    "\n",
    "df['presence_region_count'] = df['presence_regions'].apply(lambda x: len(str(x).split(';')) if isinstance(x, str) else 0)\n",
    "\n",
    "df"
   ],
   "metadata": {
    "id": "nsHjt7n302_0",
    "ExecuteTime": {
     "end_time": "2024-09-19T11:42:10.806162Z",
     "start_time": "2024-09-19T11:42:10.778395Z"
    }
   },
   "outputs": [
    {
     "data": {
      "text/plain": [
       "                      name contry_origin                               domain  \\\n",
       "0                  Tamaris      Германия                                Обувь   \n",
       "1               100 Столов        Россия                               Мебель   \n",
       "2        1000 и одна сумка        Россия                           Аксессуары   \n",
       "3     1000 и одна туфелька        Россия            Товары и услуги для детей   \n",
       "4              1001 Платье        Россия                               Одежда   \n",
       "...                    ...           ...                                  ...   \n",
       "2732                 Яркий        Россия            Товары и услуги для детей   \n",
       "2733      Яркий фотомаркет        Россия  Сотовые телефоны, электроника, фото   \n",
       "2734        Ярмарка Мебели        Россия                               Мебель   \n",
       "2735                 Ярче!        Россия                     Продукты питания   \n",
       "2736                  ЯСАМ        Россия            Товары и услуги для детей   \n",
       "\n",
       "              price_category  founded  presence_world  presence_russia  \\\n",
       "0     Средний; Выше среднего   1967.0          1995.0            956.0   \n",
       "1                    Средний   2008.0             4.0              4.0   \n",
       "2     Ниже среднего; Средний   2003.0             NaN            114.0   \n",
       "3                    Средний      NaN             NaN             22.0   \n",
       "4                    Средний   2008.0            14.0             14.0   \n",
       "...                      ...      ...             ...              ...   \n",
       "2732  Ниже среднего; Средний   2011.0            10.0             10.0   \n",
       "2733                 Средний   1995.0             NaN             39.0   \n",
       "2734  Ниже среднего; Средний   2008.0             NaN             31.0   \n",
       "2735  Ниже среднего; Средний   2012.0             NaN            400.0   \n",
       "2736           Ниже среднего   1998.0             NaN             48.0   \n",
       "\n",
       "                                       presence_regions  presense_region_count  \n",
       "0     Москва; Санкт-Петербург; Барнаул; Бийск; Екате...                     25  \n",
       "1                                                Брянск                      1  \n",
       "2     Москва; Санкт-Петербург; Анапа; Армавир; Астра...                     61  \n",
       "3                                       Санкт-Петербург                      1  \n",
       "4                               Москва; Санкт-Петербург                      2  \n",
       "...                                                 ...                    ...  \n",
       "2732                                             Москва                      1  \n",
       "2733            Москва; Санкт-Петербург; Ростов-на-Дону                      3  \n",
       "2734  Москва; Санкт-Петербург; Астрахань; Барнаул; Б...                     21  \n",
       "2735  Москва; Балашиха; Барнаул; Бийск; Видное; Воло...                     61  \n",
       "2736  Москва; Санкт-Петербург; Алушта; Железнодорожн...                     19  \n",
       "\n",
       "[2737 rows x 9 columns]"
      ],
      "text/html": [
       "<div>\n",
       "<style scoped>\n",
       "    .dataframe tbody tr th:only-of-type {\n",
       "        vertical-align: middle;\n",
       "    }\n",
       "\n",
       "    .dataframe tbody tr th {\n",
       "        vertical-align: top;\n",
       "    }\n",
       "\n",
       "    .dataframe thead th {\n",
       "        text-align: right;\n",
       "    }\n",
       "</style>\n",
       "<table border=\"1\" class=\"dataframe\">\n",
       "  <thead>\n",
       "    <tr style=\"text-align: right;\">\n",
       "      <th></th>\n",
       "      <th>name</th>\n",
       "      <th>contry_origin</th>\n",
       "      <th>domain</th>\n",
       "      <th>price_category</th>\n",
       "      <th>founded</th>\n",
       "      <th>presence_world</th>\n",
       "      <th>presence_russia</th>\n",
       "      <th>presence_regions</th>\n",
       "      <th>presense_region_count</th>\n",
       "    </tr>\n",
       "  </thead>\n",
       "  <tbody>\n",
       "    <tr>\n",
       "      <th>0</th>\n",
       "      <td>Tamaris</td>\n",
       "      <td>Германия</td>\n",
       "      <td>Обувь</td>\n",
       "      <td>Средний; Выше среднего</td>\n",
       "      <td>1967.0</td>\n",
       "      <td>1995.0</td>\n",
       "      <td>956.0</td>\n",
       "      <td>Москва; Санкт-Петербург; Барнаул; Бийск; Екате...</td>\n",
       "      <td>25</td>\n",
       "    </tr>\n",
       "    <tr>\n",
       "      <th>1</th>\n",
       "      <td>100 Столов</td>\n",
       "      <td>Россия</td>\n",
       "      <td>Мебель</td>\n",
       "      <td>Средний</td>\n",
       "      <td>2008.0</td>\n",
       "      <td>4.0</td>\n",
       "      <td>4.0</td>\n",
       "      <td>Брянск</td>\n",
       "      <td>1</td>\n",
       "    </tr>\n",
       "    <tr>\n",
       "      <th>2</th>\n",
       "      <td>1000 и одна сумка</td>\n",
       "      <td>Россия</td>\n",
       "      <td>Аксессуары</td>\n",
       "      <td>Ниже среднего; Средний</td>\n",
       "      <td>2003.0</td>\n",
       "      <td>NaN</td>\n",
       "      <td>114.0</td>\n",
       "      <td>Москва; Санкт-Петербург; Анапа; Армавир; Астра...</td>\n",
       "      <td>61</td>\n",
       "    </tr>\n",
       "    <tr>\n",
       "      <th>3</th>\n",
       "      <td>1000 и одна туфелька</td>\n",
       "      <td>Россия</td>\n",
       "      <td>Товары и услуги для детей</td>\n",
       "      <td>Средний</td>\n",
       "      <td>NaN</td>\n",
       "      <td>NaN</td>\n",
       "      <td>22.0</td>\n",
       "      <td>Санкт-Петербург</td>\n",
       "      <td>1</td>\n",
       "    </tr>\n",
       "    <tr>\n",
       "      <th>4</th>\n",
       "      <td>1001 Платье</td>\n",
       "      <td>Россия</td>\n",
       "      <td>Одежда</td>\n",
       "      <td>Средний</td>\n",
       "      <td>2008.0</td>\n",
       "      <td>14.0</td>\n",
       "      <td>14.0</td>\n",
       "      <td>Москва; Санкт-Петербург</td>\n",
       "      <td>2</td>\n",
       "    </tr>\n",
       "    <tr>\n",
       "      <th>...</th>\n",
       "      <td>...</td>\n",
       "      <td>...</td>\n",
       "      <td>...</td>\n",
       "      <td>...</td>\n",
       "      <td>...</td>\n",
       "      <td>...</td>\n",
       "      <td>...</td>\n",
       "      <td>...</td>\n",
       "      <td>...</td>\n",
       "    </tr>\n",
       "    <tr>\n",
       "      <th>2732</th>\n",
       "      <td>Яркий</td>\n",
       "      <td>Россия</td>\n",
       "      <td>Товары и услуги для детей</td>\n",
       "      <td>Ниже среднего; Средний</td>\n",
       "      <td>2011.0</td>\n",
       "      <td>10.0</td>\n",
       "      <td>10.0</td>\n",
       "      <td>Москва</td>\n",
       "      <td>1</td>\n",
       "    </tr>\n",
       "    <tr>\n",
       "      <th>2733</th>\n",
       "      <td>Яркий фотомаркет</td>\n",
       "      <td>Россия</td>\n",
       "      <td>Сотовые телефоны, электроника, фото</td>\n",
       "      <td>Средний</td>\n",
       "      <td>1995.0</td>\n",
       "      <td>NaN</td>\n",
       "      <td>39.0</td>\n",
       "      <td>Москва; Санкт-Петербург; Ростов-на-Дону</td>\n",
       "      <td>3</td>\n",
       "    </tr>\n",
       "    <tr>\n",
       "      <th>2734</th>\n",
       "      <td>Ярмарка Мебели</td>\n",
       "      <td>Россия</td>\n",
       "      <td>Мебель</td>\n",
       "      <td>Ниже среднего; Средний</td>\n",
       "      <td>2008.0</td>\n",
       "      <td>NaN</td>\n",
       "      <td>31.0</td>\n",
       "      <td>Москва; Санкт-Петербург; Астрахань; Барнаул; Б...</td>\n",
       "      <td>21</td>\n",
       "    </tr>\n",
       "    <tr>\n",
       "      <th>2735</th>\n",
       "      <td>Ярче!</td>\n",
       "      <td>Россия</td>\n",
       "      <td>Продукты питания</td>\n",
       "      <td>Ниже среднего; Средний</td>\n",
       "      <td>2012.0</td>\n",
       "      <td>NaN</td>\n",
       "      <td>400.0</td>\n",
       "      <td>Москва; Балашиха; Барнаул; Бийск; Видное; Воло...</td>\n",
       "      <td>61</td>\n",
       "    </tr>\n",
       "    <tr>\n",
       "      <th>2736</th>\n",
       "      <td>ЯСАМ</td>\n",
       "      <td>Россия</td>\n",
       "      <td>Товары и услуги для детей</td>\n",
       "      <td>Ниже среднего</td>\n",
       "      <td>1998.0</td>\n",
       "      <td>NaN</td>\n",
       "      <td>48.0</td>\n",
       "      <td>Москва; Санкт-Петербург; Алушта; Железнодорожн...</td>\n",
       "      <td>19</td>\n",
       "    </tr>\n",
       "  </tbody>\n",
       "</table>\n",
       "<p>2737 rows × 9 columns</p>\n",
       "</div>"
      ]
     },
     "execution_count": 6,
     "metadata": {},
     "output_type": "execute_result"
    }
   ],
   "execution_count": 6
  },
  {
   "cell_type": "markdown",
   "source": [
    "## 3. (black, баллы: 0.5) Построение таблицы с аутлаерами.\n",
    "Построй таблицу, которая описывает количество аутлетов во всём датасете. Как именно описывать количество аутлетов (например, с помощью медианы, среднего, частот, максимума), определяй исходя из информативности и здравого смысла."
   ],
   "metadata": {
    "id": "lHNYPG6b0d5V"
   }
  },
  {
   "cell_type": "markdown",
   "source": [
    "**Решение**"
   ],
   "metadata": {
    "id": "3pvwya2K03Z8"
   }
  },
  {
   "cell_type": "code",
   "source": [
    "# Твоё решение тут\n",
    "\n",
    "df['presence_world'].describe()"
   ],
   "metadata": {
    "id": "jJm4zGwv03Z9",
    "ExecuteTime": {
     "end_time": "2024-09-19T09:35:12.023159Z",
     "start_time": "2024-09-19T09:35:11.862739Z"
    }
   },
   "outputs": [
    {
     "data": {
      "text/plain": [
       "count     1161.000000\n",
       "mean       502.593454\n",
       "std       3538.428214\n",
       "min          1.000000\n",
       "25%          7.000000\n",
       "50%         21.000000\n",
       "75%         94.000000\n",
       "max      60000.000000\n",
       "Name: presence_world, dtype: float64"
      ]
     },
     "execution_count": 96,
     "metadata": {},
     "output_type": "execute_result"
    }
   ],
   "execution_count": 96
  },
  {
   "cell_type": "markdown",
   "source": [
    "## 4. (black, баллы: 0.5) Аутлаеры в количестве регионов присутствия.\n",
    "Построй таблицу, которая описывает количество аутлетов для каждого количества регионов присутствия.\n"
   ],
   "metadata": {
    "id": "z8kykDke0eBk"
   }
  },
  {
   "cell_type": "markdown",
   "source": [
    "**Решение**"
   ],
   "metadata": {
    "id": "KiYf7kTX03yh"
   }
  },
  {
   "cell_type": "code",
   "source": [
    "# Твоё решение тут\n",
    "\n",
    "df['presence_region_count'].describe()"
   ],
   "metadata": {
    "id": "sHg6LYd003yh",
    "ExecuteTime": {
     "end_time": "2024-09-19T11:42:14.338096Z",
     "start_time": "2024-09-19T11:42:14.323847Z"
    }
   },
   "outputs": [
    {
     "data": {
      "text/plain": [
       "count    2737.000000\n",
       "mean       14.888929\n",
       "std        26.614850\n",
       "min         0.000000\n",
       "25%         2.000000\n",
       "50%         5.000000\n",
       "75%        15.000000\n",
       "max       271.000000\n",
       "Name: presense_region_count, dtype: float64"
      ]
     },
     "execution_count": 7,
     "metadata": {},
     "output_type": "execute_result"
    }
   ],
   "execution_count": 7
  },
  {
   "cell_type": "markdown",
   "source": [
    "## 5. (black, баллы: 0.5) Создание столбца.\n",
    "Создай столбец presence_in_moscow."
   ],
   "metadata": {
    "id": "qFXv-0fa0eJ-"
   }
  },
  {
   "cell_type": "markdown",
   "source": [
    "**Решение**"
   ],
   "metadata": {
    "id": "F_rT6GfW04K9"
   }
  },
  {
   "cell_type": "code",
   "source": [
    "# Твоё решение тут\n",
    "\n",
    "df['presence_in_moscow'] = df['presence_regions'].apply(lambda x: 'Москва' in str(x))\n",
    "df"
   ],
   "metadata": {
    "id": "y_9qhgAR04K9",
    "ExecuteTime": {
     "end_time": "2024-09-19T12:09:47.766606Z",
     "start_time": "2024-09-19T12:09:47.719468Z"
    }
   },
   "outputs": [
    {
     "data": {
      "text/plain": [
       "                      name contry_origin                               domain  \\\n",
       "0                  Tamaris      Германия                                Обувь   \n",
       "1               100 Столов        Россия                               Мебель   \n",
       "2        1000 и одна сумка        Россия                           Аксессуары   \n",
       "3     1000 и одна туфелька        Россия            Товары и услуги для детей   \n",
       "4              1001 Платье        Россия                               Одежда   \n",
       "...                    ...           ...                                  ...   \n",
       "2732                 Яркий        Россия            Товары и услуги для детей   \n",
       "2733      Яркий фотомаркет        Россия  Сотовые телефоны, электроника, фото   \n",
       "2734        Ярмарка Мебели        Россия                               Мебель   \n",
       "2735                 Ярче!        Россия                     Продукты питания   \n",
       "2736                  ЯСАМ        Россия            Товары и услуги для детей   \n",
       "\n",
       "              price_category  founded  presence_world  \\\n",
       "0     Средний; Выше среднего   1967.0          1995.0   \n",
       "1                    Средний   2008.0             4.0   \n",
       "2     Ниже среднего; Средний   2003.0             NaN   \n",
       "3                    Средний      NaN             NaN   \n",
       "4                    Средний   2008.0            14.0   \n",
       "...                      ...      ...             ...   \n",
       "2732  Ниже среднего; Средний   2011.0            10.0   \n",
       "2733                 Средний   1995.0             NaN   \n",
       "2734  Ниже среднего; Средний   2008.0             NaN   \n",
       "2735  Ниже среднего; Средний   2012.0             NaN   \n",
       "2736           Ниже среднего   1998.0             NaN   \n",
       "\n",
       "               presence_russia  \\\n",
       "0     80 и 876 франчайзинговых   \n",
       "1                            4   \n",
       "2      69 и 45 франчайзинговых   \n",
       "3                           22   \n",
       "4                           14   \n",
       "...                        ...   \n",
       "2732                        10   \n",
       "2733                        39   \n",
       "2734                        31   \n",
       "2735                       400   \n",
       "2736   23 и 25 франчайзинговых   \n",
       "\n",
       "                                       presence_regions  \\\n",
       "0     Москва; Санкт-Петербург; Барнаул; Бийск; Екате...   \n",
       "1                                                Брянск   \n",
       "2     Москва; Санкт-Петербург; Анапа; Армавир; Астра...   \n",
       "3                                       Санкт-Петербург   \n",
       "4                               Москва; Санкт-Петербург   \n",
       "...                                                 ...   \n",
       "2732                                             Москва   \n",
       "2733            Москва; Санкт-Петербург; Ростов-на-Дону   \n",
       "2734  Москва; Санкт-Петербург; Астрахань; Барнаул; Б...   \n",
       "2735  Москва; Балашиха; Барнаул; Бийск; Видное; Воло...   \n",
       "2736  Москва; Санкт-Петербург; Алушта; Железнодорожн...   \n",
       "\n",
       "      presence_russia_combined presence_russia_combined_category  \\\n",
       "0                        956.0                             от 63   \n",
       "1                          4.0                              до 8   \n",
       "2                        114.0                             от 63   \n",
       "3                         22.0                       от 21 до 63   \n",
       "4                         14.0                        от 8 до 21   \n",
       "...                        ...                               ...   \n",
       "2732                      10.0                        от 8 до 21   \n",
       "2733                      39.0                       от 21 до 63   \n",
       "2734                      31.0                       от 21 до 63   \n",
       "2735                     400.0                             от 63   \n",
       "2736                      48.0                       от 21 до 63   \n",
       "\n",
       "      presence_in_moscow  \n",
       "0                   True  \n",
       "1                  False  \n",
       "2                   True  \n",
       "3                  False  \n",
       "4                   True  \n",
       "...                  ...  \n",
       "2732                True  \n",
       "2733                True  \n",
       "2734                True  \n",
       "2735                True  \n",
       "2736                True  \n",
       "\n",
       "[2737 rows x 11 columns]"
      ],
      "text/html": [
       "<div>\n",
       "<style scoped>\n",
       "    .dataframe tbody tr th:only-of-type {\n",
       "        vertical-align: middle;\n",
       "    }\n",
       "\n",
       "    .dataframe tbody tr th {\n",
       "        vertical-align: top;\n",
       "    }\n",
       "\n",
       "    .dataframe thead th {\n",
       "        text-align: right;\n",
       "    }\n",
       "</style>\n",
       "<table border=\"1\" class=\"dataframe\">\n",
       "  <thead>\n",
       "    <tr style=\"text-align: right;\">\n",
       "      <th></th>\n",
       "      <th>name</th>\n",
       "      <th>contry_origin</th>\n",
       "      <th>domain</th>\n",
       "      <th>price_category</th>\n",
       "      <th>founded</th>\n",
       "      <th>presence_world</th>\n",
       "      <th>presence_russia</th>\n",
       "      <th>presence_regions</th>\n",
       "      <th>presence_russia_combined</th>\n",
       "      <th>presence_russia_combined_category</th>\n",
       "      <th>presence_in_moscow</th>\n",
       "    </tr>\n",
       "  </thead>\n",
       "  <tbody>\n",
       "    <tr>\n",
       "      <th>0</th>\n",
       "      <td>Tamaris</td>\n",
       "      <td>Германия</td>\n",
       "      <td>Обувь</td>\n",
       "      <td>Средний; Выше среднего</td>\n",
       "      <td>1967.0</td>\n",
       "      <td>1995.0</td>\n",
       "      <td>80 и 876 франчайзинговых</td>\n",
       "      <td>Москва; Санкт-Петербург; Барнаул; Бийск; Екате...</td>\n",
       "      <td>956.0</td>\n",
       "      <td>от 63</td>\n",
       "      <td>True</td>\n",
       "    </tr>\n",
       "    <tr>\n",
       "      <th>1</th>\n",
       "      <td>100 Столов</td>\n",
       "      <td>Россия</td>\n",
       "      <td>Мебель</td>\n",
       "      <td>Средний</td>\n",
       "      <td>2008.0</td>\n",
       "      <td>4.0</td>\n",
       "      <td>4</td>\n",
       "      <td>Брянск</td>\n",
       "      <td>4.0</td>\n",
       "      <td>до 8</td>\n",
       "      <td>False</td>\n",
       "    </tr>\n",
       "    <tr>\n",
       "      <th>2</th>\n",
       "      <td>1000 и одна сумка</td>\n",
       "      <td>Россия</td>\n",
       "      <td>Аксессуары</td>\n",
       "      <td>Ниже среднего; Средний</td>\n",
       "      <td>2003.0</td>\n",
       "      <td>NaN</td>\n",
       "      <td>69 и 45 франчайзинговых</td>\n",
       "      <td>Москва; Санкт-Петербург; Анапа; Армавир; Астра...</td>\n",
       "      <td>114.0</td>\n",
       "      <td>от 63</td>\n",
       "      <td>True</td>\n",
       "    </tr>\n",
       "    <tr>\n",
       "      <th>3</th>\n",
       "      <td>1000 и одна туфелька</td>\n",
       "      <td>Россия</td>\n",
       "      <td>Товары и услуги для детей</td>\n",
       "      <td>Средний</td>\n",
       "      <td>NaN</td>\n",
       "      <td>NaN</td>\n",
       "      <td>22</td>\n",
       "      <td>Санкт-Петербург</td>\n",
       "      <td>22.0</td>\n",
       "      <td>от 21 до 63</td>\n",
       "      <td>False</td>\n",
       "    </tr>\n",
       "    <tr>\n",
       "      <th>4</th>\n",
       "      <td>1001 Платье</td>\n",
       "      <td>Россия</td>\n",
       "      <td>Одежда</td>\n",
       "      <td>Средний</td>\n",
       "      <td>2008.0</td>\n",
       "      <td>14.0</td>\n",
       "      <td>14</td>\n",
       "      <td>Москва; Санкт-Петербург</td>\n",
       "      <td>14.0</td>\n",
       "      <td>от 8 до 21</td>\n",
       "      <td>True</td>\n",
       "    </tr>\n",
       "    <tr>\n",
       "      <th>...</th>\n",
       "      <td>...</td>\n",
       "      <td>...</td>\n",
       "      <td>...</td>\n",
       "      <td>...</td>\n",
       "      <td>...</td>\n",
       "      <td>...</td>\n",
       "      <td>...</td>\n",
       "      <td>...</td>\n",
       "      <td>...</td>\n",
       "      <td>...</td>\n",
       "      <td>...</td>\n",
       "    </tr>\n",
       "    <tr>\n",
       "      <th>2732</th>\n",
       "      <td>Яркий</td>\n",
       "      <td>Россия</td>\n",
       "      <td>Товары и услуги для детей</td>\n",
       "      <td>Ниже среднего; Средний</td>\n",
       "      <td>2011.0</td>\n",
       "      <td>10.0</td>\n",
       "      <td>10</td>\n",
       "      <td>Москва</td>\n",
       "      <td>10.0</td>\n",
       "      <td>от 8 до 21</td>\n",
       "      <td>True</td>\n",
       "    </tr>\n",
       "    <tr>\n",
       "      <th>2733</th>\n",
       "      <td>Яркий фотомаркет</td>\n",
       "      <td>Россия</td>\n",
       "      <td>Сотовые телефоны, электроника, фото</td>\n",
       "      <td>Средний</td>\n",
       "      <td>1995.0</td>\n",
       "      <td>NaN</td>\n",
       "      <td>39</td>\n",
       "      <td>Москва; Санкт-Петербург; Ростов-на-Дону</td>\n",
       "      <td>39.0</td>\n",
       "      <td>от 21 до 63</td>\n",
       "      <td>True</td>\n",
       "    </tr>\n",
       "    <tr>\n",
       "      <th>2734</th>\n",
       "      <td>Ярмарка Мебели</td>\n",
       "      <td>Россия</td>\n",
       "      <td>Мебель</td>\n",
       "      <td>Ниже среднего; Средний</td>\n",
       "      <td>2008.0</td>\n",
       "      <td>NaN</td>\n",
       "      <td>31</td>\n",
       "      <td>Москва; Санкт-Петербург; Астрахань; Барнаул; Б...</td>\n",
       "      <td>31.0</td>\n",
       "      <td>от 21 до 63</td>\n",
       "      <td>True</td>\n",
       "    </tr>\n",
       "    <tr>\n",
       "      <th>2735</th>\n",
       "      <td>Ярче!</td>\n",
       "      <td>Россия</td>\n",
       "      <td>Продукты питания</td>\n",
       "      <td>Ниже среднего; Средний</td>\n",
       "      <td>2012.0</td>\n",
       "      <td>NaN</td>\n",
       "      <td>400</td>\n",
       "      <td>Москва; Балашиха; Барнаул; Бийск; Видное; Воло...</td>\n",
       "      <td>400.0</td>\n",
       "      <td>от 63</td>\n",
       "      <td>True</td>\n",
       "    </tr>\n",
       "    <tr>\n",
       "      <th>2736</th>\n",
       "      <td>ЯСАМ</td>\n",
       "      <td>Россия</td>\n",
       "      <td>Товары и услуги для детей</td>\n",
       "      <td>Ниже среднего</td>\n",
       "      <td>1998.0</td>\n",
       "      <td>NaN</td>\n",
       "      <td>23 и 25 франчайзинговых</td>\n",
       "      <td>Москва; Санкт-Петербург; Алушта; Железнодорожн...</td>\n",
       "      <td>48.0</td>\n",
       "      <td>от 21 до 63</td>\n",
       "      <td>True</td>\n",
       "    </tr>\n",
       "  </tbody>\n",
       "</table>\n",
       "<p>2737 rows × 11 columns</p>\n",
       "</div>"
      ]
     },
     "execution_count": 15,
     "metadata": {},
     "output_type": "execute_result"
    }
   ],
   "execution_count": 15
  },
  {
   "cell_type": "markdown",
   "source": [
    "## 6. (black, баллы: 0.5) Разбиение столбца на категории.\n",
    "Разбей presence_russia_combined на 4 категории так, чтобы в каждую попало одинаковое количество данных (или приблизительно одинаковое)."
   ],
   "metadata": {
    "id": "S04qeP4p0eRV"
   }
  },
  {
   "cell_type": "markdown",
   "source": [
    "**Решение**"
   ],
   "metadata": {
    "id": "I0izLVQl04iM"
   }
  },
  {
   "cell_type": "code",
   "source": [
    "# Твоё решение тут\n",
    "\n",
    "q1 = int(df['presence_russia_combined'].quantile(0.25))\n",
    "q2 = int(df['presence_russia_combined'].quantile(0.5))\n",
    "q3 = int(df['presence_russia_combined'].quantile(0.75))\n",
    "\n",
    "def categorize_presence_russia_combined(value):\n",
    "    if value <= q1:\n",
    "        return f'до {q1}'\n",
    "    elif value <= q2:\n",
    "        return f'от {q1} до {q2}'\n",
    "    elif value <= q3:\n",
    "        return f'от {q2} до {q3}'\n",
    "    return f'от {q3}'\n",
    "\n",
    "df['presence_russia_combined_category'] = df['presence_russia_combined'].apply(categorize_presence_russia_combined)\n",
    "df"
   ],
   "metadata": {
    "id": "5_mHat5t04iN",
    "ExecuteTime": {
     "end_time": "2024-09-19T12:09:23.499778Z",
     "start_time": "2024-09-19T12:09:23.477273Z"
    }
   },
   "outputs": [
    {
     "data": {
      "text/plain": [
       "                      name contry_origin                               domain  \\\n",
       "0                  Tamaris      Германия                                Обувь   \n",
       "1               100 Столов        Россия                               Мебель   \n",
       "2        1000 и одна сумка        Россия                           Аксессуары   \n",
       "3     1000 и одна туфелька        Россия            Товары и услуги для детей   \n",
       "4              1001 Платье        Россия                               Одежда   \n",
       "...                    ...           ...                                  ...   \n",
       "2732                 Яркий        Россия            Товары и услуги для детей   \n",
       "2733      Яркий фотомаркет        Россия  Сотовые телефоны, электроника, фото   \n",
       "2734        Ярмарка Мебели        Россия                               Мебель   \n",
       "2735                 Ярче!        Россия                     Продукты питания   \n",
       "2736                  ЯСАМ        Россия            Товары и услуги для детей   \n",
       "\n",
       "              price_category  founded  presence_world  \\\n",
       "0     Средний; Выше среднего   1967.0          1995.0   \n",
       "1                    Средний   2008.0             4.0   \n",
       "2     Ниже среднего; Средний   2003.0             NaN   \n",
       "3                    Средний      NaN             NaN   \n",
       "4                    Средний   2008.0            14.0   \n",
       "...                      ...      ...             ...   \n",
       "2732  Ниже среднего; Средний   2011.0            10.0   \n",
       "2733                 Средний   1995.0             NaN   \n",
       "2734  Ниже среднего; Средний   2008.0             NaN   \n",
       "2735  Ниже среднего; Средний   2012.0             NaN   \n",
       "2736           Ниже среднего   1998.0             NaN   \n",
       "\n",
       "               presence_russia  \\\n",
       "0     80 и 876 франчайзинговых   \n",
       "1                            4   \n",
       "2      69 и 45 франчайзинговых   \n",
       "3                           22   \n",
       "4                           14   \n",
       "...                        ...   \n",
       "2732                        10   \n",
       "2733                        39   \n",
       "2734                        31   \n",
       "2735                       400   \n",
       "2736   23 и 25 франчайзинговых   \n",
       "\n",
       "                                       presence_regions  \\\n",
       "0     Москва; Санкт-Петербург; Барнаул; Бийск; Екате...   \n",
       "1                                                Брянск   \n",
       "2     Москва; Санкт-Петербург; Анапа; Армавир; Астра...   \n",
       "3                                       Санкт-Петербург   \n",
       "4                               Москва; Санкт-Петербург   \n",
       "...                                                 ...   \n",
       "2732                                             Москва   \n",
       "2733            Москва; Санкт-Петербург; Ростов-на-Дону   \n",
       "2734  Москва; Санкт-Петербург; Астрахань; Барнаул; Б...   \n",
       "2735  Москва; Балашиха; Барнаул; Бийск; Видное; Воло...   \n",
       "2736  Москва; Санкт-Петербург; Алушта; Железнодорожн...   \n",
       "\n",
       "      presence_russia_combined presence_russia_combined_category  \n",
       "0                        956.0                             от 63  \n",
       "1                          4.0                              до 8  \n",
       "2                        114.0                             от 63  \n",
       "3                         22.0                       от 21 до 63  \n",
       "4                         14.0                        от 8 до 21  \n",
       "...                        ...                               ...  \n",
       "2732                      10.0                        от 8 до 21  \n",
       "2733                      39.0                       от 21 до 63  \n",
       "2734                      31.0                       от 21 до 63  \n",
       "2735                     400.0                             от 63  \n",
       "2736                      48.0                       от 21 до 63  \n",
       "\n",
       "[2737 rows x 10 columns]"
      ],
      "text/html": [
       "<div>\n",
       "<style scoped>\n",
       "    .dataframe tbody tr th:only-of-type {\n",
       "        vertical-align: middle;\n",
       "    }\n",
       "\n",
       "    .dataframe tbody tr th {\n",
       "        vertical-align: top;\n",
       "    }\n",
       "\n",
       "    .dataframe thead th {\n",
       "        text-align: right;\n",
       "    }\n",
       "</style>\n",
       "<table border=\"1\" class=\"dataframe\">\n",
       "  <thead>\n",
       "    <tr style=\"text-align: right;\">\n",
       "      <th></th>\n",
       "      <th>name</th>\n",
       "      <th>contry_origin</th>\n",
       "      <th>domain</th>\n",
       "      <th>price_category</th>\n",
       "      <th>founded</th>\n",
       "      <th>presence_world</th>\n",
       "      <th>presence_russia</th>\n",
       "      <th>presence_regions</th>\n",
       "      <th>presence_russia_combined</th>\n",
       "      <th>presence_russia_combined_category</th>\n",
       "    </tr>\n",
       "  </thead>\n",
       "  <tbody>\n",
       "    <tr>\n",
       "      <th>0</th>\n",
       "      <td>Tamaris</td>\n",
       "      <td>Германия</td>\n",
       "      <td>Обувь</td>\n",
       "      <td>Средний; Выше среднего</td>\n",
       "      <td>1967.0</td>\n",
       "      <td>1995.0</td>\n",
       "      <td>80 и 876 франчайзинговых</td>\n",
       "      <td>Москва; Санкт-Петербург; Барнаул; Бийск; Екате...</td>\n",
       "      <td>956.0</td>\n",
       "      <td>от 63</td>\n",
       "    </tr>\n",
       "    <tr>\n",
       "      <th>1</th>\n",
       "      <td>100 Столов</td>\n",
       "      <td>Россия</td>\n",
       "      <td>Мебель</td>\n",
       "      <td>Средний</td>\n",
       "      <td>2008.0</td>\n",
       "      <td>4.0</td>\n",
       "      <td>4</td>\n",
       "      <td>Брянск</td>\n",
       "      <td>4.0</td>\n",
       "      <td>до 8</td>\n",
       "    </tr>\n",
       "    <tr>\n",
       "      <th>2</th>\n",
       "      <td>1000 и одна сумка</td>\n",
       "      <td>Россия</td>\n",
       "      <td>Аксессуары</td>\n",
       "      <td>Ниже среднего; Средний</td>\n",
       "      <td>2003.0</td>\n",
       "      <td>NaN</td>\n",
       "      <td>69 и 45 франчайзинговых</td>\n",
       "      <td>Москва; Санкт-Петербург; Анапа; Армавир; Астра...</td>\n",
       "      <td>114.0</td>\n",
       "      <td>от 63</td>\n",
       "    </tr>\n",
       "    <tr>\n",
       "      <th>3</th>\n",
       "      <td>1000 и одна туфелька</td>\n",
       "      <td>Россия</td>\n",
       "      <td>Товары и услуги для детей</td>\n",
       "      <td>Средний</td>\n",
       "      <td>NaN</td>\n",
       "      <td>NaN</td>\n",
       "      <td>22</td>\n",
       "      <td>Санкт-Петербург</td>\n",
       "      <td>22.0</td>\n",
       "      <td>от 21 до 63</td>\n",
       "    </tr>\n",
       "    <tr>\n",
       "      <th>4</th>\n",
       "      <td>1001 Платье</td>\n",
       "      <td>Россия</td>\n",
       "      <td>Одежда</td>\n",
       "      <td>Средний</td>\n",
       "      <td>2008.0</td>\n",
       "      <td>14.0</td>\n",
       "      <td>14</td>\n",
       "      <td>Москва; Санкт-Петербург</td>\n",
       "      <td>14.0</td>\n",
       "      <td>от 8 до 21</td>\n",
       "    </tr>\n",
       "    <tr>\n",
       "      <th>...</th>\n",
       "      <td>...</td>\n",
       "      <td>...</td>\n",
       "      <td>...</td>\n",
       "      <td>...</td>\n",
       "      <td>...</td>\n",
       "      <td>...</td>\n",
       "      <td>...</td>\n",
       "      <td>...</td>\n",
       "      <td>...</td>\n",
       "      <td>...</td>\n",
       "    </tr>\n",
       "    <tr>\n",
       "      <th>2732</th>\n",
       "      <td>Яркий</td>\n",
       "      <td>Россия</td>\n",
       "      <td>Товары и услуги для детей</td>\n",
       "      <td>Ниже среднего; Средний</td>\n",
       "      <td>2011.0</td>\n",
       "      <td>10.0</td>\n",
       "      <td>10</td>\n",
       "      <td>Москва</td>\n",
       "      <td>10.0</td>\n",
       "      <td>от 8 до 21</td>\n",
       "    </tr>\n",
       "    <tr>\n",
       "      <th>2733</th>\n",
       "      <td>Яркий фотомаркет</td>\n",
       "      <td>Россия</td>\n",
       "      <td>Сотовые телефоны, электроника, фото</td>\n",
       "      <td>Средний</td>\n",
       "      <td>1995.0</td>\n",
       "      <td>NaN</td>\n",
       "      <td>39</td>\n",
       "      <td>Москва; Санкт-Петербург; Ростов-на-Дону</td>\n",
       "      <td>39.0</td>\n",
       "      <td>от 21 до 63</td>\n",
       "    </tr>\n",
       "    <tr>\n",
       "      <th>2734</th>\n",
       "      <td>Ярмарка Мебели</td>\n",
       "      <td>Россия</td>\n",
       "      <td>Мебель</td>\n",
       "      <td>Ниже среднего; Средний</td>\n",
       "      <td>2008.0</td>\n",
       "      <td>NaN</td>\n",
       "      <td>31</td>\n",
       "      <td>Москва; Санкт-Петербург; Астрахань; Барнаул; Б...</td>\n",
       "      <td>31.0</td>\n",
       "      <td>от 21 до 63</td>\n",
       "    </tr>\n",
       "    <tr>\n",
       "      <th>2735</th>\n",
       "      <td>Ярче!</td>\n",
       "      <td>Россия</td>\n",
       "      <td>Продукты питания</td>\n",
       "      <td>Ниже среднего; Средний</td>\n",
       "      <td>2012.0</td>\n",
       "      <td>NaN</td>\n",
       "      <td>400</td>\n",
       "      <td>Москва; Балашиха; Барнаул; Бийск; Видное; Воло...</td>\n",
       "      <td>400.0</td>\n",
       "      <td>от 63</td>\n",
       "    </tr>\n",
       "    <tr>\n",
       "      <th>2736</th>\n",
       "      <td>ЯСАМ</td>\n",
       "      <td>Россия</td>\n",
       "      <td>Товары и услуги для детей</td>\n",
       "      <td>Ниже среднего</td>\n",
       "      <td>1998.0</td>\n",
       "      <td>NaN</td>\n",
       "      <td>23 и 25 франчайзинговых</td>\n",
       "      <td>Москва; Санкт-Петербург; Алушта; Железнодорожн...</td>\n",
       "      <td>48.0</td>\n",
       "      <td>от 21 до 63</td>\n",
       "    </tr>\n",
       "  </tbody>\n",
       "</table>\n",
       "<p>2737 rows × 10 columns</p>\n",
       "</div>"
      ]
     },
     "execution_count": 13,
     "metadata": {},
     "output_type": "execute_result"
    }
   ],
   "execution_count": 13
  },
  {
   "cell_type": "markdown",
   "source": [
    "## 7. (black, баллы: 0.5) Таблица присутствия по категориям.\n",
    "Построй таблицу, которая описывает присутствие в Москве аутлетов в зависимости от категории presence_russia_combined."
   ],
   "metadata": {
    "id": "jZQNKSPy0eZi"
   }
  },
  {
   "cell_type": "markdown",
   "source": [
    "**Решение**"
   ],
   "metadata": {
    "id": "ShiPbvwJ05HP"
   }
  },
  {
   "cell_type": "code",
   "source": [
    "# Твоё решение тут\n",
    "\n",
    "df.groupby('presence_russia_combined_category')['presence_in_moscow'].value_counts()"
   ],
   "metadata": {
    "id": "Yz-5zZbH05HR",
    "ExecuteTime": {
     "end_time": "2024-09-19T12:09:53.214918Z",
     "start_time": "2024-09-19T12:09:53.163716Z"
    }
   },
   "outputs": [
    {
     "data": {
      "text/plain": [
       "presence_russia_combined_category  presence_in_moscow\n",
       "до 8                               True                  360\n",
       "                                   False                 322\n",
       "от 21 до 63                        True                  425\n",
       "                                   False                 244\n",
       "от 63                              True                  507\n",
       "                                   False                 208\n",
       "от 8 до 21                         True                  410\n",
       "                                   False                 261\n",
       "Name: count, dtype: int64"
      ]
     },
     "execution_count": 16,
     "metadata": {},
     "output_type": "execute_result"
    }
   ],
   "execution_count": 16
  },
  {
   "cell_type": "markdown",
   "source": [
    "# Задача 12. Предложи направления исследования для кейса «Экспансия»"
   ],
   "metadata": {
    "id": "RnxiP5XtBNLk"
   }
  },
  {
   "cell_type": "markdown",
   "source": [
    "\n",
    "В кейсе «Экспансия» нужно будет взять датасет [expansion.csv](https://raw.githubusercontent.com/zalig/cu-datasets/main/expansion.csv) из предыдущей задачи и сделать слайды о том, как выглядит экспансия ритейлеров в регионы: как по мере увеличения количества франчайзинговых точек ритейлеры выбирают регионы для их открытия. Возможно, стратегия экспансии зависит от специализации ритейлера.\n",
    "\n",
    "(black, баллы: 0.8) Предложи способ исследования экспансии:\n",
    "\n",
    "- Придумай, какие описательные статистики могли бы помочь решить кейс.\n",
    "- Придумай, в какие таблицы эти статистики можно было бы оформить.\n",
    "- Придумай хотя бы 2 таблицы.\n",
    "  \n",
    "  Опиши таблицы и укажи, что будет в строках и столбцах и какие статистики будут в ячейках. Если используешь относительную частоту, указывай относительно чего найдена эта частота: что в числителе, а что в знаменателе.\n",
    "\n",
    "  Опиши, как таблица поможет ответить на вопрос об экспансии, когда она будет вычислена и представлена на слайде презентации.\n",
    "\n",
    "Никаких расчётов проводить не требуется... пока."
   ],
   "metadata": {
    "id": "S8BuVTUzBRee"
   }
  },
  {
   "cell_type": "markdown",
   "source": [
    "**Решение**\n",
    "\n",
    "**Таблица 1.** Среднее количество аутлетов в странах в зависимости от специализации ритейлера.\n",
    "Данная статистика поможет понять, какие ритейлеры более активно развиваются в разных странах. Строки таблицы будут содержать специализацию ритейлера, а столбцы — среднее количество аутлетов в стране. Эта таблица поможет понять, какие ритейлеры более активно развиваются в разных странах. \n",
    "\n",
    "**Таблица 2.** Частота присутствия в регионах россии. Отношение presence_russia_combined к presence_world. Позволит узнать какие аутлеты более ориентированы на российский рынок.\n",
    "\n",
    "**Таблица 3.** Частота аутлетов по категориям цен в разных регионах России. Позволить сделать анализ того, как ценовая политика влияет на появление аутлетов в разных регионах России. В таблице в строчках название аутлета, ценовая категория, регион, отношение количества аутлетов в этой ценовой категории этого региона ко всем аутлетам этого региона."
   ],
   "metadata": {
    "id": "AXHg95zpDROM"
   }
  },
  {
   "cell_type": "code",
   "source": [
    "# Твоё решение тут"
   ],
   "metadata": {
    "id": "f9Xv8iFdDROS"
   },
   "execution_count": null,
   "outputs": []
  },
  {
   "cell_type": "markdown",
   "source": [
    "# Задача 13. Установи связь между стандартным отклонением и интервалом значений"
   ],
   "metadata": {
    "id": "dA0zVoIrBlsE"
   }
  },
  {
   "cell_type": "markdown",
   "source": [
    "Эта задача покажет связь частот со статистиками, основанными на среднем (среднее, среднее абсолютное отклонение, смещённое стандартное отклонение).\n",
    "\n",
    "Все $N$ чисел в столбце данных $X$ неотрицательные.\n",
    "\n",
    "1. (black, баллы: 0.5) Среднее равно 10. Докажи, что относительная частота события $X \\geqslant 20$ всегда не превосходит $1/2$, какими бы ни были $X$.\n",
    "\n",
    "2. (black, баллы: 0.5) Среднее равно 10. Придумай набор чисел для $X$, чтобы относительная частота $X \\geqslant 20$ равнялась $1/2$.\n",
    "\n",
    "3. (black, баллы: 0.5) Докажи, что относительная частота события $X \\geqslant c \\cdot mean(X)$ всегда не превосходит $1/c$, при $c > 1$.\n",
    "\n",
    "4. (black, баллы: 0.5) Среднее равно 10. Среднее абсолютное отклонение равно 2. Докажи, что относительная частота события $4 < X < 16$ всегда не менее $2/3$, какими бы ни были $X$.\n",
    "\n",
    "5. (black, баллы: 0.5) Среднее равно 10. Среднее абсолютное отклонение равно 2. Придумай набор чисел для $X$, чтобы относительная частота $4 < X < 16$ равнялась $2/3$.\n",
    "\n",
    "6. (black, баллы: 0.5) Докажи, что относительная частота события $mean(X) - c \\cdot MAD(X) < X < mean(X) + c \\cdot MAD(X)$ не менее $1 - 1/c$, при $c > 1$.\n",
    "\n",
    "   Подсказка: перейди от $X$ к $Y = |X - mean(X)|$ и заметьте, что $MAD(X) = mean(Y)$.\n",
    "\n",
    "7. (black, баллы: 0.5) Твоя знакомая рассказала «правило трёх сигм»: относительная частота события $mean(X) - 3 \\cdot SD(X) < X < mean(X) + 3 \\cdot SD(X)$ не меньше $0.997$. Ты хочешь произвести впечатление и опровергнуть это утверждение наглядно и убедительно. Приведи пример столбца данных $X$, для которого $mean(X) = 10$, $SD(X) = 3$, и при этом событие $10 - 3 \\cdot 3 < X < 10 + 3 \\cdot 3$ происходит с частотой не больше $0.9$.\n",
    "\n",
    "8. (black, баллы: 0.5) Докажи, что относительная частота события $mean(X) - 3 \\cdot SD(X) < X < mean(X) + 3 \\cdot SD(X)$ всегда не менее $8/9$, какими бы ни были данные в $X$.\n",
    "\n",
    "9. (black, баллы: 0.5) Что можно утверждать наверняка про относительную частоту события $mean(X) - c \\cdot SD(X) < X < mean(X) + c \\cdot SD(X)$ при $c > 0$?\n"
   ],
   "metadata": {
    "id": "7eRhXOMGBsNQ"
   }
  },
  {
   "cell_type": "markdown",
   "source": [
    "## 1. (black, баллы: 0.5) Относительная частота не превосходит значение.\n",
    "Среднее равно 10. Докажи, что относительная частота события $X \\geqslant 20$ всегда не превосходит $1/2$, какими бы ни были $X$."
   ],
   "metadata": {
    "id": "UPF9Z0vACoyB"
   }
  },
  {
   "cell_type": "markdown",
   "source": [
    "**Решение**"
   ],
   "metadata": {
    "id": "XS0hkRrdDSTr"
   }
  },
  {
   "cell_type": "code",
   "source": [
    "# Твоё решение тут"
   ],
   "metadata": {
    "id": "9DX3e-ajDSTx"
   },
   "execution_count": null,
   "outputs": []
  },
  {
   "cell_type": "markdown",
   "source": [
    "## 2. (black, баллы: 0.5) Относительная частота равняется числу.\n",
    "Среднее равно 10. Придумай набор чисел для $X$, чтобы относительная частота $X \\geqslant 20$ равнялась $1/2$."
   ],
   "metadata": {
    "id": "vPrUqUZ3Co0a"
   }
  },
  {
   "cell_type": "markdown",
   "source": [
    "**Решение**"
   ],
   "metadata": {
    "id": "c1p4z7mNDS63"
   }
  },
  {
   "cell_type": "code",
   "source": [
    "# Твоё решение тут"
   ],
   "metadata": {
    "id": "mwabOqjEDS63"
   },
   "execution_count": null,
   "outputs": []
  },
  {
   "cell_type": "markdown",
   "source": [
    "## 3. (black, баллы: 0.5) Относительная частота не превосходит параметр.\n",
    "Докажи, что относительная частота события $X \\geqslant c \\cdot mean(X)$ всегда не превосходит $1/c$, при $c > 1$."
   ],
   "metadata": {
    "id": "vcW5HkAjCo27"
   }
  },
  {
   "cell_type": "markdown",
   "source": [
    "**Решение**"
   ],
   "metadata": {
    "id": "D7qh69Y6DTkA"
   }
  },
  {
   "cell_type": "code",
   "source": [
    "# Твоё решение тут"
   ],
   "metadata": {
    "id": "kR5E8A-vDTkH"
   },
   "execution_count": null,
   "outputs": []
  },
  {
   "cell_type": "markdown",
   "source": [
    "## 4. (black, баллы: 0.5) Относительная частота не превосходит значение (значения события в иинтервале).\n",
    "Среднее равно 10. Среднее абсолютное отклонение равно 2. Докажи, что относительная частота события $4 < X < 16$ всегда не менее $2/3$, какими бы ни были $X$."
   ],
   "metadata": {
    "id": "aiS0rIvVCo5Y"
   }
  },
  {
   "cell_type": "markdown",
   "source": [
    "**Решение**"
   ],
   "metadata": {
    "id": "JwE8PjEmDT9Z"
   }
  },
  {
   "cell_type": "code",
   "source": [
    "# Твоё решение тут"
   ],
   "metadata": {
    "id": "TmVTYNt6DT9Z"
   },
   "execution_count": null,
   "outputs": []
  },
  {
   "cell_type": "markdown",
   "source": [
    "## 5. (black, баллы: 0.5) Относительная частота не превосходит значение (значения события в интервале).\n",
    "Среднее равно 10. Среднее абсолютное отклонение равно 2. Придумай набор чисел для $X$, чтобы относительная частота $4 < X < 16$ равнялась $2/3$."
   ],
   "metadata": {
    "id": "UPvZGcVhCo7-"
   }
  },
  {
   "cell_type": "markdown",
   "source": [
    "**Решение**"
   ],
   "metadata": {
    "id": "mAdNJJgaDUWb"
   }
  },
  {
   "cell_type": "code",
   "source": [
    "# Твоё решение тут"
   ],
   "metadata": {
    "id": "gJr2XjfIDUWb"
   },
   "execution_count": null,
   "outputs": []
  },
  {
   "cell_type": "markdown",
   "source": [
    "## 6. (black, баллы: 0.5) Относительная частота не равна значению (значения события в интервале).\n",
    "Докажи, что относительная частота события $mean(X) - c \\cdot MAD(X) < X < mean(X) + c \\cdot MAD(X)$ не менее $1 - 1/c$ при $c > 1$.\n",
    "\n",
    "Подсказка: перейди от $X$ к $Y = |X - mean(X)|$ и заметь, что $MAD(X) = mean(Y)$."
   ],
   "metadata": {
    "id": "z_SnyVMvCo-q"
   }
  },
  {
   "cell_type": "markdown",
   "source": [
    "**Решение**"
   ],
   "metadata": {
    "id": "esiCKOlQDUwG"
   }
  },
  {
   "cell_type": "code",
   "source": [
    "# Твоё решение тут"
   ],
   "metadata": {
    "id": "e3ewuO1IDUwH"
   },
   "execution_count": null,
   "outputs": []
  },
  {
   "cell_type": "markdown",
   "source": [
    "## 7. (black, баллы: 0.5) Опровержение «правила трёх сигм» с помощью примера данных\n",
    "Твоя знакомая рассказала «правило трёх сигм»: относительная частота события $mean(X) - 3 \\cdot SD(X) < X < mean(X) + 3 \\cdot SD(X)$ не меньше $0.997$.\n",
    "\n",
    "Ты хочешь произвести впечатление и опровергнуть это утверждение наглядно и убедительно. Приведи пример столбца данных $X$, для которого $mean(X) = 10$, $SD(X) = 3$, и при этом событие $10 - 3 \\cdot 3 < X < 10 + 3 \\cdot 3$ происходит с частотой не больше $0.9$."
   ],
   "metadata": {
    "id": "1hj3SmlJCpBu"
   }
  },
  {
   "cell_type": "markdown",
   "source": [
    "**Решение**"
   ],
   "metadata": {
    "id": "3uGblaBLDVJ0"
   }
  },
  {
   "cell_type": "code",
   "source": [
    "# Твоё решение тут"
   ],
   "metadata": {
    "id": "m3_TV989DVJ0"
   },
   "execution_count": null,
   "outputs": []
  },
  {
   "cell_type": "markdown",
   "source": [
    "## 8. (black, баллы: 0.5) Относительная частота и «правило трёх сигм».\n",
    "Докажи, что относительная частота события $mean(X) - 3 \\cdot SD(X) < X < mean(X) + 3 \\cdot SD(X)$ всегда не менее $8/9$, какими бы ни были данные в $X$."
   ],
   "metadata": {
    "id": "8XI1XOL-CpEz"
   }
  },
  {
   "cell_type": "markdown",
   "source": [
    "**Решение**"
   ],
   "metadata": {
    "id": "ycbbXDgADVnW"
   }
  },
  {
   "cell_type": "code",
   "source": [
    "# Твоё решение тут"
   ],
   "metadata": {
    "id": "_EG_AE87DVnX"
   },
   "execution_count": null,
   "outputs": []
  },
  {
   "cell_type": "markdown",
   "source": [
    "## 9. (black, баллы: 0.5) Утверждение про относительную частоту.\n",
    "Что можно утверждать наверняка про относительную частоту события $mean(X) - c \\cdot SD(X) < X < mean(X) + c \\cdot SD(X)$ при $c > 0$?"
   ],
   "metadata": {
    "id": "ouiq4WeoDKTP"
   }
  },
  {
   "cell_type": "markdown",
   "source": [
    "**Решение**"
   ],
   "metadata": {
    "id": "EA1qJc_hDV9_"
   }
  },
  {
   "cell_type": "code",
   "source": [
    "# Твоё решение тут"
   ],
   "metadata": {
    "id": "2YTaWtnQDV9_"
   },
   "execution_count": null,
   "outputs": []
  }
 ]
}
