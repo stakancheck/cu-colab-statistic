{
  "nbformat": 4,
  "nbformat_minor": 0,
  "metadata": {
    "colab": {
      "provenance": [],
      "collapsed_sections": [
        "97bsreDkDkYf",
        "FPMUORu9DnBG",
        "sVHFp_qcNPrf",
        "dcvKhtdSNT8W",
        "vHmmI7tTNUPO",
        "iZYKQ328DnRC",
        "9l5bPhWSh3tO",
        "4zdsKS8XmvWC",
        "U6HjdxUNiPzU",
        "kI9UKCyzQwmK",
        "-__BJSHK0cOe",
        "OVR5CZCbQ3QA",
        "_VBV9bUrQ3Sf",
        "8YwnyeqDQ3U4",
        "KOsM42eXQ4JL"
      ],
      "include_colab_link": true
    },
    "kernelspec": {
      "name": "python3",
      "display_name": "Python 3"
    },
    "language_info": {
      "name": "python"
    }
  },
  "cells": [
    {
      "cell_type": "markdown",
      "metadata": {
        "id": "view-in-github",
        "colab_type": "text"
      },
      "source": [
        "<a href=\"https://colab.research.google.com/github/stakancheck/cu-colab-statistic/blob/main/cu_stat_hw01.ipynb\" target=\"_parent\"><img src=\"https://colab.research.google.com/assets/colab-badge.svg\" alt=\"Open In Colab\"/></a>"
      ]
    },
    {
      "cell_type": "markdown",
      "source": [
        "# Задача 1. Классифицируй датасеты"
      ],
      "metadata": {
        "id": "97bsreDkDkYf"
      }
    },
    {
      "cell_type": "markdown",
      "source": [
        "## 1. (blue, баллы: 0.2) Типы датасетов\n",
        "Определи тип каждого из датасетов."
      ],
      "metadata": {
        "id": "8VKoqFKPDm-C"
      }
    },
    {
      "cell_type": "markdown",
      "source": [
        "   - Cross-section\n",
        "   - Time Series\n",
        "   - Panel Data"
      ],
      "metadata": {
        "id": "IcipsNYmgmKD"
      }
    },
    {
      "cell_type": "markdown",
      "source": [
        "   - [Датасет 1](https://raw.githubusercontent.com/zalig/cu-datasets/main/01_dataset1.csv)\n",
        "   - [Датасет 2](https://raw.githubusercontent.com/zalig/cu-datasets/main/01_dataset2.csv)\n",
        "   - [Датасет 3](https://raw.githubusercontent.com/zalig/cu-datasets/main/01_dataset3.csv)"
      ],
      "metadata": {
        "id": "a2xEyczIJ5AN"
      }
    },
    {
      "cell_type": "markdown",
      "source": [
        "**Решение**"
      ],
      "metadata": {
        "id": "5hxsPN0ZEEmj"
      }
    },
    {
      "cell_type": "code",
      "source": [
        "# Твоё решение тут"
      ],
      "metadata": {
        "id": "xjXTT5uv6gHx"
      },
      "execution_count": null,
      "outputs": []
    },
    {
      "cell_type": "markdown",
      "source": [
        "## 2. (blue, баллы: 0.2) Примеры датасетов в реальной жизни.\n",
        "Придумай примеры из реальной жизни датасетов каждого вида."
      ],
      "metadata": {
        "id": "S-hziYPoJuOX"
      }
    },
    {
      "cell_type": "markdown",
      "source": [
        "   - Cross-section\n",
        "   - Time Series\n",
        "   - Panel Data"
      ],
      "metadata": {
        "id": "t6n0p1dxJ7fT"
      }
    },
    {
      "cell_type": "markdown",
      "source": [
        "**Решение**"
      ],
      "metadata": {
        "id": "4XnNEnbLg1QO"
      }
    },
    {
      "cell_type": "code",
      "source": [
        "# Твоё решение тут"
      ],
      "metadata": {
        "id": "SxTf-SXJJuOY"
      },
      "execution_count": null,
      "outputs": []
    },
    {
      "cell_type": "markdown",
      "source": [
        "# Задача 2. Прокомментируй различия типов данных"
      ],
      "metadata": {
        "id": "FPMUORu9DnBG"
      }
    },
    {
      "cell_type": "markdown",
      "source": [
        "Дан [датасет](https://raw.githubusercontent.com/zalig/cu-datasets/main/01_datatypes1.csv), состоящий из четырёх наблюдений и шести столбцов.\n",
        "\n",
        "<table>\n",
        "  <tr>\n",
        "    <th>Age</th>\n",
        "    <th>Salary</th>\n",
        "    <th>Female</th>\n",
        "    <th>Education Level</th>\n",
        "    <th>No of Elementary School</th>\n",
        "    <th>Favorite Color</th>\n",
        "  </tr>\n",
        "  <tr>\n",
        "    <td>23</td>\n",
        "    <td>30</td>\n",
        "    <td>1</td>\n",
        "    <td>1</td>\n",
        "    <td>25</td>\n",
        "    <td>blue</td>\n",
        "  </tr>\n",
        "  <tr>\n",
        "    <td>30</td>\n",
        "    <td>80</td>\n",
        "    <td>1</td>\n",
        "    <td>3</td>\n",
        "    <td>3</td>\n",
        "    <td>pink</td>\n",
        "  </tr>\n",
        "  <tr>\n",
        "    <td>22</td>\n",
        "    <td>15</td>\n",
        "    <td>0</td>\n",
        "    <td>2</td>\n",
        "    <td>50</td>\n",
        "    <td>yellow</td>\n",
        "  </tr>\n",
        "  <tr>\n",
        "    <td>41</td>\n",
        "    <td>80</td>\n",
        "    <td>1</td>\n",
        "    <td>3</td>\n",
        "    <td>1544</td>\n",
        "    <td>black</td>\n",
        "  </tr>\n",
        "</table>\n",
        "\n",
        "Описание столбцов датасета:\n",
        "\n",
        "- Age – возраст человека в годах.\n",
        "- Salary – доход человека в тысячах рублей в месяц.\n",
        "- Female – индикатор женского пола (1 – женщина, 0 – мужчина).\n",
        "- Education Level – ступень образования (1 – нет оконченного высшего, 2 – оконченное высшее без учёной степени, 3 – кандидат или доктор наук или PhD).\n",
        "- No of Elementary School – номер средней школы, из которой выпустился человек.\n",
        "- Favorite Color – любимый цвет.\n",
        "\n",
        "Для этого датасета выполни следующее:\n",
        "1. (blue, баллы: 0.4) Определи тип данных каждого столбца.\n",
        "2. (blue, баллы: 0.4) Столбец Age. Найдя разность 41 и 22, получим 19. Разумно ли сказать, что четвёртый человек на 19 лет старше третьего? Можно ли сказать, что второй человек старше первого?\n",
        "3. (blue, баллы: 0.4) Столбец Female. Число 1 больше, чем число 0: осмысленно ли сказать, что пол второго человека «больше», чем пол первого? Можно ли сказать, во сколько раз? В бесконечность?\n",
        "4. (blue, баллы: 0.4) Столбец Education Level. Можно ли сказать, что второй человек более образованный, чем первый, потому что 3 > 1? Можно ли сказать, что второй человек в три раза более образованный, чем первый?\n",
        "5. (blue, баллы: 0.4) Столбец No of Elementary School. Можно ли сказать, что школа третьего человека вдвое отличается от школы первого человека, потому что 50 = 25 × 2? Можно ли сказать, что школа второго человека намного меньше школы первого? Можно ли сказать, что школа четвёртого человека очень отличается от школ первых троих, потому что 1544 намного больше 25, 3, 50?\n",
        "6. (blue, баллы: 0.4) Столбец Favorite Color. Можно ли сказать, что цвет первого человека «больше», чем у второго? Во сколько раз больше?\n"
      ],
      "metadata": {
        "id": "-eUBjXa8DnEQ"
      }
    },
    {
      "cell_type": "markdown",
      "source": [
        "## 1. (blue, баллы: 0.4) Типы данных в столбцах.\n",
        "Определи тип данных каждого столбца."
      ],
      "metadata": {
        "id": "sVHFp_qcNPrf"
      }
    },
    {
      "cell_type": "markdown",
      "source": [
        "**Решение**"
      ],
      "metadata": {
        "id": "9YsKPG5REGfJ"
      }
    },
    {
      "cell_type": "code",
      "source": [
        "# Твоё решение тут"
      ],
      "metadata": {
        "id": "WPTzk_IyEGfK"
      },
      "execution_count": null,
      "outputs": []
    },
    {
      "cell_type": "markdown",
      "source": [
        "## 2. (blue, баллы: 0.4) Столбец Age.\n",
        "Найдя разность 41 и 22, получим 19. Разумно ли сказать, что четвёртый человек на 19 лет старше третьего? Можно ли сказать, что второй человек старше первого?"
      ],
      "metadata": {
        "id": "dcvKhtdSNT8W"
      }
    },
    {
      "cell_type": "markdown",
      "source": [
        "**Решение**"
      ],
      "metadata": {
        "id": "mMREc9uxNT8X"
      }
    },
    {
      "cell_type": "code",
      "source": [
        "# Твоё решение тут"
      ],
      "metadata": {
        "id": "mHnTbLCbNT8X"
      },
      "execution_count": null,
      "outputs": []
    },
    {
      "cell_type": "markdown",
      "source": [
        "## 3. (blue, баллы: 0.4) Столбец Female.\n",
        "Число 1 больше, чем число 0: осмысленно ли сказать, что пол второго человека «больше», чем пол первого? Можно ли сказать, во сколько раз? В бесконечность?"
      ],
      "metadata": {
        "id": "vHmmI7tTNUPO"
      }
    },
    {
      "cell_type": "markdown",
      "source": [
        "**Решение**"
      ],
      "metadata": {
        "id": "Hz_yu2dtNUPO"
      }
    },
    {
      "cell_type": "code",
      "source": [
        "# Твоё решение тут"
      ],
      "metadata": {
        "id": "YYrHHN_2NUPO"
      },
      "execution_count": null,
      "outputs": []
    },
    {
      "cell_type": "markdown",
      "source": [
        "## 4. (blue, баллы: 0.4) Столбец Education Level.\n",
        "Можно ли сказать, что второй человек более образованный, чем первый, потому что 3 > 1? Можно ли сказать, что второй человек в три раза более образованный, чем первый?"
      ],
      "metadata": {
        "id": "YBTIGh-rNUd3"
      }
    },
    {
      "cell_type": "markdown",
      "source": [
        "**Решение**"
      ],
      "metadata": {
        "id": "Edh9MqkTNUd4"
      }
    },
    {
      "cell_type": "code",
      "source": [
        "# Твоё решение тут"
      ],
      "metadata": {
        "id": "AY7NUjqbNUd5"
      },
      "execution_count": null,
      "outputs": []
    },
    {
      "cell_type": "markdown",
      "source": [
        "## 5. (blue, баллы: 0.4) Столбец No of Elementary School.\n",
        "Можно ли сказать, что школа третьего человека вдвое отличается от школы первого человека, потому что 50 = 25 × 2? Можно ли сказать, что школа второго человека намного меньше школы первого? Можно ли сказать, что школа четвёртого человека очень отличается от школ первых троих, потому что 1544 намного больше 25, 3, 50?\n"
      ],
      "metadata": {
        "id": "3Cdi0XkWNUrG"
      }
    },
    {
      "cell_type": "markdown",
      "source": [
        "**Решение**"
      ],
      "metadata": {
        "id": "NPc4NkR_NUrH"
      }
    },
    {
      "cell_type": "code",
      "source": [
        "# Твоё решение тут"
      ],
      "metadata": {
        "id": "T4nDLYcFNUrH"
      },
      "execution_count": null,
      "outputs": []
    },
    {
      "cell_type": "markdown",
      "source": [
        "## 6. (blue, баллы: 0.4) Столбец Favorite Color.\n",
        "Можно ли сказать, что цвет первого человека «больше», чем у второго? Во сколько раз больше?"
      ],
      "metadata": {
        "id": "cmk4hEtFNU9e"
      }
    },
    {
      "cell_type": "markdown",
      "source": [
        "**Решение**"
      ],
      "metadata": {
        "id": "1iF5uOh3NU9e"
      }
    },
    {
      "cell_type": "code",
      "source": [
        "# Твоё решение тут"
      ],
      "metadata": {
        "id": "LQbisrPuNU9f"
      },
      "execution_count": null,
      "outputs": []
    },
    {
      "cell_type": "markdown",
      "source": [
        "# Задача 3. Найди описательные статистики по формулам\n"
      ],
      "metadata": {
        "id": "iZYKQ328DnRC"
      }
    },
    {
      "cell_type": "markdown",
      "source": [
        " Известны доходы в тысячах рублей первых четырёх клиентов $X$: 50, 30, 60, 60. Найди указанные ниже показатели и продемонстрируй не только финальный ответ, но и ход расчётов:\n",
        " - использованные математические формулы,\n",
        " - подставляемые в них числа.\n",
        "\n",
        "Нельзя просто написать «после загрузки чисел в Python такой-то командой всё как-то само посчиталось».\n",
        "\n",
        "Проинтерпретируй указанные ниже показатели, то есть объясни их смысл.\n",
        "\n",
        "1. (blue, баллы: 0.5) Найди среднее и централизацию каждого клиента относительно среднего. Проинтерпретируй централизацию второго клиента. Напомним, что централизацией мы называем отклонение конкретного значения от среднего значения.\n",
        "2. (blue, баллы: 0.5) Найди среднее абсолютное отклонение от среднего, размах и проинтерпретируй их.\n",
        "3. (blue, баллы: 0.5) Найди смещённое стандартное отклонение.\n",
        "4. (blue, баллы: 0.5) Найди медиану и проинтерпретируй её.\n",
        "5. (blue, баллы: 0.5) Найди нижний и верхний квартили, 30%-персентиль и 0.8-квантиль. Проинтерпретируй нижний квартиль.\n",
        "6. (blue, баллы: 0.5) Найди межквартильный размах и проинтерпретируй его."
      ],
      "metadata": {
        "id": "Y3g0vJWqQNcu"
      }
    },
    {
      "cell_type": "markdown",
      "source": [
        "## 1. (blue, баллы: 0.5) Среднее и централизация.\n",
        "Найди среднее и централизацию каждого клиента относительно среднего. Проинтерпретируй централизацию второго клиента. Напомним, что централизацией мы называем отклонение конкретного значения от среднего значения."
      ],
      "metadata": {
        "id": "ud8Va70bO2Yq"
      }
    },
    {
      "cell_type": "markdown",
      "source": [
        "**Решение**"
      ],
      "metadata": {
        "id": "VQN6tEGaEIfK"
      }
    },
    {
      "cell_type": "code",
      "source": [
        "# Твоё решение тут"
      ],
      "metadata": {
        "id": "dVm5zl5kEIfS"
      },
      "execution_count": null,
      "outputs": []
    },
    {
      "cell_type": "markdown",
      "source": [
        "## 2. (blue, баллы: 0.5) Среднее абсолютное отклонение и размах.\n",
        "Найди среднее абсолютное отклонение от среднего, размах и проинтерпретируй их."
      ],
      "metadata": {
        "id": "V5nw3DybO_e6"
      }
    },
    {
      "cell_type": "markdown",
      "source": [
        "**Решение**"
      ],
      "metadata": {
        "id": "oCiEP7Q2O_e7"
      }
    },
    {
      "cell_type": "code",
      "source": [
        "# Твоё решение тут"
      ],
      "metadata": {
        "id": "ErW72xuDO_e7"
      },
      "execution_count": null,
      "outputs": []
    },
    {
      "cell_type": "markdown",
      "source": [
        "## 3. (blue, баллы: 0.5) Смещённое стандартное отклонение.\n",
        "Найди смещённое стандартное отклонение.\n"
      ],
      "metadata": {
        "id": "Bb6IB2uBO_mX"
      }
    },
    {
      "cell_type": "markdown",
      "source": [
        "**Решение**"
      ],
      "metadata": {
        "id": "pahviO0XO_mX"
      }
    },
    {
      "cell_type": "code",
      "source": [
        "# Твоё решение тут"
      ],
      "metadata": {
        "id": "4REOO4gDO_mX"
      },
      "execution_count": null,
      "outputs": []
    },
    {
      "cell_type": "markdown",
      "source": [
        "## 4. (blue, баллы: 0.5) Медиана.\n",
        "Найди медиану и проинтерпретируй её."
      ],
      "metadata": {
        "id": "NUKahh5hO_xF"
      }
    },
    {
      "cell_type": "markdown",
      "source": [
        "**Решение**"
      ],
      "metadata": {
        "id": "uOOlzfEZO_xG"
      }
    },
    {
      "cell_type": "code",
      "source": [
        "# Твоё решение тут"
      ],
      "metadata": {
        "id": "D_hSzb_FO_xG"
      },
      "execution_count": null,
      "outputs": []
    },
    {
      "cell_type": "markdown",
      "source": [
        "## 5. (blue, баллы: 0.5) Квантили.\n",
        "Найди нижний и верхний квартили, 30%-персентиль и 0.8-квантиль. Проинтерпретируй нижний квартиль."
      ],
      "metadata": {
        "id": "QgdXmGpqPAQz"
      }
    },
    {
      "cell_type": "markdown",
      "source": [
        "**Решение**"
      ],
      "metadata": {
        "id": "kdkOS0uePAQz"
      }
    },
    {
      "cell_type": "code",
      "source": [
        "# Твоё решение тут"
      ],
      "metadata": {
        "id": "7cD-Q2l1PAQz"
      },
      "execution_count": null,
      "outputs": []
    },
    {
      "cell_type": "markdown",
      "source": [
        "## 6. (blue, баллы: 0.5) Межквартильный размах.\n",
        "Найди межквартильный размах и проинтерпретируй его."
      ],
      "metadata": {
        "id": "Lrkt_-ylPPMS"
      }
    },
    {
      "cell_type": "markdown",
      "source": [
        "**Решение**"
      ],
      "metadata": {
        "id": "LTbTNqQ5PPMY"
      }
    },
    {
      "cell_type": "code",
      "source": [
        "# Твоё решение тут"
      ],
      "metadata": {
        "id": "GfwUDXu1PPMY"
      },
      "execution_count": null,
      "outputs": []
    },
    {
      "cell_type": "markdown",
      "source": [
        "# Задача 4. Проведи очистку данных и рассчитай статистики в «Питоне»"
      ],
      "metadata": {
        "id": "9l5bPhWSh3tO"
      }
    },
    {
      "cell_type": "markdown",
      "source": [
        "Датасет [duration.csv](https://raw.githubusercontent.com/zalig/cu-datasets/main/01_duration.csv) содержит единственный столбец: время в секундах, проведённое\n",
        "посетителем на сайте в течение одного сеанса, согласно серверным логам.\n",
        "\n",
        "## 1. (blue, баллы: 1) Рассчитай описательные статистики.\n"
      ],
      "metadata": {
        "id": "4zdsKS8XmvWC"
      }
    },
    {
      "cell_type": "markdown",
      "source": [
        "\n",
        "Найди среднее, размах, смещённое стандартное отклонение, медиану, нижний и верхний квартили, межквартильный размах.\n",
        "\n",
        "Не забудь очистить данные от явно ошибочных значений (например, 74393479 секунд, это больше 2 лет — явно ошибочное значение).\n",
        "\n",
        "Подсказка: отсортируй числа и посмотри на начало и конец, а затем отфильтруй\n",
        "явно неподходящие значения."
      ],
      "metadata": {
        "id": "ZtIeEaLP7Ubb"
      }
    },
    {
      "cell_type": "markdown",
      "source": [
        "**Решение**"
      ],
      "metadata": {
        "id": "Hkich0wVPwjx"
      }
    },
    {
      "cell_type": "code",
      "source": [
        "# Твоё решение тут"
      ],
      "metadata": {
        "id": "fZ-4jPTTPqz6"
      },
      "execution_count": null,
      "outputs": []
    },
    {
      "cell_type": "markdown",
      "source": [
        "# Задача 5. Проведи расчёты для кейса «Золотая жила»"
      ],
      "metadata": {
        "id": "U6HjdxUNiPzU"
      }
    },
    {
      "cell_type": "markdown",
      "source": [
        "Датасет [golden_mine.csv](https://raw.githubusercontent.com/zalig/cu-datasets/main/golden_mine.csv) содержит данные для кейса [«Золотая жила»](https://raw.githubusercontent.com/zalig/cu-datasets/main/case_1_golden_mine.pdf). В нём потребуется с помощью датасета найти наиболее прибыльные категории клиентов (пользователей платформы изучения иностранного языка).\n",
        "\n",
        "В этом домашнем задании нужно познакомиться с датасетом и провести некоторые расчёты в нём. Целиком кейс пока решать не нужно.\n",
        "Подробности кейса — в информационной системе."
      ],
      "metadata": {
        "id": "w3VAopcCh1QF"
      }
    },
    {
      "cell_type": "markdown",
      "source": [
        "Описание столбцов датасета:\n",
        "- Gender — пол клиента;\n",
        "- Age — возраст клиента в годах;\n",
        "- Age Group — возрастная группа;\n",
        "- Payments — общая сумма платежей от игрока в рублях за всё время существования платформы;\n",
        "- Costs — себестоимость оказанных клиенту услуг в рублях за всё время существования платформы;\n",
        "- Profit — разница между Payments и Costs."
      ],
      "metadata": {
        "id": "qEsFcNMIh8B6"
      }
    },
    {
      "cell_type": "markdown",
      "source": [
        "Задания:\n",
        "\n",
        "1. (blue, баллы: 1) Найди и сравни среднюю прибыль в категориях «Женщины до 24 лет» и «Мужчины до 24 лет».\n",
        "2. (blue, баллы: 1) Для этих двух категорий найди абсолютную частоту клиентов, прибыль платформы с которых 60 тысяч рублей или больше, и сравни их.\n",
        "3. (red, баллы: 1) Найди те же харакетристики (среднюю прибыль и частоту прибыли 60 тысяч рублей и больше) для каждой категории пола и возрастной группы и сравни между категориями. Подсказка: не забудь про очистку данных."
      ],
      "metadata": {
        "id": "PW2FonfknmSp"
      }
    },
    {
      "cell_type": "markdown",
      "source": [
        "## 1. (blue, баллы: 1) Средние по категориям.\n",
        "Найди и сравни среднюю прибыль в категориях «Женщины до 24 лет» и «Мужчины до 24 лет»."
      ],
      "metadata": {
        "id": "pWua7ara0I8r"
      }
    },
    {
      "cell_type": "markdown",
      "source": [
        "**Решение**"
      ],
      "metadata": {
        "id": "RfZTQVY90EQO"
      }
    },
    {
      "cell_type": "code",
      "source": [
        "# Твоё решение тут"
      ],
      "metadata": {
        "id": "EXurgINT0EQY"
      },
      "execution_count": null,
      "outputs": []
    },
    {
      "cell_type": "markdown",
      "source": [
        "## 2. (blue, баллы: 1) Абсолютные частоты.\n",
        "Для этих двух категорий найди абсолютную частоту клиентов, прибыль платформы с которых 60 тысяч рублей или больше, и сравни их."
      ],
      "metadata": {
        "id": "dWZXGr9K0O8a"
      }
    },
    {
      "cell_type": "markdown",
      "source": [
        "**Решение**"
      ],
      "metadata": {
        "id": "FFeXnq0M0Ea0"
      }
    },
    {
      "cell_type": "code",
      "source": [
        "# Твоё решение тут"
      ],
      "metadata": {
        "id": "3JhXWNQq0Ea1"
      },
      "execution_count": null,
      "outputs": []
    },
    {
      "cell_type": "markdown",
      "source": [
        "## 3. (red, баллы: 1) Средние и абсолютные частоты по категориям.\n",
        "Найди те же харакетристики (среднюю прибыль и частоту прибыли 60 тысяч рублей и больше) для каждой категории пола и возрастной группы и сравни между категориями. Подсказка: не забудь про очистку данных."
      ],
      "metadata": {
        "id": "EXoPTJsZ0TYe"
      }
    },
    {
      "cell_type": "markdown",
      "source": [
        "**Решение**"
      ],
      "metadata": {
        "id": "v2OwjWsYTVoc"
      }
    },
    {
      "cell_type": "code",
      "source": [
        "# Твоё решение тут"
      ],
      "metadata": {
        "id": "QYMWgdm0TVoe"
      },
      "execution_count": null,
      "outputs": []
    },
    {
      "cell_type": "markdown",
      "source": [
        "# Задача 6. Проведи математические преобразования"
      ],
      "metadata": {
        "id": "kI9UKCyzQwmK"
      }
    },
    {
      "cell_type": "markdown",
      "source": [
        "Про каждое из утверждений обоснуй, почему оно верно для любых значений $X_{i}$, или обоснуй, что оно неверно при некоторых значениях $X_{i}$, где $i = 1, \\dots, n$, причём $n \\geqslant 2$.\n",
        "\n",
        "1. (blue, баллы: 0.2) $\\sum\\limits _{i=1}^{n}X_{i} = n \\cdot \\overline{X}$.\n",
        "2. (blue, баллы: 0.2) $\\sum\\limits _{i=1}^{n}X_{i} = n \\cdot X_{i}$.\n",
        "3. (blue, баллы: 0.2) $\\sum\\limits _{i=1}^{n}\\overline{X} = n \\cdot \\overline{X}$.\n",
        "4. (blue, баллы: 0.2) $\\sum\\limits _{i=1}^{n}(X_{i} - \\overline{X}) = 0$.\n",
        "5. (blue, баллы: 0.2) $\\sum\\limits _{i=1}^{n}|X_{i} - \\overline{X}| = 0$.\n",
        "6. (blue, баллы: 0.2) $\\sum\\limits _{i=1}^{n}(X_{i} - \\overline{X})^{2} = 0$.\n",
        "7. (red, баллы: 0.2) $\\sum(X_{i} - \\overline{X})^{2} = \\sum X_{i}^{2} - n \\cdot \\overline{X}^{2}$.  \n",
        "  Подсказка: сначала воспользуйся формулой $(a-b)^{2} = a^{2} - 2ab + b^{2}$.\n",
        "8. (red, баллы: 0.2) $\\sum\\limits _{i=1}^{n}X_{i}^{2} = \\left(\\sum\\limits _{i=1}^{n}X_{i}\\right)^{2}$.\n",
        "9. (red, баллы: 0.2) $\\overline{X^{2}} = \\overline{X}^{2}$, где $\\overline{X^{2}} = \\frac{1}{n}\\sum\\limits _{i=1}^{n}X_{i}^{2}$.\n",
        "10. (black, баллы: 0.2) $\\overline{XY} = \\overline{X} \\cdot \\overline{Y}$, где $\\overline{XY} = \\frac{1}{n}\\sum\\limits _{i=1}^{n}X_{i}Y_{i}$.\n"
      ],
      "metadata": {
        "id": "IIEvqzlIRD0p"
      }
    },
    {
      "cell_type": "markdown",
      "source": [
        "## 1. (blue, баллы: 0.2)\n",
        "$\\sum\\limits _{i=1}^{n}X_{i} = n \\cdot \\overline{X}$"
      ],
      "metadata": {
        "id": "-__BJSHK0cOe"
      }
    },
    {
      "cell_type": "markdown",
      "source": [
        "**Решение**"
      ],
      "metadata": {
        "id": "gRO7CP5t1TC3"
      }
    },
    {
      "cell_type": "code",
      "source": [
        "# Твоё решение тут"
      ],
      "metadata": {
        "id": "QjQm3a-A1TC9"
      },
      "execution_count": null,
      "outputs": []
    },
    {
      "cell_type": "markdown",
      "source": [
        "##2. (blue, баллы: 0.2)\n",
        "$\\sum\\limits _{i=1}^{n}X_{i} = n \\cdot X_{i}$"
      ],
      "metadata": {
        "id": "4f_sBm5D0cWg"
      }
    },
    {
      "cell_type": "markdown",
      "source": [
        "**Решение**"
      ],
      "metadata": {
        "id": "xp5IHqxo1ToF"
      }
    },
    {
      "cell_type": "code",
      "source": [
        "# Твоё решение тут"
      ],
      "metadata": {
        "id": "STMRoEQX1ToF"
      },
      "execution_count": null,
      "outputs": []
    },
    {
      "cell_type": "markdown",
      "source": [
        "## 3. (blue, баллы: 0.2)\n",
        "$\\sum\\limits _{i=1}^{n}\\overline{X} = n \\cdot \\overline{X}$"
      ],
      "metadata": {
        "id": "4cK1GfbX0cZn"
      }
    },
    {
      "cell_type": "markdown",
      "source": [
        "**Решение**"
      ],
      "metadata": {
        "id": "0rcYlm001UL8"
      }
    },
    {
      "cell_type": "code",
      "source": [
        "# Твоё решение тут"
      ],
      "metadata": {
        "id": "C1egyr3a1UL8"
      },
      "execution_count": null,
      "outputs": []
    },
    {
      "cell_type": "markdown",
      "source": [
        "## 4. (blue, баллы: 0.2)\n",
        "$\\sum\\limits _{i=1}^{n}(X_{i} - \\overline{X}) = 0$\n"
      ],
      "metadata": {
        "id": "Dykcbfjw0cc8"
      }
    },
    {
      "cell_type": "markdown",
      "source": [
        "**Решение**"
      ],
      "metadata": {
        "id": "WLUtH6oY1UfE"
      }
    },
    {
      "cell_type": "code",
      "source": [
        "# Твоё решение тут"
      ],
      "metadata": {
        "id": "PLdfWk121UfE"
      },
      "execution_count": null,
      "outputs": []
    },
    {
      "cell_type": "markdown",
      "source": [
        "## 5. (blue, баллы: 0.2)\n",
        "$\\sum\\limits _{i=1}^{n}|X_{i} - \\overline{X}| = 0$\n"
      ],
      "metadata": {
        "id": "VR0ABSmV0cgT"
      }
    },
    {
      "cell_type": "markdown",
      "source": [
        "**Решение**"
      ],
      "metadata": {
        "id": "aJx3f_ha1Usi"
      }
    },
    {
      "cell_type": "code",
      "source": [
        "# Твоё решение тут"
      ],
      "metadata": {
        "id": "Dk6as51W1Usi"
      },
      "execution_count": null,
      "outputs": []
    },
    {
      "cell_type": "markdown",
      "source": [
        "## 6. (blue, баллы: 0.2)\n",
        "$\\sum\\limits _{i=1}^{n}(X_{i} - \\overline{X})^{2} = 0$"
      ],
      "metadata": {
        "id": "BbWnoQ8q0clr"
      }
    },
    {
      "cell_type": "markdown",
      "source": [
        "**Решение**"
      ],
      "metadata": {
        "id": "eW7pZAO31U4T"
      }
    },
    {
      "cell_type": "code",
      "source": [
        "# Твоё решение тут"
      ],
      "metadata": {
        "id": "bCxQFTxI1U4U"
      },
      "execution_count": null,
      "outputs": []
    },
    {
      "cell_type": "markdown",
      "source": [
        "## 7. (red, баллы: 0.2)\n",
        "$\\sum(X_{i} - \\overline{X})^{2} = \\sum X_{i}^{2} - n \\cdot \\overline{X}^{2}$.\n",
        "  Подсказка: сначала воспользуйся формулой $(a-b)^{2} = a^{2} - 2ab + b^{2}$."
      ],
      "metadata": {
        "id": "GcLE5dtk0cqA"
      }
    },
    {
      "cell_type": "markdown",
      "source": [
        "**Решение**"
      ],
      "metadata": {
        "id": "zAl3aMfU1VJc"
      }
    },
    {
      "cell_type": "code",
      "source": [
        "# Твоё решение тут"
      ],
      "metadata": {
        "id": "xQClyEGi1VJd"
      },
      "execution_count": null,
      "outputs": []
    },
    {
      "cell_type": "markdown",
      "source": [
        "## 8. (red, баллы: 0.2)\n",
        "$\\sum\\limits _{i=1}^{n}X_{i}^{2} = \\left(\\sum\\limits _{i=1}^{n}X_{i}\\right)^{2}$"
      ],
      "metadata": {
        "id": "jYa3f-tN0iqw"
      }
    },
    {
      "cell_type": "markdown",
      "source": [
        "**Решение**"
      ],
      "metadata": {
        "id": "WuYPddrn1VWH"
      }
    },
    {
      "cell_type": "code",
      "source": [
        "# Твоё решение тут"
      ],
      "metadata": {
        "id": "Ix1k-rAP1VWI"
      },
      "execution_count": null,
      "outputs": []
    },
    {
      "cell_type": "markdown",
      "source": [
        "## 9. (red, баллы: 0.2)\n",
        "$\\overline{X^{2}} = \\overline{X}^{2}$, где $\\overline{X^{2}} = \\frac{1}{n}\\sum\\limits _{i=1}^{n}X_{i}^{2}$"
      ],
      "metadata": {
        "id": "BtDO8EqK0i0l"
      }
    },
    {
      "cell_type": "markdown",
      "source": [
        "**Решение**"
      ],
      "metadata": {
        "id": "bf6ys6AW1ViA"
      }
    },
    {
      "cell_type": "code",
      "source": [
        "# Твоё решение тут"
      ],
      "metadata": {
        "id": "yG0zbxMz1ViA"
      },
      "execution_count": null,
      "outputs": []
    },
    {
      "cell_type": "markdown",
      "source": [
        "## 10. (black, баллы: 0.2)\n",
        "$\\overline{XY} = \\overline{X} \\cdot \\overline{Y}$, где $\\overline{XY} = \\frac{1}{n}\\sum\\limits _{i=1}^{n}X_{i}Y_{i}$"
      ],
      "metadata": {
        "id": "aGgzI7BH0i3N"
      }
    },
    {
      "cell_type": "markdown",
      "source": [
        "**Решение**"
      ],
      "metadata": {
        "id": "BTRJkbfk1V3y"
      }
    },
    {
      "cell_type": "code",
      "source": [
        "# Твоё решение тут"
      ],
      "metadata": {
        "id": "PglaSqm-1V3z"
      },
      "execution_count": null,
      "outputs": []
    },
    {
      "cell_type": "markdown",
      "source": [
        "# Задача 7. Исследуй устойчивость описательных статистик"
      ],
      "metadata": {
        "id": "OVR5CZCbQ3QA"
      }
    },
    {
      "cell_type": "markdown",
      "source": [
        "Датасет состоит из пяти строк и одного столбца «Доход человека в тысячах рублей в месяц». Значения в столбце: 30, 170, 27, 40, 82.\n",
        "\n",
        "1. (red, баллы: 0.2) Можно ли, изменив лишь одно наблюдение, сделать средний доход равным 200?\n",
        "2. (red, баллы: 0.5) Какие значения медианы можно получить, изменив лишь одно наблюдение?\n",
        "3. (red, баллы: 0.2) Прокомментируй."
      ],
      "metadata": {
        "id": "D_wFQrBN1y6q"
      }
    },
    {
      "cell_type": "markdown",
      "source": [
        "## 1. (red, баллы: 0.2) Изменения среднего.\n",
        "Можно ли, изменив лишь одно наблюдение, сделать средний доход равным 200?"
      ],
      "metadata": {
        "id": "F4u472Ol2eAP"
      }
    },
    {
      "cell_type": "markdown",
      "source": [
        "**Решение**"
      ],
      "metadata": {
        "id": "U4GVh_jR2sQE"
      }
    },
    {
      "cell_type": "code",
      "source": [
        "# Твоё решение тут"
      ],
      "metadata": {
        "id": "oWHWcyQd2sQE"
      },
      "execution_count": null,
      "outputs": []
    },
    {
      "cell_type": "markdown",
      "source": [
        "## 2. (red, баллы: 0.5) Изменения медианы.\n",
        "Какие значения медианы можно получить, изменив лишь одно наблюдение?"
      ],
      "metadata": {
        "id": "1Yfhe5Jd2g1m"
      }
    },
    {
      "cell_type": "markdown",
      "source": [
        "**Решение**"
      ],
      "metadata": {
        "id": "eswgAti92sjU"
      }
    },
    {
      "cell_type": "code",
      "source": [
        "# Твоё решение тут"
      ],
      "metadata": {
        "id": "x_7UAEAK2sjU"
      },
      "execution_count": null,
      "outputs": []
    },
    {
      "cell_type": "markdown",
      "source": [
        "## 3. (red, баллы: 0.2) Прокомментируй."
      ],
      "metadata": {
        "id": "-HdsA3tM2jPR"
      }
    },
    {
      "cell_type": "markdown",
      "source": [
        "**Решение**"
      ],
      "metadata": {
        "id": "ZvaQvHew2tAZ"
      }
    },
    {
      "cell_type": "code",
      "source": [
        "# Твоё решение тут"
      ],
      "metadata": {
        "id": "zEmqQG1k2tAZ"
      },
      "execution_count": null,
      "outputs": []
    },
    {
      "cell_type": "markdown",
      "source": [
        "# Задача 8. Проинтерпретируй показатели"
      ],
      "metadata": {
        "id": "_VBV9bUrQ3Sf"
      }
    },
    {
      "cell_type": "markdown",
      "source": [
        "В этой задаче пункты не связаны друг с другом. В каждом пункте дана таблица, описывающая датасет.\n",
        "\n",
        "- Объясни, что показывают выделенные числа.\n",
        "- Если возможно, сделай выводы о датасете.\n",
        "\n",
        "В части выводов проверяться будет использование имеющихся данных для обоснования вывода, а также наличие здравого смысла в рассуждениях.\n"
      ],
      "metadata": {
        "id": "JJ4CaV1p83MF"
      }
    },
    {
      "cell_type": "markdown",
      "source": [
        "## 1. (red, баллы: 0.5) Интерпретация таблицы с данными.\n",
        "Напиши интерпретацию выделенных (двух) чисел в таблице. Какие выводы можно сделать на основании представленных в таблице данных? Разрешается проводить дополнительные расчёты.\n",
        "\n",
        "   <table>\n",
        "       <thead>\n",
        "           <tr>\n",
        "               <th></th>\n",
        "               <th>неуд.</th>\n",
        "               <th>удовл.</th>\n",
        "               <th>хор.</th>\n",
        "               <th>отл.</th>\n",
        "           </tr>\n",
        "       </thead>\n",
        "       <tbody>\n",
        "           <tr>\n",
        "               <td>группа 1</td>\n",
        "               <td><strong><em>5</em></strong></td>\n",
        "               <td>10</td>\n",
        "               <td>8</td>\n",
        "               <td>2</td>\n",
        "           </tr>\n",
        "           <tr>\n",
        "               <td>остальные группы</td>\n",
        "               <td>20</td>\n",
        "               <td><strong><em>40</em></strong></td>\n",
        "               <td>80</td>\n",
        "               <td>20</td>\n",
        "           </tr>\n",
        "       </tbody>\n",
        "   </table>"
      ],
      "metadata": {
        "id": "JCcacECU8-nc"
      }
    },
    {
      "cell_type": "markdown",
      "source": [
        "**Решение**"
      ],
      "metadata": {
        "id": "WWYmrqIX9TPj"
      }
    },
    {
      "cell_type": "code",
      "source": [
        "# Твоё решение тут"
      ],
      "metadata": {
        "id": "Qea1xwSO9TPp"
      },
      "execution_count": null,
      "outputs": []
    },
    {
      "cell_type": "markdown",
      "source": [
        "\n",
        "## 2. (red, баллы: 0.5) Интерпретация таблицы с описательными статистиками.\n",
        "Напиши интерпретацию выделенных четырёх чисел в таблице. Какие выводы можно сделать на основании представленных в таблице данных?\n",
        "\n",
        "   <table>\n",
        "       <thead>\n",
        "           <tr>\n",
        "               <th></th>\n",
        "               <th>mean</th>\n",
        "               <th>sd</th>\n",
        "               <th>Q1</th>\n",
        "               <th>med</th>\n",
        "               <th>Q3</th>\n",
        "               <th>min</th>\n",
        "               <th>max</th>\n",
        "           </tr>\n",
        "       </thead>\n",
        "       <tbody>\n",
        "           <tr>\n",
        "               <td>такси</td>\n",
        "               <td>39</td>\n",
        "               <td>22</td>\n",
        "               <td>29</td>\n",
        "               <td>31</td>\n",
        "               <td><strong><em>57</em></strong></td>\n",
        "               <td>25</td>\n",
        "               <td><strong><em>76</em></strong></td>\n",
        "           </tr>\n",
        "           <tr>\n",
        "               <td>общественный транспорт</td>\n",
        "               <td><strong><em>40</em></strong></td>\n",
        "               <td>5</td>\n",
        "               <td>37</td>\n",
        "               <td><strong><em>39</em></strong></td>\n",
        "               <td>43</td>\n",
        "               <td>34</td>\n",
        "               <td>47</td>\n",
        "           </tr>\n",
        "       </tbody>\n",
        "   </table>"
      ],
      "metadata": {
        "id": "JHXpb-1s8-0e"
      }
    },
    {
      "cell_type": "markdown",
      "source": [
        "**Решение**"
      ],
      "metadata": {
        "id": "zuav2Cg59TmP"
      }
    },
    {
      "cell_type": "code",
      "source": [
        "# Твоё решение тут"
      ],
      "metadata": {
        "id": "4Gupj8aT9TmQ"
      },
      "execution_count": null,
      "outputs": []
    },
    {
      "cell_type": "markdown",
      "source": [
        "\n",
        "## 3. (red, баллы: 0.5) Выводы на основе таблицы.\n",
        "Какие выводы можно сделать на основе таблицы?\n",
        "\n",
        "   <table>\n",
        "       <thead>\n",
        "           <tr>\n",
        "               <th></th>\n",
        "               <th>mean</th>\n",
        "               <th>sd</th>\n",
        "               <th>Q1</th>\n",
        "               <th>med</th>\n",
        "               <th>Q3</th>\n",
        "               <th>min</th>\n",
        "               <th>max</th>\n",
        "           </tr>\n",
        "       </thead>\n",
        "       <tbody>\n",
        "           <tr>\n",
        "               <td>Время, проведённое посетителями на главной странице сайта (в секундах)</td>\n",
        "               <td>3478</td>\n",
        "               <td>2048</td>\n",
        "               <td>1.3</td>\n",
        "               <td>1.8</td>\n",
        "               <td>120</td>\n",
        "               <td>-98</td>\n",
        "               <td>96783</td>\n",
        "           </tr>\n",
        "       </tbody>\n",
        "   </table>"
      ],
      "metadata": {
        "id": "bqukRiX08-8Q"
      }
    },
    {
      "cell_type": "markdown",
      "source": [
        "**Решение**"
      ],
      "metadata": {
        "id": "Z1NDONAN9UGR"
      }
    },
    {
      "cell_type": "code",
      "source": [
        "# Твоё решение тут"
      ],
      "metadata": {
        "id": "mAwNBcg29UGS"
      },
      "execution_count": null,
      "outputs": []
    },
    {
      "cell_type": "markdown",
      "source": [
        "# Задача 9. Продумай подход к очистке данных"
      ],
      "metadata": {
        "id": "8YwnyeqDQ3U4"
      }
    },
    {
      "cell_type": "markdown",
      "source": [
        "Мы хотим проанализировать суммы заказов клиентов из Москвы и Ростова-на-Дону. Все денежные суммы измеряются в рублях. Есть [датасет](https://raw.githubusercontent.com/zalig/cu-datasets/main/01_dirty_five_orders.csv):\n",
        "\n",
        "<table>\n",
        "    <thead>\n",
        "        <tr>\n",
        "            <th>City</th>\n",
        "            <th>Age</th>\n",
        "            <th>Orders</th>\n",
        "            <th>OrdersSum</th>\n",
        "            <th>OrdersCount</th>\n",
        "            <th>Comments</th>\n",
        "        </tr>\n",
        "    </thead>\n",
        "    <tbody>\n",
        "        <tr>\n",
        "            <td>Moscow</td>\n",
        "            <td>23</td>\n",
        "            <td>500,800,200,1200</td>\n",
        "            <td>2700</td>\n",
        "            <td>4</td>\n",
        "            <td></td>\n",
        "        </tr>\n",
        "        <tr>\n",
        "            <td>MOSCOW</td>\n",
        "            <td></td>\n",
        "            <td>3000</td>\n",
        "            <td>3000</td>\n",
        "            <td>1</td>\n",
        "            <td>Доп. заказ на 1000 руб.</td>\n",
        "        </tr>\n",
        "        <tr>\n",
        "            <td>Rostov-on-Don</td>\n",
        "            <td>22</td>\n",
        "            <td>-23482934,300,200</td>\n",
        "            <td>-23482434</td>\n",
        "            <td>3</td>\n",
        "            <td></td>\n",
        "        </tr>\n",
        "        <tr>\n",
        "            <td>RostovOnDon</td>\n",
        "            <td>-234</td>\n",
        "            <td>12342134,23423,23493</td>\n",
        "            <td>93457</td>\n",
        "            <td>-324</td>\n",
        "            <td></td>\n",
        "        </tr>\n",
        "        <tr>\n",
        "            <td>Tver</td>\n",
        "            <td>41</td>\n",
        "            <td>200,300,100</td>\n",
        "            <td>1</td>\n",
        "            <td>3</td>\n",
        "            <td>Доп. заказ на 500 руб.</td>\n",
        "        </tr>\n",
        "    </tbody>\n",
        "</table>\n",
        "\n",
        "(red) Как подойти к очистке этого датасета? Составь таблицу с итоговой версией датасета после очистки.\n"
      ],
      "metadata": {
        "id": "U_Q5QUef-Ff8"
      }
    },
    {
      "cell_type": "markdown",
      "source": [
        "## (red, баллы: 1) Очистка датасета."
      ],
      "metadata": {
        "id": "2L-q44qAfSWE"
      }
    },
    {
      "cell_type": "markdown",
      "source": [
        "**Решение**"
      ],
      "metadata": {
        "id": "pmDSzAYqfZY9"
      }
    },
    {
      "cell_type": "code",
      "source": [
        "# Твоё решение тут"
      ],
      "metadata": {
        "id": "DqooTcEcfZZD"
      },
      "execution_count": null,
      "outputs": []
    },
    {
      "cell_type": "markdown",
      "source": [
        "# Задача 10. Установи связь между статистиками датасета и его частей"
      ],
      "metadata": {
        "id": "KOsM42eXQ4JL"
      }
    },
    {
      "cell_type": "markdown",
      "source": [
        "Есть 300 наблюдений. По первым 100 наблюдениям найдены среднее $mean_{1}=40$, $sd_{1}=10$. По последним 200 наблюдениям найдены те же описательные статистики: $mean_{2}=90$, $sd_{2}=12$. Найди для всех 300 чисел, если это возможно:\n",
        "\n",
        "1. (black, баллы: 0.3) Среднее.\n",
        "2. (black, баллы: 0.7) Смещённое стандартное отклонение.\n",
        "\n",
        "Подсказка: воспользуйся утверждением: $\\sum(X_{i}-\\overline{X})^{2}=\\sum X_{i}^{2}-n\\cdot\\overline{X}^{2}$.\n"
      ],
      "metadata": {
        "id": "MecQcVWn_Upe"
      }
    },
    {
      "cell_type": "markdown",
      "source": [
        "## 1. (black, баллы: 0.3) Среднее."
      ],
      "metadata": {
        "id": "WXbbtFhW_smZ"
      }
    },
    {
      "cell_type": "markdown",
      "source": [
        "**Решение**"
      ],
      "metadata": {
        "id": "jFqFQs1zH6bT"
      }
    },
    {
      "cell_type": "markdown",
      "source": [
        "## 2. (black, баллы: 0.7) Смещённое стандартное отклонение.\n",
        "\n",
        "   Подсказка: воспользуйся утверждением: $\\sum(X_{i}-\\overline{X})^{2}=\\sum X_{i}^{2}-n\\cdot\\overline{X}^{2}$."
      ],
      "metadata": {
        "id": "UQ6bZUyk_0Xs"
      }
    },
    {
      "cell_type": "markdown",
      "source": [
        "**Решение**"
      ],
      "metadata": {
        "id": "VcaIZoCBH6oF"
      }
    },
    {
      "cell_type": "markdown",
      "source": [
        "# Задача 11. Проведи расчёты для кейса «Экспансия»\n"
      ],
      "metadata": {
        "id": "0xaExx2FqRVj"
      }
    },
    {
      "cell_type": "markdown",
      "source": [
        "Датасет [expansion.csv](https://raw.githubusercontent.com/zalig/cu-datasets/main/expansion.csv) содержит информацию о приблизительно 2700 ритейлерах, работавших в России. Столбцы содержат данные о каждом ритейлере: специализацию, ценовые категории, регионы присутствия, страну и год основания, количество аутлетов в мире и России."
      ],
      "metadata": {
        "id": "fayG0AciwaXY"
      }
    },
    {
      "cell_type": "markdown",
      "source": [
        "1. (black, баллы: 0.5) Проведи предобработку столбца presence_russia, создай столбец\n",
        "presence_russia_combined, считая присутствие по собственным филиалам суммарно с франчайзинговыми.\n",
        "2. (black, баллы: 0.5) Создай столбец presence_region_count — число регионов присутствия.\n",
        "3. (black, баллы: 0.5) Построй таблицу, которая описывает количество аутлетов во всём датасете. Как именно описывать количество аутлетов (например, с помощью медианы, среднего, частот, максимума), определяй исходя из информативности и здравого смысла.\n",
        "4. (black, баллы: 0.5) Построй таблицу, которая описывает количество аутлетов для каждого количества регионов присутствия.\n",
        "5. (black, баллы: 0.5) Создай столбец presence_in_moscow.\n",
        "6. (black, баллы: 0.5) Разбей presence_russia_combined на 4 категории так, чтобы в каждую попало одинаковое количество данных (или приблизительно одинаковое).\n",
        "7. (black, баллы: 0.5) Построй таблицу, которая описывает присутствие в Москве аутлетов в зависимости от категории presence_russia_combined."
      ],
      "metadata": {
        "id": "hVZfjyiiqaeH"
      }
    },
    {
      "cell_type": "markdown",
      "source": [
        "## 1. (black, баллы: 0.5) Предобработка столбца presence_russia.\n",
        "Проведи предобработку столбца presence_russia, создай столбец presence_russia_combined, считая присутствие по собственным филиалам суммарно с франчайзинговыми.\n"
      ],
      "metadata": {
        "id": "SepKeCEV0drG"
      }
    },
    {
      "cell_type": "markdown",
      "source": [
        "**Решение**"
      ],
      "metadata": {
        "id": "TeR2Am1X02ng"
      }
    },
    {
      "cell_type": "code",
      "source": [
        "# Твоё решение тут"
      ],
      "metadata": {
        "id": "qpUTHldM02nh"
      },
      "execution_count": null,
      "outputs": []
    },
    {
      "cell_type": "markdown",
      "source": [
        "## 2. (black, баллы: 0.5) Создание столбца presence_region_count.\n",
        "Создай столбец presence_region_count — число регионов присутствия."
      ],
      "metadata": {
        "id": "j47EW1Sy0dvu"
      }
    },
    {
      "cell_type": "markdown",
      "source": [
        "**Решение**"
      ],
      "metadata": {
        "id": "LBswSEPF02_z"
      }
    },
    {
      "cell_type": "code",
      "source": [
        "# Твоё решение тут"
      ],
      "metadata": {
        "id": "nsHjt7n302_0"
      },
      "execution_count": null,
      "outputs": []
    },
    {
      "cell_type": "markdown",
      "source": [
        "## 3. (black, баллы: 0.5) Построение таблицы с аутлаерами.\n",
        "Построй таблицу, которая описывает количество аутлетов во всём датасете. Как именно описывать количество аутлетов (например, с помощью медианы, среднего, частот, максимума), определяй исходя из информативности и здравого смысла."
      ],
      "metadata": {
        "id": "lHNYPG6b0d5V"
      }
    },
    {
      "cell_type": "markdown",
      "source": [
        "**Решение**"
      ],
      "metadata": {
        "id": "3pvwya2K03Z8"
      }
    },
    {
      "cell_type": "code",
      "source": [
        "# Твоё решение тут"
      ],
      "metadata": {
        "id": "jJm4zGwv03Z9"
      },
      "execution_count": null,
      "outputs": []
    },
    {
      "cell_type": "markdown",
      "source": [
        "## 4. (black, баллы: 0.5) Аутлаеры в количестве регионов присутствия.\n",
        "Построй таблицу, которая описывает количество аутлетов для каждого количества регионов присутствия.\n"
      ],
      "metadata": {
        "id": "z8kykDke0eBk"
      }
    },
    {
      "cell_type": "markdown",
      "source": [
        "**Решение**"
      ],
      "metadata": {
        "id": "KiYf7kTX03yh"
      }
    },
    {
      "cell_type": "code",
      "source": [
        "# Твоё решение тут"
      ],
      "metadata": {
        "id": "sHg6LYd003yh"
      },
      "execution_count": null,
      "outputs": []
    },
    {
      "cell_type": "markdown",
      "source": [
        "## 5. (black, баллы: 0.5) Создание столбца.\n",
        "Создай столбец presence_in_moscow."
      ],
      "metadata": {
        "id": "qFXv-0fa0eJ-"
      }
    },
    {
      "cell_type": "markdown",
      "source": [
        "**Решение**"
      ],
      "metadata": {
        "id": "F_rT6GfW04K9"
      }
    },
    {
      "cell_type": "code",
      "source": [
        "# Твоё решение тут"
      ],
      "metadata": {
        "id": "y_9qhgAR04K9"
      },
      "execution_count": null,
      "outputs": []
    },
    {
      "cell_type": "markdown",
      "source": [
        "## 6. (black, баллы: 0.5) Разбиение столбца на категории.\n",
        "Разбей presence_russia_combined на 4 категории так, чтобы в каждую попало одинаковое количество данных (или приблизительно одинаковое)."
      ],
      "metadata": {
        "id": "S04qeP4p0eRV"
      }
    },
    {
      "cell_type": "markdown",
      "source": [
        "**Решение**"
      ],
      "metadata": {
        "id": "I0izLVQl04iM"
      }
    },
    {
      "cell_type": "code",
      "source": [
        "# Твоё решение тут"
      ],
      "metadata": {
        "id": "5_mHat5t04iN"
      },
      "execution_count": null,
      "outputs": []
    },
    {
      "cell_type": "markdown",
      "source": [
        "## 7. (black, баллы: 0.5) Таблица присутствия по категориям.\n",
        "Построй таблицу, которая описывает присутствие в Москве аутлетов в зависимости от категории presence_russia_combined."
      ],
      "metadata": {
        "id": "jZQNKSPy0eZi"
      }
    },
    {
      "cell_type": "markdown",
      "source": [
        "**Решение**"
      ],
      "metadata": {
        "id": "ShiPbvwJ05HP"
      }
    },
    {
      "cell_type": "code",
      "source": [
        "# Твоё решение тут"
      ],
      "metadata": {
        "id": "Yz-5zZbH05HR"
      },
      "execution_count": null,
      "outputs": []
    },
    {
      "cell_type": "markdown",
      "source": [
        "# Задача 12. Предложи направления исследования для кейса «Экспансия»"
      ],
      "metadata": {
        "id": "RnxiP5XtBNLk"
      }
    },
    {
      "cell_type": "markdown",
      "source": [
        "\n",
        "В кейсе «Экспансия» нужно будет взять датасет [expansion.csv](https://raw.githubusercontent.com/zalig/cu-datasets/main/expansion.csv) из предыдущей задачи и сделать слайды о том, как выглядит экспансия ритейлеров в регионы: как по мере увеличения количества франчайзинговых точек ритейлеры выбирают регионы для их открытия. Возможно, стратегия экспансии зависит от специализации ритейлера.\n",
        "\n",
        "(black, баллы: 0.8) Предложи способ исследования экспансии:\n",
        "\n",
        "- Придумай, какие описательные статистики могли бы помочь решить кейс.\n",
        "- Придумай, в какие таблицы эти статистики можно было бы оформить.\n",
        "- Придумай хотя бы 2 таблицы.\n",
        "  \n",
        "  Опиши таблицы и укажи, что будет в строках и столбцах и какие статистики будут в ячейках. Если используешь относительную частоту, указывай относительно чего найдена эта частота: что в числителе, а что в знаменателе.\n",
        "\n",
        "  Опиши, как таблица поможет ответить на вопрос об экспансии, когда она будет вычислена и представлена на слайде презентации.\n",
        "\n",
        "Никаких расчётов проводить не требуется... пока."
      ],
      "metadata": {
        "id": "S8BuVTUzBRee"
      }
    },
    {
      "cell_type": "markdown",
      "source": [
        "**Решение**"
      ],
      "metadata": {
        "id": "AXHg95zpDROM"
      }
    },
    {
      "cell_type": "code",
      "source": [
        "# Твоё решение тут"
      ],
      "metadata": {
        "id": "f9Xv8iFdDROS"
      },
      "execution_count": null,
      "outputs": []
    },
    {
      "cell_type": "markdown",
      "source": [
        "# Задача 13. Установи связь между стандартным отклонением и интервалом значений"
      ],
      "metadata": {
        "id": "dA0zVoIrBlsE"
      }
    },
    {
      "cell_type": "markdown",
      "source": [
        "Эта задача покажет связь частот со статистиками, основанными на среднем (среднее, среднее абсолютное отклонение, смещённое стандартное отклонение).\n",
        "\n",
        "Все $N$ чисел в столбце данных $X$ неотрицательные.\n",
        "\n",
        "1. (black, баллы: 0.5) Среднее равно 10. Докажи, что относительная частота события $X \\geqslant 20$ всегда не превосходит $1/2$, какими бы ни были $X$.\n",
        "\n",
        "2. (black, баллы: 0.5) Среднее равно 10. Придумай набор чисел для $X$, чтобы относительная частота $X \\geqslant 20$ равнялась $1/2$.\n",
        "\n",
        "3. (black, баллы: 0.5) Докажи, что относительная частота события $X \\geqslant c \\cdot mean(X)$ всегда не превосходит $1/c$, при $c > 1$.\n",
        "\n",
        "4. (black, баллы: 0.5) Среднее равно 10. Среднее абсолютное отклонение равно 2. Докажи, что относительная частота события $4 < X < 16$ всегда не менее $2/3$, какими бы ни были $X$.\n",
        "\n",
        "5. (black, баллы: 0.5) Среднее равно 10. Среднее абсолютное отклонение равно 2. Придумай набор чисел для $X$, чтобы относительная частота $4 < X < 16$ равнялась $2/3$.\n",
        "\n",
        "6. (black, баллы: 0.5) Докажи, что относительная частота события $mean(X) - c \\cdot MAD(X) < X < mean(X) + c \\cdot MAD(X)$ не менее $1 - 1/c$, при $c > 1$.\n",
        "\n",
        "   Подсказка: перейди от $X$ к $Y = |X - mean(X)|$ и заметьте, что $MAD(X) = mean(Y)$.\n",
        "\n",
        "7. (black, баллы: 0.5) Твоя знакомая рассказала «правило трёх сигм»: относительная частота события $mean(X) - 3 \\cdot SD(X) < X < mean(X) + 3 \\cdot SD(X)$ не меньше $0.997$. Ты хочешь произвести впечатление и опровергнуть это утверждение наглядно и убедительно. Приведи пример столбца данных $X$, для которого $mean(X) = 10$, $SD(X) = 3$, и при этом событие $10 - 3 \\cdot 3 < X < 10 + 3 \\cdot 3$ происходит с частотой не больше $0.9$.\n",
        "\n",
        "8. (black, баллы: 0.5) Докажи, что относительная частота события $mean(X) - 3 \\cdot SD(X) < X < mean(X) + 3 \\cdot SD(X)$ всегда не менее $8/9$, какими бы ни были данные в $X$.\n",
        "\n",
        "9. (black, баллы: 0.5) Что можно утверждать наверняка про относительную частоту события $mean(X) - c \\cdot SD(X) < X < mean(X) + c \\cdot SD(X)$ при $c > 0$?\n"
      ],
      "metadata": {
        "id": "7eRhXOMGBsNQ"
      }
    },
    {
      "cell_type": "markdown",
      "source": [
        "## 1. (black, баллы: 0.5) Относительная частота не превосходит значение.\n",
        "Среднее равно 10. Докажи, что относительная частота события $X \\geqslant 20$ всегда не превосходит $1/2$, какими бы ни были $X$."
      ],
      "metadata": {
        "id": "UPF9Z0vACoyB"
      }
    },
    {
      "cell_type": "markdown",
      "source": [
        "**Решение**"
      ],
      "metadata": {
        "id": "XS0hkRrdDSTr"
      }
    },
    {
      "cell_type": "code",
      "source": [
        "# Твоё решение тут"
      ],
      "metadata": {
        "id": "9DX3e-ajDSTx"
      },
      "execution_count": null,
      "outputs": []
    },
    {
      "cell_type": "markdown",
      "source": [
        "## 2. (black, баллы: 0.5) Относительная частота равняется числу.\n",
        "Среднее равно 10. Придумай набор чисел для $X$, чтобы относительная частота $X \\geqslant 20$ равнялась $1/2$."
      ],
      "metadata": {
        "id": "vPrUqUZ3Co0a"
      }
    },
    {
      "cell_type": "markdown",
      "source": [
        "**Решение**"
      ],
      "metadata": {
        "id": "c1p4z7mNDS63"
      }
    },
    {
      "cell_type": "code",
      "source": [
        "# Твоё решение тут"
      ],
      "metadata": {
        "id": "mwabOqjEDS63"
      },
      "execution_count": null,
      "outputs": []
    },
    {
      "cell_type": "markdown",
      "source": [
        "## 3. (black, баллы: 0.5) Относительная частота не превосходит параметр.\n",
        "Докажи, что относительная частота события $X \\geqslant c \\cdot mean(X)$ всегда не превосходит $1/c$, при $c > 1$."
      ],
      "metadata": {
        "id": "vcW5HkAjCo27"
      }
    },
    {
      "cell_type": "markdown",
      "source": [
        "**Решение**"
      ],
      "metadata": {
        "id": "D7qh69Y6DTkA"
      }
    },
    {
      "cell_type": "code",
      "source": [
        "# Твоё решение тут"
      ],
      "metadata": {
        "id": "kR5E8A-vDTkH"
      },
      "execution_count": null,
      "outputs": []
    },
    {
      "cell_type": "markdown",
      "source": [
        "## 4. (black, баллы: 0.5) Относительная частота не превосходит значение (значения события в иинтервале).\n",
        "Среднее равно 10. Среднее абсолютное отклонение равно 2. Докажи, что относительная частота события $4 < X < 16$ всегда не менее $2/3$, какими бы ни были $X$."
      ],
      "metadata": {
        "id": "aiS0rIvVCo5Y"
      }
    },
    {
      "cell_type": "markdown",
      "source": [
        "**Решение**"
      ],
      "metadata": {
        "id": "JwE8PjEmDT9Z"
      }
    },
    {
      "cell_type": "code",
      "source": [
        "# Твоё решение тут"
      ],
      "metadata": {
        "id": "TmVTYNt6DT9Z"
      },
      "execution_count": null,
      "outputs": []
    },
    {
      "cell_type": "markdown",
      "source": [
        "## 5. (black, баллы: 0.5) Относительная частота не превосходит значение (значения события в интервале).\n",
        "Среднее равно 10. Среднее абсолютное отклонение равно 2. Придумай набор чисел для $X$, чтобы относительная частота $4 < X < 16$ равнялась $2/3$."
      ],
      "metadata": {
        "id": "UPvZGcVhCo7-"
      }
    },
    {
      "cell_type": "markdown",
      "source": [
        "**Решение**"
      ],
      "metadata": {
        "id": "mAdNJJgaDUWb"
      }
    },
    {
      "cell_type": "code",
      "source": [
        "# Твоё решение тут"
      ],
      "metadata": {
        "id": "gJr2XjfIDUWb"
      },
      "execution_count": null,
      "outputs": []
    },
    {
      "cell_type": "markdown",
      "source": [
        "## 6. (black, баллы: 0.5) Относительная частота не равна значению (значения события в интервале).\n",
        "Докажи, что относительная частота события $mean(X) - c \\cdot MAD(X) < X < mean(X) + c \\cdot MAD(X)$ не менее $1 - 1/c$ при $c > 1$.\n",
        "\n",
        "Подсказка: перейди от $X$ к $Y = |X - mean(X)|$ и заметь, что $MAD(X) = mean(Y)$."
      ],
      "metadata": {
        "id": "z_SnyVMvCo-q"
      }
    },
    {
      "cell_type": "markdown",
      "source": [
        "**Решение**"
      ],
      "metadata": {
        "id": "esiCKOlQDUwG"
      }
    },
    {
      "cell_type": "code",
      "source": [
        "# Твоё решение тут"
      ],
      "metadata": {
        "id": "e3ewuO1IDUwH"
      },
      "execution_count": null,
      "outputs": []
    },
    {
      "cell_type": "markdown",
      "source": [
        "## 7. (black, баллы: 0.5) Опровержение «правила трёх сигм» с помощью примера данных\n",
        "Твоя знакомая рассказала «правило трёх сигм»: относительная частота события $mean(X) - 3 \\cdot SD(X) < X < mean(X) + 3 \\cdot SD(X)$ не меньше $0.997$.\n",
        "\n",
        "Ты хочешь произвести впечатление и опровергнуть это утверждение наглядно и убедительно. Приведи пример столбца данных $X$, для которого $mean(X) = 10$, $SD(X) = 3$, и при этом событие $10 - 3 \\cdot 3 < X < 10 + 3 \\cdot 3$ происходит с частотой не больше $0.9$."
      ],
      "metadata": {
        "id": "1hj3SmlJCpBu"
      }
    },
    {
      "cell_type": "markdown",
      "source": [
        "**Решение**"
      ],
      "metadata": {
        "id": "3uGblaBLDVJ0"
      }
    },
    {
      "cell_type": "code",
      "source": [
        "# Твоё решение тут"
      ],
      "metadata": {
        "id": "m3_TV989DVJ0"
      },
      "execution_count": null,
      "outputs": []
    },
    {
      "cell_type": "markdown",
      "source": [
        "## 8. (black, баллы: 0.5) Относительная частота и «правило трёх сигм».\n",
        "Докажи, что относительная частота события $mean(X) - 3 \\cdot SD(X) < X < mean(X) + 3 \\cdot SD(X)$ всегда не менее $8/9$, какими бы ни были данные в $X$."
      ],
      "metadata": {
        "id": "8XI1XOL-CpEz"
      }
    },
    {
      "cell_type": "markdown",
      "source": [
        "**Решение**"
      ],
      "metadata": {
        "id": "ycbbXDgADVnW"
      }
    },
    {
      "cell_type": "code",
      "source": [
        "# Твоё решение тут"
      ],
      "metadata": {
        "id": "_EG_AE87DVnX"
      },
      "execution_count": null,
      "outputs": []
    },
    {
      "cell_type": "markdown",
      "source": [
        "## 9. (black, баллы: 0.5) Утверждение про относительную частоту.\n",
        "Что можно утверждать наверняка про относительную частоту события $mean(X) - c \\cdot SD(X) < X < mean(X) + c \\cdot SD(X)$ при $c > 0$?"
      ],
      "metadata": {
        "id": "ouiq4WeoDKTP"
      }
    },
    {
      "cell_type": "markdown",
      "source": [
        "**Решение**"
      ],
      "metadata": {
        "id": "EA1qJc_hDV9_"
      }
    },
    {
      "cell_type": "code",
      "source": [
        "# Твоё решение тут"
      ],
      "metadata": {
        "id": "2YTaWtnQDV9_"
      },
      "execution_count": null,
      "outputs": []
    }
  ]
}