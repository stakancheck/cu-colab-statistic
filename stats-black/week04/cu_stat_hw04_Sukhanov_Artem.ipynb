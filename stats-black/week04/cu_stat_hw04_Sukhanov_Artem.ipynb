{
 "nbformat": 4,
 "nbformat_minor": 0,
 "metadata": {
  "colab": {
   "provenance": [],
   "toc_visible": true
  },
  "kernelspec": {
   "name": "python3",
   "display_name": "Python 3 (ipykernel)",
   "language": "python"
  },
  "language_info": {
   "name": "python"
  }
 },
 "cells": [
  {
   "cell_type": "markdown",
   "source": [
    "# Задача 1. Приведи примеры про выборку и генеральную совокупность"
   ],
   "metadata": {
    "id": "M_oqgF9W8ALy"
   }
  },
  {
   "cell_type": "markdown",
   "source": [
    "## 1. (blue, баллы: 0.5) Приведи жизненный пример генеральной совокупности и выборки из этой генеральной совокупности. Словесного описания достаточно, конкретные числа приводить необязательно."
   ],
   "metadata": {
    "id": "svuyvucg7-GV"
   }
  },
  {
   "cell_type": "markdown",
   "source": [
    "**Решение**\n",
    "\n",
    "Генеральная совокупность - это все студенты, которые учатся в университете. Выборка - это студенты, которые учатся на направлении разработка."
   ],
   "metadata": {
    "id": "R2WnKxjF0S9H"
   }
  },
  {
   "cell_type": "markdown",
   "source": [
    "## 2. (blue, баллы: 0.5) Приведи пример генеральной совокупности и выборки из неё, используя математический аппарат. Пусть в твоём примере генеральной совокупности будет не больше пяти объектов и не больше двух характеристик у объекта."
   ],
   "metadata": {
    "id": "k72fgCrt8Def"
   }
  },
  {
   "cell_type": "markdown",
   "source": [
    "**Решение**\n",
    "\n",
    "Генеральная совокупность – все натуральные числа меньше 6. Выборка – нечетные натуральные числа меньше 6, числа 1, 3, 5."
   ],
   "metadata": {
    "id": "OZR043En01Qd"
   }
  },
  {
   "cell_type": "markdown",
   "source": [
    "## 3. (blue, баллы: 0.5) Ниже представлена генеральная совокупность трёх людей.\n",
    "\n",
    "  ![image.png](data:image/png;base64,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)\n",
    "      \n",
    "- Приведи пример двух разных выборок размера 2.\n",
    "- Приведи пример одной выборки с возвращением размера 4.\n"
   ],
   "metadata": {
    "id": "rXMOxcNf8FJt"
   }
  },
  {
   "cell_type": "markdown",
   "source": [
    "**Решение**\n",
    "\n",
    "Выборок размера 2:\n",
    "1. Авторы с количеством подписчиков больше 300\n",
    "2. Авторы с количеством подписчиков меньше 350\n",
    "\n",
    "Выборки с возращением размера 4:\n",
    "1. Авторы с количеством подписчиков меньше 350 и авторы с больше 300\n",
    "2. Авторы с количеством подписчиков с длиной имени больше 5 и авторы с количеством подписчиков больше 300."
   ],
   "metadata": {
    "id": "P_vb4Vfl03RI"
   }
  },
  {
   "cell_type": "markdown",
   "source": [
    "## 4. (blue, баллы: 0.5) Ниже представлена генеральная совокупность большого числа людей.\n",
    "\n",
    "  ![image.png](data:image/png;base64,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)\n",
    "\n",
    "- Приведи пример выборки размера 3, напиши значения Gender выбранных людей.\n",
    "- Выборка была с возвращением или без? Почему в этой задаче важно или неважно, была ли выборка с возвращением?"
   ],
   "metadata": {
    "id": "uCk5a_pT90c5"
   }
  },
  {
   "cell_type": "markdown",
   "source": "**Решение**",
   "metadata": {
    "id": "gOuxDJgm030h"
   }
  },
  {
   "cell_type": "markdown",
   "source": [
    "## 5. (blue, баллы: 0.5) Для показателя $X$ дана выборка $\\ 7,\\ 2$. Приведи пример генеральной совокупности, из которой эта выборка могла быть получена."
   ],
   "metadata": {
    "id": "K1nnB1f-_I_P"
   }
  },
  {
   "cell_type": "markdown",
   "source": [
    "**Решение**"
   ],
   "metadata": {
    "id": "nTxafPh004HJ"
   }
  },
  {
   "cell_type": "markdown",
   "source": [
    "## 6. (blue, баллы: 0.5) Приведи пример наблюдения из представленной ниже генеральной совокупности объектов с характеристикой $X$.\n",
    "\n",
    "  ![image.png](data:image/png;base64,iVBORw0KGgoAAAANSUhEUgAAACQAAACmCAYAAACyeC1LAAAEgElEQVR4Ae2cwWvbZhiH/a98J4sGBj0ECm0Da5VDRyGwHGsQzihtaalPpQcvKcYLhDUbpZRsMErHKgJhZtCF0vhQrB5iFYqTiwtbHEqLDzMiGJcMYujhN2TZWHakvHL7WVK6NyCs6LXRo+f76bMiv3ECMftJxIwHDESNCBtiQ5QBqs4Z+p8aalewrAoIIZD+3XJJsLCWdrZP/1hB21XxW5WWoXZ5EVNCQEwsoPSvs7t2aQGKve3sIsrdbX4gve3SgIA2St8qHUvTK1XgQxUPOtYULJSCuHGQJAIBaG4gM2FbyuCXh5mOHeXmBt73Dj/Ao1wgANYfaWeYOsOXxpN/AlC4niIdCO83kLFh7OXKE7gj7tqv76pkoDbK+SkHpgM1Wn5sSqlA7a1lTNsgZxdR+rN7hrnOOl8troI8INdZlXlqx7g/B03ly4HmIKmGar/OOkP19W+ofege8usHjjExjcVXwU59OYbqa0h7ZqY/Nwl1GZUATHKAXBn41FUGogyyITZEGaDqnCE2RBmg6pwhNkQZoOqJnZ0dxGlJHBwcIE4LA1GjwYbYEGWAqnOG2BBlgKpzhj5jQ/st1DZ15OZuoPDW+wrB2taRvaTii+6tmcnZLPRta6SrCTpDrRrM1Ry0U849aCE06B5Arc0cVKHgq+s/ofDcgPG8gKVZ+zUqll62AkORQGbevu88CS2vw1zLwhtoC/fOCIirBVju66u9IrL2fevr64Pb3c8ZWieBrL+rsPa7Q7SZ8wZ6q0MTAtpqfchEHbomIDQd9aEd+4WbBBp4oR+Q786qeHhRQMmbQ6DeGbT3NVagVjELRai4t+0PMHDAYwXa1aFNCKjfm2j5GjwMOh5DeyZy5wWUOR21Xv4CQskH6sFcWIK5d9jA8BAN/y4XaL8GfU6BOJ/7KBi5od6vozivQpy8jMLu6GZ6piQZasHMqxBiEjceFWF0Zmp7tu4v5m6w2VoSkIlc5/2r+zmZx/rhSdPb4mhAAc+Unv6PeWQgyhobYkOUAarOGWJDlAGqzhliQ5QBqp5oNpuI08JA1GiwITZEGaDqnCE2RBmg6pyh6Ay9KeDaCfvmwzyMEd7AxzRkDazfSnabdGMA1HjxHc6JFFKpOBiyyrj7pcDMSgXFOzEAqqzMQJyeh9Fowogc6K9VpE4kcXu90bkKjRjoHQpXk0hqq6h1z6pIgRrrt5EUM/h5q3+NHh1Qw8D8aYFzP5QH/mCIDKj2OOX6xwCfO7F3jAFYvxlbysTYqBooPiseWu5ftuG+wX279updeEB+RxvZkB0bID/Qo7ZLydBROxi1xkCUMTbEhigDVJ0zxIYoA1SdM3T8DFF31sOu86dBlHE2xIYoA1SdM8SGKANUnTMUqqFwOs4DduaF1nFOKXbqIXacBwKKrOM84PD1D2LcHecjAo2/43wUoFA6zoMC9Zq8x95xHgSoBxNKxzkFFHrH+VFAkXSc+wJF1XHuC8Qd59798/0ZWV6dL9Aoq2yIDVEGqDpniA1RBqg6Z+j4GaK+7SbsOn9DE2U8dob+A7IQ80GdTYhWAAAAAElFTkSuQmCC)"
   ],
   "metadata": {
    "id": "xfIdC4Uq_LVF"
   }
  },
  {
   "cell_type": "markdown",
   "source": [
    "**Решение**"
   ],
   "metadata": {
    "id": "CWa39UbV05Ap"
   }
  },
  {
   "cell_type": "markdown",
   "source": [
    "## 7. (blue, баллы: 0.5) Приведи пример трёх разных наблюдений из генеральной совокупности, если известна выборка из нее $X:\\ 7,\\ 2$.  \n",
    "\n",
    "  Укажи и саму генеральную совокупность."
   ],
   "metadata": {
    "id": "u4SKm2Mx_iox"
   }
  },
  {
   "cell_type": "markdown",
   "source": [
    "**Решение**"
   ],
   "metadata": {
    "id": "sMiX6M0405aR"
   }
  },
  {
   "cell_type": "markdown",
   "source": [
    "# Задача 2. Определи, идёт речь о данных или о модели\n",
    "\n"
   ],
   "metadata": {
    "id": "nurOFE7FsgUS"
   }
  },
  {
   "cell_type": "markdown",
   "source": [
    "## (blue, баллы: 1) Какие фразы ниже — это рассуждения о выборке, а какие о генеральной совокупности/модели и почему?\n",
    "\n",
    "Подсказка: можно вспомнить из лекций, за что отвечают понятия «выборка» и «генеральная совокупность». Выборка — «какие наблюдения мы видели», генеральная совокупность/модель — «наше представление о том, какое наблюдение мы могли бы увидеть».\n",
    "\n",
    "1. Иван при встрече почти всегда пожимает руку, но, в целом, может и без рукопожатия здороваться.\n",
    "\n",
    "2. Из последних 12 встреч с Николаем 9 начинались с рукопожатия, а 3 — нет.\n",
    "\n",
    "3. Анна никогда в стрессе не ведёт себя агрессивно, обычно спокойна, изредка нервничает.\n",
    "\n",
    "4. Дважды видел Марину в стрессовой ситуации, один раз она расплакалась, а второй вела себя относительно спокойно.\n",
    "\n",
    "5. Я думаю, что у 70% жителей страны сейчас есть смартфон, у 20% кнопочный телефон, а у 10% нет телефона вообще.\n",
    "\n",
    "6. Среди 189 опрошенных 74.1% сказали, что у них смартфон, 13.2% — кнопочный телефон, 3.% — нет телефона, а остальные отказались отвечать.\n",
    "\n",
    "7. Ваш коллега считает, что Антон сильный кандидат на эту должность, а Борис нет.\n",
    "\n",
    "8. Антон на собеседовании решил 7 задач из 10.\n"
   ],
   "metadata": {
    "id": "hrP3zVKkIbdg"
   }
  },
  {
   "cell_type": "markdown",
   "source": [
    "**Решение**\n",
    "\n"
   ],
   "metadata": {
    "id": "7yHp8i2c07dn"
   }
  },
  {
   "cell_type": "markdown",
   "source": [
    "# Задача 3. Когда выборка мало что говорит о генеральной совокупности\n",
    "\n"
   ],
   "metadata": {
    "id": "GjrtuA2XsqDD"
   }
  },
  {
   "cell_type": "markdown",
   "source": [
    "## (blue, баллы: 1) Ниже описаны способы получения выборки из генеральной совокупности.\n",
    "\n",
    "В каких из них информация в выборке мало что расскажет о генеральной совокупности и почему?\n",
    "\n",
    " 1. Выбрать 10 лучших учеников из всех учеников школы. Интересующая характеристика — знания.\n",
    "\n",
    " 2. Выбрать студентов, которые не пропустили ни одной лекции, из всех студентов на курсе. Интересующая характеристика — понятность лекций для студента.\n",
    "\n",
    " 3. Выбрать клиентов, больше всего пользующихся приложением, из всех пользователей приложения. Интересующая характеристика — самая полезная фича приложения для клиентов."
   ],
   "metadata": {
    "id": "-hBNsVHKIeAZ"
   }
  },
  {
   "cell_type": "markdown",
   "source": [
    "**Решение**\n",
    "\n",
    "1. Выборка не будет репрезентативной, так как в ней будут только лучшие ученики, а остальные не попадут в выборку. Поэтому нельзя будет сделать выводы о знаниях всех учеников школы.\n",
    "2. Выборка не будет репрезентативной, так как в ней будут только студенты, которые не пропустили ни одной лекции, а остальные не попадут в выборку. Поэтому нельзя будет сделать выводы о понятности лекций для всех студентов на курсе.\n",
    "3. Выборка не будет репрезентативной, так как в ней будут только клиенты, больше всего пользующиеся приложением, а остальные не попадут в выборку. Поэтому нельзя будет сделать выводы о самой полезной фиче приложения для всех пользователей приложения."
   ],
   "metadata": {
    "id": "jwCo8u4209bZ"
   }
  },
  {
   "cell_type": "markdown",
   "source": [
    "# Задача 4. Сгенерируй выборки в Python"
   ],
   "metadata": {
    "id": "nac7wzKDuZij"
   }
  },
  {
   "cell_type": "markdown",
   "source": [
    "В этой задаче нужно выяснить, как работают разные способы получения выборок из генеральной совокупности на примере одной конкретной генеральной совокупности.\n",
    "\n",
    "Генеральная совокупность состоит из четырёх человек:\n",
    "\n",
    " - уникальный идентификатор человека;\n",
    " - сколько фильмов человек смотрит в неделю со слов самого человека."
   ],
   "metadata": {
    "id": "7TVaXn9xAEbn"
   }
  },
  {
   "cell_type": "code",
   "source": [
    "import pandas as pd\n",
    "df = pd.DataFrame({'Name': [\"Anna\", \"Boris\", \"Claudia\", \"Denis\"], \"Movies Watched Weekly\": [1, 2,0,1]})\n",
    "df"
   ],
   "metadata": {
    "colab": {
     "base_uri": "https://localhost:8080/",
     "height": 175
    },
    "id": "xEnyXgp6BnUM",
    "outputId": "2b54c820-61fb-4aff-e407-3186ede6c9d1",
    "ExecuteTime": {
     "end_time": "2024-10-10T17:14:25.377634Z",
     "start_time": "2024-10-10T17:14:25.117580Z"
    }
   },
   "outputs": [
    {
     "data": {
      "text/plain": [
       "      Name  Movies Watched Weekly\n",
       "0     Anna                      1\n",
       "1    Boris                      2\n",
       "2  Claudia                      0\n",
       "3    Denis                      1"
      ],
      "text/html": [
       "<div>\n",
       "<style scoped>\n",
       "    .dataframe tbody tr th:only-of-type {\n",
       "        vertical-align: middle;\n",
       "    }\n",
       "\n",
       "    .dataframe tbody tr th {\n",
       "        vertical-align: top;\n",
       "    }\n",
       "\n",
       "    .dataframe thead th {\n",
       "        text-align: right;\n",
       "    }\n",
       "</style>\n",
       "<table border=\"1\" class=\"dataframe\">\n",
       "  <thead>\n",
       "    <tr style=\"text-align: right;\">\n",
       "      <th></th>\n",
       "      <th>Name</th>\n",
       "      <th>Movies Watched Weekly</th>\n",
       "    </tr>\n",
       "  </thead>\n",
       "  <tbody>\n",
       "    <tr>\n",
       "      <th>0</th>\n",
       "      <td>Anna</td>\n",
       "      <td>1</td>\n",
       "    </tr>\n",
       "    <tr>\n",
       "      <th>1</th>\n",
       "      <td>Boris</td>\n",
       "      <td>2</td>\n",
       "    </tr>\n",
       "    <tr>\n",
       "      <th>2</th>\n",
       "      <td>Claudia</td>\n",
       "      <td>0</td>\n",
       "    </tr>\n",
       "    <tr>\n",
       "      <th>3</th>\n",
       "      <td>Denis</td>\n",
       "      <td>1</td>\n",
       "    </tr>\n",
       "  </tbody>\n",
       "</table>\n",
       "</div>"
      ]
     },
     "execution_count": 1,
     "metadata": {},
     "output_type": "execute_result"
    }
   ],
   "execution_count": 1
  },
  {
   "cell_type": "markdown",
   "source": [
    "Первый способ получения выборки — всегда выбирать первых двух людей.\n",
    "\n",
    "## 1. (blue, баллы: 0.5) Получи выборку. Посчитай среднее количество просматриваемых фильмов среди выбранных людей и среди всех людей.  \n",
    "\n",
    "По-научному, они называются так: «среднее в выборке» и «среднее в генеральной совокупности».\n",
    " - Отличаются ли они?\n",
    " - Среднее среди выбранных людей показывает значение больше или меньше, чем среди всех?"
   ],
   "metadata": {
    "id": "7eLoNmU-ByWo"
   }
  },
  {
   "metadata": {
    "ExecuteTime": {
     "end_time": "2024-10-10T17:14:57.819917Z",
     "start_time": "2024-10-10T17:14:57.816737Z"
    }
   },
   "cell_type": "code",
   "source": [
    "print(df['Movies Watched Weekly'].mean())\n",
    "print(df['Movies Watched Weekly'].head(2).mean())"
   ],
   "outputs": [
    {
     "name": "stdout",
     "output_type": "stream",
     "text": [
      "1.0\n",
      "1.5\n"
     ]
    }
   ],
   "execution_count": 3
  },
  {
   "cell_type": "markdown",
   "source": [
    "**Решение**\n",
    "\n",
    "1. Отличаются.\n",
    "2. Среднее среди выбранных людей показывает значение больше, чем среди всех."
   ],
   "metadata": {
    "id": "xERQTdn41eIC"
   }
  },
  {
   "cell_type": "markdown",
   "source": [
    "## 2. (blue, баллы: 1.5) Повтори процесс получения выборки 1000 раз.\n",
    " - Верно ли, что среднее среди выбранных людей иногда показывало значение больше, чем среди всех, а иногда меньше?\n",
    " - Можно ли сказать, что среднее среди выбранных систематически стабильно больше, чем среднее среди всех? Для наглядности можно построить столбчатую диаграмму (Barchart) среднего по выборкам."
   ],
   "metadata": {
    "id": "mfpS6fed1QuB"
   }
  },
  {
   "metadata": {
    "ExecuteTime": {
     "end_time": "2024-10-10T17:21:02.054292Z",
     "start_time": "2024-10-10T17:21:01.992914Z"
    }
   },
   "cell_type": "code",
   "source": [
    "import matplotlib.pyplot as plt\n",
    "\n",
    "means = []\n",
    "for i in range(1000):\n",
    "    sample = df['Movies Watched Weekly'].head(2)\n",
    "    means.append(sample.mean())\n",
    "plt.hist(means, bins=30)\n",
    "plt.show()"
   ],
   "outputs": [
    {
     "data": {
      "text/plain": [
       "<Figure size 640x480 with 1 Axes>"
      ],
      "image/png": "[encoded data removed]"
     },
     "metadata": {},
     "output_type": "display_data"
    }
   ],
   "execution_count": 6
  },
  {
   "cell_type": "markdown",
   "source": [
    "**Решение**\n",
    "\n",
    "1. Нет, неверно.\n",
    "2. Можно сказать, что среднее среди выбранных систематически стабильно больше, чем среднее среди всех."
   ],
   "metadata": {
    "id": "2uZvID1W1eVD"
   }
  },
  {
   "cell_type": "markdown",
   "source": [
    "## 3. (red, баллы: 0.5) В этом пункте рассмотри следующую ситуацию.\n",
    "\n",
    "  - В генеральной совокупности известны лишь значения в столбце PersonId, а значения в столбце Movies Watched Weekly неизвестны.\n",
    "  - В выборке известно всё.\n",
    "  - Способ получения выборки — всегда выбирать первых двух людей.\n",
    "  - Анатолий говорит, что среднее значение числа просмотров в выборке — это приближение для среднего значения в генеральной совокупности.\n",
    "  \n",
    "  Ответь на вопросы.\n",
    "\n",
    "1. Может ли приближение ошибаться? Завышать правильный ответ? Занижать правильный ответ?\n",
    "2. Как будет ошибка приближения меняться при многократном получении выборок из данной генеральной совокупности указанным способом? Будет ли приближение то завышать, то занижать?\n",
    "3. Доверяешь ли ты подобному способу приближать среднее генеральной совокупности: взять в выборку первые несколько объектов и посчитать по ним среднее?\n"
   ],
   "metadata": {
    "id": "bMtsCx3n1Tag"
   }
  },
  {
   "cell_type": "markdown",
   "source": [
    "**Решение**\n",
    "\n",
    "1. Приближение может ошибаться, завышать и занижать правильный ответ.\n",
    "2. Ошибка приближения будет меняться при многократном получении выборок из данной генеральной совокупности указанным способом. Приближение будет то завышать, то занижать.\n",
    "3. Не доверяю."
   ],
   "metadata": {
    "id": "3RuCPOVJ1el6"
   }
  },
  {
   "cell_type": "markdown",
   "source": [
    "Второй способ получения выборки — с помощью функции `df.sample(2)`.\n",
    "\n",
    "## 4. (blue, баллы: 0.5) Получи выборку. Посчитай среднее количество просматриваемых фильмов среди выбранных людей и среди всех людей.\n",
    " - Отличаются ли они?\n",
    " - Среднее среди выбранных людей показывает значение больше или меньше, чем среди всех?"
   ],
   "metadata": {
    "id": "dtT-e8DcE3be"
   }
  },
  {
   "metadata": {
    "ExecuteTime": {
     "end_time": "2024-10-10T17:24:25.648245Z",
     "start_time": "2024-10-10T17:24:25.640474Z"
    }
   },
   "cell_type": "code",
   "source": [
    "sample = df.sample(2)\n",
    "print(sample['Movies Watched Weekly'].mean())"
   ],
   "outputs": [
    {
     "name": "stdout",
     "output_type": "stream",
     "text": [
      "0.5\n"
     ]
    }
   ],
   "execution_count": 7
  },
  {
   "cell_type": "markdown",
   "source": [
    "**Решение**\n",
    "1. Отличаются.\n",
    "2. Среднее среди случайно выбранных людей показывает значение меньше, чем среди всех. (зависит от выборки)"
   ],
   "metadata": {
    "id": "Ne9P_nsa1jqs"
   }
  },
  {
   "cell_type": "markdown",
   "source": [
    "## 5. (red, баллы: 0.5) Повтори процесс получения выборки 1000 раз.\n",
    " - Верно ли, что среднее среди выбранных людей иногда показывало значение больше, чем среди всех, а иногда меньше?\n",
    " - Можно ли сказать, что среднее по выборке систематически стабильно больше, чем среднее в генеральной? Для наглядности можно построить столбчатую диаграмму (Barchart) среднего по выборкам."
   ],
   "metadata": {
    "id": "m1tSoieK1YsB"
   }
  },
  {
   "cell_type": "markdown",
   "source": [
    "**Решение**\n",
    "\n",
    "1. Нет, верно.\n",
    "2. "
   ],
   "metadata": {
    "id": "YdpkbhjI1j5B"
   }
  },
  {
   "metadata": {
    "ExecuteTime": {
     "end_time": "2024-10-10T17:29:04.508527Z",
     "start_time": "2024-10-10T17:29:04.432849Z"
    }
   },
   "cell_type": "code",
   "source": [
    "import matplotlib.pyplot as plt\n",
    "\n",
    "means = []\n",
    "for i in range(1000):\n",
    "    sample = df['Movies Watched Weekly'].sample(2)\n",
    "    means.append(sample.mean())\n",
    "plt.hist(means, bins=30)\n",
    "plt.show()"
   ],
   "outputs": [
    {
     "data": {
      "text/plain": [
       "<Figure size 640x480 with 1 Axes>"
      ],
      "image/png": "[encoded data removed]"
     },
     "metadata": {},
     "output_type": "display_data"
    },
    {
     "data": {
      "text/plain": [
       "np.float64(0.9915)"
      ]
     },
     "execution_count": 16,
     "metadata": {},
     "output_type": "execute_result"
    }
   ],
   "execution_count": 16
  },
  {
   "metadata": {},
   "cell_type": "markdown",
   "source": [
    "1. Да, верно.\n",
    "2. Можно сказать, что среднее по выборке систематически стабильно больше, чем среднее в генеральной.\n",
    "Но среднее по выборке не всегда больше или меньше среднего в генеральной совокупности. Можно практическо точно определить среднее в генеральной совокупности, если проводить расчеты по выборкам много раз."
   ]
  },
  {
   "cell_type": "markdown",
   "source": [
    "## 6. (red, баллы: 0.5) В этом пункте рассмотри следующую ситуацию.\n",
    "\n",
    "  - В генеральной совокупности известны лишь значения в столбце PersonId, а значения в столбце Movies Watched Weekly неизвестны.\n",
    "  - В выборке известно всё.\n",
    "  - Способ получения выборки — `df.sample(2)`.\n",
    "  - Евгений говорит, что среднее значение числа просмотров в выборке — это приближение для среднего значения в генеральной совокупности.\n",
    "\n",
    "  Ответь на вопросы.\n",
    "\n",
    "1. Может ли приближение ошибаться? Завышать правильный ответ? Занижать правильный ответ?\n",
    "2. Как будет ошибка приближения меняться при многократном получении выборок из данной генеральной совокупности указанным способом? Будет ли приближение то завышать, то занижать?\n",
    "3. Какому способу приближать среднее генеральной совокупности ты больше доверяешь?\n",
    "    - Получить выборку методом `df.sample(n)`, посчитать среднее.\n",
    "    - Получить выборку методом `df.head(n)` и посчитать среднее.\n",
    "    \n",
    "  При ответе на последний вопрос можно считать, что способ получения выборки будет использоваться много раз."
   ],
   "metadata": {
    "id": "j6bk_GGn1YuW"
   }
  },
  {
   "cell_type": "markdown",
   "source": [
    "**Решение**\n",
    "\n",
    "1. Приближение может ошибаться, завышать и занижать правильный ответ.\n",
    "2. Ошибка приближения будет меняться при многократном получении выборок из данной генеральной совокупности указанным способом. Приближение будет то завышать, то занижать.\n",
    "3. Больше доверяю способу получения выборки методом `df.head(n)` и посчитать среднее."
   ],
   "metadata": {
    "id": "w8nHBf9x1kHL"
   }
  },
  {
   "cell_type": "markdown",
   "source": [
    "# Задача 5. С помощью манипуляции выборкой покажи требуемый эффект\n",
    "\n"
   ],
   "metadata": {
    "id": "NaY8Qj9TPjdK"
   }
  },
  {
   "cell_type": "markdown",
   "source": [
    "В датасете [without_rules.csv](https://raw.githubusercontent.com/zalig/cu-datasets/main/without_rules.csv) лежат данные для кейса [«Бой без правил».](https://raw.github.com/zalig/cu-datasets/main/case_6_no_rules.pdf)\n",
    "\n",
    "На платформе, показывающей видео, 500 клиентов получили доступ к продукту A, ещё 500 — к продукту B.\n",
    "\n",
    "## 1. (blue, баллы: 1) Выберите 200 клиентов из A и 200 клиентов из B таким образом, чтобы выборки показывали большее среднее количество просматриваемого контента пользователями продукта A, чем пользователями продукта B.\n",
    "\n",
    "Полученные выборки положи в датафрейм с названием df_A_wins."
   ],
   "metadata": {
    "id": "PiYgotBtPt1g"
   }
  },
  {
   "metadata": {
    "ExecuteTime": {
     "end_time": "2024-10-11T14:56:51.146061Z",
     "start_time": "2024-10-11T14:56:50.360084Z"
    }
   },
   "cell_type": "code",
   "source": [
    "import pandas as pd\n",
    "df = pd.read_csv('https://raw.githubusercontent.com/zalig/cu-datasets/main/without_rules.csv')\n",
    "df"
   ],
   "outputs": [
    {
     "data": {
      "text/plain": [
       "         Id  Age  Gender Subscription  Videos Watched\n",
       "0       id1  25+    Male            B               7\n",
       "1       id2  25+  Female            B              20\n",
       "2       id3  <25  Female            A             178\n",
       "3       id4  25+  Female            A              31\n",
       "4       id5  25+  Female            A              36\n",
       "..      ...  ...     ...          ...             ...\n",
       "995   id996  <25  Female            B             243\n",
       "996   id997  <25    Male            A             159\n",
       "997   id998  <25  Female            A             197\n",
       "998   id999  <25  Female            B             179\n",
       "999  id1000  <25  Female            A             143\n",
       "\n",
       "[1000 rows x 5 columns]"
      ],
      "text/html": [
       "<div>\n",
       "<style scoped>\n",
       "    .dataframe tbody tr th:only-of-type {\n",
       "        vertical-align: middle;\n",
       "    }\n",
       "\n",
       "    .dataframe tbody tr th {\n",
       "        vertical-align: top;\n",
       "    }\n",
       "\n",
       "    .dataframe thead th {\n",
       "        text-align: right;\n",
       "    }\n",
       "</style>\n",
       "<table border=\"1\" class=\"dataframe\">\n",
       "  <thead>\n",
       "    <tr style=\"text-align: right;\">\n",
       "      <th></th>\n",
       "      <th>Id</th>\n",
       "      <th>Age</th>\n",
       "      <th>Gender</th>\n",
       "      <th>Subscription</th>\n",
       "      <th>Videos Watched</th>\n",
       "    </tr>\n",
       "  </thead>\n",
       "  <tbody>\n",
       "    <tr>\n",
       "      <th>0</th>\n",
       "      <td>id1</td>\n",
       "      <td>25+</td>\n",
       "      <td>Male</td>\n",
       "      <td>B</td>\n",
       "      <td>7</td>\n",
       "    </tr>\n",
       "    <tr>\n",
       "      <th>1</th>\n",
       "      <td>id2</td>\n",
       "      <td>25+</td>\n",
       "      <td>Female</td>\n",
       "      <td>B</td>\n",
       "      <td>20</td>\n",
       "    </tr>\n",
       "    <tr>\n",
       "      <th>2</th>\n",
       "      <td>id3</td>\n",
       "      <td>&lt;25</td>\n",
       "      <td>Female</td>\n",
       "      <td>A</td>\n",
       "      <td>178</td>\n",
       "    </tr>\n",
       "    <tr>\n",
       "      <th>3</th>\n",
       "      <td>id4</td>\n",
       "      <td>25+</td>\n",
       "      <td>Female</td>\n",
       "      <td>A</td>\n",
       "      <td>31</td>\n",
       "    </tr>\n",
       "    <tr>\n",
       "      <th>4</th>\n",
       "      <td>id5</td>\n",
       "      <td>25+</td>\n",
       "      <td>Female</td>\n",
       "      <td>A</td>\n",
       "      <td>36</td>\n",
       "    </tr>\n",
       "    <tr>\n",
       "      <th>...</th>\n",
       "      <td>...</td>\n",
       "      <td>...</td>\n",
       "      <td>...</td>\n",
       "      <td>...</td>\n",
       "      <td>...</td>\n",
       "    </tr>\n",
       "    <tr>\n",
       "      <th>995</th>\n",
       "      <td>id996</td>\n",
       "      <td>&lt;25</td>\n",
       "      <td>Female</td>\n",
       "      <td>B</td>\n",
       "      <td>243</td>\n",
       "    </tr>\n",
       "    <tr>\n",
       "      <th>996</th>\n",
       "      <td>id997</td>\n",
       "      <td>&lt;25</td>\n",
       "      <td>Male</td>\n",
       "      <td>A</td>\n",
       "      <td>159</td>\n",
       "    </tr>\n",
       "    <tr>\n",
       "      <th>997</th>\n",
       "      <td>id998</td>\n",
       "      <td>&lt;25</td>\n",
       "      <td>Female</td>\n",
       "      <td>A</td>\n",
       "      <td>197</td>\n",
       "    </tr>\n",
       "    <tr>\n",
       "      <th>998</th>\n",
       "      <td>id999</td>\n",
       "      <td>&lt;25</td>\n",
       "      <td>Female</td>\n",
       "      <td>B</td>\n",
       "      <td>179</td>\n",
       "    </tr>\n",
       "    <tr>\n",
       "      <th>999</th>\n",
       "      <td>id1000</td>\n",
       "      <td>&lt;25</td>\n",
       "      <td>Female</td>\n",
       "      <td>A</td>\n",
       "      <td>143</td>\n",
       "    </tr>\n",
       "  </tbody>\n",
       "</table>\n",
       "<p>1000 rows × 5 columns</p>\n",
       "</div>"
      ]
     },
     "execution_count": 3,
     "metadata": {},
     "output_type": "execute_result"
    }
   ],
   "execution_count": 3
  },
  {
   "metadata": {
    "ExecuteTime": {
     "end_time": "2024-10-10T17:54:40.741407Z",
     "start_time": "2024-10-10T17:54:40.496536Z"
    }
   },
   "cell_type": "code",
   "outputs": [
    {
     "data": {
      "text/plain": [
       "              Videos Watched\n",
       "Subscription                \n",
       "A                     125.88\n",
       "B                      30.16"
      ],
      "text/html": [
       "<div>\n",
       "<style scoped>\n",
       "    .dataframe tbody tr th:only-of-type {\n",
       "        vertical-align: middle;\n",
       "    }\n",
       "\n",
       "    .dataframe tbody tr th {\n",
       "        vertical-align: top;\n",
       "    }\n",
       "\n",
       "    .dataframe thead th {\n",
       "        text-align: right;\n",
       "    }\n",
       "</style>\n",
       "<table border=\"1\" class=\"dataframe\">\n",
       "  <thead>\n",
       "    <tr style=\"text-align: right;\">\n",
       "      <th></th>\n",
       "      <th>Videos Watched</th>\n",
       "    </tr>\n",
       "    <tr>\n",
       "      <th>Subscription</th>\n",
       "      <th></th>\n",
       "    </tr>\n",
       "  </thead>\n",
       "  <tbody>\n",
       "    <tr>\n",
       "      <th>A</th>\n",
       "      <td>125.88</td>\n",
       "    </tr>\n",
       "    <tr>\n",
       "      <th>B</th>\n",
       "      <td>30.16</td>\n",
       "    </tr>\n",
       "  </tbody>\n",
       "</table>\n",
       "</div>"
      ]
     },
     "execution_count": 30,
     "metadata": {},
     "output_type": "execute_result"
    }
   ],
   "execution_count": 30,
   "source": [
    "df_A = df[df['Subscription'] == 'A'].sample(200)\n",
    "df_B = df[df['Subscription'] == 'B'].sort_values('Videos Watched', ascending=True).head(200)\n",
    "df_A_wins = pd.concat([df_A, df_B])\n",
    "\n",
    "df_A_wins.groupby('Subscription').agg({'Videos Watched': 'mean'})"
   ]
  },
  {
   "cell_type": "markdown",
   "source": [
    "**Решение**"
   ],
   "metadata": {
    "id": "u4Fw4-kq18cO"
   }
  },
  {
   "cell_type": "markdown",
   "source": [
    "## 2. (blue, баллы: 1) Сформируй две выборки по 200 пользователей из A и из B, чтобы выборки показывали обратный эффект.\n",
    "\n",
    "Полученные выборки положи в датафрейм с названием df_B_wins."
   ],
   "metadata": {
    "id": "G3HsBcwD1uUQ"
   }
  },
  {
   "metadata": {
    "ExecuteTime": {
     "end_time": "2024-10-10T17:55:18.974157Z",
     "start_time": "2024-10-10T17:55:18.969800Z"
    }
   },
   "cell_type": "code",
   "source": [
    "df_B = df[df['Subscription'] == 'B'].sample(200)\n",
    "df_A = df[df['Subscription'] == 'A'].sort_values('Videos Watched', ascending=True).head(200)\n",
    "df_B_wins = pd.concat([df_A, df_B])\n",
    "\n",
    "df_B_wins.groupby('Subscription').agg({'Videos Watched': 'mean'})"
   ],
   "outputs": [
    {
     "data": {
      "text/plain": [
       "              Videos Watched\n",
       "Subscription                \n",
       "A                      29.35\n",
       "B                     131.70"
      ],
      "text/html": [
       "<div>\n",
       "<style scoped>\n",
       "    .dataframe tbody tr th:only-of-type {\n",
       "        vertical-align: middle;\n",
       "    }\n",
       "\n",
       "    .dataframe tbody tr th {\n",
       "        vertical-align: top;\n",
       "    }\n",
       "\n",
       "    .dataframe thead th {\n",
       "        text-align: right;\n",
       "    }\n",
       "</style>\n",
       "<table border=\"1\" class=\"dataframe\">\n",
       "  <thead>\n",
       "    <tr style=\"text-align: right;\">\n",
       "      <th></th>\n",
       "      <th>Videos Watched</th>\n",
       "    </tr>\n",
       "    <tr>\n",
       "      <th>Subscription</th>\n",
       "      <th></th>\n",
       "    </tr>\n",
       "  </thead>\n",
       "  <tbody>\n",
       "    <tr>\n",
       "      <th>A</th>\n",
       "      <td>29.35</td>\n",
       "    </tr>\n",
       "    <tr>\n",
       "      <th>B</th>\n",
       "      <td>131.70</td>\n",
       "    </tr>\n",
       "  </tbody>\n",
       "</table>\n",
       "</div>"
      ]
     },
     "execution_count": 31,
     "metadata": {},
     "output_type": "execute_result"
    }
   ],
   "execution_count": 31
  },
  {
   "cell_type": "markdown",
   "source": [
    "**Решение**"
   ],
   "metadata": {
    "id": "5VW1SQFH18qX"
   }
  },
  {
   "cell_type": "markdown",
   "source": [
    "## 3. (red, баллы: 0.5) Сформируй две выборки по 200 пользователей из A и из B так, что у выборки из A среднее количество просматриваемого контента больше, чем у B, в каждой половозрастной категории."
   ],
   "metadata": {
    "id": "rE2G7mr21whd"
   }
  },
  {
   "metadata": {
    "ExecuteTime": {
     "end_time": "2024-10-10T18:08:21.127375Z",
     "start_time": "2024-10-10T18:08:21.120682Z"
    }
   },
   "cell_type": "code",
   "source": [
    "df['Gender'].unique()\n",
    "df['Age'].unique()\n",
    "\n",
    "df_A = df[df['Subscription'] == 'A'].sample(200)\n",
    "\n",
    "df_B = df[df['Subscription'] == 'B']\n",
    "df_B_grouped = df_B.groupby(['Age', 'Gender'])\n",
    "df_B_res = pd.DataFrame()\n",
    "for name, group in df_B_grouped:\n",
    "    sorted_group = group.sort_values('Videos Watched', ascending=True).head(50)\n",
    "    df_B_res = pd.concat([df_B_res, sorted_group])\n",
    "\n",
    "df_A_wins = pd.concat([df_A, df_B_res])\n",
    "\n",
    "df_A_wins.groupby(['Subscription',\n",
    "                   'Age', 'Gender']).agg({'Videos Watched': 'mean'})"
   ],
   "outputs": [
    {
     "data": {
      "text/plain": [
       "                         Videos Watched\n",
       "Subscription Age Gender                \n",
       "A            25+ Female       28.857143\n",
       "                 Male         21.153846\n",
       "             <25 Female      137.514286\n",
       "                 Male        199.596774\n",
       "B            25+ Female       19.480000\n",
       "                 Male         15.420000\n",
       "             <25 Female       76.520000\n",
       "                 Male        137.160000"
      ],
      "text/html": [
       "<div>\n",
       "<style scoped>\n",
       "    .dataframe tbody tr th:only-of-type {\n",
       "        vertical-align: middle;\n",
       "    }\n",
       "\n",
       "    .dataframe tbody tr th {\n",
       "        vertical-align: top;\n",
       "    }\n",
       "\n",
       "    .dataframe thead th {\n",
       "        text-align: right;\n",
       "    }\n",
       "</style>\n",
       "<table border=\"1\" class=\"dataframe\">\n",
       "  <thead>\n",
       "    <tr style=\"text-align: right;\">\n",
       "      <th></th>\n",
       "      <th></th>\n",
       "      <th></th>\n",
       "      <th>Videos Watched</th>\n",
       "    </tr>\n",
       "    <tr>\n",
       "      <th>Subscription</th>\n",
       "      <th>Age</th>\n",
       "      <th>Gender</th>\n",
       "      <th></th>\n",
       "    </tr>\n",
       "  </thead>\n",
       "  <tbody>\n",
       "    <tr>\n",
       "      <th rowspan=\"4\" valign=\"top\">A</th>\n",
       "      <th rowspan=\"2\" valign=\"top\">25+</th>\n",
       "      <th>Female</th>\n",
       "      <td>28.857143</td>\n",
       "    </tr>\n",
       "    <tr>\n",
       "      <th>Male</th>\n",
       "      <td>21.153846</td>\n",
       "    </tr>\n",
       "    <tr>\n",
       "      <th rowspan=\"2\" valign=\"top\">&lt;25</th>\n",
       "      <th>Female</th>\n",
       "      <td>137.514286</td>\n",
       "    </tr>\n",
       "    <tr>\n",
       "      <th>Male</th>\n",
       "      <td>199.596774</td>\n",
       "    </tr>\n",
       "    <tr>\n",
       "      <th rowspan=\"4\" valign=\"top\">B</th>\n",
       "      <th rowspan=\"2\" valign=\"top\">25+</th>\n",
       "      <th>Female</th>\n",
       "      <td>19.480000</td>\n",
       "    </tr>\n",
       "    <tr>\n",
       "      <th>Male</th>\n",
       "      <td>15.420000</td>\n",
       "    </tr>\n",
       "    <tr>\n",
       "      <th rowspan=\"2\" valign=\"top\">&lt;25</th>\n",
       "      <th>Female</th>\n",
       "      <td>76.520000</td>\n",
       "    </tr>\n",
       "    <tr>\n",
       "      <th>Male</th>\n",
       "      <td>137.160000</td>\n",
       "    </tr>\n",
       "  </tbody>\n",
       "</table>\n",
       "</div>"
      ]
     },
     "execution_count": 70,
     "metadata": {},
     "output_type": "execute_result"
    }
   ],
   "execution_count": 70
  },
  {
   "cell_type": "markdown",
   "source": [
    "**Решение**"
   ],
   "metadata": {
    "id": "P94tqdR618_X"
   }
  },
  {
   "cell_type": "markdown",
   "source": [
    "## 4. (red, баллы: 0.5) Сформируй две выборки по 200 пользователей из A и из B, чтобы выборки показывали обратный эффект в каждой половозрастной категории."
   ],
   "metadata": {
    "id": "6fpVcamR1wkC"
   }
  },
  {
   "metadata": {
    "ExecuteTime": {
     "end_time": "2024-10-10T18:17:34.698180Z",
     "start_time": "2024-10-10T18:17:34.691758Z"
    }
   },
   "cell_type": "code",
   "source": [
    "df['Gender'].unique()\n",
    "df['Age'].unique()\n",
    "\n",
    "df_B = df[df['Subscription'] == 'B'].sample(200)\n",
    "\n",
    "df_A = df[df['Subscription'] == 'A']\n",
    "df_A_grouped = df_A.groupby(['Age', 'Gender'])\n",
    "df_A_res = pd.DataFrame()\n",
    "for name, group in df_A_grouped:\n",
    "    sorted_group = group.sort_values('Videos Watched', ascending=True).head(50)\n",
    "    df_A_res = pd.concat([df_A_res, sorted_group])\n",
    "\n",
    "df_B_wins = pd.concat([df_B_res, df_A_res])\n",
    "\n",
    "df_B_wins.groupby(['Subscription',\n",
    "                   'Age', 'Gender']).agg({'Videos Watched': 'mean'})"
   ],
   "outputs": [
    {
     "data": {
      "text/plain": [
       "                         Videos Watched\n",
       "Subscription Age Gender                \n",
       "A            25+ Female           19.84\n",
       "                 Male             15.90\n",
       "             <25 Female           77.36\n",
       "                 Male            123.00\n",
       "B            25+ Female           39.56\n",
       "                 Male             25.84\n",
       "             <25 Female          223.90\n",
       "                 Male            280.44"
      ],
      "text/html": [
       "<div>\n",
       "<style scoped>\n",
       "    .dataframe tbody tr th:only-of-type {\n",
       "        vertical-align: middle;\n",
       "    }\n",
       "\n",
       "    .dataframe tbody tr th {\n",
       "        vertical-align: top;\n",
       "    }\n",
       "\n",
       "    .dataframe thead th {\n",
       "        text-align: right;\n",
       "    }\n",
       "</style>\n",
       "<table border=\"1\" class=\"dataframe\">\n",
       "  <thead>\n",
       "    <tr style=\"text-align: right;\">\n",
       "      <th></th>\n",
       "      <th></th>\n",
       "      <th></th>\n",
       "      <th>Videos Watched</th>\n",
       "    </tr>\n",
       "    <tr>\n",
       "      <th>Subscription</th>\n",
       "      <th>Age</th>\n",
       "      <th>Gender</th>\n",
       "      <th></th>\n",
       "    </tr>\n",
       "  </thead>\n",
       "  <tbody>\n",
       "    <tr>\n",
       "      <th rowspan=\"4\" valign=\"top\">A</th>\n",
       "      <th rowspan=\"2\" valign=\"top\">25+</th>\n",
       "      <th>Female</th>\n",
       "      <td>19.84</td>\n",
       "    </tr>\n",
       "    <tr>\n",
       "      <th>Male</th>\n",
       "      <td>15.90</td>\n",
       "    </tr>\n",
       "    <tr>\n",
       "      <th rowspan=\"2\" valign=\"top\">&lt;25</th>\n",
       "      <th>Female</th>\n",
       "      <td>77.36</td>\n",
       "    </tr>\n",
       "    <tr>\n",
       "      <th>Male</th>\n",
       "      <td>123.00</td>\n",
       "    </tr>\n",
       "    <tr>\n",
       "      <th rowspan=\"4\" valign=\"top\">B</th>\n",
       "      <th rowspan=\"2\" valign=\"top\">25+</th>\n",
       "      <th>Female</th>\n",
       "      <td>39.56</td>\n",
       "    </tr>\n",
       "    <tr>\n",
       "      <th>Male</th>\n",
       "      <td>25.84</td>\n",
       "    </tr>\n",
       "    <tr>\n",
       "      <th rowspan=\"2\" valign=\"top\">&lt;25</th>\n",
       "      <th>Female</th>\n",
       "      <td>223.90</td>\n",
       "    </tr>\n",
       "    <tr>\n",
       "      <th>Male</th>\n",
       "      <td>280.44</td>\n",
       "    </tr>\n",
       "  </tbody>\n",
       "</table>\n",
       "</div>"
      ]
     },
     "execution_count": 154,
     "metadata": {},
     "output_type": "execute_result"
    }
   ],
   "execution_count": 154
  },
  {
   "cell_type": "markdown",
   "source": [
    "**Решение**"
   ],
   "metadata": {
    "id": "Ol7rpcvw19OC"
   }
  },
  {
   "cell_type": "markdown",
   "source": [
    "## 5. (black, баллы: 4) Реши пункты 3 и 4 так, чтобы в каждой выборке соотношение мужчин и женщин совпадало с соотношением мужчин и женщин среди всех 500 пользователей продукта."
   ],
   "metadata": {
    "id": "CViAwA7D1uW0"
   }
  },
  {
   "metadata": {
    "ExecuteTime": {
     "end_time": "2024-10-11T14:57:02.973508Z",
     "start_time": "2024-10-11T14:57:02.969573Z"
    }
   },
   "cell_type": "code",
   "source": [
    "female_A_count = len(df[(df['Subscription'] == 'A') & (df['Gender'] == 'Female')])\n",
    "male_A_count = len(df[(df['Subscription'] == 'A') & (df['Gender'] == 'Male')])\n",
    "female_B_count = len(df[(df['Subscription'] == 'B') & (df['Gender'] == 'Female')])\n",
    "male_B_count = len(df[(df['Subscription'] == 'B') & (df['Gender'] == 'Male')])\n",
    "\n",
    "print(500 / female_A_count, 500 / female_B_count)\n",
    "\n",
    "# 1.79 1.79\n",
    "\n",
    "female_sample_count = int(round(200 / 1.79))\n",
    "male_sample_count = 200 - female_sample_count"
   ],
   "outputs": [
    {
     "name": "stdout",
     "output_type": "stream",
     "text": [
      "1.7857142857142858 1.7857142857142858\n"
     ]
    }
   ],
   "execution_count": 5
  },
  {
   "metadata": {
    "ExecuteTime": {
     "end_time": "2024-10-11T14:58:33.668168Z",
     "start_time": "2024-10-11T14:58:33.655919Z"
    }
   },
   "cell_type": "code",
   "source": [
    "df_B_female = df[(df['Subscription'] == 'B') & (df.Gender == 'Female')].sample(int(round(female_sample_count)))\n",
    "df_B_male = df[(df['Subscription'] == 'B') & (df.Gender == 'Male')].sample(int(round(male_sample_count)))\n",
    "df_B_res = pd.concat([df_B_male, df_B_female])\n",
    "\n",
    "df_A = df[df['Subscription'] == 'A']\n",
    "df_A_grouped_female = df_A[df_A.Gender == 'Female'].groupby(['Age', 'Gender'])\n",
    "df_A_grouped_male = df_A[df_A.Gender == 'Male'].groupby('Age')\n",
    "df_A_res = pd.DataFrame()\n",
    "\n",
    "for name, group in df_A_grouped_female:\n",
    "    sorted_group = group.sort_values('Videos Watched', ascending=True).head(int(round(female_sample_count / 2)))\n",
    "    df_A_res = pd.concat([df_A_res, sorted_group])\n",
    "for name, group in df_A_grouped_male:\n",
    "    sorted_group = group.sort_values('Videos Watched', ascending=True).head(int(round(male_sample_count / 2)))\n",
    "    df_A_res = pd.concat([df_A_res, sorted_group])\n",
    "    \n",
    "# Check ratio\n",
    "print(200 / df_A_res[df_A_res.Gender == 'Female'].shape[0])\n",
    "print(200 / df_B_res[df_B_res.Gender == 'Female'].shape[0])\n",
    "\n",
    "df_B_wins = pd.concat([df_B_res, df_A_res])\n",
    "\n",
    "df_B_wins.groupby(['Subscription',\n",
    "                   'Age', 'Gender']).agg({'Videos Watched': 'mean'})"
   ],
   "outputs": [
    {
     "name": "stdout",
     "output_type": "stream",
     "text": [
      "1.7857142857142858\n",
      "1.7857142857142858\n"
     ]
    },
    {
     "data": {
      "text/plain": [
       "                         Videos Watched\n",
       "Subscription Age Gender                \n",
       "A            25+ Female       21.000000\n",
       "                 Male         14.704545\n",
       "             <25 Female       81.642857\n",
       "                 Male        116.454545\n",
       "B            25+ Female       29.435897\n",
       "                 Male         21.307692\n",
       "             <25 Female      135.068493\n",
       "                 Male        215.000000"
      ],
      "text/html": [
       "<div>\n",
       "<style scoped>\n",
       "    .dataframe tbody tr th:only-of-type {\n",
       "        vertical-align: middle;\n",
       "    }\n",
       "\n",
       "    .dataframe tbody tr th {\n",
       "        vertical-align: top;\n",
       "    }\n",
       "\n",
       "    .dataframe thead th {\n",
       "        text-align: right;\n",
       "    }\n",
       "</style>\n",
       "<table border=\"1\" class=\"dataframe\">\n",
       "  <thead>\n",
       "    <tr style=\"text-align: right;\">\n",
       "      <th></th>\n",
       "      <th></th>\n",
       "      <th></th>\n",
       "      <th>Videos Watched</th>\n",
       "    </tr>\n",
       "    <tr>\n",
       "      <th>Subscription</th>\n",
       "      <th>Age</th>\n",
       "      <th>Gender</th>\n",
       "      <th></th>\n",
       "    </tr>\n",
       "  </thead>\n",
       "  <tbody>\n",
       "    <tr>\n",
       "      <th rowspan=\"4\" valign=\"top\">A</th>\n",
       "      <th rowspan=\"2\" valign=\"top\">25+</th>\n",
       "      <th>Female</th>\n",
       "      <td>21.000000</td>\n",
       "    </tr>\n",
       "    <tr>\n",
       "      <th>Male</th>\n",
       "      <td>14.704545</td>\n",
       "    </tr>\n",
       "    <tr>\n",
       "      <th rowspan=\"2\" valign=\"top\">&lt;25</th>\n",
       "      <th>Female</th>\n",
       "      <td>81.642857</td>\n",
       "    </tr>\n",
       "    <tr>\n",
       "      <th>Male</th>\n",
       "      <td>116.454545</td>\n",
       "    </tr>\n",
       "    <tr>\n",
       "      <th rowspan=\"4\" valign=\"top\">B</th>\n",
       "      <th rowspan=\"2\" valign=\"top\">25+</th>\n",
       "      <th>Female</th>\n",
       "      <td>29.435897</td>\n",
       "    </tr>\n",
       "    <tr>\n",
       "      <th>Male</th>\n",
       "      <td>21.307692</td>\n",
       "    </tr>\n",
       "    <tr>\n",
       "      <th rowspan=\"2\" valign=\"top\">&lt;25</th>\n",
       "      <th>Female</th>\n",
       "      <td>135.068493</td>\n",
       "    </tr>\n",
       "    <tr>\n",
       "      <th>Male</th>\n",
       "      <td>215.000000</td>\n",
       "    </tr>\n",
       "  </tbody>\n",
       "</table>\n",
       "</div>"
      ]
     },
     "execution_count": 12,
     "metadata": {},
     "output_type": "execute_result"
    }
   ],
   "execution_count": 12
  },
  {
   "metadata": {
    "ExecuteTime": {
     "end_time": "2024-10-11T15:04:06.405376Z",
     "start_time": "2024-10-11T15:04:06.396761Z"
    }
   },
   "cell_type": "code",
   "source": [
    "df_A_female = df[(df['Subscription'] == 'A') & (df.Gender == 'Female')].sample(int(round(female_sample_count)))\n",
    "df_A_male = df[(df['Subscription'] == 'A') & (df.Gender == 'Male')].sample(int(round(male_sample_count)))\n",
    "df_A_res = pd.concat([df_A_female, df_A_male])\n",
    "\n",
    "df_B = df[df['Subscription'] == 'B']\n",
    "df_B_grouped_female = df_B[df_B.Gender == 'Female'].groupby(['Age', 'Gender'])\n",
    "df_B_grouped_male = df_B[df_B.Gender == 'Male'].groupby('Age')\n",
    "df_B_res = pd.DataFrame()\n",
    "\n",
    "for name, group in df_B_grouped_female:\n",
    "    sorted_group = group.sort_values('Videos Watched', ascending=True).head(int(round(female_sample_count / 2)))\n",
    "    df_B_res = pd.concat([df_B_res, sorted_group])\n",
    "for name, group in df_B_grouped_male:\n",
    "    sorted_group = group.sort_values('Videos Watched', ascending=True).head(int(round(male_sample_count / 2)))\n",
    "    df_B_res = pd.concat([df_B_res, sorted_group])\n",
    "    \n",
    "# Check ratio\n",
    "print(200 / df_A_res[df_A_res.Gender == 'Female'].shape[0])\n",
    "print(200 / df_B_res[df_B_res.Gender == 'Female'].shape[0])\n",
    "\n",
    "df_A_wins = pd.concat([df_B_res, df_A_res])\n",
    "\n",
    "df_A_wins.groupby(['Subscription',\n",
    "                   'Age', 'Gender']).agg({'Videos Watched': 'mean'})"
   ],
   "outputs": [
    {
     "name": "stdout",
     "output_type": "stream",
     "text": [
      "1.7857142857142858\n",
      "1.7857142857142858\n"
     ]
    },
    {
     "data": {
      "text/plain": [
       "                         Videos Watched\n",
       "Subscription Age Gender                \n",
       "A            25+ Female       30.581395\n",
       "                 Male         19.346154\n",
       "             <25 Female      145.115942\n",
       "                 Male        207.709677\n",
       "B            25+ Female       20.571429\n",
       "                 Male         13.977273\n",
       "             <25 Female       80.000000\n",
       "                 Male        131.340909"
      ],
      "text/html": [
       "<div>\n",
       "<style scoped>\n",
       "    .dataframe tbody tr th:only-of-type {\n",
       "        vertical-align: middle;\n",
       "    }\n",
       "\n",
       "    .dataframe tbody tr th {\n",
       "        vertical-align: top;\n",
       "    }\n",
       "\n",
       "    .dataframe thead th {\n",
       "        text-align: right;\n",
       "    }\n",
       "</style>\n",
       "<table border=\"1\" class=\"dataframe\">\n",
       "  <thead>\n",
       "    <tr style=\"text-align: right;\">\n",
       "      <th></th>\n",
       "      <th></th>\n",
       "      <th></th>\n",
       "      <th>Videos Watched</th>\n",
       "    </tr>\n",
       "    <tr>\n",
       "      <th>Subscription</th>\n",
       "      <th>Age</th>\n",
       "      <th>Gender</th>\n",
       "      <th></th>\n",
       "    </tr>\n",
       "  </thead>\n",
       "  <tbody>\n",
       "    <tr>\n",
       "      <th rowspan=\"4\" valign=\"top\">A</th>\n",
       "      <th rowspan=\"2\" valign=\"top\">25+</th>\n",
       "      <th>Female</th>\n",
       "      <td>30.581395</td>\n",
       "    </tr>\n",
       "    <tr>\n",
       "      <th>Male</th>\n",
       "      <td>19.346154</td>\n",
       "    </tr>\n",
       "    <tr>\n",
       "      <th rowspan=\"2\" valign=\"top\">&lt;25</th>\n",
       "      <th>Female</th>\n",
       "      <td>145.115942</td>\n",
       "    </tr>\n",
       "    <tr>\n",
       "      <th>Male</th>\n",
       "      <td>207.709677</td>\n",
       "    </tr>\n",
       "    <tr>\n",
       "      <th rowspan=\"4\" valign=\"top\">B</th>\n",
       "      <th rowspan=\"2\" valign=\"top\">25+</th>\n",
       "      <th>Female</th>\n",
       "      <td>20.571429</td>\n",
       "    </tr>\n",
       "    <tr>\n",
       "      <th>Male</th>\n",
       "      <td>13.977273</td>\n",
       "    </tr>\n",
       "    <tr>\n",
       "      <th rowspan=\"2\" valign=\"top\">&lt;25</th>\n",
       "      <th>Female</th>\n",
       "      <td>80.000000</td>\n",
       "    </tr>\n",
       "    <tr>\n",
       "      <th>Male</th>\n",
       "      <td>131.340909</td>\n",
       "    </tr>\n",
       "  </tbody>\n",
       "</table>\n",
       "</div>"
      ]
     },
     "execution_count": 13,
     "metadata": {},
     "output_type": "execute_result"
    }
   ],
   "execution_count": 13
  },
  {
   "cell_type": "markdown",
   "source": [
    "**Решение**"
   ],
   "metadata": {
    "id": "EYcu9UYC19hp"
   }
  },
  {
   "cell_type": "markdown",
   "source": [
    "## 6. (black, баллы: 4) Реши пункты 3 и 4 так, чтобы в каждой выборке соотношение долей всех половозрастных категорий совпадало с аналогичным соотношением среди всех 500 пользователей продукта."
   ],
   "metadata": {
    "id": "WUSjyGcu10hZ"
   }
  },
  {
   "cell_type": "markdown",
   "source": [
    "**Решение**"
   ],
   "metadata": {
    "id": "pY1-Gm1119qi"
   }
  },
  {
   "cell_type": "markdown",
   "source": [
    "# Задача 6. Прокомментируй завышение или занижение описательных статистик выборки по сравнению с генеральной совокупностью\n"
   ],
   "metadata": {
    "id": "hu7L8R7FJasl"
   }
  },
  {
   "cell_type": "markdown",
   "source": [
    "### (red, баллы: 1)  Алла делает утверждение: «Среднее в генеральной совокупности приблизительно равно среднему в выборке».\n",
    "\n",
    "Ниже представлены несколько способов получения выборки из генеральной совокупности. В некоторых из них приближение лучше или хуже.\n",
    "\n",
    "\n",
    " 1. Выбрать 10 лучших учеников из всех учеников школы. Интересующая характеристика — знания.\n",
    "\n",
    " 2. Выбрать студентов, которые не пропустили ни одной лекции, из всех студентов на курсе. Интересующая характеристика — понятность лекций для студента.\n",
    "\n",
    " 3. Выбрать клиентов, больше всего пользующихся приложением, из всех пользователей приложения. Интересующая характеристика — самая полезная фича приложения для клиентов.\n",
    "\n",
    "Для каждого из указанных способов получения выборки приближение завышает или занижает «настоящее значение»? Аргументируй.\n",
    "\n",
    "Примечание: под «настоящим значением» обычно понимается значение в генеральной совокупности, которое мы не знаем и пытаемся приблизить с помощью выборки.\n"
   ],
   "metadata": {
    "id": "rsqLr-lfKibT"
   }
  },
  {
   "cell_type": "markdown",
   "source": [
    "**Решение**\n",
    "\n",
    "1. Приближение завышает «настоящее значение», так как в выборке будут только лучшие ученики, а остальные не попадут в выборку. Поэтому нельзя будет сделать выводы о знаниях всех учеников школы.\n",
    "2. Приближение завышает «настоящее значение», так как в выборке будут только студенты, которые не пропустили ни одной лекции, а остальные не попадут в выборку. Поэтому нельзя будет сделать выводы о понятности лекций для всех студентов на курсе.\n",
    "3. Приближение занижает «настоящее значение», так как в выборке будут только клиенты, больше всего пользующиеся приложением, а остальные не попадут в выборку. Поэтому нельзя будет сделать выводы о самой полезной фиче приложения для всех пользователей приложения."
   ],
   "metadata": {
    "id": "ZMv6-MBp1_5R"
   }
  },
  {
   "cell_type": "markdown",
   "source": [
    "# Задача 7. Приведи примеры завышений и занижений\n",
    "\n"
   ],
   "metadata": {
    "id": "ZUX4qbnHKiwi"
   }
  },
  {
   "cell_type": "markdown",
   "source": [
    "## (red, баллы: 0.5) Приведи пример генеральной совокупности и неудачного способа получения выборки, при котором:\n",
    "\n",
    " 1. Приближение среднего с помощью выборки завышает приближаемое значение.\n",
    " 2. Приближение пропорции какого-то события, посчитанное с помощью выборки, занижает приближаемое значение."
   ],
   "metadata": {
    "id": "ChctkX2WLLDF"
   }
  },
  {
   "cell_type": "markdown",
   "source": [
    "**Решение**"
   ],
   "metadata": {
    "id": "qtc_i75a2BVR"
   }
  },
  {
   "cell_type": "markdown",
   "source": [
    "# Задача 8. Определи типы систематических ошибок\n",
    "\n"
   ],
   "metadata": {
    "id": "ARJV1QM6LLp4"
   }
  },
  {
   "cell_type": "markdown",
   "source": [
    "## (red, баллы: 1) Ниже описаны несколько подходов к приближению значения генеральной совокупности с помощью выборки.\n",
    "\n",
    "В каждом подходе определи тип или типы систематических ошибок. Приводят ли они к завышению или занижению?\n",
    "\n",
    "1. Чтобы узнать уровень трудности курса по математическому анализу в среднем среди всех студентов, опросить выпускников.\n",
    "\n",
    "2. Чтобы узнать, сколько времени в среднем читают жители столицы, провести опрос в соцсети «Одноклассники».\n",
    "\n",
    "3. Чтобы узнать, насколько в среднем по 10-бальной шкале клиентам мобильного приложения нужна новая фича, разослать всем клиентам необязательный опрос в пуш-уведомлении."
   ],
   "metadata": {
    "id": "lNIsjVsBNmzI"
   }
  },
  {
   "cell_type": "markdown",
   "source": "**Решение**\n",
   "metadata": {
    "id": "K6qedELi2FiU"
   }
  },
  {
   "cell_type": "markdown",
   "source": [
    "# Задача 9. Придумай проверяемые требования к выборкам, улучшающие репрезентативность\n",
    "\n",
    "\n"
   ],
   "metadata": {
    "id": "bwdS75TFmnp3"
   }
  },
  {
   "cell_type": "markdown",
   "source": [
    "## (black, баллы: 2) В задачах приближения значения из генеральной совокупности с помощью выборочной статистики ошибка приближения неизбежна. Попробуй уменьшить ошибку приближения, запретив какие-то выборки.\n",
    "\n",
    "Вся суть задачи — придумать, какие выборки запрещать.\n",
    "\n",
    "Цель исследования: измерить уровень трудности лекций по статистике по мнению студентов в среднем среди всех студентов курса. Нагружать всех студентов опросом нежелательно. Принято решение взять выборку и опросить только студентов из неё.\n",
    "\n",
    "Есть список всех студентов курса: ФИО, пол, на каком уровне студент проходит курс (синий, красный, чёрный).\n",
    "\n",
    "Выборка — номера студентов из списка.\n",
    "\n",
    "Выборка уже получена, менять её нельзя. Можно лишь оставить или забраковать.\n",
    "\n",
    "Сформулированные требования к выборке будет проверять Кристина, имея на руках список курса и выборку. Кристина не знает, каким способом была получена выборка, и узнать не может. При нарушении требований Кристина будет считать выборку недостаточно репрезентативной и опрос проводить не будет.\n",
    "\n",
    "1. Придумай и сформулируй требования к выборке.\n",
    "\n",
    "2. Обоснуй, почему их выполнение способно уменьшить ошибку приближения."
   ],
   "metadata": {
    "id": "bCSMjLE5UT3I"
   }
  },
  {
   "cell_type": "markdown",
   "source": [
    "**Решение**"
   ],
   "metadata": {
    "id": "u451dwU62H3h"
   }
  }
 ]
}
