{
 "cells": [
  {
   "metadata": {},
   "cell_type": "markdown",
   "source": "# Кейс Ковчег (черный)",
   "id": "5924b5fe96b49d8e"
  },
  {
   "metadata": {},
   "cell_type": "markdown",
   "source": [
    "**Кейс**\n",
    "- Компания планирует проводить тестовые запуски рекламы 1 раз в день\n",
    "- Нельзя, чтобы каждый клиент получал каждый день новое рекламное\n",
    "сообщение очередной рекламной кампании\n",
    "- Тестовые запуски будут проводиться на маленьких выборках из всех клиентов\n",
    "- Всего клиентов 80 тысяч, размер выборки — 400\n",
    "- Выборка должна быть репрезентативной, чтобы замеры на ней позволяли\n",
    "делать хотя бы какие-то выводы обо всех клиентах\n",
    "- Проверку репрезентативности можно осуществить на основе одной кампании,\n",
    "которую проводили на всех 80 тысячах клиентов\n",
    "\n",
    "**Проблема**\n",
    "\n",
    "Если один раз составить репрезентативную выборку и использовать её во всех\n",
    "тестах, будем наблюдать эффект очередной рекламы на человека, которому\n",
    "и так каждый день показывают рекламу\n",
    "\n",
    "**Идея решения**\n",
    "\n",
    "Разработать алгоритм, который будет формировать каждый раз новую выборку\n",
    "для тестового запуска очередной рекламной кампании"
   ],
   "id": "51833a54dd59c39c"
  },
  {
   "metadata": {},
   "cell_type": "markdown",
   "source": [
    "**Роль**\n",
    "\n",
    "Аналитик отдела работы с клиентами\n",
    "\n",
    "**Задача**\n",
    "\n",
    "- Написать функцию на языке Python, которая формирует выборки\n",
    "- Проверить, что функция формирует выборки репрезентативно\n",
    "- Подготовить слайды: объяснить способ формирования выборок и показать,\n",
    "насколько репрезентативные выборки он формирует\n",
    "\n",
    "**Доступные данные**\n",
    "\n",
    "Датасет ark.csv содержит данные обо всех клиентах компании: возраст,\n",
    "пол, совершил ли покупку по итогам рекламной кампании\n",
    "\n",
    "**Ожидаемый результат**\n",
    "\n",
    "- Презентация на слайдах в формате pdf\n",
    "- Jupyter Notebook в Google Colab с расчётами"
   ],
   "id": "b95a69471bd0c12e"
  },
  {
   "cell_type": "code",
   "id": "initial_id",
   "metadata": {
    "collapsed": true,
    "ExecuteTime": {
     "end_time": "2024-10-27T10:54:54.537008Z",
     "start_time": "2024-10-27T10:54:53.056448Z"
    }
   },
   "source": [
    "from cProfile import label\n",
    "\n",
    "import pandas as pd\n",
    "import matplotlib.pyplot as plt\n",
    "import numpy as np\n",
    "\n",
    "df = pd.read_csv('https://raw.githubusercontent.com/zalig/cu-datasets/main/ark.csv')\n",
    "df.head()"
   ],
   "outputs": [
    {
     "data": {
      "text/plain": [
       "    Id  Age  Gender Purchased\n",
       "0  id1  <25    Male        No\n",
       "1  id2  <25  Female        No\n",
       "2  id3  <25  Female       Yes\n",
       "3  id4  <25    Male        No\n",
       "4  id5  25+    Male        No"
      ],
      "text/html": [
       "<div>\n",
       "<style scoped>\n",
       "    .dataframe tbody tr th:only-of-type {\n",
       "        vertical-align: middle;\n",
       "    }\n",
       "\n",
       "    .dataframe tbody tr th {\n",
       "        vertical-align: top;\n",
       "    }\n",
       "\n",
       "    .dataframe thead th {\n",
       "        text-align: right;\n",
       "    }\n",
       "</style>\n",
       "<table border=\"1\" class=\"dataframe\">\n",
       "  <thead>\n",
       "    <tr style=\"text-align: right;\">\n",
       "      <th></th>\n",
       "      <th>Id</th>\n",
       "      <th>Age</th>\n",
       "      <th>Gender</th>\n",
       "      <th>Purchased</th>\n",
       "    </tr>\n",
       "  </thead>\n",
       "  <tbody>\n",
       "    <tr>\n",
       "      <th>0</th>\n",
       "      <td>id1</td>\n",
       "      <td>&lt;25</td>\n",
       "      <td>Male</td>\n",
       "      <td>No</td>\n",
       "    </tr>\n",
       "    <tr>\n",
       "      <th>1</th>\n",
       "      <td>id2</td>\n",
       "      <td>&lt;25</td>\n",
       "      <td>Female</td>\n",
       "      <td>No</td>\n",
       "    </tr>\n",
       "    <tr>\n",
       "      <th>2</th>\n",
       "      <td>id3</td>\n",
       "      <td>&lt;25</td>\n",
       "      <td>Female</td>\n",
       "      <td>Yes</td>\n",
       "    </tr>\n",
       "    <tr>\n",
       "      <th>3</th>\n",
       "      <td>id4</td>\n",
       "      <td>&lt;25</td>\n",
       "      <td>Male</td>\n",
       "      <td>No</td>\n",
       "    </tr>\n",
       "    <tr>\n",
       "      <th>4</th>\n",
       "      <td>id5</td>\n",
       "      <td>25+</td>\n",
       "      <td>Male</td>\n",
       "      <td>No</td>\n",
       "    </tr>\n",
       "  </tbody>\n",
       "</table>\n",
       "</div>"
      ]
     },
     "execution_count": 1,
     "metadata": {},
     "output_type": "execute_result"
    }
   ],
   "execution_count": 1
  },
  {
   "metadata": {
    "ExecuteTime": {
     "end_time": "2024-10-27T10:56:27.431059Z",
     "start_time": "2024-10-27T10:56:27.427231Z"
    }
   },
   "cell_type": "code",
   "source": [
    "# Стили\n",
    "\n",
    "palette = {\n",
    "    'light': '#FAFAFA',\n",
    "    'black': '#141414',\n",
    "    'gray-light': '#E6E6E6',\n",
    "    'sub-gray': '#969696',\n",
    "    'green': '#009B40',\n",
    "    'electric_blue': '#3044FF',\n",
    "    'ambitious_red': '#3044FF',\n",
    "    'legent_yellow': '#FFDD2D',\n",
    "    'bright_fuchsia': '#DB45E8',\n",
    "}\n",
    "\n",
    "\n",
    "def stylize(plt, fig, ax, dark=False):\n",
    "    plt.rcParams[\"font.family\"] = 'Graphik LCG'\n",
    "    if dark:\n",
    "        plt.rcParams['axes.edgecolor'] = palette['sub-gray']\n",
    "        plt.rcParams['xtick.color'] = palette['sub-gray']\n",
    "        plt.rcParams['ytick.color'] = palette['sub-gray']\n",
    "        plt.rcParams['text.color'] = palette['light'] \n",
    "        plt.rcParams['axes.labelcolor'] = palette['light']\n",
    "        plt.rcParams['axes.titlecolor'] = palette['light']\n",
    "        fig.set_facecolor(palette['black'])\n",
    "        ax.set_facecolor(palette['black'])\n",
    "    else:\n",
    "        plt.rcParams['axes.edgecolor'] = palette['sub-gray']\n",
    "        plt.rcParams['xtick.color'] = palette['sub-gray']\n",
    "        plt.rcParams['ytick.color'] = palette['sub-gray']\n",
    "        plt.rcParams['text.color'] = palette['black'] \n",
    "        plt.rcParams['axes.labelcolor'] = palette['black']\n",
    "        plt.rcParams['axes.titlecolor'] = palette['black']\n",
    "        fig.set_facecolor(palette['light'])\n",
    "        ax.set_facecolor(palette['light'])\n",
    "        \n",
    "    plt.xticks(fontweight='semibold')\n",
    "    plt.yticks(fontweight='semibold')\n",
    "    "
   ],
   "id": "76dd08fedc7ecd1f",
   "outputs": [],
   "execution_count": 5
  },
  {
   "metadata": {},
   "cell_type": "markdown",
   "source": [
    "1. Сделать N=10 000 повторов (сформировать выборку\n",
    "и посчитать по выборке долю клиентов, купивших продукт)\n",
    "\n",
    "2. Построить гистограмму для полученных N значений,\n",
    "отметить на оси настоящую (от всех клиентов) долю\n",
    "клиентов, купивших продукт"
   ],
   "id": "a90ec8696f820aef"
  },
  {
   "metadata": {
    "ExecuteTime": {
     "end_time": "2024-10-27T10:54:54.572322Z",
     "start_time": "2024-10-27T10:54:54.565387Z"
    }
   },
   "cell_type": "code",
   "source": [
    "df['Purchased'] = df['Purchased'].map({'No': 0, 'Yes': 1})\n",
    "df.head()"
   ],
   "id": "57c9c15fc43640f8",
   "outputs": [
    {
     "data": {
      "text/plain": [
       "    Id  Age  Gender  Purchased\n",
       "0  id1  <25    Male          0\n",
       "1  id2  <25  Female          0\n",
       "2  id3  <25  Female          1\n",
       "3  id4  <25    Male          0\n",
       "4  id5  25+    Male          0"
      ],
      "text/html": [
       "<div>\n",
       "<style scoped>\n",
       "    .dataframe tbody tr th:only-of-type {\n",
       "        vertical-align: middle;\n",
       "    }\n",
       "\n",
       "    .dataframe tbody tr th {\n",
       "        vertical-align: top;\n",
       "    }\n",
       "\n",
       "    .dataframe thead th {\n",
       "        text-align: right;\n",
       "    }\n",
       "</style>\n",
       "<table border=\"1\" class=\"dataframe\">\n",
       "  <thead>\n",
       "    <tr style=\"text-align: right;\">\n",
       "      <th></th>\n",
       "      <th>Id</th>\n",
       "      <th>Age</th>\n",
       "      <th>Gender</th>\n",
       "      <th>Purchased</th>\n",
       "    </tr>\n",
       "  </thead>\n",
       "  <tbody>\n",
       "    <tr>\n",
       "      <th>0</th>\n",
       "      <td>id1</td>\n",
       "      <td>&lt;25</td>\n",
       "      <td>Male</td>\n",
       "      <td>0</td>\n",
       "    </tr>\n",
       "    <tr>\n",
       "      <th>1</th>\n",
       "      <td>id2</td>\n",
       "      <td>&lt;25</td>\n",
       "      <td>Female</td>\n",
       "      <td>0</td>\n",
       "    </tr>\n",
       "    <tr>\n",
       "      <th>2</th>\n",
       "      <td>id3</td>\n",
       "      <td>&lt;25</td>\n",
       "      <td>Female</td>\n",
       "      <td>1</td>\n",
       "    </tr>\n",
       "    <tr>\n",
       "      <th>3</th>\n",
       "      <td>id4</td>\n",
       "      <td>&lt;25</td>\n",
       "      <td>Male</td>\n",
       "      <td>0</td>\n",
       "    </tr>\n",
       "    <tr>\n",
       "      <th>4</th>\n",
       "      <td>id5</td>\n",
       "      <td>25+</td>\n",
       "      <td>Male</td>\n",
       "      <td>0</td>\n",
       "    </tr>\n",
       "  </tbody>\n",
       "</table>\n",
       "</div>"
      ]
     },
     "execution_count": 3,
     "metadata": {},
     "output_type": "execute_result"
    }
   ],
   "execution_count": 3
  },
  {
   "metadata": {
    "ExecuteTime": {
     "end_time": "2024-10-27T10:58:45.874661Z",
     "start_time": "2024-10-27T10:58:45.865942Z"
    }
   },
   "cell_type": "code",
   "source": "df['Purchased'].mean()",
   "id": "45409f53f328ff40",
   "outputs": [
    {
     "data": {
      "text/plain": [
       "np.float64(0.168175)"
      ]
     },
     "execution_count": 7,
     "metadata": {},
     "output_type": "execute_result"
    }
   ],
   "execution_count": 7
  },
  {
   "metadata": {
    "ExecuteTime": {
     "end_time": "2024-10-27T13:05:01.059837Z",
     "start_time": "2024-10-27T13:04:54.712236Z"
    }
   },
   "cell_type": "code",
   "source": [
    "\n",
    "def get_sample(df, n=400):\n",
    "    return df.sample(n)\n",
    "\n",
    "def get_sample_mean(sample):\n",
    "    return sample['Purchased'].mean()\n",
    "\n",
    "N = 10_000\n",
    "\n",
    "sample_means_simple = np.array([get_sample_mean(get_sample(df)) for _ in range(N)])\n",
    "\n",
    "fig, ax = plt.subplots(figsize=(10, 6))\n",
    "stylize(plt, fig, ax)\n",
    "plt.hist(sample_means_simple, bins=50, color=palette['electric_blue'], edgecolor=palette['light'])\n",
    "plt.axvline(df['Purchased'].mean(), color=palette['green'], label='Реальное среднее',linestyle='-', linewidth=2)\n",
    "plt.legend()\n",
    "plt.title('Гистограмма для полученных N значений')\n",
    "plt.ylabel('Частота')\n",
    "\n",
    "# Сохранение графика в файл с высоким разрешением\n",
    "plt.tight_layout()\n",
    "plt.savefig('histogram_random_sampling.png', dpi=150)\n",
    "plt.show()"
   ],
   "id": "fadeeddf140031b6",
   "outputs": [
    {
     "data": {
      "text/plain": [
       "<Figure size 1000x600 with 1 Axes>"
      ],
      "image/png": "[encoded data removed]"
     },
     "metadata": {},
     "output_type": "display_data"
    }
   ],
   "execution_count": 34
  },
  {
   "metadata": {
    "ExecuteTime": {
     "end_time": "2024-10-27T12:56:16.851817Z",
     "start_time": "2024-10-27T12:56:16.847792Z"
    }
   },
   "cell_type": "code",
   "source": [
    "# Посчитаем насколько часто случайная выборка дает отклонение от реального среднего значения больше чем на 0.01\n",
    "\n",
    "np.sum(np.abs(sample_means_simple - df['Purchased'].mean()) > 0.01) / N"
   ],
   "id": "b3cad25026311327",
   "outputs": [
    {
     "data": {
      "text/plain": [
       "np.float64(0.5986)"
      ]
     },
     "execution_count": 29,
     "metadata": {},
     "output_type": "execute_result"
    }
   ],
   "execution_count": 29
  },
  {
   "metadata": {},
   "cell_type": "markdown",
   "source": [
    "3. Сделать N=10 000 повторов (сформировать выборку и\n",
    "посчитать по выборке долю клиентов, купивших продукт).\n",
    "\n",
    "4. Построить гистограмму для полученных N значений,\n",
    "отметить на оси настоящую (от всех клиентов) долю\n",
    "клиентов, купивших продукт."
   ],
   "id": "8be5ff03084d8836"
  },
  {
   "metadata": {
    "ExecuteTime": {
     "end_time": "2024-10-27T13:06:00.305059Z",
     "start_time": "2024-10-27T13:05:01.063700Z"
    }
   },
   "cell_type": "code",
   "source": [
    "def get_stratified_sample(df, n=400):\n",
    "    stratified_sample = df.groupby(['Age', 'Gender'], group_keys=False).apply(\n",
    "        lambda x: x.sample(frac=n/len(df)),\n",
    "        include_groups=False\n",
    "    )\n",
    "    return stratified_sample\n",
    "\n",
    "# Функция для получения среднего значения по выборке\n",
    "def get_sample_mean(sample):\n",
    "    return sample['Purchased'].mean()\n",
    "\n",
    "# Количество повторов\n",
    "N = 10_000\n",
    "\n",
    "# Получение средних значений по выборкам\n",
    "sample_means_stratified = np.array([get_sample_mean(get_stratified_sample(df)) for _ in range(N)])\n",
    "\n",
    "# Построение гистограммы\n",
    "fig, ax = plt.subplots(figsize=(10, 6))\n",
    "stylize(plt, fig, ax)\n",
    "plt.hist(sample_means_stratified, bins=50, color='#3044FF', edgecolor='#FAFAFA')\n",
    "plt.axvline(df['Purchased'].mean(), color='#009B40', label='Реальное среднее', linestyle='-', linewidth=2)\n",
    "plt.legend()\n",
    "plt.title('Гистограмма для полученных N значений')\n",
    "plt.ylabel('Частота')\n",
    "\n",
    "# Сохранение графика в файл с высоким разрешением\n",
    "plt.tight_layout()\n",
    "plt.savefig('histogram_stratified_sampling.png', dpi=150)\n",
    "plt.show()"
   ],
   "id": "4b725af4a164e49b",
   "outputs": [
    {
     "data": {
      "text/plain": [
       "<Figure size 1000x600 with 1 Axes>"
      ],
      "image/png": "[encoded data removed]"
     },
     "metadata": {},
     "output_type": "display_data"
    }
   ],
   "execution_count": 35
  },
  {
   "metadata": {
    "ExecuteTime": {
     "end_time": "2024-10-27T12:23:56.446516Z",
     "start_time": "2024-10-27T12:23:56.438617Z"
    }
   },
   "cell_type": "code",
   "source": [
    "# Посчитаем насколько часто случайная выборка дает отклонение от реального среднего значения больше чем на 0.01\n",
    "\n",
    "np.sum(np.abs(sample_means_stratified - df['Purchased'].mean()) > 0.01) / N"
   ],
   "id": "d275e5cb1b2ade0f",
   "outputs": [
    {
     "data": {
      "text/plain": [
       "np.float64(0.595)"
      ]
     },
     "execution_count": 25,
     "metadata": {},
     "output_type": "execute_result"
    }
   ],
   "execution_count": 25
  },
  {
   "metadata": {},
   "cell_type": "markdown",
   "source": [
    "Сравнить на слайде метод простой случайной выборки и\n",
    "метод стратифицированной случайной выборки."
   ],
   "id": "110b9c3a345cf80b"
  },
  {
   "metadata": {
    "ExecuteTime": {
     "end_time": "2024-10-27T13:17:55.105639Z",
     "start_time": "2024-10-27T13:17:54.905714Z"
    }
   },
   "cell_type": "code",
   "source": [
    "\n",
    "# Построение гистограммы\n",
    "fig, ax = plt.subplots(figsize=(10, 6))\n",
    "stylize(plt, fig, ax)\n",
    "\n",
    "# Гистограмма для случайных выборок\n",
    "plt.hist(sample_means_simple, bins=50, color=palette['electric_blue'], label='Случайная выборка')\n",
    "\n",
    "# Гистограмма для стратифицированных выборок\n",
    "plt.hist(sample_means_stratified, bins=50, color=palette['bright_fuchsia'], alpha=0.5, label='Стратифицированная выборка')\n",
    "\n",
    "# Добавление линии для реального среднего значения\n",
    "plt.axvline(df['Purchased'].mean(), color=palette['green'], label='Реальное среднее', linestyle='-', linewidth=2)\n",
    "\n",
    "# Добавление легенды\n",
    "plt.legend()\n",
    "plt.title('Гистограмма для полученных N значений')\n",
    "plt.ylabel('Частота')\n",
    "\n",
    "# Сохранение графика в файл с высоким разрешением\n",
    "plt.tight_layout()\n",
    "plt.savefig('histogram_combined_sampling.png', dpi=150)\n",
    "plt.show()"
   ],
   "id": "e09e8d2a017b8e30",
   "outputs": [
    {
     "data": {
      "text/plain": [
       "<Figure size 1000x600 with 1 Axes>"
      ],
      "image/png": "[encoded data removed]"
     },
     "metadata": {},
     "output_type": "display_data"
    }
   ],
   "execution_count": 40
  }
 ],
 "metadata": {
  "kernelspec": {
   "display_name": "Python 3",
   "language": "python",
   "name": "python3"
  },
  "language_info": {
   "codemirror_mode": {
    "name": "ipython",
    "version": 2
   },
   "file_extension": ".py",
   "mimetype": "text/x-python",
   "name": "python",
   "nbconvert_exporter": "python",
   "pygments_lexer": "ipython2",
   "version": "2.7.6"
  }
 },
 "nbformat": 4,
 "nbformat_minor": 5
}
