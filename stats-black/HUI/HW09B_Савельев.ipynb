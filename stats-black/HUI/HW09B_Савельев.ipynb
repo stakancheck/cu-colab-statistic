{
 "cells": [
  {
   "cell_type": "markdown",
   "metadata": {
    "deletable": false,
    "editable": false,
    "id": "eyFOyx3tke7i",
    "pycharm": {
     "name": "#%% md\n"
    }
   },
   "source": [
    "# *Синий трек*\n",
    "## Задачи по теме «Работа с файлами»\n",
    "\n",
    "\n",
    "Решая задачи, ты научишься работать с:\n",
    "\n",
    "- текстовыми данными,\n",
    "- бинарными файлами,\n",
    "- JSON-ами.\n",
    "\n",
    "Время решения: ~1 час."
   ]
  },
  {
   "cell_type": "markdown",
   "metadata": {
    "deletable": false,
    "editable": false,
    "id": "953O_NcEk4_j",
    "pycharm": {
     "name": "#%% md\n"
    }
   },
   "source": [
    "## Оценивание домашнего задания\n",
    "\n",
    "\n",
    "**Система оценивания** — бинарная:\n",
    "\n",
    "  - если все задачи решены корректно, без ошибок и полностью соответствуют стандартам кода на курсе, то задание выполнено и оценка — **7 баллов**;\n",
    "  - если решения содержат ошибки или не соответствуют требованиям, то задание не выполнено и оценка — **0 баллов**.  \n",
    "\n",
    "\n",
    "**Проверка задания**\n",
    "\n",
    "- Перед тем как сдать задание, убедись, что твой код работает без ошибок и соответствует стандартам. Для этого используй автоматическую проверку.\n",
    "- Загрузи задание в LMS. Ассистент проверит, соответствуют ли твои решения требованиям и целям задания, и выставит оценку.\n",
    "\n",
    "\n",
    "**Доработка**\n",
    "\n",
    "  - Если твоё задание получило 0 баллов, его вернут на доработку через LMS с комментариями о том, что нужно исправить."
   ]
  },
  {
   "cell_type": "markdown",
   "metadata": {
    "deletable": false,
    "editable": false,
    "id": "iEJnrbUaJWET",
    "pycharm": {
     "name": "#%% md\n"
    }
   },
   "source": [
    "Компании, которая занимается поставкой товаров и управлением складом, нужно разработать инструменты для автоматизации складских отчётов и отслеживания событий на складе."
   ]
  },
  {
   "cell_type": "markdown",
   "metadata": {
    "deletable": false,
    "editable": false,
    "id": "ShrbnxLUJLWD",
    "pycharm": {
     "name": "#%% md\n"
    }
   },
   "source": [
    "### Задача 1\n",
    "\n",
    "\n",
    "\n",
    "Создай текстовый файл `inventory_report.txt`, где будет храниться информация о поступлении товаров на склад. В первой строке файла должна быть записана дата поступления, во второй строке — общее количество товаров, а в третьей строке — общая стоимость поступивших товаров.\n",
    "\n",
    "Формат ввода:\n",
    "\n",
    "* Первая строка: текущая дата (например, 2024-09-01).\n",
    "* Вторая строка: количество поступивших товаров (целое число).\n",
    "* Третья строка: общая стоимость товаров (число с двумя знаками после запятой).\n",
    "\n",
    "Формат вывода: файл `inventory_report.txt` должен содержать три строки с соответствующей информацией.\n",
    "\n",
    "Если всё написать правильно, получится файл, в котором будут три строки вида:\n",
    "\n",
    "    2024-09-01\n",
    "    200\n",
    "    5000.50"
   ]
  },
  {
   "cell_type": "code",
   "execution_count": null,
   "metadata": {
    "deletable": false,
    "ejudge": "blue_hw09_cell01",
    "id": "aDlwWISJnz3v",
    "pycharm": {
     "name": "#%%\n"
    }
   },
   "outputs": [],
   "source": [
    "\n",
    "with open(\"inventory_report.txt\", \"w\") as file:\n",
    "    file.write(input() + \"\\n\")\n",
    "    file.write(input() + \"\\n\")\n",
    "    file.write(input() + \"\\n\")\n"
   ]
  },
  {
   "cell_type": "markdown",
   "metadata": {
    "deletable": false,
    "editable": false,
    "id": "fpjU5CYlJLWG",
    "pycharm": {
     "name": "#%% md\n"
    }
   },
   "source": [
    "### Задача 2\n",
    "\n",
    "Создай систему логирования событий на складе, которая будет добавлять записи о выполненных операциях в файл `warehouse_log.txt`. Каждое новое событие должно добавляться в конец файла с новой строки. Если файл не существует, нужно его создать.\n",
    "\n",
    "Формат ввода:\n",
    "\n",
    "* В каждой строке содержится описание события (например, «Товары поступили на склад»).\n",
    "* Строки поступают на вход по одной с клавиатуры.\n",
    "\n",
    "Формат вывода: файл `warehouse_log.txt` должен содержать все введённые события, каждое на новой строке."
   ]
  },
  {
   "cell_type": "markdown",
   "metadata": {
    "deletable": false,
    "editable": false,
    "id": "qjoKXXS9JLWG",
    "pycharm": {
     "name": "#%% md\n"
    }
   },
   "source": [
    "Если всё сделать правильно, при вводе трёх строк\n",
    "\n",
    "    Товары поступили на склад\n",
    "    Товары были перемещены на другой склад\n",
    "    Товары отправлены клиенту\n",
    "\n",
    "должен появиться файл `warehouse_log.txt` с этими строками.\n",
    "\n",
    "**Важно**. При повторном запуске программы **все накопленные данные должны сохраниться**."
   ]
  },
  {
   "cell_type": "code",
   "execution_count": null,
   "metadata": {
    "deletable": false,
    "ejudge": "blue_hw09_cell02",
    "id": "DCs4JhigJLWH",
    "pycharm": {
     "name": "#%%\n"
    }
   },
   "outputs": [],
   "source": [
    "\n",
    "with open(\"warehouse_log.txt\", \"a\") as file:\n",
    "    while True:\n",
    "        event = input()\n",
    "        if event == \"\":\n",
    "            break\n",
    "        file.write(event + \"\\n\")\n"
   ]
  },
  {
   "cell_type": "markdown",
   "metadata": {
    "deletable": false,
    "editable": false,
    "id": "EaW1VOvJJLWH",
    "pycharm": {
     "name": "#%% md\n"
    }
   },
   "source": [
    "### Задача 3\n",
    "\n",
    "После инвентаризации нужно сохранить информацию о текущем состоянии склада в JSON-файл `warehouse_state.json`. В этом файле должна храниться информация о товарах на складе: название товара, количество и цена за единицу.\n",
    "\n",
    "Формат ввода:\n",
    "\n",
    "* Количество товаров (целое число).\n",
    "* Для каждого товара:\n",
    "  * название товара (строка),\n",
    "  * количество (целое число),\n",
    "  * цена за единицу (число с двумя знаками после запятой).\n",
    "\n",
    "Пример ввода:\n",
    "\n",
    "    2\n",
    "    Товар1\n",
    "    10\n",
    "    25.50\n",
    "    Товар2\n",
    "    5\n",
    "    15.75\n",
    "Формат вывода:\n",
    "\n",
    "- Файл `warehouse_state.json` должен содержать информацию о всех товарах в следующем формате:\n",
    "    ```json\n",
    "    [\n",
    "       {'name': 'Товар1', 'quantity': 10, 'price': 25.50},\n",
    "       {'name': 'Товар2', 'quantity': 5, 'price': 15.75}\n",
    "    ]\n",
    "    ```"
   ]
  },
  {
   "cell_type": "code",
   "execution_count": null,
   "metadata": {
    "deletable": false,
    "ejudge": "blue_hw09_cell03",
    "id": "E0rcrztSJLWH",
    "pycharm": {
     "name": "#%%\n"
    }
   },
   "outputs": [],
   "source": [
    "import json\n",
    "\n",
    "\n",
    "products = []\n",
    "\n",
    "n = int(input())\n",
    "for _ in range(n):\n",
    "    name = input()\n",
    "    quantity = int(input())\n",
    "    price = float(input())\n",
    "    products.append({\"name\": name, \"quantity\": quantity, \"price\": price})\n",
    "\n",
    "\n",
    "with open(\"warehouse_state.json\", \"w\") as file:\n",
    "    json.dump(products, file, indent=4)\n",
    "    \n"
   ]
  },
  {
   "cell_type": "markdown",
   "metadata": {
    "deletable": false,
    "editable": false,
    "id": "xdv6vsk8JLWH",
    "pycharm": {
     "name": "#%% md\n"
    }
   },
   "source": [
    "### Задача 4\n",
    "\n",
    "Теперь нужно загрузить информацию о текущем состоянии склада из JSON-файла `warehouse_state.json` и вывести данные в читаемом виде. Выведи название товара, количество на складе и общую стоимость этого товара (количество * цена).\n",
    "\n",
    "Формат ввода: нет (используется содержимое файла `warehouse_state.json`).\n",
    "\n",
    "Формат вывода: в каждой строке есть название товара, количество, общая стоимость.\n",
    "\n",
    "Пример вывода:\n",
    "\n",
    "    Товар1: 10 штук, общая стоимость 255.00\n",
    "    Товар2: 5 штук, общая стоимость 78.75\n"
   ]
  },
  {
   "cell_type": "code",
   "execution_count": null,
   "metadata": {
    "deletable": false,
    "ejudge": "blue_hw09_cell04",
    "id": "ARJyrzN9JLWI",
    "pycharm": {
     "name": "#%%\n"
    }
   },
   "outputs": [],
   "source": [
    "import json\n",
    "\n",
    "with open(\"warehouse_state.json\") as file:\n",
    "    products = json.load(file)\n",
    "\n",
    "for product in products:\n",
    "    name = product[\"name\"]\n",
    "    quantity = product[\"quantity\"]\n",
    "    price = product[\"price\"]\n",
    "    total_price = quantity * price\n",
    "    print(f\"{name}: {quantity} штук, общая стоимость {total_price:.2f}\")\n"
   ]
  },
  {
   "cell_type": "markdown",
   "metadata": {
    "deletable": false,
    "editable": false,
    "id": "nm4G0m60JLWI",
    "pycharm": {
     "name": "#%% md\n"
    }
   },
   "source": [
    "### Задача 5\n",
    "\n",
    "Нужно обновить данные о товарах на складе в JSON-файле `warehouse_state.json` — увеличить количество определённого товара на складе. Обновленная информация должна быть сохранена в том же JSON-файле.\n",
    "\n",
    "Формат ввода:\n",
    "\n",
    "* Название товара (строка).\n",
    "* Дополнительное количество (целое число).\n",
    "\n",
    "Формат вывода: файл `warehouse_state.json` должен быть обновлён с учётом новых данных.\n",
    "\n",
    "Пример ввода:\n",
    "    Товар1\n",
    "    5\n",
    "\n",
    "Пример вывода:\n",
    "\n",
    "    [\n",
    "        {'name': 'Товар1', 'quantity': 15, 'price': 25.50},\n",
    "        {'name': 'Товар2', 'quantity': 5, 'price': 15.75}\n",
    "    ]"
   ]
  },
  {
   "cell_type": "code",
   "metadata": {
    "deletable": false,
    "ejudge": "blue_hw09_cell05",
    "id": "28FvKxJ8JLWI",
    "pycharm": {
     "name": "#%%\n"
    },
    "ExecuteTime": {
     "end_time": "2024-11-17T18:47:17.888801Z",
     "start_time": "2024-11-17T18:47:17.783199Z"
    }
   },
   "source": [
    "import json\n",
    "\n",
    "with open(\"warehouse_state.json\") as file:\n",
    "    products = json.load(file)\n",
    "\n",
    "update_name = \"Товар1\"\n",
    "additional_quantity = 5\n",
    "\n",
    "for product in products:\n",
    "    if product[\"name\"] == update_name:\n",
    "        product[\"quantity\"] += additional_quantity\n",
    "\n",
    "with open(\"warehouse_state.json\", \"w\") as file:\n",
    "    json.dump(products, file, indent=4)\n",
    "    \n",
    "print(products)\n"
   ],
   "outputs": [
    {
     "ename": "FileNotFoundError",
     "evalue": "[Errno 2] No such file or directory: 'warehouse_state.json'",
     "output_type": "error",
     "traceback": [
      "\u001B[0;31m---------------------------------------------------------------------------\u001B[0m",
      "\u001B[0;31mFileNotFoundError\u001B[0m                         Traceback (most recent call last)",
      "Cell \u001B[0;32mIn[1], line 5\u001B[0m\n\u001B[1;32m      2\u001B[0m \u001B[38;5;28;01mimport\u001B[39;00m \u001B[38;5;21;01mjson\u001B[39;00m\n\u001B[1;32m      4\u001B[0m \u001B[38;5;66;03m# Загрузка данных из JSON-файла\u001B[39;00m\n\u001B[0;32m----> 5\u001B[0m \u001B[38;5;28;01mwith\u001B[39;00m \u001B[38;5;28;43mopen\u001B[39;49m\u001B[43m(\u001B[49m\u001B[38;5;124;43m\"\u001B[39;49m\u001B[38;5;124;43mwarehouse_state.json\u001B[39;49m\u001B[38;5;124;43m\"\u001B[39;49m\u001B[43m)\u001B[49m \u001B[38;5;28;01mas\u001B[39;00m file:\n\u001B[1;32m      6\u001B[0m     products \u001B[38;5;241m=\u001B[39m json\u001B[38;5;241m.\u001B[39mload(file)\n\u001B[1;32m      8\u001B[0m \u001B[38;5;66;03m# Ввод данных\u001B[39;00m\n",
      "File \u001B[0;32m~/Projects/cu-colab-statistic/venv/lib/python3.12/site-packages/IPython/core/interactiveshell.py:324\u001B[0m, in \u001B[0;36m_modified_open\u001B[0;34m(file, *args, **kwargs)\u001B[0m\n\u001B[1;32m    317\u001B[0m \u001B[38;5;28;01mif\u001B[39;00m file \u001B[38;5;129;01min\u001B[39;00m {\u001B[38;5;241m0\u001B[39m, \u001B[38;5;241m1\u001B[39m, \u001B[38;5;241m2\u001B[39m}:\n\u001B[1;32m    318\u001B[0m     \u001B[38;5;28;01mraise\u001B[39;00m \u001B[38;5;167;01mValueError\u001B[39;00m(\n\u001B[1;32m    319\u001B[0m         \u001B[38;5;124mf\u001B[39m\u001B[38;5;124m\"\u001B[39m\u001B[38;5;124mIPython won\u001B[39m\u001B[38;5;124m'\u001B[39m\u001B[38;5;124mt let you open fd=\u001B[39m\u001B[38;5;132;01m{\u001B[39;00mfile\u001B[38;5;132;01m}\u001B[39;00m\u001B[38;5;124m by default \u001B[39m\u001B[38;5;124m\"\u001B[39m\n\u001B[1;32m    320\u001B[0m         \u001B[38;5;124m\"\u001B[39m\u001B[38;5;124mas it is likely to crash IPython. If you know what you are doing, \u001B[39m\u001B[38;5;124m\"\u001B[39m\n\u001B[1;32m    321\u001B[0m         \u001B[38;5;124m\"\u001B[39m\u001B[38;5;124myou can use builtins\u001B[39m\u001B[38;5;124m'\u001B[39m\u001B[38;5;124m open.\u001B[39m\u001B[38;5;124m\"\u001B[39m\n\u001B[1;32m    322\u001B[0m     )\n\u001B[0;32m--> 324\u001B[0m \u001B[38;5;28;01mreturn\u001B[39;00m \u001B[43mio_open\u001B[49m\u001B[43m(\u001B[49m\u001B[43mfile\u001B[49m\u001B[43m,\u001B[49m\u001B[43m \u001B[49m\u001B[38;5;241;43m*\u001B[39;49m\u001B[43margs\u001B[49m\u001B[43m,\u001B[49m\u001B[43m \u001B[49m\u001B[38;5;241;43m*\u001B[39;49m\u001B[38;5;241;43m*\u001B[39;49m\u001B[43mkwargs\u001B[49m\u001B[43m)\u001B[49m\n",
      "\u001B[0;31mFileNotFoundError\u001B[0m: [Errno 2] No such file or directory: 'warehouse_state.json'"
     ]
    }
   ],
   "execution_count": 1
  },
  {
   "cell_type": "markdown",
   "metadata": {
    "deletable": false,
    "editable": false,
    "id": "gS0mS98C-C9f",
    "pycharm": {
     "name": "#%% md\n"
    }
   },
   "source": [
    "### Задача 6\n",
    "\n",
    " К сожалению, не все в компании умеют работать с JSON-форматом, и требуют давать им информацию только в виде CSV-файлов. Твоя задача — создать CSV-файл `'products.csv'`. В этом файле будут храниться название товара, его количество и цена за единицу. Каждая новая строка файла должна добавляться в конец файла, а если файл еще не существует — программа должна создать его.\n",
    "\n",
    "Для этой задачи ты будешь использовать `csv.DictWriter`, чтобы записать данные в CSV-файл.\n",
    "\n",
    "**Входные данные:**\n",
    "\n",
    "> Данные для записи получаются через функцию input()\n",
    "\n",
    "* Количество товаров (целое число).\n",
    "* Для каждого товара:\n",
    "  * Название товара (строка) - `name`.\n",
    "  * Количество (целое число) - `quantity`.\n",
    "  * Цена за единицу (число с двумя знаками после запятой) - `price`.\n",
    "\n",
    "**Результат работы программы:**\n",
    "\n",
    "Файл `'products.csv'`, в котором будет записана информация о товарах в формате:\n",
    "\n",
    "    name,quantity,price\n",
    "    Товар1,10,25.50\n",
    "    Товар2,5,15.75\n",
    "\n"
   ]
  },
  {
   "cell_type": "code",
   "execution_count": null,
   "metadata": {
    "deletable": false,
    "ejudge": "blue_hw09_cell06",
    "id": "UQfhMRlyqZdj",
    "pycharm": {
     "name": "#%%\n"
    }
   },
   "outputs": [],
   "source": [
    "\n",
    "\n",
    "import csv\n",
    "\n",
    "n = int(input())\n",
    "products = []\n",
    "for _ in range(n):\n",
    "    name = input()\n",
    "    quantity = int(input())\n",
    "    price = float(input())\n",
    "    products.append({\"name\": name\n",
    "                        \"quantity\": quantity,\n",
    "                        \"price\": price})\n",
    "    \n",
    "with open(\"products.csv\", \"w\", newline=\"\") as file:\n",
    "    writer = csv.DictWriter(file, fieldnames=[\"name\", \"quantity\", \"price\"])\n",
    "    writer.writeheader()\n",
    "    writer.writerows(products)\n",
    "    \n",
    "with open(\"products.csv\") as file:\n",
    "    print(file.read())\n"
   ]
  },
  {
   "cell_type": "markdown",
   "metadata": {
    "deletable": false,
    "editable": false,
    "id": "qDP5mTBv-xdU",
    "pycharm": {
     "name": "#%% md\n"
    }
   },
   "source": [
    "### Задача 7\n",
    "\n",
    "Тебе нужно прочитать данные из CSV-файла `'products.csv'` и рассчитать общую стоимость каждого товара на складе. Ты должен загрузить данные с помощью `csv.DictReader`, рассчитать общую стоимость для каждого товара (количество умножить на цену) и вывести результат на экран в читаемом формате.\n",
    "\n",
    "**Входные данные:**\n",
    "\n",
    "На входе имеется CSV-файл `'products.csv'`, в котором хранятся данные о товарах в формате:\n",
    "\n",
    "    name,quantity,price\n",
    "    Товар1,10,25.50\n",
    "    Товар2,5,15.75\n",
    "\n",
    "**Формат вывода:**\n",
    "\n",
    "    Товар1: 10 штук, общая стоимость 255.00\n",
    "    Товар2: 5 штук, общая стоимость 78.75\n"
   ]
  },
  {
   "cell_type": "code",
   "execution_count": null,
   "metadata": {
    "deletable": false,
    "ejudge": "blue_hw09_cell07",
    "id": "5rK0DWBXqmKV",
    "pycharm": {
     "name": "#%%\n"
    }
   },
   "outputs": [],
   "source": [
    "\n",
    "import csv\n",
    "\n",
    "with open(\"products.csv\") as file:\n",
    "    reader = csv.DictReader(file)\n",
    "    for row in reader:\n",
    "        name = row[\"name\"]\n",
    "        quantity = int(row[\"quantity\"])\n",
    "        price = float(row[\"price\"])\n",
    "        total_price = quantity * price\n",
    "        print(f\"{name}: {quantity} штук, общая стоимость {total_price:.2f}\")\n",
    "        \n"
   ]
  },
  {
   "cell_type": "markdown",
   "metadata": {
    "deletable": false,
    "editable": false,
    "id": "1bX4_pgbJLWK",
    "pycharm": {
     "name": "#%% md\n"
    }
   },
   "source": [
    "### Задача 8\n",
    "\n",
    "Стажёр написал несколько функций для управления складом, но код явно не в Pythonic-стиле.  \n",
    "\n",
    "Перепиши функцию для увеличения количества каждого товара на складе так, чтобы она стала более компактной и читаемой. Используя `list comprehension`.\n",
    "\n",
    "Исходная функция:"
   ]
  },
  {
   "cell_type": "code",
   "execution_count": null,
   "metadata": {
    "deletable": false,
    "id": "mpWVjP-UJLWK",
    "pycharm": {
     "name": "#%%\n"
    }
   },
   "outputs": [],
   "source": [
    "def increase_stock(stock, increment):\n",
    "    new_stock = []\n",
    "    for item in stock:\n",
    "        new_stock.append(item + increment)\n",
    "    return new_stock"
   ]
  },
  {
   "cell_type": "markdown",
   "metadata": {
    "deletable": false,
    "editable": false,
    "id": "yF2vFi-gJLWK",
    "pycharm": {
     "name": "#%% md\n"
    }
   },
   "source": [
    "Формат ввода:\n",
    "\n",
    "* Список чисел `stock` (количество каждого товара).\n",
    "* Целое число `increment` (увеличение для каждого товара).\n",
    "\n",
    "Формат вывода: новый список, где каждое значение увеличено на `increment`.\n",
    "\n",
    "Пример ввода:\n",
    "\n",
    "    [10, 20, 30]\n",
    "    5\n",
    "Пример вывода:\n",
    "\n",
    "    [15, 25, 35]\n"
   ]
  },
  {
   "cell_type": "code",
   "execution_count": null,
   "metadata": {
    "deletable": false,
    "ejudge": "blue_hw09_cell08",
    "id": "oHraHYvCppKG",
    "pycharm": {
     "name": "#%%\n"
    }
   },
   "outputs": [],
   "source": [
    "\n",
    "def increase_stock(stock, increment):\n",
    "    return [item + increment for item in stock]\n",
    "\n",
    "stock = list(map(int, input().split()))\n",
    "increment = int(input())\n",
    "\n",
    "print(increase_stock(stock, increment))\n"
   ]
  },
  {
   "cell_type": "markdown",
   "metadata": {
    "deletable": false,
    "editable": false,
    "id": "aw85OJDOJLWL",
    "pycharm": {
     "name": "#%% md\n"
    }
   },
   "source": [
    "### Задача 9\n",
    "\n",
    "Стажёр написал функцию, которая одновременно сортирует список товаров по цене и сохраняет отсортированный список в файл. Это нарушает принцип единственной ответственности.\n",
    "\n",
    "Раздели функцию на две:\n",
    "\n",
    "`sort_items_by_price(items)` - для сортировки\n",
    "`save_items_to_file(items, filename)` для сохранения в файл.\n",
    "\n",
    "Исходная функция:\n",
    "\n"
   ]
  },
  {
   "cell_type": "code",
   "execution_count": null,
   "metadata": {
    "deletable": false,
    "id": "fRcmn5SYJLWM",
    "pycharm": {
     "name": "#%%\n"
    }
   },
   "outputs": [],
   "source": [
    "def sort_and_save_items(items, filename):\n",
    "    sorted_items = sorted(items, key=lambda x: x['price'])\n",
    "    with open(filename, 'w') as file:\n",
    "        for item in sorted_items:\n",
    "            file.write(f\"{item['name']}: {item['price']}\\n\")"
   ]
  },
  {
   "cell_type": "markdown",
   "metadata": {
    "deletable": false,
    "editable": false,
    "id": "H_97KMGaJLWM",
    "pycharm": {
     "name": "#%% md\n"
    }
   },
   "source": [
    "Формат ввода:\n",
    "\n",
    "* Список словарей `items`, где каждый словарь представляет товар с полями `name` и `price`.\n",
    "* Имя файла `filename` (строка).\n",
    "\n",
    "Формат вывода: отсортированный список сохраняется в указанный файл.\n",
    "\n",
    "Пример ввода:\n",
    "\n",
    "    items = [\n",
    "        {'name': 'Товар1', 'price': 50},\n",
    "        {'name': 'Товар2', 'price': 30},\n",
    "        {'name': 'Товар3', 'price': 40}\n",
    "    ]\n",
    "    filename = 'sorted_items.txt'\n",
    "\n",
    "Пример вывода: файл sorted_items.txt\n",
    "\n",
    "    Товар2: 30\n",
    "    Товар3: 40\n",
    "    Товар1: 50"
   ]
  },
  {
   "cell_type": "code",
   "execution_count": null,
   "metadata": {
    "deletable": false,
    "ejudge": "blue_hw09_cell09",
    "id": "h2AvUm4jJLWM",
    "pycharm": {
     "name": "#%%\n"
    }
   },
   "outputs": [],
   "source": [
    "def sort_items_by_price(items):\n",
    "    return sorted(items, key=lambda x: x['price'])\n",
    "\n",
    "def save_items_to_file(items, filename):\n",
    "    with open(filename, 'w') as file:\n",
    "        for item in items:\n",
    "            file.write(f\"{item['name']}: {item['price']}\\n\")\n",
    "\n",
    "items = [\n",
    "    {'name': 'Товар1', 'price': 50},\n",
    "    {'name': 'Товар2', 'price': 30},\n",
    "    {'name': 'Товар3', 'price': 40}\n",
    "]\n",
    "filename = input()\n",
    "\n",
    "sorted_items = sort_items_by_price(items)\n",
    "save_items_to_file(sorted_items, filename)\n"
   ]
  },
  {
   "cell_type": "markdown",
   "metadata": {
    "deletable": false,
    "editable": false,
    "id": "4cXb_LQQJLWM",
    "pycharm": {
     "name": "#%% md\n"
    }
   },
   "source": [
    "### Задача 10\n",
    "\n",
    "Стажёр написал код для вывода индексов и цен товаров, но сделал это не вполне в Pythonic-стиле.\n",
    "\n",
    "Перепиши код с использованием `enumerate`.\n",
    "\n",
    "Исходный код:"
   ]
  },
  {
   "cell_type": "code",
   "execution_count": null,
   "metadata": {
    "deletable": false,
    "id": "YcSKvBucJLWM",
    "pycharm": {
     "name": "#%%\n"
    }
   },
   "outputs": [],
   "source": [
    "def print_item_prices(items):\n",
    "    index = 0\n",
    "    for item in items:\n",
    "        print(f'Item {index}: {item['prie']}')\n",
    "        index += 1"
   ]
  },
  {
   "cell_type": "markdown",
   "metadata": {
    "deletable": false,
    "editable": false,
    "id": "mU8RFknIJLWM",
    "pycharm": {
     "name": "#%% md\n"
    }
   },
   "source": [
    "Формат ввода: список словарей `items`, где каждый словарь представляет товар с полями `name` и `price`.\n",
    "\n",
    "Формат вывода: индекс и цена каждого товара.\n",
    "\n",
    "Пример ввода:\n",
    "\n",
    "    items = [\n",
    "        {'name': 'Товар1', 'price': 50},\n",
    "        {'name': 'Товар2', 'price': 30},\n",
    "        {'name': 'Товар3', 'price': 40}\n",
    "    ]\n",
    "\n",
    "Пример вывода:\n",
    "\n",
    "    Item 0: 50\n",
    "    Item 1: 30\n",
    "    Item 2: 40"
   ]
  },
  {
   "cell_type": "code",
   "execution_count": null,
   "metadata": {
    "deletable": false,
    "ejudge": "blue_hw09_cell10",
    "id": "tFpVESK2JLWM",
    "pycharm": {
     "name": "#%%\n"
    }
   },
   "outputs": [],
   "source": [
    "def print_item_prices(items):\n",
    "    for index, item in enumerate(items):\n",
    "        print(f'Item {index}: {item[\"price\"]}')\n",
    "\n",
    "items = [\n",
    "    {'name': 'Товар1', 'price': 50},\n",
    "    {'name': 'Товар2', 'price': 30},\n",
    "    {'name': 'Товар3', 'price': 40}\n",
    "]\n",
    "\n",
    "print_item_prices(items)"
   ]
  }
 ],
 "metadata": {
  "colab": {
   "provenance": []
  },
  "kernelspec": {
   "display_name": "Python 3 (ipykernel)",
   "name": "python3",
   "language": "python"
  },
  "language_info": {
   "name": "python"
  }
 },
 "nbformat": 4,
 "nbformat_minor": 0
}
