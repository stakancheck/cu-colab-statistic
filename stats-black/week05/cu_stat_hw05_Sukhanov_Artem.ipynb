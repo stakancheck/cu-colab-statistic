{
 "nbformat": 4,
 "nbformat_minor": 0,
 "metadata": {
  "colab": {
   "provenance": [],
   "collapsed_sections": [
    "svuyvucg7-GV",
    "8v5DAxr8ar3q",
    "nurOFE7FsgUS",
    "OsApfNnVeRdK"
   ],
   "toc_visible": true
  },
  "kernelspec": {
   "name": "python3",
   "display_name": "Python 3 (ipykernel)",
   "language": "python"
  },
  "language_info": {
   "name": "python"
  }
 },
 "cells": [
  {
   "cell_type": "markdown",
   "source": [
    "# Задача 1. Найди распределение в генеральной совокупности"
   ],
   "metadata": {
    "id": "M_oqgF9W8ALy"
   }
  },
  {
   "cell_type": "markdown",
   "source": [
    "##1. (blue, баллы: 1.5) Дана генеральная совокупность равновероятных исходов.\n",
    "\n",
    "  ![model1.png](data:image/png;base64,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)\n",
    "\n",
    "  Построй таблицу распределения пола в генеральной совокупности.   "
   ],
   "metadata": {
    "id": "svuyvucg7-GV"
   }
  },
  {
   "cell_type": "markdown",
   "source": "**Решение**",
   "metadata": {
    "id": "LaA9xuZf2O92"
   }
  },
  {
   "metadata": {
    "ExecuteTime": {
     "end_time": "2024-10-17T12:42:59.854690Z",
     "start_time": "2024-10-17T12:42:59.623281Z"
    }
   },
   "cell_type": "code",
   "source": [
    "import pandas as pd\n",
    "\n",
    "# Gender\n",
    "# Male\n",
    "# Female\n",
    "# Female\n",
    "# Male\n",
    "# Male\n",
    "\n",
    "df = pd.DataFrame({'Gender': ['Male', 'Female', 'Female', 'Male', 'Male']})\n",
    "df_distr = df['Gender'].value_counts(normalize=True).to_frame()\n",
    "df_distr.style.format(precision=2).set_caption(\n",
    "    \"Распределение пола в генеральной совокупности\")"
   ],
   "outputs": [
    {
     "data": {
      "text/plain": [
       "<pandas.io.formats.style.Styler at 0x107ad3650>"
      ],
      "text/html": [
       "<style type=\"text/css\">\n",
       "</style>\n",
       "<table id=\"T_35470\">\n",
       "  <caption>Распределение пола в генеральной совокупности</caption>\n",
       "  <thead>\n",
       "    <tr>\n",
       "      <th class=\"blank level0\" >&nbsp;</th>\n",
       "      <th id=\"T_35470_level0_col0\" class=\"col_heading level0 col0\" >proportion</th>\n",
       "    </tr>\n",
       "    <tr>\n",
       "      <th class=\"index_name level0\" >Gender</th>\n",
       "      <th class=\"blank col0\" >&nbsp;</th>\n",
       "    </tr>\n",
       "  </thead>\n",
       "  <tbody>\n",
       "    <tr>\n",
       "      <th id=\"T_35470_level0_row0\" class=\"row_heading level0 row0\" >Male</th>\n",
       "      <td id=\"T_35470_row0_col0\" class=\"data row0 col0\" >0.60</td>\n",
       "    </tr>\n",
       "    <tr>\n",
       "      <th id=\"T_35470_level0_row1\" class=\"row_heading level0 row1\" >Female</th>\n",
       "      <td id=\"T_35470_row1_col0\" class=\"data row1 col0\" >0.40</td>\n",
       "    </tr>\n",
       "  </tbody>\n",
       "</table>\n"
      ]
     },
     "execution_count": 3,
     "metadata": {},
     "output_type": "execute_result"
    }
   ],
   "execution_count": 3
  },
  {
   "cell_type": "markdown",
   "source": [
    "## 2. (red, баллы: 1.5) Дана генеральная совокупность равновероятных исходов.\n",
    "\n",
    "  ![model2.png](data:image/png;base64,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)\n",
    "\n",
    "  Найди распределение и покажи в виде «одномерной» таблицы:\n",
    "  - Два столбца: (X,Y) и Prob.\n",
    "  - Строка соответствует паре значений $(X,Y)$ и вероятности такой пары.\n",
    "\n",
    "  Найди распределение и покажи в виде «двумерной» таблицы:\n",
    "  - Столбец соответствует значению $X$.\n",
    "  - Строка соответствует значению $Y$.\n",
    "  - В ячейке — вероятность соответствующей пары $(X,Y)$."
   ],
   "metadata": {
    "id": "k72fgCrt8Def"
   }
  },
  {
   "cell_type": "markdown",
   "source": [
    "**Решение**"
   ],
   "metadata": {
    "id": "-bjiDjQs2QRy"
   }
  },
  {
   "metadata": {
    "ExecuteTime": {
     "end_time": "2024-10-17T12:48:09.323519Z",
     "start_time": "2024-10-17T12:48:09.320299Z"
    }
   },
   "cell_type": "code",
   "source": [
    "df = pd.DataFrame({\n",
    "    'Subscription Level (X)': [1, 0, 2, 1, 0, 2, 0, 1, 2, 1],\n",
    "    'Using App (Y)': [0, 0, 0, 1, 1, 0, 0, 1, 1, 0]\n",
    "})"
   ],
   "outputs": [],
   "execution_count": 8
  },
  {
   "metadata": {
    "ExecuteTime": {
     "end_time": "2024-10-17T12:48:32.228980Z",
     "start_time": "2024-10-17T12:48:32.223549Z"
    }
   },
   "cell_type": "code",
   "source": [
    "#  В одномерном\n",
    "df_distr1 = df.copy()\n",
    "df_distr1['Pair Value (X, Y)'] = df_distr1.apply(lambda x: f'({x[\"Subscription Level (X)\"]}, {x[\"Using App (Y)\"]})',\n",
    "                                                 axis=1)\n",
    "df_distr1 = df_distr1['Pair Value (X, Y)'].value_counts(normalize=True).to_frame()\n",
    "df_distr1.style.format(precision=2).set_caption(\n",
    "    \"Распределение пары в генеральной совокупности\")"
   ],
   "outputs": [
    {
     "data": {
      "text/plain": [
       "<pandas.io.formats.style.Styler at 0x10dd81d30>"
      ],
      "text/html": [
       "<style type=\"text/css\">\n",
       "</style>\n",
       "<table id=\"T_f09f0\">\n",
       "  <caption>Распределение пары в генеральной совокупности</caption>\n",
       "  <thead>\n",
       "    <tr>\n",
       "      <th class=\"blank level0\" >&nbsp;</th>\n",
       "      <th id=\"T_f09f0_level0_col0\" class=\"col_heading level0 col0\" >proportion</th>\n",
       "    </tr>\n",
       "    <tr>\n",
       "      <th class=\"index_name level0\" >Pair Value (X, Y)</th>\n",
       "      <th class=\"blank col0\" >&nbsp;</th>\n",
       "    </tr>\n",
       "  </thead>\n",
       "  <tbody>\n",
       "    <tr>\n",
       "      <th id=\"T_f09f0_level0_row0\" class=\"row_heading level0 row0\" >(1, 0)</th>\n",
       "      <td id=\"T_f09f0_row0_col0\" class=\"data row0 col0\" >0.20</td>\n",
       "    </tr>\n",
       "    <tr>\n",
       "      <th id=\"T_f09f0_level0_row1\" class=\"row_heading level0 row1\" >(0, 0)</th>\n",
       "      <td id=\"T_f09f0_row1_col0\" class=\"data row1 col0\" >0.20</td>\n",
       "    </tr>\n",
       "    <tr>\n",
       "      <th id=\"T_f09f0_level0_row2\" class=\"row_heading level0 row2\" >(2, 0)</th>\n",
       "      <td id=\"T_f09f0_row2_col0\" class=\"data row2 col0\" >0.20</td>\n",
       "    </tr>\n",
       "    <tr>\n",
       "      <th id=\"T_f09f0_level0_row3\" class=\"row_heading level0 row3\" >(1, 1)</th>\n",
       "      <td id=\"T_f09f0_row3_col0\" class=\"data row3 col0\" >0.20</td>\n",
       "    </tr>\n",
       "    <tr>\n",
       "      <th id=\"T_f09f0_level0_row4\" class=\"row_heading level0 row4\" >(0, 1)</th>\n",
       "      <td id=\"T_f09f0_row4_col0\" class=\"data row4 col0\" >0.10</td>\n",
       "    </tr>\n",
       "    <tr>\n",
       "      <th id=\"T_f09f0_level0_row5\" class=\"row_heading level0 row5\" >(2, 1)</th>\n",
       "      <td id=\"T_f09f0_row5_col0\" class=\"data row5 col0\" >0.10</td>\n",
       "    </tr>\n",
       "  </tbody>\n",
       "</table>\n"
      ]
     },
     "execution_count": 12,
     "metadata": {},
     "output_type": "execute_result"
    }
   ],
   "execution_count": 12
  },
  {
   "metadata": {
    "ExecuteTime": {
     "end_time": "2024-10-17T12:48:12.112630Z",
     "start_time": "2024-10-17T12:48:12.105868Z"
    }
   },
   "cell_type": "code",
   "source": [
    "# В двумерном\n",
    "df_distr2 = df.copy()\n",
    "df_distr2 = df_distr2.groupby(['Subscription Level (X)', 'Using App (Y)']).size().unstack().fillna(0)\n",
    "df_distr2 = df_distr2 / df_distr2.sum().sum()\n",
    "df_distr2.style.format(precision=2).set_caption(\n",
    "    \"Распределение пары в генеральной совокупности\")"
   ],
   "outputs": [
    {
     "data": {
      "text/plain": [
       "<pandas.io.formats.style.Styler at 0x10dd83c20>"
      ],
      "text/html": [
       "<style type=\"text/css\">\n",
       "</style>\n",
       "<table id=\"T_49130\">\n",
       "  <caption>Распределение пары в генеральной совокупности</caption>\n",
       "  <thead>\n",
       "    <tr>\n",
       "      <th class=\"index_name level0\" >Using App (Y)</th>\n",
       "      <th id=\"T_49130_level0_col0\" class=\"col_heading level0 col0\" >0</th>\n",
       "      <th id=\"T_49130_level0_col1\" class=\"col_heading level0 col1\" >1</th>\n",
       "    </tr>\n",
       "    <tr>\n",
       "      <th class=\"index_name level0\" >Subscription Level (X)</th>\n",
       "      <th class=\"blank col0\" >&nbsp;</th>\n",
       "      <th class=\"blank col1\" >&nbsp;</th>\n",
       "    </tr>\n",
       "  </thead>\n",
       "  <tbody>\n",
       "    <tr>\n",
       "      <th id=\"T_49130_level0_row0\" class=\"row_heading level0 row0\" >0</th>\n",
       "      <td id=\"T_49130_row0_col0\" class=\"data row0 col0\" >0.20</td>\n",
       "      <td id=\"T_49130_row0_col1\" class=\"data row0 col1\" >0.10</td>\n",
       "    </tr>\n",
       "    <tr>\n",
       "      <th id=\"T_49130_level0_row1\" class=\"row_heading level0 row1\" >1</th>\n",
       "      <td id=\"T_49130_row1_col0\" class=\"data row1 col0\" >0.20</td>\n",
       "      <td id=\"T_49130_row1_col1\" class=\"data row1 col1\" >0.20</td>\n",
       "    </tr>\n",
       "    <tr>\n",
       "      <th id=\"T_49130_level0_row2\" class=\"row_heading level0 row2\" >2</th>\n",
       "      <td id=\"T_49130_row2_col0\" class=\"data row2 col0\" >0.20</td>\n",
       "      <td id=\"T_49130_row2_col1\" class=\"data row2 col1\" >0.10</td>\n",
       "    </tr>\n",
       "  </tbody>\n",
       "</table>\n"
      ]
     },
     "execution_count": 10,
     "metadata": {},
     "output_type": "execute_result"
    }
   ],
   "execution_count": 10
  },
  {
   "cell_type": "markdown",
   "source": [
    "##3. (blue, баллы: 1.5) Для генеральной совокупности равновероятных исходов [05_age_distribution.csv](https://raw.githubusercontent.com/zalig/cu-datasets/main/05_age_distribution.csv) построй таблицу распределения."
   ],
   "metadata": {
    "id": "aIrBDk85anTN"
   }
  },
  {
   "cell_type": "markdown",
   "source": [
    "**Решение**"
   ],
   "metadata": {
    "id": "S4RSFxvs2Qi6"
   }
  },
  {
   "cell_type": "markdown",
   "source": [
    "## 4. (black, баллы: 1.5) Для генеральной совокупности равновероятных исходов [05_age_gender_distribution.csv](https://raw.githubusercontent.com/zalig/cu-datasets/main/05_age_gender_distribution.csv) построй «двумерную» таблицу распределения:\n",
    "  \n",
    "    - Строка — пол.\n",
    "    - Столбец — возрастная группа.\n",
    "    - В ячейке — вероятность для случайного равновероятно взятого человека иметь заданный пол и возрастную группу."
   ],
   "metadata": {
    "id": "Kp2NWmP1ap5s"
   }
  },
  {
   "cell_type": "markdown",
   "source": [
    "**Решение**"
   ],
   "metadata": {
    "id": "s6mMCCKP2Qxq"
   }
  },
  {
   "metadata": {
    "ExecuteTime": {
     "end_time": "2024-10-17T12:55:36.252314Z",
     "start_time": "2024-10-17T12:55:35.307442Z"
    }
   },
   "cell_type": "code",
   "source": [
    "df = pd.read_csv('https://raw.githubusercontent.com/zalig/cu-datasets/main/05_age_gender_distribution.csv')\n",
    "\n",
    "df_distr = df.groupby(['Gender', 'Age']).size().unstack().fillna(0)\n",
    "df_distr = df_distr / df_distr.sum().sum()\n",
    "df_distr.style.format(precision=2).set_caption(\n",
    "    \"Распределение людей по признакам в генеральной совокупности\")"
   ],
   "outputs": [
    {
     "data": {
      "text/plain": [
       "<pandas.io.formats.style.Styler at 0x10dd827b0>"
      ],
      "text/html": [
       "<style type=\"text/css\">\n",
       "</style>\n",
       "<table id=\"T_44919\">\n",
       "  <caption>Распределение людей по признакам в генеральной совокупности</caption>\n",
       "  <thead>\n",
       "    <tr>\n",
       "      <th class=\"index_name level0\" >Age</th>\n",
       "      <th id=\"T_44919_level0_col0\" class=\"col_heading level0 col0\" >25+</th>\n",
       "      <th id=\"T_44919_level0_col1\" class=\"col_heading level0 col1\" ><25</th>\n",
       "    </tr>\n",
       "    <tr>\n",
       "      <th class=\"index_name level0\" >Gender</th>\n",
       "      <th class=\"blank col0\" >&nbsp;</th>\n",
       "      <th class=\"blank col1\" >&nbsp;</th>\n",
       "    </tr>\n",
       "  </thead>\n",
       "  <tbody>\n",
       "    <tr>\n",
       "      <th id=\"T_44919_level0_row0\" class=\"row_heading level0 row0\" >Female</th>\n",
       "      <td id=\"T_44919_row0_col0\" class=\"data row0 col0\" >0.11</td>\n",
       "      <td id=\"T_44919_row0_col1\" class=\"data row0 col1\" >0.37</td>\n",
       "    </tr>\n",
       "    <tr>\n",
       "      <th id=\"T_44919_level0_row1\" class=\"row_heading level0 row1\" >Male</th>\n",
       "      <td id=\"T_44919_row1_col0\" class=\"data row1 col0\" >0.12</td>\n",
       "      <td id=\"T_44919_row1_col1\" class=\"data row1 col1\" >0.40</td>\n",
       "    </tr>\n",
       "  </tbody>\n",
       "</table>\n"
      ]
     },
     "execution_count": 14,
     "metadata": {},
     "output_type": "execute_result"
    }
   ],
   "execution_count": 14
  },
  {
   "cell_type": "markdown",
   "source": [
    "# Задача 2. Проверь независимость событий\n",
    "\n",
    "\n",
    "\n"
   ],
   "metadata": {
    "id": "8v5DAxr8ar3q"
   }
  },
  {
   "cell_type": "markdown",
   "source": [
    "## 1. (blue, баллы: 1) Дана генеральная совокупность равновероятных исходов.\n",
    "\n",
    "  ![model3.png](data:image/png;base64,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)\n",
    "\n",
    " Проверь независимость событий:\n",
    "\n",
    "  - Age > 20 и Gender == Male;\n",
    "  - Age > 20 и Age > 30."
   ],
   "metadata": {
    "id": "Cs-8CcnJdATO"
   }
  },
  {
   "cell_type": "markdown",
   "source": [
    "**Решение**"
   ],
   "metadata": {
    "id": "-gveVf8B2Rn-"
   }
  },
  {
   "metadata": {
    "ExecuteTime": {
     "end_time": "2024-10-17T18:34:32.018059Z",
     "start_time": "2024-10-17T18:34:32.008304Z"
    }
   },
   "cell_type": "code",
   "source": [
    "df = pd.DataFrame(\n",
    "    {\n",
    "        'Age': [21, 35, 19, 42, 19, 25],\n",
    "        'Gender': ['Female', 'Female', 'Male', 'Male', 'Female', 'Male']\n",
    "    }\n",
    ")\n",
    "\n",
    "p_uni = ((df['Age'] > 20) & (df['Gender'] == 'Male')).mean()\n",
    "p_1 = (df['Gender'] == 'Male').mean()\n",
    "p_2 = (df['Age'] > 20).mean()\n",
    "\n",
    "print(p_uni)\n",
    "print(p_1)\n",
    "print(p_2)\n",
    "print('Независимы' if p_uni == p_2 * p_1 else 'Зависимы')"
   ],
   "outputs": [
    {
     "name": "stdout",
     "output_type": "stream",
     "text": [
      "0.3333333333333333\n",
      "0.5\n",
      "0.6666666666666666\n",
      "Независимы\n"
     ]
    }
   ],
   "execution_count": 15
  },
  {
   "metadata": {
    "ExecuteTime": {
     "end_time": "2024-10-17T18:35:38.677783Z",
     "start_time": "2024-10-17T18:35:38.673185Z"
    }
   },
   "cell_type": "code",
   "source": [
    "p_uni = ((df['Age'] > 20) & (df['Age'] > 30)).mean()\n",
    "p_1 = (df['Age'] > 30).mean()\n",
    "p_2 = (df['Age'] > 20).mean()\n",
    "\n",
    "print(p_uni)\n",
    "print(p_1)\n",
    "print(p_2)\n",
    "print('Независимы' if p_uni == p_2 * p_1 else 'Зависимы')"
   ],
   "outputs": [
    {
     "name": "stdout",
     "output_type": "stream",
     "text": [
      "0.3333333333333333\n",
      "0.3333333333333333\n",
      "0.6666666666666666\n",
      "Зависимы\n"
     ]
    }
   ],
   "execution_count": 16
  },
  {
   "cell_type": "markdown",
   "source": [
    "## 2. (blue, баллы: 1) Дано распределение возраста и числа просмотренных видео в генеральной совокупности.\n",
    "\n",
    "  ![model4.png](data:image/png;base64,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)\n",
    "\n",
    " Проверь независимость событий Videos Watched > 40 и Age < 25."
   ],
   "metadata": {
    "id": "OlpHV2OrdBym"
   }
  },
  {
   "metadata": {
    "ExecuteTime": {
     "end_time": "2024-10-17T18:59:50.532460Z",
     "start_time": "2024-10-17T18:59:50.524054Z"
    }
   },
   "cell_type": "code",
   "source": [
    "df = pd.DataFrame(\n",
    "    {\n",
    "        'Age': [24, 30, 50, 21, 28, 20],\n",
    "        'Video Watched': [20, 48, 10, 20, 54, 45],\n",
    "        'Frequency': [0.146, 0.010, 0.372, 0.412, 0.018, 0.042]\n",
    "    }\n",
    ")\n",
    "\n",
    "p_uni = df[(df['Age'] < 25) & (df['Video Watched'] > 40)]['Frequency'].sum()\n",
    "p_1 = df[df['Age'] < 25]['Frequency'].sum()\n",
    "p_2 = df[df['Video Watched'] > 40]['Frequency'].sum()\n",
    "\n",
    "print(p_uni)\n",
    "print(p_1)\n",
    "print(p_2)\n",
    "print('Независимы' if p_uni == p_2 * p_1 else 'Зависимы')"
   ],
   "outputs": [
    {
     "name": "stdout",
     "output_type": "stream",
     "text": [
      "0.042\n",
      "0.6\n",
      "0.07\n",
      "Независимы\n"
     ]
    }
   ],
   "execution_count": 23
  },
  {
   "cell_type": "markdown",
   "source": [
    "**Решение**"
   ],
   "metadata": {
    "id": "dIWNq0Xb2R7T"
   }
  },
  {
   "cell_type": "markdown",
   "source": [
    "# Задача 3.  Приведи примеры случайных выборок из распределения\n",
    "\n",
    "\n",
    "\n",
    "\n"
   ],
   "metadata": {
    "id": "nurOFE7FsgUS"
   }
  },
  {
   "cell_type": "markdown",
   "source": [
    "## 1. (blue, баллы: 1) Для заданной генеральной совокупности [05_gender_distribution.csv](https://raw.githubusercontent.com/zalig/cu-datasets/main/05_gender_distribution.csv) приведи пример простой случайной выборки размера 2 и найди вероятности:\n",
    "  - получить эту конкретную выборку;\n",
    "  - получить эти значения пола в случайной равновероятной выборке.\n",
    "  \n",
    "  Для ответа на какой из этих вопросов достаточно было знать только распределение в генеральной совокупности?\n",
    "\n"
   ],
   "metadata": {
    "id": "h5UB2c0eiQWL"
   }
  },
  {
   "cell_type": "markdown",
   "source": [
    "**Решение**"
   ],
   "metadata": {
    "id": "viaPBJqb2S6y"
   }
  },
  {
   "metadata": {
    "ExecuteTime": {
     "end_time": "2024-10-17T19:36:49.747959Z",
     "start_time": "2024-10-17T19:36:49.508174Z"
    }
   },
   "cell_type": "code",
   "source": [
    "df = pd.read_csv('https://raw.githubusercontent.com/zalig/cu-datasets/main/05_gender_distribution.csv')\n",
    "\n",
    "sample = df.head(2)\n",
    "sample"
   ],
   "outputs": [
    {
     "data": {
      "text/plain": [
       "  CustomerId  Gender\n",
       "0        id1  Female\n",
       "1        id2  Female"
      ],
      "text/html": [
       "<div>\n",
       "<style scoped>\n",
       "    .dataframe tbody tr th:only-of-type {\n",
       "        vertical-align: middle;\n",
       "    }\n",
       "\n",
       "    .dataframe tbody tr th {\n",
       "        vertical-align: top;\n",
       "    }\n",
       "\n",
       "    .dataframe thead th {\n",
       "        text-align: right;\n",
       "    }\n",
       "</style>\n",
       "<table border=\"1\" class=\"dataframe\">\n",
       "  <thead>\n",
       "    <tr style=\"text-align: right;\">\n",
       "      <th></th>\n",
       "      <th>CustomerId</th>\n",
       "      <th>Gender</th>\n",
       "    </tr>\n",
       "  </thead>\n",
       "  <tbody>\n",
       "    <tr>\n",
       "      <th>0</th>\n",
       "      <td>id1</td>\n",
       "      <td>Female</td>\n",
       "    </tr>\n",
       "    <tr>\n",
       "      <th>1</th>\n",
       "      <td>id2</td>\n",
       "      <td>Female</td>\n",
       "    </tr>\n",
       "  </tbody>\n",
       "</table>\n",
       "</div>"
      ]
     },
     "execution_count": 33,
     "metadata": {},
     "output_type": "execute_result"
    }
   ],
   "execution_count": 33
  },
  {
   "metadata": {
    "ExecuteTime": {
     "end_time": "2024-10-17T19:32:56.242387Z",
     "start_time": "2024-10-17T19:32:56.239063Z"
    }
   },
   "cell_type": "code",
   "source": [
    "# Задача 1\n",
    "N = df.shape[0]\n",
    "p = 1 / (N * (N - 1))\n",
    "print('Вероятность получить эту конкретную выборку:', p)"
   ],
   "outputs": [
    {
     "name": "stdout",
     "output_type": "stream",
     "text": [
      "Вероятность получить эту конкретную выборку: 4.008016032064128e-06\n"
     ]
    }
   ],
   "execution_count": 29
  },
  {
   "metadata": {
    "ExecuteTime": {
     "end_time": "2024-10-17T19:34:49.019713Z",
     "start_time": "2024-10-17T19:34:49.015784Z"
    }
   },
   "cell_type": "code",
   "source": "df['Gender'].value_counts(normalize=True).to_frame().T",
   "outputs": [
    {
     "data": {
      "text/plain": [
       "Gender      Male  Female\n",
       "proportion   0.6     0.4"
      ],
      "text/html": [
       "<div>\n",
       "<style scoped>\n",
       "    .dataframe tbody tr th:only-of-type {\n",
       "        vertical-align: middle;\n",
       "    }\n",
       "\n",
       "    .dataframe tbody tr th {\n",
       "        vertical-align: top;\n",
       "    }\n",
       "\n",
       "    .dataframe thead th {\n",
       "        text-align: right;\n",
       "    }\n",
       "</style>\n",
       "<table border=\"1\" class=\"dataframe\">\n",
       "  <thead>\n",
       "    <tr style=\"text-align: right;\">\n",
       "      <th>Gender</th>\n",
       "      <th>Male</th>\n",
       "      <th>Female</th>\n",
       "    </tr>\n",
       "  </thead>\n",
       "  <tbody>\n",
       "    <tr>\n",
       "      <th>proportion</th>\n",
       "      <td>0.6</td>\n",
       "      <td>0.4</td>\n",
       "    </tr>\n",
       "  </tbody>\n",
       "</table>\n",
       "</div>"
      ]
     },
     "execution_count": 30,
     "metadata": {},
     "output_type": "execute_result"
    }
   ],
   "execution_count": 30
  },
  {
   "metadata": {
    "ExecuteTime": {
     "end_time": "2024-10-17T19:39:36.109684Z",
     "start_time": "2024-10-17T19:39:36.106445Z"
    }
   },
   "cell_type": "code",
   "source": [
    "# Задача 2\n",
    "male_prop = 0.6\n",
    "female_prop = 0.4\n",
    "\n",
    "# В случайной выборке пол: Female и Female\n",
    "prob_female_female = female_prop * female_prop\n",
    "print('Вероятность получения выборки с такими полами:', prob_female_female)"
   ],
   "outputs": [
    {
     "name": "stdout",
     "output_type": "stream",
     "text": [
      "Вероятность получения выборки с такими полами: 0.16000000000000003\n"
     ]
    }
   ],
   "execution_count": 35
  },
  {
   "cell_type": "markdown",
   "source": [
    "## 2. (blue, баллы: 1) Дано распределение пола в генеральной совокупности.\n",
    "\n",
    "  ![model5.png](data:image/png;base64,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)\n",
    "\n",
    "  Придумай два разных примера выборок размера 2 из генеральной совокупности выше, укажи значения характеристики «пол» в этих выборках.\n",
    "  \n",
    "  Для каждого примера найди вероятность, что в случайной выборке получаются именно такие значения характеристики пола."
   ],
   "metadata": {
    "id": "1LWHRZXViSDK"
   }
  },
  {
   "cell_type": "markdown",
   "source": [
    "**Решение**"
   ],
   "metadata": {
    "id": "O3s5D5a12TD6"
   }
  },
  {
   "metadata": {
    "ExecuteTime": {
     "end_time": "2024-10-17T19:53:41.873864Z",
     "start_time": "2024-10-17T19:53:41.871650Z"
    }
   },
   "cell_type": "code",
   "source": [
    "male_prop = 0.6\n",
    "female_prop = 0.4\n",
    "\n",
    "# Пример 1: Male и Female\n",
    "prob_male_female = male_prop * female_prop\n",
    "print('Вероятность получения выборки с полами Male и Female:', prob_male_female)\n",
    "\n",
    "# Пример 2: Male и Male\n",
    "prob_male_male = male_prop * male_prop\n",
    "print('Вероятность получения выборки с полами Male и Male:', prob_male_male)\n"
   ],
   "outputs": [
    {
     "name": "stdout",
     "output_type": "stream",
     "text": [
      "Вероятность получения выборки с полами Male и Female: 0.24\n",
      "Вероятность получения выборки с полами Male и Male: 0.36\n"
     ]
    }
   ],
   "execution_count": 105
  },
  {
   "cell_type": "markdown",
   "source": [
    "# Задача 4. Приведи примеры распределений по заданной выборке"
   ],
   "metadata": {
    "id": "OsApfNnVeRdK"
   }
  },
  {
   "cell_type": "markdown",
   "source": [
    "Задана выборка: 2, 2, 7.\n",
    "\n",
    " ## 1. (blue, баллы: 1) Придумай распределение с как минимум тремя разными значениями и ненулевыми вероятностями, из которого эта выборка могла появиться как простая случайная выборка. Найди вероятность появления этой выборки из придуманного вами распределения.\n",
    " ## 2. (blue) Придумай распределение с двумя возможными значениями, из которого эта выборка могла появиться как простая случайная выборка. Найди вероятность появления этой выборки.\n",
    " ## 3. (red) Какое из двух предложенных распределений «лучше объясняет» эту выборку и почему?"
   ],
   "metadata": {
    "id": "YQF5b-qEfmSB"
   }
  },
  {
   "metadata": {},
   "cell_type": "markdown",
   "source": [
    "### Задача 1\n",
    "\n",
    "Пусть распределение будет:\n",
    "\n",
    "P(2) = 0.2\n",
    "\n",
    "P(3) = 0.3\n",
    "\n",
    "P(7) = 0.5"
   ]
  },
  {
   "metadata": {
    "ExecuteTime": {
     "end_time": "2024-10-17T20:05:51.597181Z",
     "start_time": "2024-10-17T20:05:51.594032Z"
    }
   },
   "cell_type": "code",
   "source": [
    "p_2 = 0.2\n",
    "p_3 = 0.3\n",
    "p_7 = 0.5\n",
    "\n",
    "p = p_2 * p_2 * p_7\n",
    "print('Вероятность получения выборки:', p)"
   ],
   "outputs": [
    {
     "name": "stdout",
     "output_type": "stream",
     "text": [
      "Вероятность получения выборки: 0.020000000000000004\n"
     ]
    }
   ],
   "execution_count": 106
  },
  {
   "metadata": {},
   "cell_type": "markdown",
   "source": [
    "### Задача 2\n",
    "\n",
    "Пусть распределение будет:\n",
    "\n",
    "P(2) = 0.5\n",
    "\n",
    "P(7) = 0.5"
   ]
  },
  {
   "metadata": {
    "ExecuteTime": {
     "end_time": "2024-10-17T20:06:42.876192Z",
     "start_time": "2024-10-17T20:06:42.872795Z"
    }
   },
   "cell_type": "code",
   "source": [
    "p_2 = 0.5\n",
    "p_7 = 0.5\n",
    "\n",
    "p = p_2 * p_2 * p_7\n",
    "print('Вероятность получения выборки:', p)"
   ],
   "outputs": [
    {
     "name": "stdout",
     "output_type": "stream",
     "text": [
      "Вероятность получения выборки: 0.125\n"
     ]
    }
   ],
   "execution_count": 107
  },
  {
   "metadata": {},
   "cell_type": "markdown",
   "source": [
    "### Задача 3\n",
    "\n",
    "Вероятность появления выборки из второго распределения больше, так как она ближе к реальным значениям выборки."
   ]
  },
  {
   "cell_type": "markdown",
   "source": [
    "# Задача 5. Похожа ли выборка на простую случайную?"
   ],
   "metadata": {
    "id": "Gb_9RMkLfmUX"
   }
  },
  {
   "cell_type": "markdown",
   "source": [
    "Ниже приведены примеры ситуаций из жизни. Для каждой ситуации укажи, что в контексте ситуации является генеральной совокупностю, а что — выборкой.\n",
    "\n",
    "Прокомментируй каждую выборку: можно ли о ней думать как о простой случайной хотя бы приблизительно или нет и почему.\n",
    "\n",
    "## 1. (blue, баллы: 0.5) Тем клиентам, которые указали на сайте, что хотят отставить отзыв за купон, позвонили операторы колл-центра и опросили их.\n",
    "\n"
   ],
   "metadata": {
    "id": "mZRrU3tRhpxq"
   }
  },
  {
   "metadata": {},
   "cell_type": "markdown",
   "source": [
    "**Решение**\n",
    "\n",
    "Выборка не является простой случайной, так как клиенты, которые указали на сайте, что хотят оставить отзыв за купон, могут быть более склонны к позитивному отзыву, чем остальные клиенты."
   ]
  },
  {
   "cell_type": "markdown",
   "source": "## 2. (blue, баллы: 0.5) Из списка всех клиентов были случайно равновероятно выбраны 100 клиентов, которым позвонили операторы колл-центра и опросили их.",
   "metadata": {
    "id": "a6V2scGfhp0A"
   }
  },
  {
   "cell_type": "markdown",
   "source": [
    "**Решение**\n",
    "\n",
    "Выборка является простой случайной, так как клиенты были выбраны случайным образом. Это лучше отобразит картину отношения клиентов к услугам."
   ],
   "metadata": {
    "id": "4NRnehAD2c2J"
   }
  },
  {
   "cell_type": "markdown",
   "source": [
    "# Задача 6. Сгенерируй выборки в Python"
   ],
   "metadata": {
    "id": "nac7wzKDuZij"
   }
  },
  {
   "cell_type": "markdown",
   "source": [
    "Сравни, как работают два метода получения случайных выборок:\n",
    " - простая случайная выборка;\n",
    " - стратифицированная случайная выборка.\n",
    "\n",
    "Дан датасет [arc.csv](https://raw.githubusercontent.com/zalig/cu-datasets/main/ark.csv) из кейса [«Ковчег»](https://github.com/zalig/cu-datasets/raw/main/case_5_arc.pdf).\n",
    "\n",
    "На всей генеральной совокупности клиентов проводилась  рекламная кампания A. Для этой кампании известна конверсия. Конверсия — это доля купивших продукт среди всех, кому он рекламировался.\n",
    "\n",
    "Следующие рекламные кампании B, C, D, E,... предлагается сначала пробно запускать на выборках.\n",
    "\n",
    "Нужен метод получения выборок.\n",
    "Желательно — как можно более репрезенативных.\n",
    "\n",
    "В качестве способа пронаблюдать репрезентативность предлагаем посчитать и сравнить конверсию рекламной кампании A:\n",
    "- по выборке;\n",
    "- по генеральной совокупности.\n",
    "\n",
    "Если метод получения выборок хорош:\n",
    "- выборка не будет постоянно завышать или постоянно занижать конверсию;\n",
    "- ошибка приближения часто будет маленькой и редко большой."
   ],
   "metadata": {
    "id": "VMyOCl4p2pE8"
   }
  },
  {
   "cell_type": "markdown",
   "source": [
    "## 1. (blue, баллы: 1) Сделай симуляцию метода простой случайной выборки. Повтори N=10 000 раз:\n",
    "\n",
    "  - Сформировать выборку.\n",
    "  - Посчитать по выборке конверсию.\n",
    "\n",
    "После этого один раз нужно построить гистограмму для полученных N выборочных конверсий, отметив на оси настоящую конверсию из генеральной совокупности.\n",
    "\n",
    "\n"
   ],
   "metadata": {
    "id": "7TVaXn9xAEbn"
   }
  },
  {
   "cell_type": "markdown",
   "source": [
    "**Решение**"
   ],
   "metadata": {
    "id": "c3J-fV9s2sH0"
   }
  },
  {
   "metadata": {
    "ExecuteTime": {
     "end_time": "2024-10-17T20:46:33.088216Z",
     "start_time": "2024-10-17T20:46:32.084456Z"
    }
   },
   "cell_type": "code",
   "source": [
    "df = pd.read_csv('https://raw.githubusercontent.com/zalig/cu-datasets/main/ark.csv')\n",
    "df.head()"
   ],
   "outputs": [
    {
     "data": {
      "text/plain": [
       "    Id  Age  Gender Purchased\n",
       "0  id1  <25    Male        No\n",
       "1  id2  <25  Female        No\n",
       "2  id3  <25  Female       Yes\n",
       "3  id4  <25    Male        No\n",
       "4  id5  25+    Male        No"
      ],
      "text/html": [
       "<div>\n",
       "<style scoped>\n",
       "    .dataframe tbody tr th:only-of-type {\n",
       "        vertical-align: middle;\n",
       "    }\n",
       "\n",
       "    .dataframe tbody tr th {\n",
       "        vertical-align: top;\n",
       "    }\n",
       "\n",
       "    .dataframe thead th {\n",
       "        text-align: right;\n",
       "    }\n",
       "</style>\n",
       "<table border=\"1\" class=\"dataframe\">\n",
       "  <thead>\n",
       "    <tr style=\"text-align: right;\">\n",
       "      <th></th>\n",
       "      <th>Id</th>\n",
       "      <th>Age</th>\n",
       "      <th>Gender</th>\n",
       "      <th>Purchased</th>\n",
       "    </tr>\n",
       "  </thead>\n",
       "  <tbody>\n",
       "    <tr>\n",
       "      <th>0</th>\n",
       "      <td>id1</td>\n",
       "      <td>&lt;25</td>\n",
       "      <td>Male</td>\n",
       "      <td>No</td>\n",
       "    </tr>\n",
       "    <tr>\n",
       "      <th>1</th>\n",
       "      <td>id2</td>\n",
       "      <td>&lt;25</td>\n",
       "      <td>Female</td>\n",
       "      <td>No</td>\n",
       "    </tr>\n",
       "    <tr>\n",
       "      <th>2</th>\n",
       "      <td>id3</td>\n",
       "      <td>&lt;25</td>\n",
       "      <td>Female</td>\n",
       "      <td>Yes</td>\n",
       "    </tr>\n",
       "    <tr>\n",
       "      <th>3</th>\n",
       "      <td>id4</td>\n",
       "      <td>&lt;25</td>\n",
       "      <td>Male</td>\n",
       "      <td>No</td>\n",
       "    </tr>\n",
       "    <tr>\n",
       "      <th>4</th>\n",
       "      <td>id5</td>\n",
       "      <td>25+</td>\n",
       "      <td>Male</td>\n",
       "      <td>No</td>\n",
       "    </tr>\n",
       "  </tbody>\n",
       "</table>\n",
       "</div>"
      ]
     },
     "execution_count": 108,
     "metadata": {},
     "output_type": "execute_result"
    }
   ],
   "execution_count": 108
  },
  {
   "metadata": {
    "ExecuteTime": {
     "end_time": "2024-10-17T21:23:15.972423Z",
     "start_time": "2024-10-17T21:23:15.963709Z"
    }
   },
   "cell_type": "code",
   "source": [
    "conversion_original = (df['Purchased'] == 'Yes').mean()\n",
    "conversion_original"
   ],
   "outputs": [
    {
     "data": {
      "text/plain": [
       "np.float64(0.168175)"
      ]
     },
     "execution_count": 123,
     "metadata": {},
     "output_type": "execute_result"
    }
   ],
   "execution_count": 123
  },
  {
   "metadata": {
    "ExecuteTime": {
     "end_time": "2024-10-17T21:13:58.439984Z",
     "start_time": "2024-10-17T21:13:58.437864Z"
    }
   },
   "cell_type": "code",
   "source": "len(df)",
   "outputs": [
    {
     "data": {
      "text/plain": [
       "80000"
      ]
     },
     "execution_count": 117,
     "metadata": {},
     "output_type": "execute_result"
    }
   ],
   "execution_count": 117
  },
  {
   "metadata": {},
   "cell_type": "markdown",
   "source": "### Случайная выборка"
  },
  {
   "metadata": {
    "ExecuteTime": {
     "end_time": "2024-10-17T21:25:05.043389Z",
     "start_time": "2024-10-17T21:24:58.093055Z"
    }
   },
   "cell_type": "code",
   "source": [
    "import matplotlib.pyplot as plt\n",
    "\n",
    "N = 10_000\n",
    "conversions = []\n",
    "\n",
    "for i in range(N):\n",
    "    sample = df.sample(1_000)\n",
    "    conversion = (sample['Purchased'] == 'Yes').mean()\n",
    "    conversions.append(conversion)\n",
    "\n",
    "plt.hist(conversions, bins=20)\n",
    "plt.axvline(conversion_original, color='red')"
   ],
   "outputs": [
    {
     "data": {
      "text/plain": [
       "<matplotlib.lines.Line2D at 0x11cf92480>"
      ]
     },
     "execution_count": 128,
     "metadata": {},
     "output_type": "execute_result"
    },
    {
     "data": {
      "text/plain": [
       "<Figure size 640x480 with 1 Axes>"
      ],
      "image/png": "[encoded data removed]"
     },
     "metadata": {},
     "output_type": "display_data"
    }
   ],
   "execution_count": 128
  },
  {
   "metadata": {},
   "cell_type": "markdown",
   "source": "### Стратифицированная выборка"
  },
  {
   "metadata": {
    "ExecuteTime": {
     "end_time": "2024-10-17T21:24:36.841735Z",
     "start_time": "2024-10-17T21:23:22.529999Z"
    }
   },
   "cell_type": "code",
   "source": [
    "def stratified_sample(df, strata_col, frac):\n",
    "    groups = df.groupby(strata_col)\n",
    "    sample = pd.DataFrame()\n",
    "\n",
    "    for _, group in groups:\n",
    "        stratum_sample = group.sample(frac=frac, replace=False)\n",
    "        sample = pd.concat([sample, stratum_sample])\n",
    "\n",
    "    return sample\n",
    "\n",
    "\n",
    "conversions = []\n",
    "N = 10_000\n",
    "\n",
    "for _ in range(N):\n",
    "    df_sample = stratified_sample(df, ['Age', 'Gender'], 1_000 / len(df))\n",
    "    sample_conversion = (df_sample['Purchased'] == 'Yes').mean()\n",
    "    conversions.append(sample_conversion)\n",
    "\n",
    "plt.hist(conversions, bins=20)\n",
    "plt.axvline(conversion_original, color='red')"
   ],
   "outputs": [
    {
     "data": {
      "text/plain": [
       "<matplotlib.lines.Line2D at 0x11cf77c50>"
      ]
     },
     "execution_count": 124,
     "metadata": {},
     "output_type": "execute_result"
    },
    {
     "data": {
      "text/plain": [
       "<Figure size 640x480 with 1 Axes>"
      ],
      "image/png": "[encoded data removed]"
     },
     "metadata": {},
     "output_type": "display_data"
    }
   ],
   "execution_count": 124
  },
  {
   "cell_type": "markdown",
   "source": [
    "## 2. (red, баллы: 1.5) Сделайте симуляцию метода стратифицированной случайной выборки. Повтори N=10 000 раз:\n",
    "\n",
    "  - Сформировать выборку.\n",
    "  - Посчитать по выборке конверсию.\n",
    "\n",
    "После этого один раз нужно построить гистограмму для полученных N выборочных конверсий, отметив на оси настоящую конверсию из генеральной совокупности.\n",
    "\n"
   ],
   "metadata": {
    "id": "QNCno5Ce2ihv"
   }
  },
  {
   "cell_type": "markdown",
   "source": [
    "**Решение**"
   ],
   "metadata": {
    "id": "mfjYkJNZ2sWL"
   }
  },
  {
   "metadata": {
    "ExecuteTime": {
     "end_time": "2024-10-17T20:49:52.030568Z",
     "start_time": "2024-10-17T20:49:52.024525Z"
    }
   },
   "cell_type": "code",
   "source": "df['Age'].value_counts()\n",
   "outputs": [
    {
     "data": {
      "text/plain": [
       "Age\n",
       "<25    61092\n",
       "25+    18908\n",
       "Name: count, dtype: int64"
      ]
     },
     "execution_count": 111,
     "metadata": {},
     "output_type": "execute_result"
    }
   ],
   "execution_count": 111
  },
  {
   "metadata": {
    "ExecuteTime": {
     "end_time": "2024-10-17T20:50:56.499403Z",
     "start_time": "2024-10-17T20:50:56.492699Z"
    }
   },
   "cell_type": "code",
   "source": "# Concat Age and Gender columns\n",
   "outputs": [
    {
     "data": {
      "text/plain": [
       "Age\n",
       "<25    0.76365\n",
       "25+    0.23635\n",
       "Name: proportion, dtype: float64"
      ]
     },
     "execution_count": 112,
     "metadata": {},
     "output_type": "execute_result"
    }
   ],
   "execution_count": 112
  },
  {
   "cell_type": "markdown",
   "source": [
    "# Задача 7. Найди вероятность объединения событий\n"
   ],
   "metadata": {
    "id": "GjrtuA2XsqDD"
   }
  },
  {
   "cell_type": "markdown",
   "source": [
    "##1. (red, баллы: 1) Известно, что у 60% людей есть смартфон, у 35% есть телевизор, а у 10% — и смартфон, и телевизор. Сколько процентов людей имеют хотя бы одно из этих устройств?\n",
    "\n"
   ],
   "metadata": {
    "id": "ho82rRnmkXEH"
   }
  },
  {
   "cell_type": "markdown",
   "source": [
    "**Решение**"
   ],
   "metadata": {
    "id": "y8GzO0fJ20Yj"
   }
  },
  {
   "cell_type": "markdown",
   "source": [
    "## 2. (red, баллы: 1) У здорового человека тест A показывает болезнь с вероятностью 10%, тест B — тоже с вероятностью 10%, результаты тестов независимы. После проведения двух тестов у здорового человека с какой вероятностью хотя бы один из них покажет болезнь?"
   ],
   "metadata": {
    "id": "weeDBkmFkXIs"
   }
  },
  {
   "cell_type": "markdown",
   "source": [
    "**Решение**"
   ],
   "metadata": {
    "id": "uD_nGci520qK"
   }
  },
  {
   "cell_type": "markdown",
   "source": [
    "## 3. (black, баллы: 0.5) Реши предыдущую задачу:\n",
    "- для 3 тестов;\n",
    "- для 10 тестов.\n",
    "\n",
    "Что происходит по мере роста числа тестов с вероятностью тестом обнаружить болезнь у здорового человека?\n",
    "\n",
    "Объясни, почему, если кому-то показывают тест с положительным результатом, доверие к тесту зависит ещё и от того, сколько суммарно проводилось тестов, результат которых не показывали."
   ],
   "metadata": {
    "id": "g5by7NYFkanm"
   }
  },
  {
   "cell_type": "markdown",
   "source": [
    "**Решение**"
   ],
   "metadata": {
    "id": "lSTRAlJP200b"
   }
  },
  {
   "cell_type": "markdown",
   "source": [
    "# Задача 8. Найди совместное распределение и примени его\n",
    "\n"
   ],
   "metadata": {
    "id": "NaY8Qj9TPjdK"
   }
  },
  {
   "cell_type": "markdown",
   "source": [
    "Под выборкой в этой задаче всегда имеется в виду случайная выборка из распределения.\n",
    "\n",
    "Дано распределение одного наблюдения $X_i$.\n",
    "\n",
    "  ![model6.png](data:image/png;base64,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)\n",
    "  \n"
   ],
   "metadata": {
    "id": "0ybTnK47ty_G"
   }
  },
  {
   "cell_type": "markdown",
   "source": [
    "## 1. (black, баллы: 1.5) Найди распределение выборки двух величин $(X_1,X_2)$ в «одномерной» табличке пар."
   ],
   "metadata": {
    "id": "rhL7E_p8AhOy"
   }
  },
  {
   "cell_type": "markdown",
   "source": [
    "**Решение**"
   ],
   "metadata": {
    "id": "2B2R_Z_x21wK"
   }
  },
  {
   "metadata": {
    "ExecuteTime": {
     "end_time": "2024-10-17T23:41:02.239296Z",
     "start_time": "2024-10-17T23:41:02.225860Z"
    }
   },
   "cell_type": "code",
   "source": [
    "df = pd.DataFrame({'X': [0, 1, 2, ], 'Probability': [.2, .3, .5]})\n",
    "\n",
    "df_xy = df.merge(df, how='cross')\n",
    "df_xy['Probability'] = df_xy['Probability_x'] * df_xy['Probability_y']\n",
    "df_xy = df_xy.rename(columns={'X_x': 'X1', 'X_y': 'X2'})\n",
    "\n",
    "df_xy\n"
   ],
   "outputs": [
    {
     "data": {
      "text/plain": [
       "   X1  Probability_x  X2  Probability_y  Probability\n",
       "0   0            0.2   0            0.2         0.04\n",
       "1   0            0.2   1            0.3         0.06\n",
       "2   0            0.2   2            0.5         0.10\n",
       "3   1            0.3   0            0.2         0.06\n",
       "4   1            0.3   1            0.3         0.09\n",
       "5   1            0.3   2            0.5         0.15\n",
       "6   2            0.5   0            0.2         0.10\n",
       "7   2            0.5   1            0.3         0.15\n",
       "8   2            0.5   2            0.5         0.25"
      ],
      "text/html": [
       "<div>\n",
       "<style scoped>\n",
       "    .dataframe tbody tr th:only-of-type {\n",
       "        vertical-align: middle;\n",
       "    }\n",
       "\n",
       "    .dataframe tbody tr th {\n",
       "        vertical-align: top;\n",
       "    }\n",
       "\n",
       "    .dataframe thead th {\n",
       "        text-align: right;\n",
       "    }\n",
       "</style>\n",
       "<table border=\"1\" class=\"dataframe\">\n",
       "  <thead>\n",
       "    <tr style=\"text-align: right;\">\n",
       "      <th></th>\n",
       "      <th>X1</th>\n",
       "      <th>Probability_x</th>\n",
       "      <th>X2</th>\n",
       "      <th>Probability_y</th>\n",
       "      <th>Probability</th>\n",
       "    </tr>\n",
       "  </thead>\n",
       "  <tbody>\n",
       "    <tr>\n",
       "      <th>0</th>\n",
       "      <td>0</td>\n",
       "      <td>0.2</td>\n",
       "      <td>0</td>\n",
       "      <td>0.2</td>\n",
       "      <td>0.04</td>\n",
       "    </tr>\n",
       "    <tr>\n",
       "      <th>1</th>\n",
       "      <td>0</td>\n",
       "      <td>0.2</td>\n",
       "      <td>1</td>\n",
       "      <td>0.3</td>\n",
       "      <td>0.06</td>\n",
       "    </tr>\n",
       "    <tr>\n",
       "      <th>2</th>\n",
       "      <td>0</td>\n",
       "      <td>0.2</td>\n",
       "      <td>2</td>\n",
       "      <td>0.5</td>\n",
       "      <td>0.10</td>\n",
       "    </tr>\n",
       "    <tr>\n",
       "      <th>3</th>\n",
       "      <td>1</td>\n",
       "      <td>0.3</td>\n",
       "      <td>0</td>\n",
       "      <td>0.2</td>\n",
       "      <td>0.06</td>\n",
       "    </tr>\n",
       "    <tr>\n",
       "      <th>4</th>\n",
       "      <td>1</td>\n",
       "      <td>0.3</td>\n",
       "      <td>1</td>\n",
       "      <td>0.3</td>\n",
       "      <td>0.09</td>\n",
       "    </tr>\n",
       "    <tr>\n",
       "      <th>5</th>\n",
       "      <td>1</td>\n",
       "      <td>0.3</td>\n",
       "      <td>2</td>\n",
       "      <td>0.5</td>\n",
       "      <td>0.15</td>\n",
       "    </tr>\n",
       "    <tr>\n",
       "      <th>6</th>\n",
       "      <td>2</td>\n",
       "      <td>0.5</td>\n",
       "      <td>0</td>\n",
       "      <td>0.2</td>\n",
       "      <td>0.10</td>\n",
       "    </tr>\n",
       "    <tr>\n",
       "      <th>7</th>\n",
       "      <td>2</td>\n",
       "      <td>0.5</td>\n",
       "      <td>1</td>\n",
       "      <td>0.3</td>\n",
       "      <td>0.15</td>\n",
       "    </tr>\n",
       "    <tr>\n",
       "      <th>8</th>\n",
       "      <td>2</td>\n",
       "      <td>0.5</td>\n",
       "      <td>2</td>\n",
       "      <td>0.5</td>\n",
       "      <td>0.25</td>\n",
       "    </tr>\n",
       "  </tbody>\n",
       "</table>\n",
       "</div>"
      ]
     },
     "execution_count": 143,
     "metadata": {},
     "output_type": "execute_result"
    }
   ],
   "execution_count": 143
  },
  {
   "cell_type": "markdown",
   "source": [
    "## 2. (black, баллы: 1.5) Найди распределение выборочного среднего $\\bar{X}$ для выборки размера 2.\n",
    "\n"
   ],
   "metadata": {
    "id": "yMs71nvrtzBz"
   }
  },
  {
   "cell_type": "markdown",
   "source": [
    "**Решение**"
   ],
   "metadata": {
    "id": "715DP0jd218S"
   }
  },
  {
   "metadata": {
    "ExecuteTime": {
     "end_time": "2024-10-17T23:11:13.758111Z",
     "start_time": "2024-10-17T23:11:13.748222Z"
    }
   },
   "cell_type": "code",
   "source": [
    "df = pd.DataFrame({'X': [0, 1, 2, ], 'Probability': [.2, .3, .5]})\n",
    "\n",
    "df_xy = df.merge(df, how='cross')\n",
    "df_xy['Probability'] = df_xy['Probability_x'] * df_xy['Probability_y']\n",
    "df_xy['Mean'] = (df_xy['X_x'] + df_xy['X_y']) / 2\n",
    "\n",
    "df_xy.groupby('Mean')['Probability'].sum()"
   ],
   "outputs": [
    {
     "data": {
      "text/plain": [
       "Mean\n",
       "0.0    0.04\n",
       "0.5    0.12\n",
       "1.0    0.29\n",
       "1.5    0.30\n",
       "2.0    0.25\n",
       "Name: Probability, dtype: float64"
      ]
     },
     "execution_count": 135,
     "metadata": {},
     "output_type": "execute_result"
    }
   ],
   "execution_count": 135
  },
  {
   "cell_type": "markdown",
   "source": [
    "## 3. (black, баллы: 1.5) Найди распределение трёх величин $(X_1,X_2,X_3)$ в «одномерной» табличке троек.\n",
    "\n"
   ],
   "metadata": {
    "id": "qdUeAtNWtzEQ"
   }
  },
  {
   "cell_type": "markdown",
   "source": [
    "**Решение**"
   ],
   "metadata": {
    "id": "4UjvYPT922Gz"
   }
  },
  {
   "metadata": {
    "ExecuteTime": {
     "end_time": "2024-10-17T23:44:42.464945Z",
     "start_time": "2024-10-17T23:44:42.456462Z"
    }
   },
   "cell_type": "code",
   "source": [
    "df = pd.DataFrame({'X': [0, 1, 2, ], 'Probability': [.2, .3, .5]})\n",
    "\n",
    "df_xyz = df.merge(df, how='cross').merge(df, how='cross')\n",
    "df_xyz['Probability'] = df_xyz['Probability_x'] * df_xyz['Probability_y'] * df_xyz['Probability']\n",
    "del df_xyz['Probability_x']\n",
    "del df_xyz['Probability_y']\n",
    "df_xyz = df_xyz.rename(columns={'X_x': 'X1', 'X_y': 'X2', 'X': 'X3'})\n",
    "    \n",
    "df_xyz"
   ],
   "outputs": [
    {
     "data": {
      "text/plain": [
       "    X1  X2  X3  Probability\n",
       "0    0   0   0        0.008\n",
       "1    0   0   1        0.012\n",
       "2    0   0   2        0.020\n",
       "3    0   1   0        0.012\n",
       "4    0   1   1        0.018\n",
       "5    0   1   2        0.030\n",
       "6    0   2   0        0.020\n",
       "7    0   2   1        0.030\n",
       "8    0   2   2        0.050\n",
       "9    1   0   0        0.012\n",
       "10   1   0   1        0.018\n",
       "11   1   0   2        0.030\n",
       "12   1   1   0        0.018\n",
       "13   1   1   1        0.027\n",
       "14   1   1   2        0.045\n",
       "15   1   2   0        0.030\n",
       "16   1   2   1        0.045\n",
       "17   1   2   2        0.075\n",
       "18   2   0   0        0.020\n",
       "19   2   0   1        0.030\n",
       "20   2   0   2        0.050\n",
       "21   2   1   0        0.030\n",
       "22   2   1   1        0.045\n",
       "23   2   1   2        0.075\n",
       "24   2   2   0        0.050\n",
       "25   2   2   1        0.075\n",
       "26   2   2   2        0.125"
      ],
      "text/html": [
       "<div>\n",
       "<style scoped>\n",
       "    .dataframe tbody tr th:only-of-type {\n",
       "        vertical-align: middle;\n",
       "    }\n",
       "\n",
       "    .dataframe tbody tr th {\n",
       "        vertical-align: top;\n",
       "    }\n",
       "\n",
       "    .dataframe thead th {\n",
       "        text-align: right;\n",
       "    }\n",
       "</style>\n",
       "<table border=\"1\" class=\"dataframe\">\n",
       "  <thead>\n",
       "    <tr style=\"text-align: right;\">\n",
       "      <th></th>\n",
       "      <th>X1</th>\n",
       "      <th>X2</th>\n",
       "      <th>X3</th>\n",
       "      <th>Probability</th>\n",
       "    </tr>\n",
       "  </thead>\n",
       "  <tbody>\n",
       "    <tr>\n",
       "      <th>0</th>\n",
       "      <td>0</td>\n",
       "      <td>0</td>\n",
       "      <td>0</td>\n",
       "      <td>0.008</td>\n",
       "    </tr>\n",
       "    <tr>\n",
       "      <th>1</th>\n",
       "      <td>0</td>\n",
       "      <td>0</td>\n",
       "      <td>1</td>\n",
       "      <td>0.012</td>\n",
       "    </tr>\n",
       "    <tr>\n",
       "      <th>2</th>\n",
       "      <td>0</td>\n",
       "      <td>0</td>\n",
       "      <td>2</td>\n",
       "      <td>0.020</td>\n",
       "    </tr>\n",
       "    <tr>\n",
       "      <th>3</th>\n",
       "      <td>0</td>\n",
       "      <td>1</td>\n",
       "      <td>0</td>\n",
       "      <td>0.012</td>\n",
       "    </tr>\n",
       "    <tr>\n",
       "      <th>4</th>\n",
       "      <td>0</td>\n",
       "      <td>1</td>\n",
       "      <td>1</td>\n",
       "      <td>0.018</td>\n",
       "    </tr>\n",
       "    <tr>\n",
       "      <th>5</th>\n",
       "      <td>0</td>\n",
       "      <td>1</td>\n",
       "      <td>2</td>\n",
       "      <td>0.030</td>\n",
       "    </tr>\n",
       "    <tr>\n",
       "      <th>6</th>\n",
       "      <td>0</td>\n",
       "      <td>2</td>\n",
       "      <td>0</td>\n",
       "      <td>0.020</td>\n",
       "    </tr>\n",
       "    <tr>\n",
       "      <th>7</th>\n",
       "      <td>0</td>\n",
       "      <td>2</td>\n",
       "      <td>1</td>\n",
       "      <td>0.030</td>\n",
       "    </tr>\n",
       "    <tr>\n",
       "      <th>8</th>\n",
       "      <td>0</td>\n",
       "      <td>2</td>\n",
       "      <td>2</td>\n",
       "      <td>0.050</td>\n",
       "    </tr>\n",
       "    <tr>\n",
       "      <th>9</th>\n",
       "      <td>1</td>\n",
       "      <td>0</td>\n",
       "      <td>0</td>\n",
       "      <td>0.012</td>\n",
       "    </tr>\n",
       "    <tr>\n",
       "      <th>10</th>\n",
       "      <td>1</td>\n",
       "      <td>0</td>\n",
       "      <td>1</td>\n",
       "      <td>0.018</td>\n",
       "    </tr>\n",
       "    <tr>\n",
       "      <th>11</th>\n",
       "      <td>1</td>\n",
       "      <td>0</td>\n",
       "      <td>2</td>\n",
       "      <td>0.030</td>\n",
       "    </tr>\n",
       "    <tr>\n",
       "      <th>12</th>\n",
       "      <td>1</td>\n",
       "      <td>1</td>\n",
       "      <td>0</td>\n",
       "      <td>0.018</td>\n",
       "    </tr>\n",
       "    <tr>\n",
       "      <th>13</th>\n",
       "      <td>1</td>\n",
       "      <td>1</td>\n",
       "      <td>1</td>\n",
       "      <td>0.027</td>\n",
       "    </tr>\n",
       "    <tr>\n",
       "      <th>14</th>\n",
       "      <td>1</td>\n",
       "      <td>1</td>\n",
       "      <td>2</td>\n",
       "      <td>0.045</td>\n",
       "    </tr>\n",
       "    <tr>\n",
       "      <th>15</th>\n",
       "      <td>1</td>\n",
       "      <td>2</td>\n",
       "      <td>0</td>\n",
       "      <td>0.030</td>\n",
       "    </tr>\n",
       "    <tr>\n",
       "      <th>16</th>\n",
       "      <td>1</td>\n",
       "      <td>2</td>\n",
       "      <td>1</td>\n",
       "      <td>0.045</td>\n",
       "    </tr>\n",
       "    <tr>\n",
       "      <th>17</th>\n",
       "      <td>1</td>\n",
       "      <td>2</td>\n",
       "      <td>2</td>\n",
       "      <td>0.075</td>\n",
       "    </tr>\n",
       "    <tr>\n",
       "      <th>18</th>\n",
       "      <td>2</td>\n",
       "      <td>0</td>\n",
       "      <td>0</td>\n",
       "      <td>0.020</td>\n",
       "    </tr>\n",
       "    <tr>\n",
       "      <th>19</th>\n",
       "      <td>2</td>\n",
       "      <td>0</td>\n",
       "      <td>1</td>\n",
       "      <td>0.030</td>\n",
       "    </tr>\n",
       "    <tr>\n",
       "      <th>20</th>\n",
       "      <td>2</td>\n",
       "      <td>0</td>\n",
       "      <td>2</td>\n",
       "      <td>0.050</td>\n",
       "    </tr>\n",
       "    <tr>\n",
       "      <th>21</th>\n",
       "      <td>2</td>\n",
       "      <td>1</td>\n",
       "      <td>0</td>\n",
       "      <td>0.030</td>\n",
       "    </tr>\n",
       "    <tr>\n",
       "      <th>22</th>\n",
       "      <td>2</td>\n",
       "      <td>1</td>\n",
       "      <td>1</td>\n",
       "      <td>0.045</td>\n",
       "    </tr>\n",
       "    <tr>\n",
       "      <th>23</th>\n",
       "      <td>2</td>\n",
       "      <td>1</td>\n",
       "      <td>2</td>\n",
       "      <td>0.075</td>\n",
       "    </tr>\n",
       "    <tr>\n",
       "      <th>24</th>\n",
       "      <td>2</td>\n",
       "      <td>2</td>\n",
       "      <td>0</td>\n",
       "      <td>0.050</td>\n",
       "    </tr>\n",
       "    <tr>\n",
       "      <th>25</th>\n",
       "      <td>2</td>\n",
       "      <td>2</td>\n",
       "      <td>1</td>\n",
       "      <td>0.075</td>\n",
       "    </tr>\n",
       "    <tr>\n",
       "      <th>26</th>\n",
       "      <td>2</td>\n",
       "      <td>2</td>\n",
       "      <td>2</td>\n",
       "      <td>0.125</td>\n",
       "    </tr>\n",
       "  </tbody>\n",
       "</table>\n",
       "</div>"
      ]
     },
     "execution_count": 146,
     "metadata": {},
     "output_type": "execute_result"
    }
   ],
   "execution_count": 146
  },
  {
   "cell_type": "markdown",
   "source": [
    "## 4. (black, баллы: 1.5) Найди распределение выборочного среднего $\\bar{X}$ для выборки размера 3."
   ],
   "metadata": {
    "id": "3yut1EpGt7KP"
   }
  },
  {
   "cell_type": "markdown",
   "source": [
    "**Решение**"
   ],
   "metadata": {
    "id": "Fd53ocko22ZU"
   }
  },
  {
   "metadata": {
    "ExecuteTime": {
     "end_time": "2024-10-18T00:07:45.118754Z",
     "start_time": "2024-10-18T00:07:45.113266Z"
    }
   },
   "cell_type": "code",
   "source": [
    "df = pd.DataFrame({'X': [0, 1, 2, ], 'Probability': [.2, .3, .5]})\n",
    "df_xyz = df.merge(df, how='cross').merge(df, how='cross')\n",
    "\n",
    "df_xyz['Probability'] = df_xyz['Probability_x'] * df_xyz['Probability_y'] * df_xyz['Probability']\n",
    "df_xyz['Mean'] = (df_xyz['X_x'] + df_xyz['X_y'] + df_xyz['X']) / 3\n",
    "\n",
    "df_xyz = df_xyz.groupby('Mean')['Probability'].sum()x\n",
    "df_xyz"
   ],
   "outputs": [
    {
     "data": {
      "text/plain": [
       "Mean\n",
       "0.000000    0.008\n",
       "0.333333    0.036\n",
       "0.666667    0.114\n",
       "1.000000    0.207\n",
       "1.333333    0.285\n",
       "1.666667    0.225\n",
       "2.000000    0.125\n",
       "Name: Probability, dtype: float64"
      ]
     },
     "execution_count": 161,
     "metadata": {},
     "output_type": "execute_result"
    }
   ],
   "execution_count": 161
  },
  {
   "cell_type": "markdown",
   "source": [
    "# Задача 9. Примени геометрический подход к вероятности\n",
    "\n",
    "\n"
   ],
   "metadata": {
    "id": "hu7L8R7FJasl"
   }
  },
  {
   "cell_type": "markdown",
   "source": [
    "## 1. (black, баллы: 1) Используя геометрический подход к вероятности, найди вероятность того, что для случайной точки на отрезке расстояние до левого края меньше половины расстояния до правого края."
   ],
   "metadata": {
    "id": "w9lgjzgnu-hF"
   }
  },
  {
   "cell_type": "markdown",
   "source": [
    "**Решение**"
   ],
   "metadata": {
    "id": "sBewmwrv25fC"
   }
  },
  {
   "cell_type": "markdown",
   "source": [
    "## 2. (black, баллы: 1) Используя геометрический подход к вероятности, найди вероятность того, что, если разрезать отрезок случайно на 3 части, из частей получится сложить треугольник."
   ],
   "metadata": {
    "id": "_oCwwgKeu_dy"
   }
  },
  {
   "cell_type": "markdown",
   "source": [
    "**Решение**"
   ],
   "metadata": {
    "id": "9LhQw-MX25oS"
   }
  }
 ]
}
