{
 "cells": [
  {
   "cell_type": "markdown",
   "metadata": {
    "deletable": false,
    "editable": false,
    "id": "u2oJvM4CZwAo"
   },
   "source": [
    "# *Красный трек*\n",
    "## Семинар по теме «Коллекции в Python»\n"
   ]
  },
  {
   "cell_type": "markdown",
   "metadata": {
    "deletable": false,
    "editable": false
   },
   "source": [
    "Закрепим знания, полученные при изучении тем «Множества», «Строки», «Словари»,«Кортежи» и при решении домашних заданий."
   ]
  },
  {
   "cell_type": "markdown",
   "metadata": {
    "deletable": false,
    "editable": false
   },
   "source": [
    "## Оценивание работы на семинаре\n",
    "\n",
    "**Система оценивания —** бинарная:\n",
    "\n",
    "  - если все задачи решены корректно, без ошибок и полностью соответствуют стандартам кода на курсе, то задание выполнено и оценка — **10 баллов**;\n",
    "  - если решения содержат ошибки или не соответствуют требованиям, то задание не выполнено и оценка — **0 баллов**.  \n",
    "\n",
    "\n",
    "**Проверка задания**\n",
    "\n",
    "- Перед тем, как сдать задание, убедись, что твой код работает без ошибок и соответствует стандартам. Для этого используй автоматическую проверку.\n",
    "- Загрузи задание в LMS. Ассистент проверит, соответствуют ли твои решения требованиям и целям домашнего задания, и выставит оценку.\n",
    "\n",
    "\n",
    "**Доработка**\n",
    "\n",
    "- Если твое задание получило 0 баллов, его вернут на доработку через LMS с комментариями о том, что нужно исправить."
   ]
  },
  {
   "cell_type": "markdown",
   "metadata": {
    "deletable": false,
    "editable": false,
    "id": "78CgFyEVZ7uL"
   },
   "source": [
    "## **Поиск ошибок в коде**"
   ]
  },
  {
   "cell_type": "markdown",
   "metadata": {
    "deletable": false,
    "editable": false,
    "id": "ZFNiQ4NcZ9y7"
   },
   "source": [
    "В задачах ниже в коде допущены ошибки. Найди их, исправь и запусти код."
   ]
  },
  {
   "cell_type": "markdown",
   "metadata": {
    "deletable": false,
    "editable": false,
    "id": "zvHuxadVZ_dD"
   },
   "source": [
    "### **Задача 1**"
   ]
  },
  {
   "cell_type": "code",
   "execution_count": 1,
   "metadata": {
    "colab": {
     "base_uri": "https://localhost:8080/",
     "height": 183
    },
    "deletable": false,
    "id": "-44Q1yTV_WMQ",
    "outputId": "20420bef-e9c5-46a8-ccbd-b6c75177f452"
   },
   "outputs": [
    {
     "name": "stdout",
     "output_type": "stream",
     "text": [
      "50\n"
     ]
    }
   ],
   "source": [
    "numbers = [10, 20, 30, 40, 50]\n",
    "\n",
    "print(numbers[4])"
   ]
  },
  {
   "cell_type": "markdown",
   "metadata": {
    "deletable": false,
    "editable": false,
    "id": "Idms4dx7aDDS"
   },
   "source": [
    "### **Задача 2**"
   ]
  },
  {
   "cell_type": "code",
   "metadata": {
    "colab": {
     "base_uri": "https://localhost:8080/",
     "height": 201
    },
    "deletable": false,
    "id": "8L_2hEbQa_de",
    "outputId": "322750b4-2469-4e44-8537-ec9a06b55ef7",
    "ExecuteTime": {
     "end_time": "2024-09-28T05:06:18.000899Z",
     "start_time": "2024-09-28T05:06:17.999105Z"
    }
   },
   "source": [
    "user_ids = [131, 145, 163, 182]\n",
    "user_ids.append(194)\n",
    "\n",
    "print(user_ids)"
   ],
   "outputs": [
    {
     "name": "stdout",
     "output_type": "stream",
     "text": [
      "[131, 145, 163, 182, 194]\n"
     ]
    }
   ],
   "execution_count": 4
  },
  {
   "cell_type": "markdown",
   "metadata": {
    "deletable": false,
    "editable": false,
    "id": "Qdve68C0aDfM"
   },
   "source": [
    "### **Задача 3**"
   ]
  },
  {
   "cell_type": "code",
   "metadata": {
    "colab": {
     "base_uri": "https://localhost:8080/",
     "height": 201
    },
    "deletable": false,
    "id": "bdcwm1fV_Aaj",
    "outputId": "d2117d87-9ffb-4379-f55e-facbca268560",
    "ExecuteTime": {
     "end_time": "2024-09-28T05:07:05.628224Z",
     "start_time": "2024-09-28T05:07:05.626394Z"
    }
   },
   "source": [
    "text = 'Welcome to Python programming!'\n",
    "text = text[:11] + 'the' + text[17:]\n",
    "\n",
    "print(text)"
   ],
   "outputs": [
    {
     "name": "stdout",
     "output_type": "stream",
     "text": [
      "Welcome to the programming!\n"
     ]
    }
   ],
   "execution_count": 7
  },
  {
   "cell_type": "markdown",
   "metadata": {
    "deletable": false,
    "editable": false,
    "id": "dIMaGYkXaEQw"
   },
   "source": [
    "### **Задача 4**"
   ]
  },
  {
   "cell_type": "code",
   "metadata": {
    "colab": {
     "base_uri": "https://localhost:8080/",
     "height": 201
    },
    "deletable": false,
    "id": "wBpSjotn941H",
    "outputId": "cda2f9cf-2e79-4f85-c3eb-e81303324d19",
    "ExecuteTime": {
     "end_time": "2024-09-28T05:07:54.659791Z",
     "start_time": "2024-09-28T05:07:54.657674Z"
    }
   },
   "source": [
    "number_set = {1, 2, 3, 4, 5}\n",
    "\n",
    "first_element = list(number_set)[0]\n",
    "print('Первый элемент множества:', first_element)"
   ],
   "outputs": [
    {
     "name": "stdout",
     "output_type": "stream",
     "text": [
      "Первый элемент множества: 1\n"
     ]
    }
   ],
   "execution_count": 10
  },
  {
   "cell_type": "markdown",
   "metadata": {
    "deletable": false,
    "editable": false,
    "id": "K5O0W6HlaE1G"
   },
   "source": [
    "### **Задача 5**"
   ]
  },
  {
   "cell_type": "code",
   "metadata": {
    "colab": {
     "base_uri": "https://localhost:8080/",
     "height": 183
    },
    "deletable": false,
    "id": "mYRF3sDY9wyZ",
    "outputId": "a5f4e6ee-960e-4ed2-a5bb-ccef0514fc91",
    "ExecuteTime": {
     "end_time": "2024-09-28T05:08:07.187099Z",
     "start_time": "2024-09-28T05:08:07.185210Z"
    }
   },
   "source": [
    "student_grades = {'Alice': 85, 'Bob': 90, 'Charlie': 78}\n",
    "requested_student = 'Alice'\n",
    "\n",
    "print(f'Оценка {requested_student}: {student_grades[requested_student]}')"
   ],
   "outputs": [
    {
     "name": "stdout",
     "output_type": "stream",
     "text": [
      "Оценка Alice: 85\n"
     ]
    }
   ],
   "execution_count": 12
  },
  {
   "cell_type": "markdown",
   "metadata": {
    "deletable": false,
    "editable": false,
    "id": "MXCiUPe6aD5Q"
   },
   "source": [
    "### **Задача 6**"
   ]
  },
  {
   "cell_type": "code",
   "metadata": {
    "colab": {
     "base_uri": "https://localhost:8080/",
     "height": 219
    },
    "deletable": false,
    "id": "uaeCu26M_0Ui",
    "outputId": "21bcd9e4-2f0e-43d3-e74e-f95545828871",
    "ExecuteTime": {
     "end_time": "2024-09-28T05:08:51.809567Z",
     "start_time": "2024-09-28T05:08:51.807064Z"
    }
   },
   "source": [
    "my_dict = {\n",
    "    \"1, 2, 3\": 'This is a list',\n",
    "    \"4, 5, 6\": 'This is a tuple'\n",
    "}\n",
    "\n",
    "print(my_dict[\"1, 2, 3\"])"
   ],
   "outputs": [
    {
     "name": "stdout",
     "output_type": "stream",
     "text": [
      "This is a list\n"
     ]
    }
   ],
   "execution_count": 14
  },
  {
   "cell_type": "markdown",
   "metadata": {
    "deletable": false,
    "editable": false,
    "id": "aehB-kcet170"
   },
   "source": [
    "## **Практика**"
   ]
  },
  {
   "cell_type": "markdown",
   "metadata": {
    "deletable": false,
    "editable": false,
    "id": "WMwEmV83aMlL"
   },
   "source": [
    "### **Задачи простые**"
   ]
  },
  {
   "cell_type": "markdown",
   "metadata": {
    "deletable": false,
    "editable": false,
    "id": "I2yY9uzJoVtJ"
   },
   "source": [
    "#### **Задача 1**"
   ]
  },
  {
   "cell_type": "markdown",
   "metadata": {
    "deletable": false,
    "editable": false,
    "id": "UrdZ5MZ9aRr5"
   },
   "source": [
    "Александр — дизайнер видеоигр. Ему прислали палитру цветов, из которой нужно выбрать цвета для тестовой версии. Александр решил ограничиться цветами, находящимися на чётных позициях списка.\n",
    "\n",
    "Напиши программу, которая выведет строку с этими цветами, разделёнными символом `;`."
   ]
  },
  {
   "cell_type": "code",
   "metadata": {
    "deletable": false,
    "id": "6JXwxBfwblSO",
    "ExecuteTime": {
     "end_time": "2024-09-28T05:09:11.043141Z",
     "start_time": "2024-09-28T05:09:11.041254Z"
    }
   },
   "source": [
    "colors = ['красный', 'синий', 'зелёный', 'жёлтый', 'фиолетовый', 'оранжевый']\n",
    "\n",
    "# Допиши программу, которая выведет: синий;жёлтый;оранжевый\n",
    "\n",
    "print(';'.join(colors[1::2]))"
   ],
   "outputs": [
    {
     "name": "stdout",
     "output_type": "stream",
     "text": [
      "синий;жёлтый;оранжевый\n"
     ]
    }
   ],
   "execution_count": 15
  },
  {
   "cell_type": "markdown",
   "metadata": {
    "deletable": false,
    "editable": false,
    "id": "rT-DPPa2p2vD"
   },
   "source": [
    "#### **Задача 2**"
   ]
  },
  {
   "cell_type": "markdown",
   "metadata": {
    "deletable": false,
    "editable": false,
    "id": "nptO5FM5aR-9"
   },
   "source": [
    "Екатерина занимается обработкой информации. Чтобы эффективно хранить данные, ей нужно определить, где в массиве находится наибольшее значение.\n",
    "\n",
    "Допиши программу, которая выводит позицию (индекс) максимального элемента списка `numbers`."
   ]
  },
  {
   "cell_type": "code",
   "metadata": {
    "deletable": false,
    "id": "X_FE0kJybxE9",
    "ExecuteTime": {
     "end_time": "2024-09-28T05:09:20.581064Z",
     "start_time": "2024-09-28T05:09:20.578412Z"
    }
   },
   "source": [
    "numbers = [30, 24, 7, 56, 1]\n",
    "\n",
    "# Допиши код здесь\n",
    "\n",
    "print(numbers.index(max(numbers)))"
   ],
   "outputs": [
    {
     "name": "stdout",
     "output_type": "stream",
     "text": [
      "3\n"
     ]
    }
   ],
   "execution_count": 16
  },
  {
   "cell_type": "markdown",
   "metadata": {
    "deletable": false,
    "editable": false,
    "id": "N1Q1Q5TGqBN1"
   },
   "source": [
    "#### **Задача 3**"
   ]
  },
  {
   "cell_type": "markdown",
   "metadata": {
    "deletable": false,
    "editable": false,
    "id": "lBjC-vLWaSTX"
   },
   "source": [
    "Марина работает в компании, которая поставляет продукты питания в кафе. Задача Марины — составлять сбалансированные комплексные обеды. Во время работы над проектом она обнаружила ошибку в данных о питательной ценности фруктов.\n",
    "\n",
    "Напиши программу, которой на вход подаётся кортеж списков, где указаны названия фруктов и их калорийность. При этом калорийность винограда указана неверно.\n",
    "\n",
    "1. Напиши код, который заменит калорийность винограда (правильное значение — 75 ккал).\n",
    "2. Добавь в кортеж информацию об айве, калорийность которой — 42 ккал.\n",
    "\n"
   ]
  },
  {
   "cell_type": "code",
   "metadata": {
    "deletable": false,
    "id": "jdwn5APfcG55",
    "ExecuteTime": {
     "end_time": "2024-09-28T05:09:47.901082Z",
     "start_time": "2024-09-28T05:09:47.897632Z"
    }
   },
   "source": [
    "# Исходные данные — эту строку изменять запрещено!\n",
    "fruit_tuple = (['яблоки', 46], ['персики', 49], ['лимоны', 36], ['виноград', 190])\n",
    "\n",
    "# Допиши здесь код так, чтобы исправить калорийность винограда\n",
    "# и добавить калорийность айвы\n",
    "\n",
    "fruit_tuple = list(fruit_tuple)\n",
    "fruit_tuple[3][1] = 75\n",
    "fruit_tuple.append(['айва', 42])\n",
    "\n",
    "fruit_tuple = tuple(fruit_tuple)\n",
    "fruit_tuple"
   ],
   "outputs": [
    {
     "data": {
      "text/plain": [
       "(['яблоки', 46],\n",
       " ['персики', 49],\n",
       " ['лимоны', 36],\n",
       " ['виноград', 75],\n",
       " ['айва', 42])"
      ]
     },
     "execution_count": 18,
     "metadata": {},
     "output_type": "execute_result"
    }
   ],
   "execution_count": 18
  },
  {
   "cell_type": "markdown",
   "metadata": {
    "deletable": false,
    "editable": false,
    "id": "v0eZXQO5qHeE"
   },
   "source": [
    "#### **Задача 4**"
   ]
  },
  {
   "cell_type": "markdown",
   "metadata": {
    "deletable": false,
    "editable": false,
    "id": "W_lWQxXZaSo_"
   },
   "source": [
    "Алексей работает аналитиком данных. Сейчас его задача — проверить, начинается или заканчивается ли массив определённым числом.\n",
    "\n",
    "Напиши программу, которая выводит `True`, если первый или последний элемент списка `numbers` равен 4. В противном случае программа должна выводить `False`."
   ]
  },
  {
   "cell_type": "code",
   "metadata": {
    "deletable": false,
    "id": "FsGguK5hcRqo",
    "ExecuteTime": {
     "end_time": "2024-09-28T05:10:12.187830Z",
     "start_time": "2024-09-28T05:10:12.184858Z"
    }
   },
   "source": [
    "numbers = [4, 4, 1, 2, 5, 6, 7]\n",
    "\n",
    "# Допиши код здесь\n",
    "\n",
    "print(numbers[0] == 4 or numbers[-1] == 4)"
   ],
   "outputs": [
    {
     "name": "stdout",
     "output_type": "stream",
     "text": [
      "True\n"
     ]
    }
   ],
   "execution_count": 19
  },
  {
   "cell_type": "markdown",
   "metadata": {
    "deletable": false,
    "editable": false,
    "id": "61FViw_dqMOR"
   },
   "source": [
    "#### **Задача 5**"
   ]
  },
  {
   "cell_type": "markdown",
   "metadata": {
    "deletable": false,
    "editable": false,
    "id": "MYycaDjYaS-J"
   },
   "source": [
    "Екатерина следит за корректностью данных. Ей нужно проверить, что список не пуст и что его первый и последний элементы равны.\n",
    "\n",
    "Допиши программу, которая выводит `True`, если длина списка больше или равна 1, и при этом первый и последний элементы списка совпадают. В противном случае программа должна вывести `False`."
   ]
  },
  {
   "cell_type": "code",
   "metadata": {
    "deletable": false,
    "id": "zl-Z87fecgvd",
    "ExecuteTime": {
     "end_time": "2024-09-28T05:10:19.408512Z",
     "start_time": "2024-09-28T05:10:19.406798Z"
    }
   },
   "source": [
    "numbers = [4, 2, 3, 4]\n",
    "\n",
    "# Допиши код здесь\n",
    "\n",
    "print(len(numbers) >= 1 and numbers[0] == numbers[-1])"
   ],
   "outputs": [
    {
     "name": "stdout",
     "output_type": "stream",
     "text": [
      "True\n"
     ]
    }
   ],
   "execution_count": 20
  },
  {
   "cell_type": "markdown",
   "metadata": {
    "deletable": false,
    "editable": false,
    "id": "vk2A-2rtqXt2"
   },
   "source": [
    "#### **Задача 6**"
   ]
  },
  {
   "cell_type": "markdown",
   "metadata": {
    "deletable": false,
    "editable": false,
    "id": "Gv9xyVdWdiOo"
   },
   "source": [
    "Олегу нужно проверить ключи в определённой структуре данных.\n",
    "\n",
    "Напиши програму, которая читает строку и выводит `True`, если эта строка совпадает с одним из ключей в словаре, и `False`, если нет."
   ]
  },
  {
   "cell_type": "code",
   "metadata": {
    "deletable": false,
    "id": "ZNiXxDNvdm0P",
    "ExecuteTime": {
     "end_time": "2024-09-28T05:10:27.327787Z",
     "start_time": "2024-09-28T05:10:27.325787Z"
    }
   },
   "source": [
    "dictionary = {'clients_tables_ids': [31, 123, 821], 'systems_tables_ids': [91, 998, 1031]}\n",
    "\n",
    "# Допиши код здесь\n",
    "\n",
    "print('clients_tables_ids' in dictionary)"
   ],
   "outputs": [
    {
     "name": "stdout",
     "output_type": "stream",
     "text": [
      "True\n"
     ]
    }
   ],
   "execution_count": 21
  },
  {
   "cell_type": "markdown",
   "metadata": {
    "deletable": false,
    "editable": false,
    "id": "ztPJEgPTqcG8"
   },
   "source": [
    "#### **Задача 7**"
   ]
  },
  {
   "cell_type": "markdown",
   "metadata": {
    "deletable": false,
    "editable": false,
    "id": "YKPItwNddiFT"
   },
   "source": [
    "Анна составляет расписание для образовательной платформы. Недавно она получила данные о студентах, записавшихся на курсы по Python и R. Её задача — определить, есть ли пересечения в слушателях курсов, и сколько их.\n",
    "\n",
    "Допиши программу, которая выводит последовательно 3 числа:\n",
    "\n",
    "1. Число студентов, записавшихся только на курс Python.\n",
    "2. Число студентов, записавшихся только на курс R.\n",
    "3. Число студентов, записавшихся на оба курса."
   ]
  },
  {
   "cell_type": "code",
   "metadata": {
    "deletable": false,
    "id": "81O-qfsqeEkl",
    "ExecuteTime": {
     "end_time": "2024-09-28T05:10:46.044878Z",
     "start_time": "2024-09-28T05:10:46.042886Z"
    }
   },
   "source": [
    "# Студенты, записавшиеся на курс по Python\n",
    "list_python = ['Евгений', 'Мария', 'Иван', 'Петр', 'Наталья']\n",
    "\n",
    "# Студенты, записавшиеся на курс по языку R\n",
    "list_r = ['Максим', 'Николай', 'Мария', 'Елена']\n",
    "\n",
    "# Допиши код здесь\n",
    "\n",
    "only_python = len(set(list_python) - set(list_r))\n",
    "only_r = len(set(list_r) - set(list_python))\n",
    "both_courses = len(set(list_python) & set(list_r))\n",
    "\n",
    "print(only_python, only_r, both_courses)"
   ],
   "outputs": [
    {
     "name": "stdout",
     "output_type": "stream",
     "text": [
      "4 3 1\n"
     ]
    }
   ],
   "execution_count": 22
  },
  {
   "cell_type": "markdown",
   "metadata": {
    "deletable": false,
    "editable": false,
    "id": "jODUSwzyqg-u"
   },
   "source": [
    "#### **Задача 8**"
   ]
  },
  {
   "cell_type": "markdown",
   "metadata": {
    "deletable": false,
    "editable": false,
    "id": "zFTthV77dh8U"
   },
   "source": [
    "Сергей работает в компании, занимающейся разработкой банковских мобильных приложений. Приложение должно проверять номер субсчёта клиента на симметричность — это служит дополнительным контролем корректности введённых данных.\n",
    "\n",
    "Напиши программу, которая считывает числовой идентификатор и проверяет его на симметричность — выводит `True`, если число симметрично, и `False`, если нет.\n",
    "\n",
    "Пример симметричного числа: `1221`."
   ]
  },
  {
   "cell_type": "code",
   "metadata": {
    "deletable": false,
    "id": "ldjFW17Jk-jR",
    "ExecuteTime": {
     "end_time": "2024-09-28T05:11:30.727686Z",
     "start_time": "2024-09-28T05:11:21.870841Z"
    }
   },
   "source": [
    "# Напиши код здесь\n",
    "\n",
    "number = input()\n",
    "print(number == number[::-1])"
   ],
   "outputs": [
    {
     "name": "stdout",
     "output_type": "stream",
     "text": [
      "True\n"
     ]
    }
   ],
   "execution_count": 23
  },
  {
   "cell_type": "markdown",
   "metadata": {
    "deletable": false,
    "editable": false,
    "id": "PNXXCwAzaXWq"
   },
   "source": [
    "### **Задачи средней сложности**"
   ]
  },
  {
   "cell_type": "markdown",
   "metadata": {
    "deletable": false,
    "editable": false,
    "id": "lC4uqKYisUlN"
   },
   "source": [
    "#### **Задача 9**"
   ]
  },
  {
   "cell_type": "markdown",
   "metadata": {
    "deletable": false,
    "editable": false,
    "id": "t0vjyW-BaY2f"
   },
   "source": [
    "Андрей разрабатывает мобильное приложение с головоломками. Ему нужно создать программу, которая перемешивает элементы списка так, что первый элемент списка встаёт на последнее место, а остальные сдвигаются влево на одну позицию.\n",
    "\n",
    "Напиши программу, которая превратит список `number` в список `numbers_rotated`. В нём все элементы сдвинуты влево на одну позицию."
   ]
  },
  {
   "cell_type": "code",
   "metadata": {
    "deletable": false,
    "id": "9JsXCkIbcw_H",
    "ExecuteTime": {
     "end_time": "2024-09-28T05:11:39.721403Z",
     "start_time": "2024-09-28T05:11:39.717753Z"
    }
   },
   "source": [
    "numbers = [1, 4, 5]\n",
    "\n",
    "# Допиши код, который создаст новый список numbers_rotated\n",
    "\n",
    "numbers_rotated = numbers[1:] + numbers[:1]\n",
    "numbers_rotated"
   ],
   "outputs": [
    {
     "data": {
      "text/plain": [
       "[4, 5, 1]"
      ]
     },
     "execution_count": 24,
     "metadata": {},
     "output_type": "execute_result"
    }
   ],
   "execution_count": 24
  },
  {
   "metadata": {},
   "cell_type": "markdown",
   "source": ""
  },
  {
   "cell_type": "markdown",
   "metadata": {
    "deletable": false,
    "editable": false,
    "id": "y7bQpbVtsvFg"
   },
   "source": [
    "#### **Задача 10**"
   ]
  },
  {
   "cell_type": "markdown",
   "metadata": {
    "deletable": false,
    "editable": false,
    "id": "p-DZPQa6aaAH"
   },
   "source": [
    "Ольга занимается оптимизацией поиска в больших наборах данных. Ей нужно создать программу предварительной обработки массива.\n",
    "\n",
    "Напиши программу, которая которая преобразует входной массив `list1` так, что все нулевые значения перемещаются в конец списка. Новый список сохрани в переменную `list2`. При этом порядок не нулевых чисел должен сохраниться."
   ]
  },
  {
   "cell_type": "code",
   "metadata": {
    "deletable": false,
    "id": "24v9firvdWBr",
    "ExecuteTime": {
     "end_time": "2024-09-28T05:11:58.926096Z",
     "start_time": "2024-09-28T05:11:58.923621Z"
    }
   },
   "source": [
    "list1 = [1, 0, 1, 2, 0, 1, 3, 0]\n",
    "list2 = []\n",
    "\n",
    "# Допиши программу, которая заполнит список list2\n",
    "\n",
    "list2 = [i for i in list1 if i != 0] + [i for i in list1 if i == 0]\n",
    "list2"
   ],
   "outputs": [
    {
     "data": {
      "text/plain": [
       "[1, 1, 2, 1, 3, 0, 0, 0]"
      ]
     },
     "execution_count": 25,
     "metadata": {},
     "output_type": "execute_result"
    }
   ],
   "execution_count": 25
  },
  {
   "cell_type": "markdown",
   "metadata": {
    "deletable": false,
    "editable": false,
    "id": "qN5Vjh21s1QU"
   },
   "source": [
    "#### **Задача 11**"
   ]
  },
  {
   "cell_type": "markdown",
   "metadata": {
    "deletable": false,
    "editable": false,
    "id": "DvnnbNfGaaS6"
   },
   "source": [
    "Анна — финансовый консультант. У неё есть гипотеза: клиенты чаще тратят деньги на товары или услуги, если сумма транзакции заканчивается на нечётную цифру. Чтобы проверить это, она делит транзакции на две категории: те, что заканчиваются на чётную цифру, и те, что на нечётную.\n",
    "\n",
    "Допиши программу, которая выводит разницу между общей суммой транзакций, заканчивающихся на чётную цифру, и суммой транзакций, заканчивающихся на нечётную."
   ]
  },
  {
   "cell_type": "code",
   "metadata": {
    "deletable": false,
    "id": "yMIop3AUe1bl",
    "ExecuteTime": {
     "end_time": "2024-09-28T05:12:12.665307Z",
     "start_time": "2024-09-28T05:12:12.663375Z"
    }
   },
   "source": [
    "transactions = [100, 155, 202, 253, 300]\n",
    "\n",
    "# Допиши код здесь\n",
    "\n",
    "even_sum = sum([i for i in transactions if i % 2 == 0])\n",
    "odd_sum = sum([i for i in transactions if i % 2 != 0])\n",
    "\n",
    "print(even_sum - odd_sum)"
   ],
   "outputs": [
    {
     "name": "stdout",
     "output_type": "stream",
     "text": [
      "194\n"
     ]
    }
   ],
   "execution_count": 26
  },
  {
   "cell_type": "markdown",
   "metadata": {
    "deletable": false,
    "editable": false,
    "id": "EibMn9aos4x2"
   },
   "source": [
    "#### **Задача 12**"
   ]
  },
  {
   "cell_type": "markdown",
   "metadata": {
    "deletable": false,
    "editable": false,
    "id": "KOhxGMPcaahx"
   },
   "source": [
    "Эльвира хочет создать инструмент для оценки частотности символов в текстах.\n",
    "\n",
    "Напиши программу, которая подсчитает количество указанных символов в тексте. На вход она принимает две строки: в первой — текст, а во второй — символ для поиска. Результат её работы — количество вхождений символа в текст.\n",
    "\n",
    "Пример ввода:\n",
    "```\n",
    "я люблю язык Python\n",
    "я\n",
    "```\n",
    "\n",
    "Вывод:\n",
    "```\n",
    "2\n",
    "```"
   ]
  },
  {
   "cell_type": "code",
   "metadata": {
    "deletable": false,
    "id": "S__squjRfK3-",
    "ExecuteTime": {
     "end_time": "2024-09-28T05:12:41.336103Z",
     "start_time": "2024-09-28T05:12:31.513436Z"
    }
   },
   "source": [
    "# Напиши код здесь\n",
    "\n",
    "text = input().lower()\n",
    "symbol = input().lower()\n",
    "\n",
    "print(text.count(symbol))"
   ],
   "outputs": [
    {
     "name": "stdout",
     "output_type": "stream",
     "text": [
      "1\n"
     ]
    }
   ],
   "execution_count": 27
  },
  {
   "cell_type": "markdown",
   "metadata": {
    "deletable": false,
    "editable": false,
    "id": "-m9nnjpes9yJ"
   },
   "source": [
    "#### **Задача 13**"
   ]
  },
  {
   "cell_type": "markdown",
   "metadata": {
    "deletable": false,
    "editable": false,
    "id": "fivKSlo0aa00"
   },
   "source": [
    "Антон разрабатывает текстовый анализатор для платформы владельцев животных. Ему нужно написать программу, которая проверяет, сколько раз встречаются слова «cat» и «dog» в тексте.\n",
    "\n",
    "Напиши программу, которая читает строку текста и возвращает `True`, если слова `cat` и `dog` встречаются одинаковое количество раз, иначе `False`."
   ]
  },
  {
   "cell_type": "code",
   "metadata": {
    "deletable": false,
    "id": "rP-JyowKfUVN",
    "ExecuteTime": {
     "end_time": "2024-09-28T05:13:18.541313Z",
     "start_time": "2024-09-28T05:13:09.290336Z"
    }
   },
   "source": [
    "# Напиши код здесь\n",
    "\n",
    "text = input().lower()\n",
    "\n",
    "print(text.count('cat') == text.count('dog'))"
   ],
   "outputs": [
    {
     "name": "stdout",
     "output_type": "stream",
     "text": [
      "False\n"
     ]
    }
   ],
   "execution_count": 28
  },
  {
   "cell_type": "markdown",
   "metadata": {
    "deletable": false,
    "editable": false,
    "id": "aK4sdN63tCjA"
   },
   "source": [
    "#### **Задача 14**"
   ]
  },
  {
   "cell_type": "markdown",
   "metadata": {
    "deletable": false,
    "editable": false,
    "id": "lXgGPEqdabKs"
   },
   "source": [
    "Андрей разрабатывает головоломки для улучшения навыков программирования. Он хочет создать задачу, которая проверяет умение переставлять символы в каждом слове, оставляя при этом порядок слов в предложении неизменным.\n",
    "\n",
    "Разработай программу, которая читает строку, содержащую несколько слов, и выводит строку, где каждое слово записано в обратном порядке, но сами слова остаются на своих местах.\n",
    "\n",
    "Пример ввода:\n",
    "```\n",
    "Привет мир\n",
    "```\n",
    "\n",
    "Пример вывода:\n",
    "```\n",
    "тевирП рим\n",
    "```"
   ]
  },
  {
   "cell_type": "code",
   "metadata": {
    "deletable": false,
    "id": "oq9gP_4WgwLa",
    "ExecuteTime": {
     "end_time": "2024-09-28T05:14:06.498884Z",
     "start_time": "2024-09-28T05:14:02.680093Z"
    }
   },
   "source": [
    "# Напиши код здесь\n",
    "\n",
    "text = input().split()\n",
    "\n",
    "print(' '.join([i[::-1] for i in text]))"
   ],
   "outputs": [
    {
     "name": "stdout",
     "output_type": "stream",
     "text": [
      "тевирП рим\n"
     ]
    }
   ],
   "execution_count": 30
  },
  {
   "cell_type": "markdown",
   "metadata": {
    "deletable": false,
    "editable": false,
    "id": "ObWVAMvYad7k"
   },
   "source": [
    "### **Задачи сложные**"
   ]
  },
  {
   "cell_type": "markdown",
   "metadata": {
    "deletable": false,
    "editable": false,
    "id": "DweZ01mptHan"
   },
   "source": [
    "#### **Задача 15**"
   ]
  },
  {
   "cell_type": "markdown",
   "metadata": {
    "deletable": false,
    "editable": false,
    "id": "_Pm74w93afHr"
   },
   "source": [
    "Мария пишет головоломки для дошкольников. Она придумала задачу: нужно суммировать все цифры числа, пока не останется одна цифра.\n",
    "\n",
    "Напиши программу, которая на входе получает число, а на выходе выводит одну цифру.\n",
    "\n",
    "Пример работы программы:\n",
    "\n",
    "- 16 --> 1 + 6 = 7.\n",
    "- 942 --> 9 + 4 + 2 = 15 --> 1 + 5 = 6.\n",
    "- 132189 --> 1 + 3 + 2 + 1 + 8 + 9 = 24 --> 2 + 4 = 6."
   ]
  },
  {
   "cell_type": "code",
   "metadata": {
    "deletable": false,
    "id": "CEisJ7SXcM8J",
    "ExecuteTime": {
     "end_time": "2024-09-28T05:14:39.934506Z",
     "start_time": "2024-09-28T05:14:35.843432Z"
    }
   },
   "source": [
    "# Напиши код здесь\n",
    "\n",
    "number = input()\n",
    "\n",
    "while len(number) > 1:\n",
    "    number = str(sum([int(i) for i in number]))\n",
    "    \n",
    "print(number)"
   ],
   "outputs": [
    {
     "name": "stdout",
     "output_type": "stream",
     "text": [
      "6\n"
     ]
    }
   ],
   "execution_count": 32
  },
  {
   "cell_type": "markdown",
   "metadata": {
    "deletable": false,
    "editable": false,
    "id": "2UBTqtPVtNDc"
   },
   "source": [
    "#### **Задача 16**"
   ]
  },
  {
   "cell_type": "markdown",
   "metadata": {
    "deletable": false,
    "editable": false,
    "id": "7H2G1A61afdq"
   },
   "source": [
    "Следующая головоломка, которую придумала Мария, — текстовая. В ней слова длиннее 5 символов изображаются в обратном порядке.\n",
    "\n",
    "Реализуй программу, которая принимает строку и выводит новую строку, где у слов длиннее 5 символов порядок букв изменён на обратный.\n",
    "\n",
    "Примеры:\n",
    "- Ввод: `'Hey fellow warriors'` => Вывод: `'Hey wollef sroirraw'`.\n",
    "- Ввод: `'This is a test'` => Вывод: `'This is a test'`.\n",
    "- Ввод: `'This is another test'` => Вывод: `'This is rehtona test'`."
   ]
  },
  {
   "cell_type": "code",
   "metadata": {
    "deletable": false,
    "id": "JOwK-wRXkpox",
    "ExecuteTime": {
     "end_time": "2024-09-28T05:15:57.052787Z",
     "start_time": "2024-09-28T05:15:50.553966Z"
    }
   },
   "source": [
    "# Напиши код здесь\n",
    "\n",
    "text = input().split()\n",
    "\n",
    "print(' '.join([i[::-1] if len(i) > 5 else i for i in text]))"
   ],
   "outputs": [
    {
     "name": "stdout",
     "output_type": "stream",
     "text": [
      "This is a test\n"
     ]
    }
   ],
   "execution_count": 34
  },
  {
   "cell_type": "markdown",
   "metadata": {
    "deletable": false,
    "editable": false,
    "id": "8SOPlffdtQv4"
   },
   "source": [
    "#### **Задача 17**"
   ]
  },
  {
   "cell_type": "markdown",
   "metadata": {
    "deletable": false,
    "editable": false,
    "id": "yZGq_6VQaf2m"
   },
   "source": [
    "Антон анализирует данные на предмет аномалий.\n",
    "\n",
    "Напиши программу, которая читает 10 целых чисел (каждое из которых с новой строки) и выводит значение единственного числа, отличающегося от всех остальных.\n",
    "\n",
    "Пример ввода:\n",
    "```\n",
    "1\n",
    "1\n",
    "2\n",
    "1\n",
    "1\n",
    "1\n",
    "1\n",
    "1\n",
    "1\n",
    "1\n",
    "```\n",
    "\n",
    "Вывод:\n",
    "```\n",
    "2\n",
    "```"
   ]
  },
  {
   "cell_type": "code",
   "metadata": {
    "deletable": false,
    "id": "jhYygbQwgUi0",
    "ExecuteTime": {
     "end_time": "2024-09-28T05:17:48.240348Z",
     "start_time": "2024-09-28T05:17:35.439011Z"
    }
   },
   "source": [
    "# Напиши код здесь\n",
    "\n",
    "numbers = [int(input()) for _ in range(10)]\n",
    "\n",
    "for i in numbers:\n",
    "    if numbers.count(i) == 1:\n",
    "        print(i)\n",
    "        break"
   ],
   "outputs": [
    {
     "name": "stdout",
     "output_type": "stream",
     "text": [
      "2\n"
     ]
    }
   ],
   "execution_count": 38
  },
  {
   "cell_type": "markdown",
   "metadata": {
    "deletable": false,
    "editable": false,
    "id": "SiHVnrZBtUHS"
   },
   "source": [
    "#### **Задача 18**"
   ]
  },
  {
   "cell_type": "markdown",
   "metadata": {
    "deletable": false,
    "editable": false,
    "id": "lHuTxxX0agNv"
   },
   "source": [
    "Илья занимается праздничными рассылками и хочет добавить в письма новогодние ёлочки.\n",
    "\n",
    "Напиши программу, которая принимает на вход нечётное целое число уровней и выводит текст, представляющий собой рисунок праздничной елочки. Каждый её уровень содержит нужное количество звездочек, выровненных симметрично относительно центра.\n",
    "\n",
    "Пример:\n",
    "- Ввод: 3\n",
    "- Вывод:\n",
    "\n",
    "```\n",
    "  *\n",
    " ***\n",
    "*****\n",
    "```"
   ]
  },
  {
   "cell_type": "code",
   "metadata": {
    "deletable": false,
    "id": "pxBhu8EShpfX",
    "ExecuteTime": {
     "end_time": "2024-09-28T05:18:28.015611Z",
     "start_time": "2024-09-28T05:18:23.621227Z"
    }
   },
   "source": [
    "# Напиши код здесь\n",
    "\n",
    "n = int(input())\n",
    "\n",
    "for i in range(1, n + 1, 2):\n",
    "    print(' ' * ((n - i) // 2) + '*' * i)\n",
    "    \n"
   ],
   "outputs": [
    {
     "name": "stdout",
     "output_type": "stream",
     "text": [
      "    *\n",
      "   ***\n",
      "  *****\n",
      " *******\n",
      "*********\n"
     ]
    }
   ],
   "execution_count": 39
  },
  {
   "cell_type": "markdown",
   "metadata": {
    "deletable": false,
    "editable": false,
    "id": "x94DoQGktYjZ"
   },
   "source": [
    "#### **Задача 19**"
   ]
  },
  {
   "cell_type": "markdown",
   "metadata": {
    "deletable": false,
    "editable": false,
    "id": "n3MzSaE7agnC"
   },
   "source": [
    "Дмитрий анализирует пользовательское поведение для различных мобильных приложений. У него есть последовательность положительных чисел — это количество пользователей.\n",
    "\n",
    "Дмитрию нужно написать программу, которая анализирует тенденцию — сколько раз количество пользователей уменьшалось или увеличивалось.\n",
    "\n",
    "Допиши код, который выводит целое число: сколько раз в последовательности `numbers` меняется направление (пример: увеличение или уменьшение чисел). Если числа равны, направление не меняется."
   ]
  },
  {
   "cell_type": "markdown",
   "metadata": {
    "deletable": false,
    "editable": false,
    "id": "vKoPp9a7iSII"
   },
   "source": [
    "![image.png](data:image/png;base64,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)"
   ]
  },
  {
   "metadata": {
    "ExecuteTime": {
     "end_time": "2024-09-28T05:24:24.933137Z",
     "start_time": "2024-09-28T05:24:24.930696Z"
    }
   },
   "cell_type": "code",
   "source": [
    "numbers = [0, 1, 2, 2, 1, 1, 2, 3, 1, 0, 1, 1, 1, 3, 2, 3, 1, 0, 0, 1]\n",
    "\n",
    "\n",
    "# Допиши код здесь\n",
    "\n",
    "counter = 0\n",
    "up = 0\n",
    "for i in range(len(numbers) - 1):\n",
    "    if numbers[i + 1] > numbers[i]:\n",
    "        if up == 0:\n",
    "            up = 1\n",
    "            counter += 1\n",
    "    elif numbers[i + 1] < numbers[i]:\n",
    "        if up == 1:\n",
    "            up = 0\n",
    "            counter += 1\n",
    "        \n",
    "print(counter)"
   ],
   "outputs": [
    {
     "name": "stdout",
     "output_type": "stream",
     "text": [
      "9\n"
     ]
    }
   ],
   "execution_count": 44
  }
 ],
 "metadata": {
  "colab": {
   "provenance": [],
   "toc_visible": true
  },
  "kernelspec": {
   "display_name": "Python 3 (ipykernel)",
   "language": "python",
   "name": "python3"
  },
  "language_info": {
   "codemirror_mode": {
    "name": "ipython",
    "version": 3
   },
   "file_extension": ".py",
   "mimetype": "text/x-python",
   "name": "python",
   "nbconvert_exporter": "python",
   "pygments_lexer": "ipython3",
   "version": "3.11.10"
  }
 },
 "nbformat": 4,
 "nbformat_minor": 4
}
