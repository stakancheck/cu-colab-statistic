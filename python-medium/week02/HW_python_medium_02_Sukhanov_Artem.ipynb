{
 "cells": [
  {
   "cell_type": "markdown",
   "metadata": {
    "deletable": false,
    "editable": false,
    "id": "-Uq88nIQE0zM"
   },
   "source": [
    "# *Красный трек*\n",
    "## Задачи по теме «Коллекции»\n",
    "\n",
    "Решая задачи, ты научишься:\n",
    "\n",
    "- использовать операции над множествами;\n",
    "- обрабатывать строки, кортежи и списки;\n",
    "- создавать и преобразовывать словари.\n",
    "\n",
    "Время решения: ~ 40 минут."
   ]
  },
  {
   "cell_type": "markdown",
   "metadata": {
    "deletable": false,
    "editable": false,
    "id": "otNYqwQE-5Ig"
   },
   "source": [
    "## Рекомендации\n",
    "\n",
    "* Читай комментарии в коде, они помечены знаком `#`.\n",
    "* Запусти код в ячейке, чтобы посмотреть результат.\n",
    "\n",
    "\n",
    "\n"
   ]
  },
  {
   "cell_type": "markdown",
   "metadata": {
    "deletable": false,
    "editable": false,
    "id": "9jUOIQrKyz4S"
   },
   "source": [
    "## Оценивание домашнего задания\n",
    "\n",
    "**Система оценивания —** бинарная:\n",
    "\n",
    "- если все задачи решены корректно, без ошибок и полностью соответствуют стандартам кода на курсе, то задание выполнено и оценка — **10 баллов**;\n",
    "- если решения содержат ошибки или не соответствуют требованиям, то задание не выполнено и оценка — **0 баллов**.  \n",
    "\n",
    "\n",
    "**Проверка задания**\n",
    "\n",
    "- Перед тем, как сдать задание, убедись, что твой код работает без ошибок и соответствует стандартам. Для этого используй автоматическую проверку.\n",
    "- Загрузи задание в LMS. Ассистент проверит, соответствуют ли твои решения требованиям и целям домашнего задания, и выставит оценку.\n",
    "\n",
    "\n",
    "**Доработка**\n",
    "\n",
    "- Если твое задание получило 0 баллов, его вернут на доработку через LMS с комментариями о том, что нужно исправить."
   ]
  },
  {
   "cell_type": "markdown",
   "metadata": {
    "deletable": false,
    "editable": false,
    "id": "COJmGYqmXLsg"
   },
   "source": [
    "### **Задача 1**\n",
    "\n",
    "Алексей работает над системой анализа посещений сайта. Ему нужно создать множество IP-адресов посетителей, которые заходили на сайт в течение дня. IP-адреса вводятся с клавиатуры одной строкой через пробел. Выведи количество уникальных IP-адресов и само множество."
   ]
  },
  {
   "cell_type": "code",
   "metadata": {
    "deletable": false,
    "id": "TryUN7VBW4A0",
    "ExecuteTime": {
     "end_time": "2024-09-28T06:40:45.986106Z",
     "start_time": "2024-09-28T06:40:44.564038Z"
    }
   },
   "source": [
    "# Пример ввода:\n",
    "# 192.168.1.1 192.168.1.2 192.168.1.3 192.168.1.1 192.168.1.4\n",
    "\n",
    "addresses = set(input().split())\n",
    "print(len(addresses))\n",
    "print(addresses)\n",
    "\n",
    "# Ожидаемый вывод:\n",
    "# 4\n",
    "# {'192.168.1.1', '192.168.1.2', '192.168.1.3', '192.168.1.4'}"
   ],
   "outputs": [
    {
     "name": "stdout",
     "output_type": "stream",
     "text": [
      "4\n",
      "{'192.168.1.4', '192.168.1.1', '192.168.1.3', '192.168.1.2'}\n"
     ]
    }
   ],
   "execution_count": 3
  },
  {
   "cell_type": "markdown",
   "metadata": {
    "deletable": false,
    "editable": false,
    "id": "_aq-lSn7XQ8h"
   },
   "source": [
    "### **Задача 2**\n",
    "\n",
    "Алексей сравнивает списки IP-адресов за два разных дня. IP-адреса для каждого дня вводятся с клавиатуры в две строки через пробел. Найди и выведи:\n",
    "\n",
    "1.\tМножество пересекающихся IP-адресов (те, которые присутствовали оба дня).\n",
    "2.\tМножество уникальных IP-адресов только для первого дня.\n",
    "3.\tМножество уникальных IP-адресов только для второго дня."
   ]
  },
  {
   "cell_type": "code",
   "metadata": {
    "deletable": false,
    "id": "PQotzDpnXWay",
    "ExecuteTime": {
     "end_time": "2024-09-28T06:41:57.690275Z",
     "start_time": "2024-09-28T06:41:49.346400Z"
    }
   },
   "source": [
    "# Пример ввода:\n",
    "# 192.168.1.1 192.168.1.2 192.168.1.3\n",
    "# 192.168.1.2 192.168.1.4 192.168.1.5\n",
    "\n",
    "day1 = set(input().split())\n",
    "day2 = set(input().split())\n",
    "\n",
    "print(day1 & day2)\n",
    "print(day1 - day2)\n",
    "print(day2 - day1)\n",
    "\n",
    "# Ожидаемый вывод:\n",
    "# {'192.168.1.2'}\n",
    "# {'192.168.1.1', '192.168.1.3'}\n",
    "# {'192.168.1.4', '192.168.1.5'}"
   ],
   "outputs": [
    {
     "name": "stdout",
     "output_type": "stream",
     "text": [
      "{'192.168.1.2'}\n",
      "{'192.168.1.1', '192.168.1.3'}\n",
      "{'192.168.1.4', '192.168.1.5'}\n"
     ]
    }
   ],
   "execution_count": 6
  },
  {
   "cell_type": "markdown",
   "metadata": {
    "deletable": false,
    "editable": false,
    "id": "gTZ4E0v7XYYL"
   },
   "source": [
    "### **Задача 3**\n",
    "\n",
    "Алексей разрабатывает систему для хранения информации о пользователях сайта. Данные вводятся с клавиатуры: имя пользователя, возраст и список посещенных страниц через запятую. Преобразуй введённые данные в кортеж и выведи его."
   ]
  },
  {
   "cell_type": "code",
   "metadata": {
    "deletable": false,
    "id": "Zf71trxYXcCm",
    "ExecuteTime": {
     "end_time": "2024-09-28T06:45:16.423497Z",
     "start_time": "2024-09-28T06:45:14.988631Z"
    }
   },
   "source": [
    "# Пример ввода:\n",
    "# Иван 30 /index.html,/about.html\n",
    "\n",
    "text = input().split()\n",
    "raw_data = list(text[:2])\n",
    "raw_data.append(text[2].split(','))\n",
    "user = tuple(raw_data)\n",
    "print(user)\n",
    "\n",
    "\n",
    "# Ожидаемый вывод:\n",
    "# ('Иван', 30, ['/index.html', '/about.html'])"
   ],
   "outputs": [
    {
     "name": "stdout",
     "output_type": "stream",
     "text": [
      "('Иван', '30', ['/index.html', '/about.html'])\n"
     ]
    }
   ],
   "execution_count": 12
  },
  {
   "cell_type": "markdown",
   "metadata": {
    "deletable": false,
    "editable": false,
    "id": "C4wSJAOlXdU8"
   },
   "source": [
    "### **Задача 4**\n",
    "\n",
    "Алексей анализирует данные о посещениях страниц пользователями сайта. Вводятся два списка посещённых страниц через пробел (каждый в своей строке). Преобразуй введенные данные в списки, объедини их, отсортируй, и выведи каждый второй адрес из этого списка."
   ]
  },
  {
   "cell_type": "code",
   "metadata": {
    "deletable": false,
    "id": "YoBgCxnhXg1e",
    "ExecuteTime": {
     "end_time": "2024-09-28T06:45:50.534645Z",
     "start_time": "2024-09-28T06:45:37.795021Z"
    }
   },
   "source": [
    "# Пример ввода:\n",
    "# /index.html /about.html\n",
    "# /products.html /contact.html\n",
    "\n",
    "pages1 = input().split()\n",
    "pages2 = input().split()\n",
    "all_pages = pages1 + pages2\n",
    "all_pages.sort()\n",
    "print(all_pages[1::2])\n",
    "\n",
    "\n",
    "# Ожидаемый вывод: (Неверный пример вывода)\n",
    "# ['/about.html', '/contact.html']"
   ],
   "outputs": [
    {
     "name": "stdout",
     "output_type": "stream",
     "text": [
      "['/contact.html', '/products.html']\n"
     ]
    }
   ],
   "execution_count": 14
  },
  {
   "cell_type": "markdown",
   "metadata": {
    "deletable": false,
    "editable": false,
    "id": "MqaRWW_bXiVO"
   },
   "source": [
    "### **Задача 5**\n",
    "\n",
    "Алексей разрабатывает систему хранения данных о пользователях.\n",
    "\n",
    "Создай словарь, где ключами будут имена пользователей, а значениями — списки посещённых ими страниц. Выведи этот словарь.\n",
    "\n",
    "Затем добавь нового пользователя и его данные, введённые с клавиатуры, и распечатай обновлённый словарь."
   ]
  },
  {
   "cell_type": "code",
   "metadata": {
    "deletable": false,
    "id": "VANutrz2XkCp",
    "ExecuteTime": {
     "end_time": "2024-09-28T06:47:34.172199Z",
     "start_time": "2024-09-28T06:47:23.843557Z"
    }
   },
   "source": [
    "# Пример ввода:\n",
    "# Иван /index.html /about.html\n",
    "# Анна /products.html /contact.html\n",
    "\n",
    "user_pages = {}\n",
    "name, *pages = input().split()\n",
    "user_pages[name] = pages\n",
    "name, *pages = input().split()\n",
    "user_pages[name] = pages\n",
    "print(user_pages)\n",
    "\n",
    "# Ожидаемый вывод: {'Иван': ['/index.html', '/about.html'], 'Анна': ['/products.html', '/contact.html'], 'Сергей': ['/home.html']}"
   ],
   "outputs": [
    {
     "name": "stdout",
     "output_type": "stream",
     "text": [
      "{'Иван': ['/index.html', '/about.html'], 'Анна': ['/products.html', '/contact.html']}\n"
     ]
    }
   ],
   "execution_count": 17
  },
  {
   "cell_type": "markdown",
   "metadata": {
    "deletable": false,
    "editable": false,
    "id": "32-AjCOUX2VM"
   },
   "source": [
    "### **Задача 6**\n",
    "\n",
    "Алексей хочет узнать, какие страницы посещал конкретный пользователь.\n",
    "\n",
    "Для этого он решил предыдущую задачу, и хранит собранные данные о пользователях в переменной с именем `user_pages`.\n",
    "\n",
    "Имя пользователя вводится с клавиатуры. Если такой пользователь существует, выведи список его посещённых страниц. Если пользователя с таким именем нет, выведи сообщение `Нет информации о таком пользователе`."
   ]
  },
  {
   "cell_type": "code",
   "metadata": {
    "deletable": false,
    "id": "BZW2pY45X6ia",
    "ExecuteTime": {
     "end_time": "2024-09-28T06:50:06.611608Z",
     "start_time": "2024-09-28T06:50:03.637822Z"
    }
   },
   "source": [
    "# Пример ввода:\n",
    "# Анна\n",
    "\n",
    "name = input()\n",
    "if name in user_pages:\n",
    "    print(user_pages[name])\n",
    "else:\n",
    "    print('Нет информации о таком пользователе')\n",
    "\n",
    "# Ожидаемый вывод: ['/products.html', '/contact.html']"
   ],
   "outputs": [
    {
     "name": "stdout",
     "output_type": "stream",
     "text": [
      "Нет информации о таком пользователе\n"
     ]
    }
   ],
   "execution_count": 19
  },
  {
   "cell_type": "markdown",
   "metadata": {
    "deletable": false,
    "editable": false,
    "id": "JC6D56jXX88-"
   },
   "source": [
    "### **Задача 7**\n",
    "\n",
    "Алексей анализирует строки URL-адресов, посещаемых пользователями. Найди и выведи доменное имя из строки URL. Например, если введён URL https://www.example.com/index.html, то нужно вывести example.com."
   ]
  },
  {
   "cell_type": "code",
   "metadata": {
    "deletable": false,
    "id": "VsFUz1pKYCb4",
    "ExecuteTime": {
     "end_time": "2024-09-28T06:50:25.555277Z",
     "start_time": "2024-09-28T06:50:24.495234Z"
    }
   },
   "source": [
    "# Пример ввода:\n",
    "# https://www.example.com/index.html\n",
    "\n",
    "url = input().split('//')[-1].split('/')[0]\n",
    "print(url)\n",
    "\n",
    "# Ожидаемый вывод:\n",
    "# example.com"
   ],
   "outputs": [
    {
     "name": "stdout",
     "output_type": "stream",
     "text": [
      "www.example.com\n"
     ]
    }
   ],
   "execution_count": 21
  },
  {
   "cell_type": "markdown",
   "metadata": {
    "deletable": false,
    "editable": false,
    "id": "CDqig3jsYFfW"
   },
   "source": [
    "### **Задача 8**\n",
    "\n",
    "Алексей хочет проверить, содержится ли определённое слово в описании страницы. Вводится две строки: сначала описание страницы, а затем слово для поиска. Если слово найдено, выведи сообщение `Слово найдено`, иначе — сообщение `Слово не найдено`."
   ]
  },
  {
   "cell_type": "code",
   "metadata": {
    "deletable": false,
    "id": "Rl0qQ7kXYIzo",
    "ExecuteTime": {
     "end_time": "2024-09-28T06:51:03.452764Z",
     "start_time": "2024-09-28T06:50:56.660760Z"
    }
   },
   "source": [
    "# Пример ввода:\n",
    "# Эта страница о Python программировании.\n",
    "# Python\n",
    "\n",
    "text = input().lower()\n",
    "word = input().lower()\n",
    "if word in text:\n",
    "    print('Слово найдено')\n",
    "else:\n",
    "    print('Слово не найдено')\n",
    "\n",
    "# Ожидаемый вывод: Слово найдено"
   ],
   "outputs": [
    {
     "name": "stdout",
     "output_type": "stream",
     "text": [
      "Слово найдено\n"
     ]
    }
   ],
   "execution_count": 23
  },
  {
   "cell_type": "markdown",
   "metadata": {
    "deletable": false,
    "editable": false,
    "id": "I2GZvhuKYLK0"
   },
   "source": [
    "### **Задача 9**\n",
    "\n",
    "Алексей разрабатывает систему для анализа и категоризации текстов, оставленных пользователями. Вводятся несколько строк с текстом (каждая строка — отдельный текст). Затем нужно создать словарь, где ключами будут слова из этих текстов, а значениями — множества с номерами строк (нумерация начинается с 1), в которых встречаются эти слова. Выведи созданный словарь."
   ]
  },
  {
   "cell_type": "code",
   "metadata": {
    "deletable": false,
    "id": "4ioHGklqYOVi",
    "ExecuteTime": {
     "end_time": "2024-09-28T06:52:01.195907Z",
     "start_time": "2024-09-28T06:51:45.958606Z"
    }
   },
   "source": [
    "# Пример ввода:\n",
    "# Python для начинающих\n",
    "# Начинающие программисты учат Python\n",
    "\n",
    "texts = []\n",
    "words = {}\n",
    "for i in range(1, 3):\n",
    "    text = input().split()\n",
    "    texts.append(text)\n",
    "    for word in text:\n",
    "        if word not in words:\n",
    "            words[word] = {i}\n",
    "        else:\n",
    "            words[word].add(i)\n",
    "\n",
    "print(words)\n",
    "\n",
    "\n",
    "\n",
    "# Ожидаемый вывод:\n",
    "# {'Python': {1, 2}, 'для': {1}, 'начинающих': {1}, 'Начинающие': {2}, 'программисты': {2}, 'учат': {2}}"
   ],
   "outputs": [
    {
     "name": "stdout",
     "output_type": "stream",
     "text": [
      "{'Python': {1, 2}, 'для': {1}, 'начинающих': {1}, 'Начинающие': {2}, 'программисты': {2}, 'учат': {2}}\n"
     ]
    }
   ],
   "execution_count": 25
  },
  {
   "cell_type": "markdown",
   "metadata": {
    "deletable": false,
    "editable": false,
    "id": "8Pf3UhzBYPl2"
   },
   "source": [
    "### **Задача 10**\n",
    "\n",
    "Алексей создает систему для обработки отзывов клиентов. Вводятся несколько отзывов (каждый в отдельной строке). Задача — определить, сколько раз каждое уникальное слово встречается в отзывах, и затем создать список самых частых слов. Выведи список этих слов в алфавитном порядке."
   ]
  },
  {
   "cell_type": "code",
   "metadata": {
    "deletable": false,
    "id": "YvQkq0GEYTBW",
    "ExecuteTime": {
     "end_time": "2024-09-28T06:55:01.941275Z",
     "start_time": "2024-09-28T06:54:49.714030Z"
    }
   },
   "source": [
    "# Пример ввода:\n",
    "# Прекрасный сервис и отличное обслуживание\n",
    "# Обслуживание на высшем уровне, сервис отличный\n",
    "\n",
    "reviews = []\n",
    "words = {}\n",
    "for i in range(1, 3):\n",
    "    review = input().lower().split()\n",
    "    reviews.append(review)\n",
    "    for word in review:\n",
    "        if word not in words:\n",
    "            words[word] = 1\n",
    "        else:\n",
    "            words[word] += 1\n",
    "\n",
    "max_count = max(words.values())\n",
    "top_words = [word for word, count in words.items() if count == max_count]\n",
    "top_words.sort()\n",
    "print(top_words)\n",
    "\n",
    "# Ожидаемый вывод: (Неверный пример вывода)\n",
    "# ['обслуживание', 'отличный', 'сервис'] "
   ],
   "outputs": [
    {
     "name": "stdout",
     "output_type": "stream",
     "text": [
      "['обслуживание', 'сервис']\n"
     ]
    }
   ],
   "execution_count": 30
  }
 ],
 "metadata": {
  "colab": {
   "provenance": [],
   "toc_visible": true
  },
  "kernelspec": {
   "display_name": "Python 3 (ipykernel)",
   "language": "python",
   "name": "python3"
  },
  "language_info": {
   "codemirror_mode": {
    "name": "ipython",
    "version": 3
   },
   "file_extension": ".py",
   "mimetype": "text/x-python",
   "name": "python",
   "nbconvert_exporter": "python",
   "pygments_lexer": "ipython3",
   "version": "3.11.2"
  }
 },
 "nbformat": 4,
 "nbformat_minor": 4
}
