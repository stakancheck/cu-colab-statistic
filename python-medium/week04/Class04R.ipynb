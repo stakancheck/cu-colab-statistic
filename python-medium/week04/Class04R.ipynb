{
 "cells": [
  {
   "cell_type": "markdown",
   "metadata": {
    "deletable": false,
    "editable": false,
    "id": "beJExzvh5t1V",
    "pycharm": {
     "name": "#%% md\n"
    }
   },
   "source": [
    "# *Красный трек*\n",
    "\n",
    "##  Семинар по теме «Генераторы и декораторы»\n",
    "\n",
    "Закрепим знания, полученные при изучении темы «Генераторы и декораторы» и решении домашних заданий."
   ]
  },
  {
   "cell_type": "markdown",
   "metadata": {
    "deletable": false,
    "editable": false,
    "id": "FSfCLs4RxpdC",
    "pycharm": {
     "name": "#%% md\n"
    }
   },
   "source": [
    "## Оценивание работы на семинаре\n",
    "\n",
    "**Система оценивания —** бинарная:\n",
    "\n",
    "  - если все задачи решены корректно, без ошибок и полностью соответствуют стандартам кода на курсе, то задание выполнено и оценка — **10 баллов**;\n",
    "  - если решения содержат ошибки или не соответствуют требованиям, то задание не выполнено и оценка — **0 баллов**.  \n",
    "\n",
    "\n",
    "**Проверка задания**\n",
    "\n",
    "- Перед тем как сдать задание, убедись, что твой код работает без ошибок и соответствует стандартам. Для этого используй автоматическую проверку.\n",
    "- Загрузи задание на LMS. Ассистент проверит, соответствуют ли твои решения требованиям и целям задания, и выставит оценку.\n",
    "\n",
    "\n",
    "**Доработка**\n",
    "\n",
    "- Если твоё задание получило 0 баллов, его вернут на доработку через LMS с комментариями о том, что нужно исправить."
   ]
  },
  {
   "cell_type": "markdown",
   "metadata": {
    "deletable": false,
    "editable": false,
    "id": "9UP6zGVl5t1c",
    "pycharm": {
     "name": "#%% md\n"
    }
   },
   "source": [
    "## **Поиск ошибок в коде**"
   ]
  },
  {
   "cell_type": "markdown",
   "metadata": {
    "deletable": false,
    "editable": false,
    "id": "--uSLe3WUOyt",
    "pycharm": {
     "name": "#%% md\n"
    }
   },
   "source": [
    "В задачах ниже в коде допущены ошибки. Найди их, исправь и запусти код."
   ]
  },
  {
   "cell_type": "markdown",
   "metadata": {
    "deletable": false,
    "editable": false,
    "id": "LojXY2un5t1c",
    "pycharm": {
     "name": "#%% md\n"
    }
   },
   "source": [
    "### **Задача 1**. Произвольное количество аргументов (`*args` и `**kwargs`)\n",
    "**Проблема.** Функция должна перемножить все переданные аргументы, но при этом выдаёт ошибку.\n"
   ]
  },
  {
   "cell_type": "code",
   "metadata": {
    "deletable": false,
    "id": "_7kr2oC55t1d",
    "outputId": "41f02d55-ab1a-43aa-91ed-90b81a1cf50f",
    "ExecuteTime": {
     "end_time": "2024-10-10T12:47:26.902179Z",
     "start_time": "2024-10-10T12:47:26.899794Z"
    }
   },
   "source": [
    "from typing import Any\n",
    "\n",
    "\n",
    "def multiply_all(*args):\n",
    "    result = 1\n",
    "    for num in args:\n",
    "        result *= num\n",
    "    return result\n",
    "\n",
    "# Ожидаемый вывод: 24\n",
    "print(multiply_all(1, 2, 3, 4))"
   ],
   "outputs": [
    {
     "name": "stdout",
     "output_type": "stream",
     "text": [
      "24\n"
     ]
    }
   ],
   "execution_count": 7
  },
  {
   "cell_type": "markdown",
   "metadata": {
    "deletable": false,
    "editable": false,
    "id": "HFDrY1e25t1d",
    "pycharm": {
     "name": "#%% md\n"
    }
   },
   "source": [
    "> **Ошибка.** Код пытается умножить целое число на строку.\n",
    "\n",
    "> **Исправление.** Убедись, что все аргументы имеют правильный тип (`int` или `float`)."
   ]
  },
  {
   "cell_type": "markdown",
   "metadata": {
    "deletable": false,
    "editable": false,
    "id": "Nyi12KZL5t1d",
    "pycharm": {
     "name": "#%% md\n"
    }
   },
   "source": [
    "### **Задача 2**. Декораторы\n",
    "**Проблема.** Декоратор должен выводить «Функция выполнена!» каждый раз, когда вызывается функция `say_hello`, но это не работает.\n",
    "\n",
    "Ожидаемый результат:\n",
    "```python\n",
    "Функция выполнена!\n",
    "Привет!\n",
    "```"
   ]
  },
  {
   "cell_type": "code",
   "metadata": {
    "colab": {
     "base_uri": "https://localhost:8080/"
    },
    "deletable": false,
    "id": "Qfc38tIl5t1d",
    "outputId": "39d92d1b-94e0-4aec-ac28-a2397af80960",
    "ExecuteTime": {
     "end_time": "2024-10-10T12:48:02.552125Z",
     "start_time": "2024-10-10T12:48:02.550165Z"
    }
   },
   "source": [
    "def my_decorator(func):\n",
    "    def wrapper():\n",
    "        print('Функция выполнена!')\n",
    "        func()\n",
    "\n",
    "    return wrapper\n",
    "\n",
    "\n",
    "@my_decorator\n",
    "def say_hello():\n",
    "    print('Привет!')\n",
    "\n",
    "say_hello()"
   ],
   "outputs": [
    {
     "name": "stdout",
     "output_type": "stream",
     "text": [
      "Функция выполнена!\n",
      "Привет!\n"
     ]
    }
   ],
   "execution_count": 8
  },
  {
   "cell_type": "markdown",
   "metadata": {
    "deletable": false,
    "editable": false,
    "id": "GicDDx4v5t1e",
    "pycharm": {
     "name": "#%% md\n"
    }
   },
   "source": [
    "> **Ошибка.** Функция `say_hello` не декорирована с помощью `my_decorator`.\n",
    "\n",
    "> **Исправление.** Используй синтаксис декоратора `@my_decorator` над функцией `say_hello`."
   ]
  },
  {
   "cell_type": "markdown",
   "metadata": {
    "deletable": false,
    "editable": false,
    "id": "CwZOCYC95t1e",
    "pycharm": {
     "name": "#%% md\n"
    }
   },
   "source": [
    "###**Задача 3**. `map`\n",
    "**Проблема.** Код пытается возвести в квадрат каждый элемент списка, но не даёт правильного результата.\n"
   ]
  },
  {
   "cell_type": "code",
   "metadata": {
    "colab": {
     "base_uri": "https://localhost:8080/"
    },
    "deletable": false,
    "id": "Zp16WCFZ5t1e",
    "outputId": "848ba04d-06d2-4ba7-b11a-5dc42bdf7f70",
    "ExecuteTime": {
     "end_time": "2024-10-10T12:48:42.859693Z",
     "start_time": "2024-10-10T12:48:42.857170Z"
    }
   },
   "source": [
    "numbers = [1, 2, 3, 4]\n",
    "squared_numbers = list(map(lambda x: x**2, numbers))\n",
    "print(squared_numbers)"
   ],
   "outputs": [
    {
     "name": "stdout",
     "output_type": "stream",
     "text": [
      "[1, 4, 9, 16]\n"
     ]
    }
   ],
   "execution_count": 10
  },
  {
   "cell_type": "markdown",
   "metadata": {
    "deletable": false,
    "editable": false,
    "id": "djqyPiCh5t1e",
    "pycharm": {
     "name": "#%% md\n"
    }
   },
   "source": [
    "> **Ошибка.** Функция `map` возвращает объект map, а не список.\n",
    "\n",
    "> **Исправление.** Преобразуй результат в список, используя `list()`."
   ]
  },
  {
   "cell_type": "markdown",
   "metadata": {
    "deletable": false,
    "editable": false,
    "id": "cyoz7hoQ5t1e",
    "pycharm": {
     "name": "#%% md\n"
    }
   },
   "source": [
    "### **Задача 4**.  `filter`\n",
    "**Проблема.** Этот код предназначен для отсеивания только чётных чисел, но выдаёт синтаксическую ошибку.\n"
   ]
  },
  {
   "cell_type": "code",
   "metadata": {
    "deletable": false,
    "id": "DzrZipRy5t1e",
    "ExecuteTime": {
     "end_time": "2024-10-10T12:49:04.841744Z",
     "start_time": "2024-10-10T12:49:04.839217Z"
    }
   },
   "source": [
    "numbers = [1, 2, 3, 4, 5, 6]\n",
    "even_numbers = filter(lambda x: x % 2 == 0, numbers)\n",
    "print(list(even_numbers))"
   ],
   "outputs": [
    {
     "name": "stdout",
     "output_type": "stream",
     "text": [
      "[2, 4, 6]\n"
     ]
    }
   ],
   "execution_count": 11
  },
  {
   "cell_type": "markdown",
   "metadata": {
    "deletable": false,
    "editable": false,
    "id": "t88FynCB5t1f",
    "pycharm": {
     "name": "#%% md\n"
    }
   },
   "source": [
    "> **Ошибка.** Отсутствует лямбда-функция.\n",
    "\n",
    "> **Исправление:** Используй `lambda` для определения условия фильтрации."
   ]
  },
  {
   "cell_type": "markdown",
   "metadata": {
    "deletable": false,
    "editable": false,
    "id": "9nG1cT8g5t1f",
    "pycharm": {
     "name": "#%% md\n"
    }
   },
   "source": [
    "### **Задача 5**. `reduce`\n",
    "**Проблема.** Код пытается вычислить произведение всех чисел в списке, но выдаёт ошибку.\n"
   ]
  },
  {
   "cell_type": "code",
   "metadata": {
    "deletable": false,
    "id": "hLMlNEee5t1f",
    "ExecuteTime": {
     "end_time": "2024-10-10T12:49:17.432807Z",
     "start_time": "2024-10-10T12:49:17.430216Z"
    }
   },
   "source": [
    "from functools import reduce\n",
    "\n",
    "numbers = [1, 2, 3, 4]\n",
    "product = reduce(lambda x, y: x * y, numbers)\n",
    "print(product)"
   ],
   "outputs": [
    {
     "name": "stdout",
     "output_type": "stream",
     "text": [
      "24\n"
     ]
    }
   ],
   "execution_count": 12
  },
  {
   "cell_type": "markdown",
   "metadata": {
    "deletable": false,
    "editable": false,
    "id": "AZJVMZYq5t1f",
    "pycharm": {
     "name": "#%% md\n"
    }
   },
   "source": [
    "> **Ошибка.** Аргументы неверно переданы в функцию `reduce`. Список не пустой, нет необходимости передавать начальное значение.\n",
    "\n",
    "> **Исправление.** Удали начальное значение (`1`) из вызова `reduce`."
   ]
  },
  {
   "cell_type": "markdown",
   "metadata": {
    "deletable": false,
    "editable": false,
    "id": "SHqj4Psk5t1f",
    "pycharm": {
     "name": "#%% md\n"
    }
   },
   "source": [
    "### **Задача 6**. `try except`\n",
    "**Проблема.** Предполагается, что код должен отлавливать любые ошибки деления на ноль, но функция выполняется, несмотря на ошибку. Подбери правльную ошибку.\n",
    "\n",
    "```python\n",
    "# Expected:\n",
    "`имя конкретной ошибки`: division by zero\n",
    "During handling of the above exception, another exception occurred:\n",
    "`имя конкретной ошибки`  \n",
    "```\n"
   ]
  },
  {
   "cell_type": "code",
   "metadata": {
    "colab": {
     "base_uri": "https://localhost:8080/"
    },
    "deletable": false,
    "id": "gsLvik1R5t1f",
    "outputId": "5391c7d9-afea-45ec-ccf1-c308b0b11c5b",
    "ExecuteTime": {
     "end_time": "2024-10-10T12:49:47.114144Z",
     "start_time": "2024-10-10T12:49:47.112384Z"
    }
   },
   "source": [
    "def divide(a, b):\n",
    "    try:\n",
    "        return a / b\n",
    "    except ZeroDivisionError:\n",
    "        print('ошибка')\n",
    "\n",
    "print(divide(5, 0))"
   ],
   "outputs": [
    {
     "name": "stdout",
     "output_type": "stream",
     "text": [
      "ошибка\n",
      "None\n"
     ]
    }
   ],
   "execution_count": 13
  },
  {
   "cell_type": "markdown",
   "metadata": {
    "deletable": false,
    "editable": false,
    "id": "rJ2k2rFB5t1f",
    "pycharm": {
     "name": "#%% md\n"
    }
   },
   "source": [
    "> **Ошибка:** Исключение слишком широкое и не указывает, какую ошибку нужно поймать.\n",
    "\n",
    "> **Исправление:** Лови конкретную ошибку `ZeroDivisionError`."
   ]
  },
  {
   "cell_type": "markdown",
   "metadata": {
    "deletable": false,
    "editable": false,
    "pycharm": {
     "name": "#%% md\n"
    }
   },
   "source": [
    "# Практическая часть"
   ]
  },
  {
   "cell_type": "markdown",
   "metadata": {
    "deletable": false,
    "editable": false,
    "id": "hxbM_8AS5t1f",
    "pycharm": {
     "name": "#%% md\n"
    }
   },
   "source": [
    "### **Задачи простые**"
   ]
  },
  {
   "cell_type": "markdown",
   "metadata": {
    "deletable": false,
    "editable": false,
    "id": "EfxquKUR5t1g",
    "pycharm": {
     "name": "#%% md\n"
    }
   },
   "source": [
    "#### **Задача 1**\n",
    "\n",
    "При работе с данными о ценах на товары в интернет-магазине возникла необходимость преобразовать все числовые значения цен в строки для последующего форматирования и отображения на сайте.\n",
    "\n",
    "Напиши функцию `convert_prices_to_strings(prices)`, которая принимает в качестве аргумента список целых чисел с ценами, с помощью `map` преобразует все числа в списке в строки и возвращает список этих строк.\n",
    "\n",
    "```python\n",
    "# Пример использования\n",
    "prices = [99.99, 50, 75.5, 120]\n",
    "result = convert_prices_to_strings(prices)\n",
    "print(result)  \n",
    "```\n",
    "Ожидаемый вывод:\n",
    "```python\n",
    "['99.99', '50', '75.5', '120']\n",
    "```"
   ]
  },
  {
   "cell_type": "code",
   "metadata": {
    "deletable": false,
    "ejudge": "red_sm04_cell01",
    "id": "NL6sGOM05t1g",
    "ExecuteTime": {
     "end_time": "2024-10-10T13:28:30.852151Z",
     "start_time": "2024-10-10T13:28:30.848195Z"
    }
   },
   "source": [
    "def convert_prices_to_strings(prices: list[int]) -> list[str]:\n",
    "    return list(map(str, prices))\n",
    "\n",
    "prices = [99.99, 50, 75.5, 120]\n",
    "result = convert_prices_to_strings(prices)\n",
    "print(list(result))\n",
    "# Твое решение здесь"
   ],
   "outputs": [
    {
     "name": "stdout",
     "output_type": "stream",
     "text": [
      "['99.99', '50', '75.5', '120']\n"
     ]
    }
   ],
   "execution_count": 15
  },
  {
   "cell_type": "markdown",
   "metadata": {
    "deletable": false,
    "editable": false,
    "id": "DpVFmtBGG8XN",
    "pycharm": {
     "name": "#%% md\n"
    }
   },
   "source": [
    "#### **Задача 2**\n",
    "\n",
    "Из пользователей социальной сети нужно выбрать того, который был активен дольше всего. У тебя есть данные о пользователях в виде списка словарей, где каждый словарь содержит:\n",
    "- `id` (уникальный идентификатор пользователя),\n",
    "- `last_active_time` (время последней активности в минутах).\n",
    "\n",
    "Реализуй функцию `select_most_active_user(users)`, которая:\n",
    "1. Принимает на вход список словарей с данными о пользователях.\n",
    "2. Возвращает `id` пользователя с наибольшим временем последней активности.\n",
    "\n",
    "Ограничения:\n",
    "- Решение должно быть без использования `lambda`, но через вложенную функцию для выбора пользователя.\n",
    "\n",
    "<!-- **Входные данные:**\n",
    "- `users`: список словарей с данными пользователей.\n",
    "\n",
    "**Выходные данные:**\n",
    "- `id` пользователя с наибольшим временем последней активности. -->\n",
    "\n",
    "Пример ввода:\n",
    "```python\n",
    "users = [\n",
    "    {'id': 1, 'last_active_time': 120},\n",
    "    {'id': 2, 'last_active_time': 150},\n",
    "    {'id': 3, 'last_active_time': 90}\n",
    "]\n",
    "```\n",
    "\n",
    "Ожидаемый вывод:\n",
    "```python\n",
    "2\n",
    "```\n"
   ]
  },
  {
   "cell_type": "code",
   "metadata": {
    "deletable": false,
    "ejudge": "red_sm04_cell02",
    "id": "ITV_ior1G_Cx",
    "ExecuteTime": {
     "end_time": "2024-10-10T12:57:47.102152Z",
     "start_time": "2024-10-10T12:57:47.099837Z"
    }
   },
   "source": [
    "def select_most_active_user(users: list[dict]) -> int:\n",
    "    def get_last_active_time(user):\n",
    "        return user['last_active_time']\n",
    "    return max(users, key=get_last_active_time)['id']\n",
    "\n",
    "users = [\n",
    "    {'id': 1, 'last_active_time': 120},\n",
    "    {'id': 2, 'last_active_time': 150},\n",
    "    {'id': 3, 'last_active_time': 90}\n",
    "]\n",
    "\n",
    "result = select_most_active_user(users)\n",
    "print(result)\n",
    "\n",
    "# Твое решение здесь"
   ],
   "outputs": [
    {
     "name": "stdout",
     "output_type": "stream",
     "text": [
      "2\n"
     ]
    }
   ],
   "execution_count": 2
  },
  {
   "cell_type": "markdown",
   "metadata": {
    "deletable": false,
    "editable": false,
    "id": "mTub3TUD5t1g",
    "pycharm": {
     "name": "#%% md\n"
    }
   },
   "source": [
    "#### **Задача 3**\n",
    "\n",
    "Анна создаёт систему анализа текста для маркетинговых сообщений. Система должна извлекать только гласные буквы из текстовых данных, чтобы проводить специальные проверки на основе этих символов.\n",
    "\n",
    "Напиши функцию `extract_vowels(...)`, которая принимает список символов и использует `filter` для возврата нового списка, содержащего только гласные `['a', 'e', 'i', 'o', 'u']`.\n",
    "\n",
    "```python\n",
    "# Пример использования\n",
    "characters = ['a', 'b', 'c', 'e', 'i', 'o', 'u', 'z']\n",
    "result = extract_vowels(characters)\n",
    "print(result)\n",
    "```\n",
    "Ожидаемый вывод:\n",
    "```python\n",
    "['a', 'e', 'i', 'o', 'u']\n",
    "```"
   ]
  },
  {
   "cell_type": "code",
   "metadata": {
    "deletable": false,
    "ejudge": "red_sm04_cell03",
    "id": "bqY7iTnY5t1h",
    "ExecuteTime": {
     "end_time": "2024-10-10T13:28:13.552477Z",
     "start_time": "2024-10-10T13:28:13.549643Z"
    }
   },
   "source": [
    "def extract_vowels(characters: list[str]) -> list[str]:\n",
    "    vowels = ['a', 'e', 'i', 'o', 'u']\n",
    "    return list(filter(lambda x: x in vowels, characters))\n",
    "\n",
    "characters = ['a', 'b', 'c', 'e', 'i', 'o', 'u', 'z']\n",
    "result = extract_vowels(characters)\n",
    "print(result)\n",
    "\n",
    "# Твое решение здесь"
   ],
   "outputs": [
    {
     "name": "stdout",
     "output_type": "stream",
     "text": [
      "['a', 'e', 'i', 'o', 'u']\n"
     ]
    }
   ],
   "execution_count": 14
  },
  {
   "cell_type": "markdown",
   "metadata": {
    "deletable": false,
    "editable": false,
    "id": "ees_7u-I5t1h",
    "pycharm": {
     "name": "#%% md\n"
    }
   },
   "source": [
    "#### **Задача 4**\n",
    "\n",
    "Олег работает с описаниями товаров для интернет-магазина и ищет самое длинное описание в списке.\n",
    "\n",
    "Напиши функцию `find_longest_description(descriptions)`, которая принимает список с описаниями товаров, использует `reduce` и возвращает самое длинное слово в списке.\n",
    "\n",
    "Если есть несколько слов с одинаковой максимальной длиной, возвращается первое из них.\n",
    "\n",
    "```python\n",
    "# Пример использования\n",
    "descriptions = ['Короткое', 'Средней длины', 'Очень длинное описание товара', 'Длинное']\n",
    "result = find_longest_description(descriptions)\n",
    "print(result)\n",
    "```\n",
    "Ожидаемый вывод:\n",
    "```python\n",
    "Очень длинное описание товара\n",
    "```\n"
   ]
  },
  {
   "cell_type": "code",
   "metadata": {
    "deletable": false,
    "ejudge": "red_sm04_cell04",
    "id": "Fjbqw4dg5t1h",
    "ExecuteTime": {
     "end_time": "2024-10-10T12:59:22.612315Z",
     "start_time": "2024-10-10T12:59:22.610397Z"
    }
   },
   "source": [
    "def find_longest_description(descriptions: list[str]) -> str:\n",
    "    return max(descriptions, key=len)\n",
    "\n",
    "descriptions = ['Короткое', 'Средней длины', 'Очень длинное описание товара', 'Длинное']\n",
    "result = find_longest_description(descriptions)\n",
    "print(result)\n",
    "\n",
    "# Твое решение здесь"
   ],
   "outputs": [
    {
     "name": "stdout",
     "output_type": "stream",
     "text": [
      "Очень длинное описание товара\n"
     ]
    }
   ],
   "execution_count": 4
  },
  {
   "cell_type": "markdown",
   "metadata": {
    "deletable": false,
    "editable": false,
    "id": "XOnFp3xK5t1h",
    "pycharm": {
     "name": "#%% md\n"
    }
   },
   "source": [
    "#### **Задача 5**\n",
    "\n",
    "Отделу аналитики при работе с данными финансовых операций нужно рассчитать доли от общего числа. Важно безопасно делить каждый элемент списка на заданное число и обработать случаи деления на ноль, чтобы избежать ошибок.\n",
    "\n",
    "Напиши функцию `safe_calculate_shares(amounts, total)`, которая принимает список чисел и целое число, делит каждый элемент списка на число `total` и возвращает список с результатами деления.\n",
    "\n",
    "Если в ходе обработки возникает ошибка деления на ноль, не прерывай выполнение программы. В качестве результата деления фиксируй строку `'ошибка'`.\n",
    "\n",
    "```python\n",
    "# Пример использования\n",
    "amounts = [100, 200, 0]\n",
    "result = safe_calculate_shares(amounts, 0)\n",
    "print(result)  \n",
    "# Ожидаемый вывод: ['ошибка', 'ошибка', 'ошибка']\n",
    "\n",
    "result = safe_calculate_shares(amounts, 100)\n",
    "print(result)\n",
    "```\n",
    "Ожидаемый вывод:\n",
    "```python\n",
    "[1.0, 2.0, 0.0]\n",
    "```"
   ]
  },
  {
   "cell_type": "code",
   "metadata": {
    "deletable": false,
    "ejudge": "red_sm04_cell05",
    "id": "Pp_oI41E5t1i",
    "ExecuteTime": {
     "end_time": "2024-10-10T12:59:52.619946Z",
     "start_time": "2024-10-10T12:59:52.617162Z"
    }
   },
   "source": [
    "def safe_calculate_shares(amounts: list[int], total: int) -> list[str]:\n",
    "    def safe_divide(x):\n",
    "        try:\n",
    "            return x / total\n",
    "        except ZeroDivisionError:\n",
    "            return 'ошибка'\n",
    "    return list(map(safe_divide, amounts))\n",
    "\n",
    "amounts = [100, 200, 0]\n",
    "result = safe_calculate_shares(amounts, 0)\n",
    "print(result)\n",
    "\n",
    "result = safe_calculate_shares(amounts, 100)\n",
    "print(result)\n",
    "\n",
    "# Твое решение здесь"
   ],
   "outputs": [
    {
     "name": "stdout",
     "output_type": "stream",
     "text": [
      "['ошибка', 'ошибка', 'ошибка']\n",
      "[1.0, 2.0, 0.0]\n"
     ]
    }
   ],
   "execution_count": 6
  },
  {
   "cell_type": "markdown",
   "metadata": {
    "deletable": false,
    "editable": false,
    "id": "Z5Ah0X1q5t1i",
    "pycharm": {
     "name": "#%% md\n"
    }
   },
   "source": [
    "### **Задачи средней сложности**"
   ]
  },
  {
   "cell_type": "markdown",
   "metadata": {
    "deletable": false,
    "editable": false,
    "id": "Ie7uh1IV5t1f",
    "pycharm": {
     "name": "#%% md\n"
    }
   },
   "source": [
    "#### **Задача 6**\n",
    "\n",
    "Алиса работает над приложением для онлайн-магазина. Оно должно генерировать динамические названия товаров. В названиях каждый товар может иметь множество свойств (имя, цвет, размер).\n",
    "\n",
    "Задача — собрать все строковые свойства товара в одно название, игнорируя те значения, которые не являются строками.\n",
    "\n",
    "Напиши функцию `make_product_name(...)`, которая принимает произвольное количество аргументов (`*args`) и аргументов в виде ключевых слов (`**kwargs`).\n",
    "\n",
    "Функция должна объединять все строковые аргументы (как позиционные, так и именованные) в одну строку через символ-разделитель.\n",
    "Если какой-либо аргумент не является строкой, его нужно пропустить.\n",
    "\n",
    "Разделитель между элементами строки определяется по значению аргумента `sep`. Разделитель по умолчанию — пробел.  \n",
    "\n",
    "Функция должна вернуть итоговое название, которое можно использовать в приложении для магазина.\n",
    "\n",
    "```python\n",
    "# Пример использования\n",
    "result = make_product_name('Мужская', 'Рубашка', 123, color='Синий', size=42, sep='_')\n",
    "print(result)\n",
    "```\n",
    "\n",
    "Ожидаемый вывод:\n",
    "```python\n",
    "Мужская_Рубашка_Синий\n",
    "```"
   ]
  },
  {
   "cell_type": "code",
   "metadata": {
    "deletable": false,
    "ejudge": "red_sm04_cell06",
    "id": "bjsQQ-qC_d3j",
    "ExecuteTime": {
     "end_time": "2024-10-10T13:27:08.581061Z",
     "start_time": "2024-10-10T13:27:08.578872Z"
    }
   },
   "source": [
    "def make_product_name(*args, **kwargs) -> str:\n",
    "    sep = kwargs.get('sep', ' ')\n",
    "    args = [str(arg) for arg in args if isinstance(arg, str)]\n",
    "    kwargs.pop('sep', None)\n",
    "    kwargs = [str(value) for value in kwargs.values() if isinstance(value, str)]\n",
    "    return sep.join(args + kwargs)\n",
    "\n",
    "result = make_product_name('Мужская', 'Рубашка', 123, color='Синий', size=42, sep='_')\n",
    "print(result)\n",
    "\n",
    "# Твое решение здесь"
   ],
   "outputs": [
    {
     "name": "stdout",
     "output_type": "stream",
     "text": [
      "Мужская_Рубашка_Синий\n"
     ]
    }
   ],
   "execution_count": 11
  },
  {
   "cell_type": "markdown",
   "metadata": {
    "deletable": false,
    "editable": false,
    "id": "KmjLf55e5t1i",
    "pycharm": {
     "name": "#%% md\n"
    }
   },
   "source": [
    "#### **Задача 7**\n",
    "\n",
    "Егор создаёт приложение, которое должно обрабатывать числовые и текстовые данные одновременно. Требуется перемножить все числовые значения, которые поступают как позиционные аргументы, и собрать все строки из именованных аргументов в отдельный список.\n",
    "\n",
    "Напиши функцию `process_data(*args, **kwargs)`, которая будет выполнять следующие действия:\n",
    "- Перемножать все числовые значения из `*args`.\n",
    "- Собирать все строковые значения из `**kwargs` в один список.\n",
    "- Возвращать кортеж с результатом перемножения и списком строк.\n",
    "\n",
    "```python\n",
    "# Пример использования\n",
    "result = process_data(2, 3, 'кот', 4, name='Боб', hobby='вязание', age=25)\n",
    "print(result)\n",
    "```\n",
    "Ожидаемый вывод:\n",
    "```python\n",
    "(24, ['Боб', 'вязание'])\n",
    "```\n"
   ]
  },
  {
   "cell_type": "code",
   "metadata": {
    "deletable": false,
    "ejudge": "red_sm04_cell07",
    "id": "um4xy5qU5t1i",
    "ExecuteTime": {
     "end_time": "2024-10-10T13:27:35.479868Z",
     "start_time": "2024-10-10T13:27:35.476351Z"
    }
   },
   "source": [
    "def process_data(*args, **kwargs) -> tuple[int, list[str]]:\n",
    "    numbers = [arg for arg in args if isinstance(arg, int)]\n",
    "    product = 1\n",
    "    for number in numbers:\n",
    "        product *= number\n",
    "    strings = [value for value in kwargs.values() if isinstance(value, str)]\n",
    "    return product, strings\n",
    "\n",
    "result = process_data(2, 3, 'кот', 4, name='Боб', hobby='вязание', age=25)\n",
    "print(result)\n",
    "\n",
    "# Твое решение здесь"
   ],
   "outputs": [
    {
     "name": "stdout",
     "output_type": "stream",
     "text": [
      "(24, ['Боб', 'вязание'])\n"
     ]
    }
   ],
   "execution_count": 13
  },
  {
   "cell_type": "markdown",
   "metadata": {
    "deletable": false,
    "editable": false,
    "id": "4oUS3JBO5t1p",
    "pycharm": {
     "name": "#%% md\n"
    }
   },
   "source": [
    "#### **Задача 8**\n",
    "\n",
    "Компания по доставке еды хочет понимать, какую территорию покрывает каждая точка доставки. Для этого нужно рассчитать площади зон доставки для разных радиусов.\n",
    "\n",
    "Используй функцию `map`, чтобы преобразовать список радиусов зон в список их площадей.\n",
    "\n",
    "Напиши функцию `calculate_delivery_areas(radius_list)`, которая принимает список радиусов зон доставки целыми числами и возвращает список их площадей.\n",
    "\n",
    "Площадь зоны доставки определяется по формуле $\\pi r^2$. Для округления до двух знаков после запятой используй `round()`.\n",
    "Значение $\\pi\\$ прими за `3.14`\n",
    "\n",
    "```python\n",
    "# Пример использования\n",
    "radii = [1, 2.5, 3]\n",
    "result = calculate_delivery_areas(radii)\n",
    "print(result)\n",
    "```\n",
    "**Ожидаемый вывод:**\n",
    "```python\n",
    "[3.14, 19.63, 28.27]\n",
    "```"
   ]
  },
  {
   "cell_type": "code",
   "metadata": {
    "deletable": false,
    "ejudge": "red_sm04_cell08",
    "id": "K7eVLODF5t1p",
    "ExecuteTime": {
     "end_time": "2024-10-10T13:28:55.505691Z",
     "start_time": "2024-10-10T13:28:55.503693Z"
    }
   },
   "source": [
    "def calculate_delivery_areas(radius_list: list[int]) -> list[float]:\n",
    "    return list(map(lambda x: round(3.14 * x ** 2, 2), radius_list))\n",
    "\n",
    "radii = [1, 2.5, 3]\n",
    "result = calculate_delivery_areas(radii)\n",
    "print(result)\n",
    "\n",
    "\n",
    "# Твое решение здесь"
   ],
   "outputs": [
    {
     "name": "stdout",
     "output_type": "stream",
     "text": [
      "[3.14, 19.62, 28.26]\n"
     ]
    }
   ],
   "execution_count": 16
  },
  {
   "cell_type": "markdown",
   "metadata": {
    "deletable": false,
    "editable": false,
    "id": "fjqLuthj5t1p",
    "pycharm": {
     "name": "#%% md\n"
    }
   },
   "source": [
    "#### **Задача 9**\n",
    "\n",
    "Нужно вычислить сумму квадратов значений из списка чисел. Используй `reduce`, чтобы объединить эти значения.\n",
    "\n",
    "Также функция должна принимать дополнительные числа через `*args`, которые будут включены в расчёт суммы квадратов.\n",
    "\n",
    "Напиши функцию `sum_of_squares(numbers, *args)`, которая:\n",
    "- принимает список чисел и дополнительные числа через `*args`,\n",
    "- вычисляет сумму квадратов всех чисел.\n",
    "\n",
    "```python\n",
    "# Пример использования\n",
    "numbers = [1, 2, 3, 4]\n",
    "result = sum_of_squares(numbers, 5, 6)\n",
    "print(result)\n",
    "```\n",
    "Ожидаемый вывод:\n",
    "```python\n",
    "91\n",
    "```"
   ]
  },
  {
   "cell_type": "code",
   "metadata": {
    "deletable": false,
    "ejudge": "red_sm04_cell09",
    "id": "EmBihdXs5t1p",
    "ExecuteTime": {
     "end_time": "2024-10-10T13:30:54.298739Z",
     "start_time": "2024-10-10T13:30:54.296762Z"
    }
   },
   "source": [
    "def sum_of_squares(numbers: list[int], *args: int) -> int:\n",
    "    return sum(map(lambda x: x ** 2, numbers + list(args)))\n",
    "\n",
    "numbers = [1, 2, 3, 4]\n",
    "result = sum_of_squares(numbers, 5, 6)\n",
    "print(result)\n",
    "\n",
    "\n",
    "# Твое решение здесь"
   ],
   "outputs": [
    {
     "name": "stdout",
     "output_type": "stream",
     "text": [
      "91\n"
     ]
    }
   ],
   "execution_count": 17
  },
  {
   "cell_type": "markdown",
   "metadata": {
    "deletable": false,
    "editable": false,
    "id": "JO-PKtn75t1p",
    "pycharm": {
     "name": "#%% md\n"
    }
   },
   "source": [
    "#### **Задача 10**\n",
    "\n",
    "Алёна разрабатывает систему, где необходимо динамически импортировать модули. Если модуля нет или возникает другая ошибка, важно обработать это корректно. Также нужно принимать дополнительные флаги для вывода отладочной информации, если это требуется.\n",
    "\n",
    "Напиши функцию `safe_import(module_name, *args, **kwargs)`, которая:\n",
    "- Если модуль не найден, возвращает сообщение `'Модуль не найден'`.\n",
    "- Если возникла другая ошибка, возвращает сообщение `'Произошла ошибка'`.\n",
    "- Если импорт успешен, возвращает сообщение `'Модуль найден'`.\n",
    "- Дополнительно обрабатывает аргументы `*args` и `**kwargs`, чтобы, например, вывести отладочную информацию, если передан ключевой аргумент `debug=True`. Если передан ключевой аргумент `debug=True`, выводит сообщение `'Импорт: имя_модуля'` до попытки импортировать модуль.\n",
    "\n",
    "```python\n",
    "# Пример использования\n",
    "result = safe_import('mathh')\n",
    "print(result)  # Ожидаемый вывод:\n",
    "Модуль не найден\n",
    "\n",
    "result = safe_import('math', debug=True)\n",
    "print(result)  # Ожидаемый вывод:\n",
    "Импорт: math\n",
    "Модуль найден\n",
    "```\n",
    "\n",
    "> **Подсказка.** Функция `__import__()` принимает имя модуля в виде строки и импортирует его."
   ]
  },
  {
   "cell_type": "code",
   "metadata": {
    "deletable": false,
    "ejudge": "red_sm04_cell10",
    "id": "i5KcjTNd5t1p",
    "ExecuteTime": {
     "end_time": "2024-10-10T13:31:26.204101Z",
     "start_time": "2024-10-10T13:31:26.201269Z"
    }
   },
   "source": [
    "def safe_import(module_name: str, *args, **kwargs) -> str:\n",
    "    if kwargs.get('debug'):\n",
    "        print(f'Импорт: {module_name}')\n",
    "    try:\n",
    "        __import__(module_name)\n",
    "        return 'Модуль найден'\n",
    "    except ModuleNotFoundError:\n",
    "        return 'Модуль не найден'\n",
    "    except:\n",
    "        return 'Произошла ошибка'\n",
    "    \n",
    "result = safe_import('mathh')\n",
    "print(result)\n",
    "\n",
    "\n",
    "result = safe_import('math', debug=True)\n",
    "print(result)\n",
    "\n",
    "\n",
    "\n",
    "# Твое решение здесь"
   ],
   "outputs": [
    {
     "name": "stdout",
     "output_type": "stream",
     "text": [
      "Модуль не найден\n",
      "Импорт: math\n",
      "Модуль найден\n"
     ]
    }
   ],
   "execution_count": 19
  },
  {
   "cell_type": "markdown",
   "metadata": {
    "deletable": false,
    "editable": false,
    "id": "SUHywyrU8IPM",
    "pycharm": {
     "name": "#%% md\n"
    }
   },
   "source": [
    "### **Задачи сложные**"
   ]
  },
  {
   "cell_type": "markdown",
   "metadata": {
    "deletable": false,
    "editable": false,
    "id": "xKAA7arx5t1g",
    "pycharm": {
     "name": "#%% md\n"
    }
   },
   "source": [
    "#### **Задача 11**\n",
    "\n",
    "Требуется оптимизировать приложение, где важно знать, сколько памяти потребляет каждая функция. Для оптимизации нужно отслеживать использование памяти при каждом вызове функции.\n",
    "\n",
    "Создай декоратор `measure_memory`, который будет выводить объём памяти, который использовала функция при её выполнении в формате:\n",
    "\n",
    "`Использование памяти: текущее=N байт, пиковое=M байт`.\n",
    "\n",
    "\n",
    "Примени этот декоратор к функции `process_data(a, b)`, которая просто складывает два числа.\n",
    "\n",
    "```python\n",
    "# Пример использования\n",
    "result = process_data(3, 4)\n",
    "```\n",
    "Ожидаемый вывод:\n",
    "```python\n",
    "Использование памяти: текущее=XYZ байт, пиковое=XYZ байт\n",
    "\n",
    "```\n",
    "\n",
    "> **Подсказка.** Чтобы измерить использование памяти, нужно импортировать модуль `tracemalloc`. Он предоставляет методы для отслеживания текущего и пикового использования памяти. Для начала отслеживания вызови `tracemalloc.start`(), а для получения текущего и пикового значения памяти используй `tracemalloc.get_traced_memory()`. После завершения работы функции важно остановить отслеживание с помощью `tracemalloc.stop()`.\n"
   ]
  },
  {
   "cell_type": "code",
   "metadata": {
    "deletable": false,
    "ejudge": "red_sm04_cell11",
    "id": "IQZzPPRP5t1g",
    "ExecuteTime": {
     "end_time": "2024-10-10T13:34:35.189540Z",
     "start_time": "2024-10-10T13:34:35.186609Z"
    }
   },
   "source": [
    "import tracemalloc\n",
    "\n",
    "def measure_memory(func):\n",
    "    def wrapper(*args, **kwargs):\n",
    "        tracemalloc.start()\n",
    "        result = func(*args, **kwargs)\n",
    "        current, peak = tracemalloc.get_traced_memory()\n",
    "        print(f'Использование памяти: текущее={current} байт, пиковое={peak} байт')\n",
    "        tracemalloc.stop()\n",
    "        return result\n",
    "    return wrapper\n",
    "\n",
    "@measure_memory\n",
    "def process_data(a, b):\n",
    "    return a + b\n",
    "\n",
    "result = process_data(3, 4)\n",
    "print(result)\n",
    "\n",
    "# Твое решение здесь"
   ],
   "outputs": [
    {
     "name": "stdout",
     "output_type": "stream",
     "text": [
      "Использование памяти: текущее=72 байт, пиковое=72 байт\n",
      "7\n"
     ]
    }
   ],
   "execution_count": 22
  },
  {
   "cell_type": "markdown",
   "metadata": {
    "deletable": false,
    "editable": false,
    "id": "IOZN_Hen5t1i",
    "pycharm": {
     "name": "#%% md\n"
    }
   },
   "source": [
    "#### **Задача 12**\n",
    "\n",
    "Приложение должно выполнять одну и ту же операцию несколько раз, например при тестировании или отправке сообщений. Чтобы не писать один и тот же код несколько раз, нужно использовать декоратор.\n",
    "\n",
    "Создай декоратор `repeat(n)`, который будет модифицировать функцию так, чтобы она выполнялась `n` раз и возвращала список всех результатов. Для применения декоратора используй функцию `sale` из примера.\n",
    "\n",
    "```python\n",
    "# Пример использования\n",
    "def sale(val):\n",
    "    return f'Скидка {val} \\%!'\n",
    "\n",
    "result = sale(20)\n",
    "print(result)  \n",
    "```\n",
    "**Ожидаемый вывод:**\n",
    "```python\n",
    "['Скидка 20 %!', 'Скидка 20 %!', 'Скидка 20 %!']\n",
    "```"
   ]
  },
  {
   "cell_type": "code",
   "metadata": {
    "deletable": false,
    "ejudge": "red_sm04_cell12",
    "id": "XXhNyCdJ5t1i",
    "ExecuteTime": {
     "end_time": "2024-10-10T13:36:01.438327Z",
     "start_time": "2024-10-10T13:36:01.434133Z"
    }
   },
   "source": [
    "def repeat(n: int):\n",
    "    def decorator(func):\n",
    "        def wrapper(*args, **kwargs):\n",
    "            return [func(*args, **kwargs) for _ in range(n)]\n",
    "        return wrapper\n",
    "    return decorator\n",
    "\n",
    "@repeat(3)\n",
    "def sale(val):\n",
    "    return f'Скидка {val} %!'\n",
    "\n",
    "result = sale(20)\n",
    "print(result)\n",
    "\n",
    "\n",
    "# Твое решение здесь"
   ],
   "outputs": [
    {
     "name": "stdout",
     "output_type": "stream",
     "text": [
      "['Скидка 20 %!', 'Скидка 20 %!', 'Скидка 20 %!']\n"
     ]
    }
   ],
   "execution_count": 23
  },
  {
   "cell_type": "markdown",
   "metadata": {
    "deletable": false,
    "editable": false,
    "id": "vqPT7a6BCm3f",
    "pycharm": {
     "name": "#%% md\n"
    }
   },
   "source": [
    "#### **Задача 13**\n",
    "Дано: список словарей, где каждый словарь содержит информацию о клиенте.\n",
    "- `id` (уникальный идентификатор клиента);\n",
    "- `priority` (приоритет клиента, целое число);\n",
    "- `waiting_time` (время ожидания клиента в минутах).\n",
    "\n",
    "Реализуй функцию `select_client_for_service(clients, priority_threshold)`, которая:\n",
    "1. Принимает на вход список клиентов. Каждый клиент представлен словарём с ключами `id`, `priority`, `waiting_time` и порогом приоритета `priority_threshold`.\n",
    "2. Выбирает клиентов, чьи приоритеты выше порога `priority_threshold`.\n",
    "3. Среди выбранных клиентов выбирает клиента с наибольшим временем ожидания.\n",
    "4. Возвращает `id` клиента с наибольшим временем ожидания.\n",
    "5. Если ни один клиент не удовлетворяет условиям, функция возвращает `None`.\n",
    "\n",
    "<!-- **Входные данные:**\n",
    "- `clients`: список словарей с данными клиентов (пример ниже).\n",
    "- `priority_threshold`: целое число, порог для фильтрации клиентов по приоритету.\n",
    "\n",
    "**Выходные данные:**\n",
    "- `id` клиента с наибольшим временем ожидания, если такие клиенты есть.\n",
    "- `None`, если ни один клиент не удовлетворяет условиям. -->\n",
    "\n",
    "Пример входных данных:\n",
    "```python\n",
    "clients = [\n",
    "    {'id': 1, 'priority': 4, 'waiting_time': 30},\n",
    "    {'id': 2, 'priority': 6, 'waiting_time': 10},\n",
    "    {'id': 3, 'priority': 8, 'waiting_time': 20},\n",
    "    {'id': 4, 'priority': 7, 'waiting_time': 25}\n",
    "]\n",
    "priority_threshold = 5\n",
    "```\n",
    "\n",
    "Ожидаемый вывод:\n",
    "```python\n",
    "4\n",
    "```\n"
   ]
  },
  {
   "cell_type": "code",
   "metadata": {
    "deletable": false,
    "ejudge": "red_sm04_cell13",
    "id": "V3Mjg2n4AQ8T",
    "ExecuteTime": {
     "end_time": "2024-10-10T13:44:37.151571Z",
     "start_time": "2024-10-10T13:44:37.147656Z"
    }
   },
   "source": [
    "def select_client_for_service(clients: list[dict], priority_threshold: int) -> int | None:\n",
    "    clients = [client for client in clients if client['priority'] > priority_threshold]\n",
    "    if not clients:\n",
    "        return None\n",
    "    return max(clients, key=lambda x: x['waiting_time'])['id']\n",
    "\n",
    "clients = [\n",
    "    {'id': 1, 'priority': 4, 'waiting_time': 30},\n",
    "    {'id': 2, 'priority': 6, 'waiting_time': 10},\n",
    "    {'id': 3, 'priority': 8, 'waiting_time': 20},\n",
    "    {'id': 4, 'priority': 7, 'waiting_time': 25}\n",
    "]\n",
    "\n",
    "priority_threshold = 5\n",
    "result = select_client_for_service(clients, priority_threshold)\n",
    "print(result)\n",
    "\n",
    "\n",
    "# Твое решение здесь"
   ],
   "outputs": [
    {
     "name": "stdout",
     "output_type": "stream",
     "text": [
      "4\n"
     ]
    }
   ],
   "execution_count": 25
  },
  {
   "cell_type": "markdown",
   "metadata": {
    "deletable": false,
    "editable": false,
    "id": "0jA957nr5t1p",
    "pycharm": {
     "name": "#%% md\n"
    }
   },
   "source": [
    "#### **Задача 14**\n",
    "\n",
    "Отделу аналитики нужно выбрать товары с высокими продажами и добавить дополнительные категории для анализа.\n",
    "\n",
    "Используй `filter` для выбора товаров с продажами выше порога и `map` для извлечения их категорий.\n",
    "\n",
    "Функция должна принимать произвольное количество строковых аргументов через `*args` и ключевых слов через `**kwargs`, которые также будут включены в результат.\n",
    "\n",
    "Напиши функцию `filter_and_process_sales(sales_data, threshold, *args, **kwargs)`, которая:\n",
    "- принимает список кортежей (количество продаж и категория товара);\n",
    "- фильтрует товары, продажи которых выше указанного порога `threshold`;\n",
    "- извлекает категории товаров с помощью `map`;\n",
    "- обрабатывает дополнительные категории, переданные через `*args` и `**kwargs`;\n",
    "- возвращает строку, содержащую все категории, объединённые через запятую.\n",
    "\n",
    "```python\n",
    "# Пример использования\n",
    "sales_data = [(50, 'электроника'), (200, 'одежда'), (150, 'обувь'), (80, 'аксессуары'), (300, 'бытовая техника')]\n",
    "threshold = 100\n",
    "result = filter_and_process_sales(sales_data, threshold, new='книги', special_offer='товары для дома')\n",
    "print(result)\n",
    "```\n",
    "Ожидаемый вывод:\n",
    "```python\n",
    "'одежда, обувь, бытовая техника, книги, товары для дома'\n",
    "```"
   ]
  },
  {
   "cell_type": "code",
   "metadata": {
    "deletable": false,
    "ejudge": "red_sm04_cell14",
    "id": "Dxe9IENJ5t1p",
    "ExecuteTime": {
     "end_time": "2024-10-10T13:45:04.176662Z",
     "start_time": "2024-10-10T13:45:04.173896Z"
    }
   },
   "source": [
    "def filter_and_process_sales(sales_data: list[tuple[int, str]], threshold: int, *args, **kwargs) -> str:\n",
    "    categories = map(lambda x: x[1], filter(lambda x: x[0] > threshold, sales_data))\n",
    "    categories = list(categories) + list(args) + list(kwargs.values())\n",
    "    return ', '.join(categories)\n",
    "\n",
    "sales_data = [(50, 'электроника'), (200, 'одежда'), (150, 'обувь'), (80, 'аксессуары'), (300, 'бытовая техника')]\n",
    "threshold = 100\n",
    "result = filter_and_process_sales(sales_data, threshold, new='книги', special_offer='товары для дома')\n",
    "print(result)\n",
    "\n",
    "# Твое решение здесь"
   ],
   "outputs": [
    {
     "name": "stdout",
     "output_type": "stream",
     "text": [
      "одежда, обувь, бытовая техника, книги, товары для дома\n"
     ]
    }
   ],
   "execution_count": 26
  }
 ],
 "metadata": {
  "colab": {
   "provenance": []
  },
  "kernelspec": {
   "display_name": "Python 3 (ipykernel)",
   "language": "python",
   "name": "python3"
  },
  "language_info": {
   "codemirror_mode": {
    "name": "ipython",
    "version": 3
   },
   "file_extension": ".py",
   "mimetype": "text/x-python",
   "name": "python",
   "nbconvert_exporter": "python",
   "pygments_lexer": "ipython3",
   "version": "3.9.6"
  }
 },
 "nbformat": 4,
 "nbformat_minor": 4
}
