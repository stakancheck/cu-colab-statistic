{
 "cells": [
  {
   "cell_type": "markdown",
   "metadata": {
    "deletable": false,
    "editable": false,
    "id": "2u7CYze4LIWM",
    "pycharm": {
     "name": "#%% md\n"
    }
   },
   "source": [
    "# *Красный трек*\n",
    "\n",
    "## Задачи по теме «Продвинутые возможности использования функций»\n",
    "\n",
    "Решая задачи, ты научишься использовать в коде готовой программы:\n",
    "\n",
    "* функции с произвольным числом аргументов;\n",
    "* генераторы и декораторы;\n",
    "* элементы функционального программирования;\n",
    "* обработку исключений.\n",
    "\n",
    "Время решения: ~40 минут."
   ]
  },
  {
   "cell_type": "markdown",
   "metadata": {
    "deletable": false,
    "editable": false,
    "id": "9jUOIQrKyz4S",
    "pycharm": {
     "name": "#%% md\n"
    }
   },
   "source": [
    "## Оценивание домашнего задания\n",
    "\n",
    "**Система оценивания** — бинарная:\n",
    "\n",
    "  - если все задачи решены корректно, без ошибок и полностью соответствуют стандартам кода на курсе, то задание выполнено и оценка — **10 баллов**;\n",
    "  - если решения содержат ошибки или не соответствуют требованиям, то задание не выполнено и оценка — **0 баллов**.  \n",
    "\n",
    "\n",
    "**Проверка задания**\n",
    "\n",
    "- Перед тем как сдать задание, убедись, что твой код работает без ошибок и соответствует стандартам. Для этого используй автоматическую проверку.\n",
    "- Загрузи задание в LMS. Ассистент проверит, соответствуют ли твои решения требованиям и целям задания, и выставит оценку.\n",
    "\n",
    "\n",
    "**Доработка**\n",
    "\n",
    "  - Если твоё задание получило 0 баллов, его вернут на доработку через LMS с комментариями о том, что нужно исправить.\n",
    "\n",
    "<!-- 1. **Максимальный балл:** 10 баллов.\n",
    "2. **Система оценивания:** Бинарная (выполнено/не выполнено).\n",
    "3. **Как получить 10 баллов:**\n",
    "- Все задачи должны быть решены корректно, без ошибок и полностью соответствовать стандартам кода на курсе.\n",
    "- Перед сдачей используй автоматическую проверку, чтобы убедиться, что твой код работает без ошибок и соответствует стандартам.\n",
    "- После сдачи ассистент проверит, насколько твои решения соответствуют требованиям и целям домашнего задания.\n",
    "4. **Оценка:**\n",
    "    - **10 баллов:** Если задачи решены правильно и все требования соблюдены.\n",
    "    - **0 баллов:** Если решения содержат ошибки или не соответствуют требованиям.\n",
    "5. **Доработка:** Если твое задание получило 0 баллов, его вернут тебе на доработку через LMS с комментариями о том, что нужно исправить. -->"
   ]
  },
  {
   "cell_type": "markdown",
   "metadata": {
    "deletable": false,
    "editable": false,
    "id": "cujrVmvrzwTk",
    "pycharm": {
     "name": "#%% md\n"
    }
   },
   "source": [
    "## Рекомендации\n",
    "\n",
    "* Создай новый проект в PyCharm.\n",
    "* Раздели свой код на модули и пакеты.\n",
    "* Пиши комментарии к коду, чтобы объяснить логику решения и сделать программу более понятной."
   ]
  },
  {
   "cell_type": "markdown",
   "metadata": {
    "deletable": false,
    "editable": false,
    "id": "doT3B6KhLnfQ",
    "pycharm": {
     "name": "#%% md\n"
    }
   },
   "source": [
    "### **Задача 1**\n",
    "\n",
    "Программист Ярослав получил задачу оптимизировать сбор данных о затратах на маркетинг. Нужно собирать все входные данные в одну функцию, независимо от того, каким способом они переданы.\n",
    "\n",
    "Напиши функцию `collect_expenses(...)`, которая принимает **любое** количество позиционных и именованных аргументов — чисел (целых или дробных) — и возвращает общую сумму всех переданных затрат одним числом.\n",
    "\n",
    "Ожидаемый результат:"
   ]
  },
  {
   "cell_type": "code",
   "metadata": {
    "deletable": false,
    "id": "F4_d7vkX5H_r",
    "ExecuteTime": {
     "end_time": "2024-10-10T14:25:03.359971Z",
     "start_time": "2024-10-10T14:25:03.357013Z"
    }
   },
   "source": [
    "def collect_expenses(*args, **kwargs):\n",
    "    return sum(args) + sum(kwargs.values())\n",
    "\n",
    "\n",
    "print(collect_expenses(100, 200, food=300, travel=150))\n",
    "# Вывод: 750\n",
    "\n",
    "print(collect_expenses(500, 50, software=1000))\n",
    "# Вывод: 1550"
   ],
   "outputs": [
    {
     "name": "stdout",
     "output_type": "stream",
     "text": [
      "750\n",
      "1550\n"
     ]
    }
   ],
   "execution_count": 1
  },
  {
   "cell_type": "code",
   "execution_count": null,
   "metadata": {
    "deletable": false,
    "ejudge": "red_hw04_cell01",
    "id": "f4iV1GS8LHLg"
   },
   "outputs": [],
   "source": [
    "\n",
    "# Определи функцию collect_expenses\n"
   ]
  },
  {
   "cell_type": "markdown",
   "metadata": {
    "deletable": false,
    "editable": false,
    "id": "wl0DlUoCL6BY",
    "pycharm": {
     "name": "#%% md\n"
    }
   },
   "source": [
    "### **Задача 2**\n",
    "\n",
    "Компания хочет автоматизировать распределение бонусов между сотрудниками. Каждый сотрудник должен получить бонус, если он есть. Если бонусов меньше, чем сотрудников, оставшиеся сотрудники получают 0. Если бонусов больше, чем сотрудников, лишние бонусы не используются.\n",
    "\n",
    "Напиши функцию `distribute_bonus(...)`, которая принимает первым аргументом список бонусов, а также список имён сотрудников через `*args`, и возвращает словарь, где ключи — имена сотрудников, а значения — соответствующие им бонусы.\n",
    "\n",
    "Ожидаемый результат:\n",
    "\n",
    "\n",
    "\n"
   ]
  },
  {
   "cell_type": "code",
   "metadata": {
    "deletable": false,
    "id": "WoEdFb8O55gk",
    "ExecuteTime": {
     "end_time": "2024-10-10T14:26:10.735677Z",
     "start_time": "2024-10-10T14:26:10.732156Z"
    }
   },
   "source": [
    "def distribute_bonus(bonuses, *args):\n",
    "    bonuses += [0] * (len(args) - len(bonuses))\n",
    "    return dict(zip(args, bonuses))\n",
    "\n",
    "print(distribute_bonus([100, 200, 300], 'Анна', 'Алексей', 'Ирина', 'Иван'))\n",
    "# Вывод: {'Анна': 100, 'Алексей': 200, 'Ирина': 300, 'Иван': 0}\n",
    "\n",
    "print(distribute_bonus([500], 'Андрей', 'Ксения'))\n",
    "# Вывод: {'Андрей': 500, 'Ксения': 0}"
   ],
   "outputs": [
    {
     "name": "stdout",
     "output_type": "stream",
     "text": [
      "{'Анна': 100, 'Алексей': 200, 'Ирина': 300, 'Иван': 0}\n",
      "{'Андрей': 500, 'Ксения': 0}\n"
     ]
    }
   ],
   "execution_count": 3
  },
  {
   "cell_type": "code",
   "execution_count": null,
   "metadata": {
    "deletable": false,
    "ejudge": "red_hw04_cell02",
    "id": "-xvwgrlhMCMx"
   },
   "outputs": [],
   "source": [
    "\n",
    "# Определи функцию distribute_bonus\n"
   ]
  },
  {
   "cell_type": "markdown",
   "metadata": {
    "deletable": false,
    "editable": false,
    "id": "LOjgKsbyMYm4",
    "pycharm": {
     "name": "#%% md\n"
    }
   },
   "source": [
    "### **Задача 3**\n",
    "\n",
    "Компания хочет проанализировать производительность сотрудников. Для этого нужно создать функцию, которая принимает список проектов, выполненных сотрудником, и возвращает общее количество выполненных задач.\n",
    "\n",
    "Напиши функцию `count_tasks(...)`, которая принимает в качестве аргумента список проектов, выполненных сотрудником, где каждый проект — словарь с ключами `'name'` и `'tasks'`, и возвращает общее количество выполненных задач.\n",
    "\n",
    "Ожидаемый результат:"
   ]
  },
  {
   "cell_type": "code",
   "metadata": {
    "deletable": false,
    "id": "qPTJGxgP6Bn9",
    "ExecuteTime": {
     "end_time": "2024-10-10T14:27:12.471380Z",
     "start_time": "2024-10-10T14:27:12.468481Z"
    }
   },
   "source": [
    "def count_tasks(projects):\n",
    "    return sum([project['tasks'] for project in projects])\n",
    "\n",
    "projects = [{'name': 'Project A', 'tasks': 5}, {'name': 'Project B', 'tasks': 8}]\n",
    "print(count_tasks(projects))\n",
    "\n",
    "# Вывод: 13"
   ],
   "outputs": [
    {
     "name": "stdout",
     "output_type": "stream",
     "text": [
      "13\n"
     ]
    }
   ],
   "execution_count": 4
  },
  {
   "cell_type": "code",
   "execution_count": null,
   "metadata": {
    "deletable": false,
    "ejudge": "red_hw04_cell03",
    "id": "26pe9tXTMeqT"
   },
   "outputs": [],
   "source": [
    "\n",
    "# Определи функцию count_tasks\n"
   ]
  },
  {
   "cell_type": "markdown",
   "metadata": {
    "deletable": false,
    "editable": false,
    "id": "qD4UrdliMpXc",
    "pycharm": {
     "name": "#%% md\n"
    }
   },
   "source": [
    "### **Задача 4**\n",
    "\n",
    "В компании хотят внедрить систему оценки сложности задач для сотрудников. Сложность задачи оценивается как произведение времени выполнения (`time`) на коэффициент сложности (`difficulty`).\n",
    "\n",
    "Напиши функцию `estimate_task_complexity(tasks)`, которая принимает на вход список задач, где каждая задача представлена как словарь с ключами `time` и `difficulty`, и рассчитывает сложность каждой задачи.\n",
    "\n",
    "Используй функциональные подходы, такие как `map` и `reduce`, чтобы рассчитать общую сложность всех задач.\n",
    "\n",
    "Ожидаемый результат:"
   ]
  },
  {
   "cell_type": "code",
   "metadata": {
    "deletable": false,
    "id": "vgawbb5_6M6x",
    "ExecuteTime": {
     "end_time": "2024-10-10T14:27:24.731180Z",
     "start_time": "2024-10-10T14:27:24.729261Z"
    }
   },
   "source": [
    "def estimate_task_complexity(tasks):\n",
    "    return sum([task['time'] * task['difficulty'] for task in tasks])\n",
    "\n",
    "tasks = [{'time': 5, 'difficulty': 3}, {'time': 8, 'difficulty': 2}]\n",
    "print(estimate_task_complexity(tasks))  # 5*3 + 8*2\n",
    "\n",
    "# Вывод: 31"
   ],
   "outputs": [
    {
     "name": "stdout",
     "output_type": "stream",
     "text": [
      "31\n"
     ]
    }
   ],
   "execution_count": 5
  },
  {
   "cell_type": "code",
   "execution_count": null,
   "metadata": {
    "deletable": false,
    "ejudge": "red_hw04_cell04",
    "id": "-XDbBsuWQMxE"
   },
   "outputs": [],
   "source": [
    "\n",
    "# Определи функцию estimate_task_complexity\n"
   ]
  },
  {
   "cell_type": "markdown",
   "metadata": {
    "deletable": false,
    "editable": false,
    "id": "ti-tEmHRQMQI",
    "pycharm": {
     "name": "#%% md\n"
    }
   },
   "source": [
    "### **Задача 5**\n",
    "\n",
    "Компания хочет проверить, что данные для расчёта производительности сотрудников корректны.\n",
    "\n",
    "Напиши декоратор `validate_input`, который проверяет, что все переданные функции аргументы положительные, и возвращает сообщение о некорректных данных, если это не так.\n",
    "\n",
    "Также напиши функцию `calculate_performance(tasks_completed, hours_worked)`, на которую будет применён декоратор.\n",
    "\n",
    "Функция должна принимать в качестве аргументов:\n",
    "- количество завершённых задач целым числом,\n",
    "- количество отработанных часов (положительным целым числом).\n",
    "\n",
    "Производительность функция должна рассчитывать как сумму выполненных задач и отработанных часов.\n",
    "\n",
    "Ожидаемый результат:"
   ]
  },
  {
   "cell_type": "code",
   "metadata": {
    "deletable": false,
    "id": "gNeAukwD6Uti",
    "ExecuteTime": {
     "end_time": "2024-10-10T14:27:47.638462Z",
     "start_time": "2024-10-10T14:27:47.634591Z"
    }
   },
   "source": [
    "def validate_input(func):\n",
    "    def wrapper(*args):\n",
    "        if any(arg <= 0 for arg in args):\n",
    "            return 'Ошибка: все аргументы должны быть положительными'\n",
    "        return func(*args)\n",
    "    return wrapper\n",
    "\n",
    "@validate_input\n",
    "def calculate_performance(tasks_completed, hours_worked):\n",
    "    return tasks_completed + hours_worked\n",
    "\n",
    "print(calculate_performance(10, -5))\n",
    "# Вывод: 'Ошибка: все аргументы должны быть положительными'\n",
    "\n",
    "print(calculate_performance(10, 5))\n",
    "# Вывод: 15"
   ],
   "outputs": [
    {
     "name": "stdout",
     "output_type": "stream",
     "text": [
      "Ошибка: все аргументы должны быть положительными\n",
      "15\n"
     ]
    }
   ],
   "execution_count": 8
  },
  {
   "cell_type": "code",
   "execution_count": null,
   "metadata": {
    "deletable": false,
    "ejudge": "red_hw04_cell05",
    "id": "ruBvg1VZQZ9B"
   },
   "outputs": [],
   "source": [
    "\n",
    "# Определи декоратор validate_input\n"
   ]
  },
  {
   "cell_type": "markdown",
   "metadata": {
    "deletable": false,
    "editable": false,
    "id": "NVPt487mQsBm",
    "pycharm": {
     "name": "#%% md\n"
    }
   },
   "source": [
    "### **Задача 6**\n",
    "\n",
    "Отдел аналитики хочет автоматизировать генерацию отчётов для анализа производительности.\n",
    "\n",
    "Напиши функцию `report_creator(...)`, которая принимает название отчёта и список разделов через `*args`, а также дополнительные параметры для разделов через `**kwargs`.\n",
    "\n",
    "Функция должна возвращать сгенерированный текст отчёта с информацией по каждому разделу в формате:\n",
    "\n",
    "`'Название_отчёта: Категория_1 — Данные_1. Категория_2 — Данные_2. ... Категория_N — Данные_N'`.\n",
    "\n",
    "**Ожидаемый результат:**\n"
   ]
  },
  {
   "cell_type": "code",
   "metadata": {
    "deletable": false,
    "id": "9IjCq4H-6cU0",
    "ExecuteTime": {
     "end_time": "2024-10-10T14:29:45.324086Z",
     "start_time": "2024-10-10T14:29:45.321502Z"
    }
   },
   "source": [
    "def report_creator(report_name, *args, **kwargs):\n",
    "    report = f'{report_name}: '\n",
    "    for arg in args:\n",
    "        report += f'{arg} — {kwargs.get(arg, \"\")}. '\n",
    "    return report\n",
    "\n",
    "print(report_creator('Monthly Report', 'Introduction', 'Finance', 'Conclusion', Introduction='The company is growing', Finance='All is well'))\n",
    "# Вывод: 'Monthly Report: Introduction — The company is growing. Finance — All is well. Conclusion — '"
   ],
   "outputs": [
    {
     "name": "stdout",
     "output_type": "stream",
     "text": [
      "Monthly Report: Introduction — The company is growing. Finance — All is well. Conclusion — . \n"
     ]
    }
   ],
   "execution_count": 9
  },
  {
   "cell_type": "code",
   "execution_count": null,
   "metadata": {
    "deletable": false,
    "ejudge": "red_hw04_cell06",
    "id": "PqIJSy4eQryn"
   },
   "outputs": [],
   "source": [
    "\n",
    "# Определи функцию report_creator\n"
   ]
  },
  {
   "cell_type": "markdown",
   "metadata": {
    "deletable": false,
    "editable": false,
    "id": "n5fSL3MX6ilt",
    "pycharm": {
     "name": "#%% md\n"
    }
   },
   "source": [
    "### **Задача 7**\n",
    "\n",
    "Отдел аналитики хочет отслеживать расходы компании по категориям и получать отчёты постепенно, по одной категории за раз, для оптимизации вывода данных.\n",
    "\n",
    "Напиши функцию-генератор `expense_report(...)`, которая принимает словарь с категориями (ключи — строки) и их расходами (значения — целые числа) и возвращает название категории и сумму в виде кортежа по одной записи за вызов.\n",
    "\n",
    "Ожидаемый результат:"
   ]
  },
  {
   "cell_type": "code",
   "metadata": {
    "deletable": false,
    "id": "3hc5KbOS6nvG",
    "ExecuteTime": {
     "end_time": "2024-10-10T14:30:09.503975Z",
     "start_time": "2024-10-10T14:30:09.500025Z"
    }
   },
   "source": [
    "def expense_report(expenses):\n",
    "    for category, amount in expenses.items():\n",
    "        yield category, amount\n",
    "        \n",
    "\n",
    "expenses = {'Marketing': 5000, 'Development': 12000, 'Sales': 3000}\n",
    "gen = expense_report(expenses)\n",
    "print(next(gen))\n",
    "# Вывод: ('Marketing', 5000)\n",
    "print(next(gen))\n",
    "# Вывод: ('Development', 12000)\n",
    "print(next(gen))\n",
    "# Вывод: ('Sales', 3000)"
   ],
   "outputs": [
    {
     "name": "stdout",
     "output_type": "stream",
     "text": [
      "('Marketing', 5000)\n",
      "('Development', 12000)\n",
      "('Sales', 3000)\n"
     ]
    }
   ],
   "execution_count": 10
  },
  {
   "cell_type": "code",
   "execution_count": null,
   "metadata": {
    "deletable": false,
    "ejudge": "red_hw04_cell07",
    "id": "agwgZ3KH65Mb"
   },
   "outputs": [],
   "source": [
    "\n",
    "# Определи функцию expense_report\n"
   ]
  },
  {
   "cell_type": "markdown",
   "metadata": {
    "deletable": false,
    "editable": false,
    "id": "HWr44fPM6wNc",
    "pycharm": {
     "name": "#%% md\n"
    }
   },
   "source": [
    "### **Задача 8**\n",
    "\n",
    "Компания решила разработать систему управления большим количеством заказов, которая добавляет их по одному и возвращает результат по каждому новому заказу по мере его поступления.\n",
    "\n",
    "Напиши функцию-генератор `order_tracker()`, которая использует конструкцию `yield` для взаимодействия с пользователем и работает с заказами (в виде строк), добавляя их по одному и возвращая результат по каждому новому заказу.\n",
    "\n",
    "`order_tracker()` является генератором, который сначала запрашивает новый заказ, а затем, после отправки заказа через `send()`, возвращает сообщение о добавлении этого заказа.\n",
    "\n",
    "Ожидаемый результат:\n",
    "\n"
   ]
  },
  {
   "cell_type": "code",
   "metadata": {
    "deletable": false,
    "id": "n9utlk_b62RR",
    "ExecuteTime": {
     "end_time": "2024-10-10T14:30:40.688385Z",
     "start_time": "2024-10-10T14:30:40.686323Z"
    }
   },
   "source": [
    "def order_tracker():\n",
    "    while True:\n",
    "        order = yield 'Введите новый заказ'\n",
    "        yield f'Заказ добавлен: {order}'\n",
    "\n",
    "tracker = order_tracker()\n",
    "print(next(tracker))\n",
    "# Вывод: 'Введите новый заказ'\n",
    "print(tracker.send('Order 1'))\n",
    "# Вывод: 'Заказ добавлен: Order 1'\n",
    "print(next(tracker))\n",
    "# Вывод: 'Введите новый заказ'\n",
    "print(tracker.send('Order 2'))\n",
    "# Вывод: 'Заказ добавлен: Order 2'"
   ],
   "outputs": [
    {
     "name": "stdout",
     "output_type": "stream",
     "text": [
      "Введите новый заказ\n",
      "Заказ добавлен: Order 1\n",
      "Введите новый заказ\n",
      "Заказ добавлен: Order 2\n"
     ]
    }
   ],
   "execution_count": 11
  },
  {
   "cell_type": "code",
   "execution_count": null,
   "metadata": {
    "deletable": false,
    "ejudge": "red_hw04_cell08",
    "id": "Ia4QimGH63DK"
   },
   "outputs": [],
   "source": [
    "\n",
    "# Определи функцию order_tracker\n"
   ]
  },
  {
   "cell_type": "markdown",
   "metadata": {
    "deletable": false,
    "editable": false,
    "id": "qxt8J4W267Uc",
    "pycharm": {
     "name": "#%% md\n"
    }
   },
   "source": [
    "### **Задача 9**\n",
    "\n",
    "Компании хочет анализировать время выполнения проектов и иметь возможность приостанавливать процесс анализа по каждому проекту.\n",
    "\n",
    "Напиши функцию-генератор `project_duration_tracker(...)`, которая принимает список проектов, где каждый проект представлен словарём с ключами `name` (название проекта) и `duration` (его длительность), и возвращает длительность каждого проекта по одному за вызов.\n",
    "\n",
    "Ожидаемый результат:\n",
    "\n"
   ]
  },
  {
   "cell_type": "code",
   "metadata": {
    "deletable": false,
    "id": "dj7MdSuy7AhV",
    "ExecuteTime": {
     "end_time": "2024-10-10T14:31:51.519826Z",
     "start_time": "2024-10-10T14:31:51.517862Z"
    }
   },
   "source": [
    "def project_duration_tracker(projects):\n",
    "    for project in projects:\n",
    "        yield project['duration']\n",
    "\n",
    "projects = [{'name': 'Project A', 'duration': 5}, {'name': 'Project B', 'duration': 8}]\n",
    "gen = project_duration_tracker(projects)\n",
    "print(next(gen))\n",
    "# Вывод: 5\n",
    "print(next(gen))\n",
    "# Вывод: 8"
   ],
   "outputs": [
    {
     "name": "stdout",
     "output_type": "stream",
     "text": [
      "5\n",
      "8\n"
     ]
    }
   ],
   "execution_count": 12
  },
  {
   "cell_type": "code",
   "execution_count": null,
   "metadata": {
    "deletable": false,
    "ejudge": "red_hw04_cell09",
    "id": "5TFqTFjq7BPS"
   },
   "outputs": [],
   "source": [
    "\n",
    "# Определи функцию project_duration_tracker\n"
   ]
  },
  {
   "cell_type": "markdown",
   "metadata": {
    "deletable": false,
    "editable": false,
    "id": "u-YEqX3XxgTy",
    "pycharm": {
     "name": "#%% md\n"
    }
   },
   "source": [
    "### **Задача 10**\n",
    "\n",
    "Нужно провести рефакторинг и сократить код с помощью лямбда-функций.\n",
    "\n",
    "Напиши лямбда-функцию, которая принимает одно число и возвращает его квадрат.\n",
    "\n",
    "Ожидаемый результат:\n",
    "\n"
   ]
  },
  {
   "cell_type": "code",
   "metadata": {
    "deletable": false,
    "id": "smhj0QGbxvWQ",
    "ExecuteTime": {
     "end_time": "2024-10-10T14:32:07.175571Z",
     "start_time": "2024-10-10T14:32:07.172561Z"
    }
   },
   "source": [
    "square = lambda x: x ** 2\n",
    "\n",
    "\n",
    "print(square(5))\n",
    "# Вывод: 25\n",
    "print(square(9))\n",
    "# Вывод: 81"
   ],
   "outputs": [
    {
     "name": "stdout",
     "output_type": "stream",
     "text": [
      "25\n",
      "81\n"
     ]
    }
   ],
   "execution_count": 13
  },
  {
   "cell_type": "code",
   "execution_count": null,
   "metadata": {
    "deletable": false,
    "ejudge": "red_hw04_cell10",
    "id": "FQswNh9BxzfK"
   },
   "outputs": [],
   "source": [
    "\n",
    "# Напиши лямбда-функцию для нахождения квадрата числа\n"
   ]
  },
  {
   "cell_type": "markdown",
   "metadata": {
    "deletable": false,
    "editable": false,
    "id": "X-IFyZoZDpUk",
    "pycharm": {
     "name": "#%% md\n"
    }
   },
   "source": [
    "### **Задача 11**\n",
    "\n",
    "Компания оптимизирует код и решила применять лямбда-функции в сочетании с `map` для преобразования данных. Требуется получить список кубов чисел из списка.\n",
    "\n",
    "Напиши программу, которая использует лямбда-функцию вместе с `map` для возведения каждого элемента списка в куб.\n",
    "\n",
    "Ожидаемый результат:"
   ]
  },
  {
   "cell_type": "code",
   "metadata": {
    "deletable": false,
    "id": "hikDihL3ECl3",
    "ExecuteTime": {
     "end_time": "2024-10-10T14:32:36.806693Z",
     "start_time": "2024-10-10T14:32:36.804051Z"
    }
   },
   "source": [
    "def cubed_numbers(numbers):\n",
    "    return list(map(lambda x: x ** 3, numbers))\n",
    "\n",
    "numbers = [1, 2, 3, 4, 5]\n",
    "print(cubed_numbers(numbers))\n",
    "# Вывод: [1, 8, 27, 64, 125]"
   ],
   "outputs": [
    {
     "name": "stdout",
     "output_type": "stream",
     "text": [
      "[1, 8, 27, 64, 125]\n"
     ]
    }
   ],
   "execution_count": 15
  },
  {
   "cell_type": "code",
   "execution_count": null,
   "metadata": {
    "deletable": false,
    "ejudge": "red_hw04_cell11",
    "id": "6xQi_B73EEFO"
   },
   "outputs": [],
   "source": [
    "\n",
    "# Напиши лямбда-функцию и map для получения кубов чисел\n"
   ]
  },
  {
   "cell_type": "markdown",
   "metadata": {
    "deletable": false,
    "editable": false,
    "id": "6R4G85rREGV-",
    "pycharm": {
     "name": "#%% md\n"
    }
   },
   "source": [
    "### **Задача 12**\n",
    "\n",
    "Аналитику Лейсан нужно отфильтровать данные: оставить только те элементы списка, которые больше 10.\n",
    "\n",
    "Напиши программу, которая использует лямбда-функцию вместе с `filter`, чтобы отфильтровать из списка только числа, большие 10.\n",
    "\n",
    "Ожидаемый результат:\n",
    "\n"
   ]
  },
  {
   "cell_type": "code",
   "metadata": {
    "deletable": false,
    "id": "dcedslMMEK5A",
    "ExecuteTime": {
     "end_time": "2024-10-10T14:32:57.515559Z",
     "start_time": "2024-10-10T14:32:57.513338Z"
    }
   },
   "source": [
    "def filtered_numbers(numbers):\n",
    "    return list(filter(lambda x: x > 10, numbers))\n",
    "\n",
    "numbers = [5, 12, 7, 15, 22, 3]\n",
    "print(filtered_numbers(numbers))\n",
    "# Вывод: [12, 15, 22]"
   ],
   "outputs": [
    {
     "name": "stdout",
     "output_type": "stream",
     "text": [
      "[12, 15, 22]\n"
     ]
    }
   ],
   "execution_count": 16
  },
  {
   "cell_type": "code",
   "execution_count": null,
   "metadata": {
    "deletable": false,
    "ejudge": "red_hw04_cell12",
    "id": "w7EWz0UnEMLR"
   },
   "outputs": [],
   "source": [
    "\n",
    "# Напиши лямбда-функцию и filter для фильтрации чисел больше 10\n"
   ]
  },
  {
   "cell_type": "markdown",
   "metadata": {
    "deletable": false,
    "editable": false,
    "id": "Jsk36ozjEPbg",
    "pycharm": {
     "name": "#%% md\n"
    }
   },
   "source": [
    "### **Задача 13**\n",
    "\n",
    "Нужно обработать список данных, состоящий из чисел, и применить к нему несколько операций. Сначала оставить только чётные числа, затем возвести их в квадрат, а в конце сложить все результаты.\n",
    "\n",
    "Напиши программу, которая использует лямбда-функции с `filter`, `map` и `reduce`, чтобы оставить только чётные числа, возвести их в квадрат, а затем найти их сумму.\n",
    "\n",
    "Ожидаемый результат:"
   ]
  },
  {
   "cell_type": "code",
   "metadata": {
    "deletable": false,
    "id": "tdlUX6U5EYiJ",
    "ExecuteTime": {
     "end_time": "2024-10-10T14:33:57.299338Z",
     "start_time": "2024-10-10T14:33:57.295908Z"
    }
   },
   "source": [
    "from functools import reduce\n",
    "\n",
    "def process_numbers(numbers):\n",
    "    return reduce(lambda x, y: x + y, map(lambda x: x ** 2, filter(lambda x: x % 2 == 0, numbers)))\n",
    "\n",
    "numbers = [1, 2, 3, 4, 5, 6]\n",
    "print(process_numbers(numbers))  # 2^2 + 4^2 + 6^2 = 4 + 16 + 36 = 56\n",
    "# Вывод: 56"
   ],
   "outputs": [
    {
     "name": "stdout",
     "output_type": "stream",
     "text": [
      "56\n"
     ]
    }
   ],
   "execution_count": 17
  },
  {
   "cell_type": "code",
   "execution_count": null,
   "metadata": {
    "deletable": false,
    "ejudge": "red_hw04_cell13",
    "id": "WPd2fduBEZd-"
   },
   "outputs": [],
   "source": [
    "\n",
    "# Напиши лямбда-функции с filter, map и reduce для обработки списка чисел\n"
   ]
  },
  {
   "cell_type": "markdown",
   "metadata": {
    "deletable": false,
    "editable": false,
    "id": "Kev2AX-q8E2_",
    "pycharm": {
     "name": "#%% md\n"
    }
   },
   "source": [
    "### **Задача 14**\n",
    "\n",
    "Требуется реализовать систему, которая обрабатывает данные о заказах. Каждый заказ содержит информацию о количестве товаров.\n",
    "\n",
    "В системе должна быть функция, которая суммирует количество товаров в заказах. Если в процессе обработки заказа встретится некорректное значение (например, строка вместо числа), программа не должна завершаться с ошибкой.\n",
    "\n",
    "Напиши функцию `sum_orders(...)`, которая принимает список заказов (целые числа) и возвращает их сумму. Если в списке встречается некорректное значение, программа должна выводить сообщение об ошибке `'Ошибка: некорректное значение 'bad_data''` и продолжать выполнение.\n",
    "\n",
    "Ожидаемый результат:"
   ]
  },
  {
   "cell_type": "code",
   "metadata": {
    "deletable": false,
    "id": "ch6p0FMn8QEO",
    "ExecuteTime": {
     "end_time": "2024-10-10T14:34:24.005963Z",
     "start_time": "2024-10-10T14:34:24.003640Z"
    }
   },
   "source": [
    "def sum_orders(orders):\n",
    "    total = 0\n",
    "    for order in orders:\n",
    "        try:\n",
    "            total += order\n",
    "        except TypeError:\n",
    "            print(f'Ошибка: некорректное значение {order}')\n",
    "    return total\n",
    "\n",
    "print(sum_orders([3, 7, 'ошибка', 5, 2]))\n",
    "# Вывод: 'Ошибка: некорректное значение 'ошибка''\n",
    "# Вывод: 17\n",
    "\n",
    "print(sum_orders([10, 5, 'bad_data', 8]))\n",
    "# Вывод: 'Ошибка: некорректное значение 'bad_data''\n",
    "# Вывод: 23"
   ],
   "outputs": [
    {
     "name": "stdout",
     "output_type": "stream",
     "text": [
      "Ошибка: некорректное значение ошибка\n",
      "17\n",
      "Ошибка: некорректное значение bad_data\n",
      "23\n"
     ]
    }
   ],
   "execution_count": 19
  },
  {
   "cell_type": "code",
   "execution_count": null,
   "metadata": {
    "deletable": false,
    "ejudge": "red_hw04_cell14",
    "id": "ztByZbHw8Rku"
   },
   "outputs": [],
   "source": [
    "\n",
    "# Определи функцию sum_orders\n"
   ]
  },
  {
   "cell_type": "markdown",
   "metadata": {
    "deletable": false,
    "editable": false,
    "id": "EMn2tsrO8XeC",
    "pycharm": {
     "name": "#%% md\n"
    }
   },
   "source": [
    "### **Задача 15**\n",
    "\n",
    "Компания внедряет новую систему для расчёта зарплат сотрудников. Иногда в данных по зарплатам могут возникать ошибки, например нулевые или отрицательные значения.\n",
    "\n",
    "Нужно написать функцию, которая корректно обрабатывает такие ситуации. При этом она должна считать общую зарплату, выводить предупреждение при ошибках и всегда завершать работу с сообщением о завершении расчёта.\n",
    "\n",
    "Напиши функцию `calculate_total_salary(...)`, которая принимает список зарплат (целые или дробные числа).\n",
    "\n",
    "Если в списке встречается некорректное значение (например, отрицательное число или ноль), программа должна выводить сообщение об ошибке `'Ошибка: некорректное значение <значение>'`, но продолжать обработку данных.\n",
    "\n",
    "Используй блоки `else` и `finally`, чтобы разделить основной код и обработку ошибок.\n",
    "- Если ошибка не возникла и значение обработано корректно — выводить сообщение `'Обработана зарплата: <значение>'`.\n",
    "- Независимо от того, возникла ошибка или нет — выводить сообщение `'Продолжаем расчёт...'`.\n",
    "\n",
    "В конце должно один раз выводиться сообщение о завершении расчёта `'Завершение расчёта зарплат.'`.\n",
    "\n",
    "Ожидаемый результат:"
   ]
  },
  {
   "cell_type": "code",
   "metadata": {
    "deletable": false,
    "id": "B3_-ms_b8dS1",
    "ExecuteTime": {
     "end_time": "2024-10-10T14:36:18.690405Z",
     "start_time": "2024-10-10T14:36:18.686813Z"
    }
   },
   "source": [
    "def calculate_total_salary(salaries):\n",
    "    total = 0\n",
    "    for salary in salaries:\n",
    "        try:\n",
    "            if salary <= 0:\n",
    "                raise ValueError(f'Ошибка: Некорректное значение {salary}.')\n",
    "            print(f'Обработана зарплата: {salary}')\n",
    "            total += salary\n",
    "        except ValueError as e:\n",
    "            print(e)  \n",
    "        finally:\n",
    "            print('Продолжаем расчёт...')\n",
    "    print('Завершение расчёта зарплат.')\n",
    "    return total\n",
    "\n",
    "print(calculate_total_salary([3000, 4500, -1000, 0, 5000]))\n",
    "# Вывод:\n",
    "# Обработана зарплата: 3000\n",
    "# Продолжаем расчёт...\n",
    "# Обработана зарплата: 4500\n",
    "# Продолжаем расчёт...\n",
    "# Ошибка: Некорректное значение -1000.\n",
    "# Продолжаем расчёт...\n",
    "# Ошибка: Некорректное значение 0.\n",
    "# Продолжаем расчёт...\n",
    "# Обработана зарплата: 5000\n",
    "# Продолжаем расчёт...\n",
    "# Завершение расчёта зарплат.\n",
    "# 12500\n",
    "\n",
    "\n",
    "print(calculate_total_salary([2500, 3200, 4100]))\n",
    "# Вывод:\n",
    "# Обработана зарплата: 2500\n",
    "# Продолжаем расчёт...\n",
    "# Обработана зарплата: 3200\n",
    "# Продолжаем расчёт...\n",
    "# Обработана зарплата: 4100\n",
    "# Продолжаем расчёт...\n",
    "# Завершение расчёта зарплат.\n",
    "# 9800"
   ],
   "outputs": [
    {
     "name": "stdout",
     "output_type": "stream",
     "text": [
      "Обработана зарплата: 3000\n",
      "Продолжаем расчёт...\n",
      "Обработана зарплата: 4500\n",
      "Продолжаем расчёт...\n",
      "Ошибка: Некорректное значение -1000.\n",
      "Продолжаем расчёт...\n",
      "Ошибка: Некорректное значение 0.\n",
      "Продолжаем расчёт...\n",
      "Обработана зарплата: 5000\n",
      "Продолжаем расчёт...\n",
      "Завершение расчёта зарплат.\n",
      "12500\n",
      "Обработана зарплата: 2500\n",
      "Продолжаем расчёт...\n",
      "Обработана зарплата: 3200\n",
      "Продолжаем расчёт...\n",
      "Обработана зарплата: 4100\n",
      "Продолжаем расчёт...\n",
      "Завершение расчёта зарплат.\n",
      "9800\n"
     ]
    }
   ],
   "execution_count": 21
  },
  {
   "cell_type": "code",
   "execution_count": null,
   "metadata": {
    "deletable": false,
    "ejudge": "red_hw04_cell15",
    "id": "sdICEQO68fh6"
   },
   "outputs": [],
   "source": [
    "\n",
    "# Определи функцию calculate_total_salary\n"
   ]
  }
 ],
 "metadata": {
  "colab": {
   "provenance": []
  },
  "kernelspec": {
   "display_name": "Python 3 (ipykernel)",
   "name": "python3",
   "language": "python"
  },
  "language_info": {
   "name": "python"
  }
 },
 "nbformat": 4,
 "nbformat_minor": 0
}
