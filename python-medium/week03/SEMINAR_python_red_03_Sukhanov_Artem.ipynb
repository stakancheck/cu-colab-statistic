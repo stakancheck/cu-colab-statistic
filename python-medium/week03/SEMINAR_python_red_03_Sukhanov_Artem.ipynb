{
 "nbformat": 4,
 "nbformat_minor": 0,
 "metadata": {
  "colab": {
   "provenance": []
  },
  "kernelspec": {
   "name": "python3",
   "display_name": "Python 3 (ipykernel)",
   "language": "python"
  },
  "language_info": {
   "name": "python"
  }
 },
 "cells": [
  {
   "cell_type": "markdown",
   "source": [
    "# *Красный трек*\n",
    "## Семинар по теме «Функции»\n",
    "\n",
    "Закрепим знания, полученные при изучении темы «Функции» и решении домашних заданий.\n",
    "\n"
   ],
   "metadata": {
    "id": "Hwqb9nbsah-9"
   }
  },
  {
   "cell_type": "markdown",
   "source": [
    "# Блокирующий семинар\n",
    "\n",
    "Данный семинар является блокирующим: его посещение и сдача на проверку семинарского ноутбука обязательны для подтверждения основного уровня.\n",
    "\n",
    "Уровень и оценка не зависят друг от друга, для получения высокой оценки необходимо сдавать все семинарские ноутбуки."
   ],
   "metadata": {
    "id": "-N700V_NWfqQ"
   }
  },
  {
   "cell_type": "markdown",
   "source": [
    "## Оценивание работы на семинаре\n",
    "\n",
    "**Система оценивания —** бинарная:\n",
    "\n",
    "  - если все задачи решены корректно, без ошибок и полностью соответствуют стандартам кода на курсе, то задание выполнено и оценка — **10 баллов**;\n",
    "  - если решения содержат ошибки или не соответствуют требованиям, то задание не выполнено и оценка — **0 баллов**.  \n",
    "\n",
    "\n",
    "**Проверка задания**\n",
    "\n",
    "- Перед тем, как сдать задание, убедись, что твой код работает без ошибок и соответствует стандартам. Для этого используй автоматическую проверку.\n",
    "- Загрузи задание на LMS. Ассистент проверит, соответствуют ли твои решения требованиям и целям домашнего задания, и выставит оценку.\n",
    "\n",
    "\n",
    "**Доработка**\n",
    "\n",
    "- Если твое задание получило 0 баллов, его вернут на доработку через LMS с комментариями о том, что нужно исправить."
   ],
   "metadata": {
    "id": "FSfCLs4RxpdC"
   }
  },
  {
   "cell_type": "markdown",
   "source": [
    "## Поиск и исправление ошибок"
   ],
   "metadata": {
    "id": "uFLHvjU4LQ_E"
   }
  },
  {
   "cell_type": "markdown",
   "source": [
    "В задачах ниже в коде допущены ошибки. Найди их, исправь и запусти код"
   ],
   "metadata": {
    "id": "XHocrpWzRxF5"
   }
  },
  {
   "cell_type": "markdown",
   "source": [
    "**Задача 1**\n",
    "\n",
    "\n",
    "Функция с названием `hello` должна выводить на экран слово `Привет`.\n",
    "\n",
    "```python\n",
    "define Hello():\n",
    "    print('Привет')\n",
    "```\n",
    "\n"
   ],
   "metadata": {
    "id": "u8Ex9HR3yZI5"
   }
  },
  {
   "cell_type": "code",
   "source": [
    "\n",
    "def hello():\n",
    "    print(\"Привет\")\n"
   ],
   "metadata": {
    "id": "xEAN0Lq_N-uQ",
    "ExecuteTime": {
     "end_time": "2024-09-25T13:14:49.894044Z",
     "start_time": "2024-09-25T13:14:49.892463Z"
    }
   },
   "outputs": [],
   "execution_count": 4
  },
  {
   "cell_type": "markdown",
   "source": [
    "**Задача 2**\n",
    "\n",
    "Функция с названием `hello_name` должна принимать аргумент `name` — имя человека, а затем здороваться с ним. Например, `Привет, Иван`.\n",
    "\n",
    "```python\n",
    "def hello_name():\n",
    "    print(f'Привет, {name}')\n",
    "```"
   ],
   "metadata": {
    "id": "fwKr06T4hvEF"
   }
  },
  {
   "metadata": {},
   "cell_type": "code",
   "outputs": [],
   "execution_count": null,
   "source": [
    "\n",
    "def hello_name(name: str):\n",
    "    print(f'Привет, {name}')\n"
   ]
  },
  {
   "cell_type": "markdown",
   "source": [
    "**Задача 3**\n",
    "\n",
    "Функция `say_hello` не принимает аргументов, ничего не печатает на экране, но возвращает текст `привет!`.\n",
    "\n",
    "\n",
    "```python\n",
    "def say_hello(name):\n",
    "    print('привет!')\n",
    "```"
   ],
   "metadata": {
    "id": "h2d9Qe6rhvbQ"
   }
  },
  {
   "cell_type": "code",
   "source": [
    "\n",
    "def say_hello():\n",
    "    return 'привет!'\n"
   ],
   "metadata": {
    "id": "BjoW5OnOhvbS"
   },
   "execution_count": null,
   "outputs": []
  },
  {
   "cell_type": "markdown",
   "source": [
    "**Задача 4**\n",
    "\n",
    "Функция `multiply_by_two` должна принимать одно целое число и возвращать его, умноженное на два.\n",
    "\n",
    "```python\n",
    "def multiply_by_two():\n",
    "    return x * 2\n",
    "```\n"
   ],
   "metadata": {
    "id": "ijT0wPnIXy_u"
   }
  },
  {
   "cell_type": "code",
   "source": [
    "\n",
    "def multiply_by_two(x: int):\n",
    "    return x * 2\n"
   ],
   "metadata": {
    "id": "IH3kwDQ0ZwLw"
   },
   "execution_count": null,
   "outputs": []
  },
  {
   "cell_type": "markdown",
   "source": [
    "**Задача 5**\n",
    "\n",
    "Функция `greet_user` должна принимать два аргумента: имя пользователя и его возраст, и затем выводить сообщение в формате `Привет, <имя>, тебе <возраст> лет`.\n",
    "\n",
    "```python\n",
    "defie greet_user()\n",
    "    print(f'Привет, {name}, тебе {возраст} лет')\n",
    "```\n"
   ],
   "metadata": {
    "id": "LiEZDtqVYkui"
   }
  },
  {
   "cell_type": "code",
   "source": [
    "\n",
    "def greet_user(name: str, age: int):\n",
    "    print(f'Привет, {name}, тебе {age} лет')\n"
   ],
   "metadata": {
    "id": "rYlBYrKYZwkF"
   },
   "execution_count": null,
   "outputs": []
  },
  {
   "cell_type": "markdown",
   "source": [
    "**Задача 6**\n",
    "\n",
    "Функция `calculate_sum` должна принимать два числа и возвращать их сумму.\n",
    "\n",
    "```python\n",
    "func calculate_sum(a, b):\n",
    "    print('a - b')\n",
    "```\n"
   ],
   "metadata": {
    "id": "6-7l5kBzYwPF"
   }
  },
  {
   "cell_type": "code",
   "source": [
    "\n",
    "def calculate_sum(a: int, b: int):\n",
    "    return a + b\n"
   ],
   "metadata": {
    "id": "nXHPFjOhZw8r"
   },
   "execution_count": null,
   "outputs": []
  },
  {
   "cell_type": "markdown",
   "source": [
    "**Задача 7**\n",
    "\n",
    "Функция `print_even_numbers` должна принимать список чисел и выводить только чётные числа.\n",
    "\n",
    "```python\n",
    "def print_even_numbers(number)\n",
    "    for number in numbers:\n",
    "        if num % 2:\n",
    "            print(num)\n",
    "```\n"
   ],
   "metadata": {
    "id": "CiKOPdiOZNIX"
   }
  },
  {
   "cell_type": "code",
   "source": [
    "\n",
    "def print_even_numbers(numbers):\n",
    "    for num in numbers:\n",
    "        if num % 2 == 0:\n",
    "            print(num)\n"
   ],
   "metadata": {
    "id": "B2hhGqX3ZxRh"
   },
   "execution_count": null,
   "outputs": []
  },
  {
   "cell_type": "markdown",
   "source": [
    "**Задача 8**\n",
    "\n",
    "Функция `square` должна принимать число и возвращать его квадрат.\n",
    "\n",
    "```python\n",
    "de square(x):\n",
    "    return x * x * x\n",
    "```\n"
   ],
   "metadata": {
    "id": "IfKo0SKXZcBj"
   }
  },
  {
   "cell_type": "code",
   "source": [
    "\n",
    "def square(x: int):\n",
    "    return x * x\n"
   ],
   "metadata": {
    "id": "mGRAASNZZy5o"
   },
   "execution_count": null,
   "outputs": []
  },
  {
   "cell_type": "markdown",
   "source": [
    "**Задача 9**\n",
    "\n",
    "Функция `find_max` должна находить максимальное значение в списке чисел.\n",
    "\n",
    "```python\n",
    "def find_max(numbers):\n",
    "    max_num = numbers[0]\n",
    "    for num in numbers:\n",
    "        if num < max_num:\n",
    "            max_num = num\n",
    "    return max_num\n",
    "```\n"
   ],
   "metadata": {
    "id": "rYxUp4uvZj52"
   }
  },
  {
   "cell_type": "code",
   "source": [
    "\n",
    "def find_max(numbers):\n",
    "    max_num = numbers[0]\n",
    "    for num in numbers:\n",
    "        if num > max_num:\n",
    "            max_num = num\n",
    "    return max_num\n"
   ],
   "metadata": {
    "id": "nB8BoggMZzOi"
   },
   "execution_count": null,
   "outputs": []
  },
  {
   "cell_type": "markdown",
   "source": [
    "## Практическая часть"
   ],
   "metadata": {
    "id": "qDZemrdUMUyx"
   }
  },
  {
   "cell_type": "markdown",
   "source": [
    "###  Задачи простые"
   ],
   "metadata": {
    "id": "0cVq6jDeDnK_"
   }
  },
  {
   "cell_type": "markdown",
   "source": [
    "**Задача 1**\n",
    "\n",
    "Иван завёл свой телеграм-канал и хочет добавить бота, который будет здороваться с новыми подписчиками. Иван просил написать функцию, которая будет взаимодействовать с пользователями.\n",
    "\n",
    "Задача - написать функцию `greeting()`, которая:\n",
    "\n",
    "1. Выводит сообщение: `Добро пожаловать в ТГ-канал! Как тебя зовут?`\n",
    "2. Считывает ввод пользователя — имя нового подписчика.\n",
    "3. Выводит приветствие в формате: `Привет, <имя>!`, где `<имя>` — это введённое пользователем имя.\n",
    "\n",
    "**Пример работы программы:**\n",
    "\n",
    "```\n",
    "Добро пожаловать в ТГ-канал! Как тебя зовут?\n",
    "> Иван\n",
    "Привет, Иван!\n",
    "```\n"
   ],
   "metadata": {
    "id": "nvi6BlRmtDzu"
   }
  },
  {
   "cell_type": "code",
   "source": [
    "##! red_sm03_cell01\n",
    "\n",
    "def greeting():\n",
    "    print(\"Добро пожаловать в ТГ-канал! Как тебя зовут?\")\n",
    "    name = input()\n",
    "    print(f\"Привет, {name}!\")\n",
    "    \n",
    "greeting()\n"
   ],
   "metadata": {
    "id": "o85fIN2EuzIv",
    "ExecuteTime": {
     "end_time": "2024-09-25T13:21:28.035277Z",
     "start_time": "2024-09-25T13:21:22.654922Z"
    }
   },
   "outputs": [
    {
     "name": "stdout",
     "output_type": "stream",
     "text": [
      "Добро пожаловать в ТГ-канал! Как тебя зовут?\n",
      "Привет, Hel!\n"
     ]
    }
   ],
   "execution_count": 1
  },
  {
   "cell_type": "markdown",
   "source": [
    "**Задача 2**\n",
    "\n",
    "Телеграм-канал Ивана стал популярным, но появились тролли, которых необходимо блокировать. Напиши новую версию функции, которая проверяет, находится ли имя подписчика в стоп-листе, и выводит соответствующее сообщение.\n",
    "\n",
    "Задача — написать функцию `greeting(stop_list)`, которая:\n",
    "\n",
    "1. Принимает один аргумент — список имён `stop_list`, содержащий имена пользователей, которых нужно заблокировать.\n",
    "2. Выводит сообщение: `Добро пожаловать в ТГ-канал! Как тебя зовут?`\n",
    "3. Считывает имя нового подписчика.\n",
    "4. Если имя пользователя находится в `stop_list`, выводит сообщение: `Вы удалены из канала за троллинг!`\n",
    "5. Если имя пользователя не в стоп-листе, выводит приветствие в формате: `Привет, <имя>!`\n",
    "\n",
    "\n",
    "**Пример работы программы:**\n",
    "\n",
    "```\n",
    "Добро пожаловать в ТГ-канал! Как тебя зовут?\n",
    "> Алексей\n",
    "Привет, Алексей!\n",
    "```\n",
    "\n",
    "```\n",
    "Добро пожаловать в ТГ-канал! Как тебя зовут?\n",
    "> Тролль\n",
    "Вы удалены из канала за троллинг!\n",
    "```\n"
   ],
   "metadata": {
    "id": "2B6rSwXCkM9n"
   }
  },
  {
   "cell_type": "code",
   "source": [
    "##! red_sm03_cell02\n",
    "\n",
    "def greeting(stop_list):\n",
    "    print(\"Добро пожаловать в ТГ-канал! Как тебя зовут?\")\n",
    "    name = input()\n",
    "    if name in stop_list:\n",
    "        print(\"Вы удалены из канала за троллинг!\")\n",
    "    else:\n",
    "        print(f\"Привет, {name}!\")\n"
   ],
   "metadata": {
    "id": "Y-5lTojnkM9t"
   },
   "execution_count": null,
   "outputs": []
  },
  {
   "cell_type": "markdown",
   "source": [
    "**Задача 3**\n",
    "\n",
    "Ты работаешь над разработкой ПО для защиты банковской системы. Тебе необходимо написать функцию для проверки корректности пин-кода администратора.\n",
    "\n",
    "Задача — написать функцию `security(pin)`, которая:\n",
    "\n",
    "1. Принимает один аргумент `pin` — строку длиной 4 символа.\n",
    "2. Проверяет, соответствует ли пин-код значению `'1234'`.\n",
    "3. Возвращает `True`, если пин-код правильный, и `False`, если пин-код неверный.\n",
    "\n",
    "**Пример работы программы:**\n",
    "\n",
    "```python\n",
    "security('1234')\n",
    "# True\n",
    "\n",
    "security('4321')\n",
    "# False\n",
    "```\n"
   ],
   "metadata": {
    "id": "iuCqDr-slQvw"
   }
  },
  {
   "metadata": {},
   "cell_type": "code",
   "outputs": [],
   "execution_count": null,
   "source": [
    "##! red_sm03_cell03\n",
    "\n",
    "def security(pin):\n",
    "    return pin == '1234'\n"
   ]
  },
  {
   "cell_type": "markdown",
   "source": [
    "**Задача 4**\n",
    "\n",
    "Отдел аналитики запросил функцию для расчета среднего значения зарплат клиентов банка.\n",
    "\n",
    "Задача — написать функцию `average_value(salaries)`, которая:\n",
    "\n",
    "1. Принимает один аргумент:\n",
    "   - `salaries` — список целых чисел, представляющих зарплаты клиентов банка.\n",
    "\n",
    "2. Рассчитывает среднее значение всех зарплат в списке.\n",
    "3. Возвращает это среднее значение как одно число.\n",
    "\n",
    "**Пример работы программы:**\n",
    "\n",
    "```python\n",
    "average_value([50000, 60000, 75000, 80000])\n",
    "# 66250.0\n",
    "```\n"
   ],
   "metadata": {
    "id": "v33t7x2_xg_Q"
   }
  },
  {
   "cell_type": "code",
   "source": [
    "##! red_sm03_cell04\n",
    "\n",
    "def average_value(salaries):\n",
    "    return sum(salaries) / len(salaries)\n",
    "\n",
    "\n",
    "average_value([50000, 60000, 75000, 80000])"
   ],
   "metadata": {
    "id": "9wP2q1iKxg_V",
    "ExecuteTime": {
     "end_time": "2024-09-25T13:24:01.419317Z",
     "start_time": "2024-09-25T13:24:01.414892Z"
    }
   },
   "outputs": [
    {
     "data": {
      "text/plain": [
       "66250.0"
      ]
     },
     "execution_count": 2,
     "metadata": {},
     "output_type": "execute_result"
    }
   ],
   "execution_count": 2
  },
  {
   "cell_type": "markdown",
   "source": [
    "**Задача 5**\n",
    "\n",
    "Пентестер оставил ключевую фразу в тех местах кода, где нашёл уязвимости. За свою работу он попросил вознаграждение, равное количеству найденных уязвимостей, умноженному на 10.\n",
    "\n",
    "Задача — написать функцию `count_bugs(lines, key)`, которая:\n",
    "\n",
    "1. Принимает два аргумента:\n",
    "   - `lines` — список строк программного кода.\n",
    "   - `key` — ключевая фраза, по которой пентестер пометил найденные уязвимости.\n",
    "\n",
    "2. Подсчитывает, сколько раз ключевая фраза встречается в списке строк кода.\n",
    "3. Возвращает одно число — вознаграждение пентестера, которое равно количеству найденных уязвимостей, умноженному на 10.\n",
    "\n",
    "**Функция:**\n",
    "- `count_bugs(lines, key)`: принимает список строк и ключевую фразу, возвращает размер вознаграждения.\n",
    "\n",
    "**Пример работы программы:**\n",
    "\n",
    "```python\n",
    "lines = [\n",
    "    \"function check() {\",\n",
    "    \"// BUG: potential security flaw\",\n",
    "    \"var x = 5;\",\n",
    "    \"// BUG: possible injection\",\n",
    "    \"return x;\",\n",
    "    \"}\"\n",
    "]\n",
    "\n",
    "count_bugs(lines, \"BUG\")\n",
    "# 20\n",
    "```\n",
    "\n",
    "В данном примере ключевая фраза \"BUG\" встречается два раза, что означает две уязвимости. Вознаграждение составит 2 * 10 = 20.\n"
   ],
   "metadata": {
    "id": "QoJrFJORoDb6"
   }
  },
  {
   "cell_type": "code",
   "source": [
    "##! red_sm03_cell05\n",
    "\n",
    "def count_bugs(lines, key):\n",
    "    bug_counter = 0\n",
    "    for line in lines:\n",
    "        bug_counter += line.count(key)\n",
    "    return bug_counter * 10\n",
    "\n",
    "\n",
    "lines = [\n",
    "    \"function check() {\",\n",
    "    \"// BUG: potential security flaw\",\n",
    "    \"var x = 5;\",\n",
    "    \"// BUG: possible injection\",\n",
    "    \"return x;\",\n",
    "    \"}\"\n",
    "]\n",
    "\n",
    "count_bugs(lines, \"BUG\")"
   ],
   "metadata": {
    "id": "y-Zqb75boDb-",
    "ExecuteTime": {
     "end_time": "2024-09-25T13:27:13.549325Z",
     "start_time": "2024-09-25T13:27:13.545975Z"
    }
   },
   "outputs": [
    {
     "data": {
      "text/plain": [
       "20"
      ]
     },
     "execution_count": 8,
     "metadata": {},
     "output_type": "execute_result"
    }
   ],
   "execution_count": 8
  },
  {
   "cell_type": "markdown",
   "source": [
    "**Задача 6**\n",
    "\n",
    "Команда получила набор данных о суммах покупок клиентов за месяц и хочет найти максимальную сумму.\n",
    "\n",
    "Задача — написать функцию `find_max(collection)`, которая:\n",
    "\n",
    "1. Принимает один аргумент:\n",
    "   - `collection` — коллекция целых чисел (сумм покупок), которая может быть представлена списком, множеством или кортежем.\n",
    "\n",
    "2. Возвращает максимальное значение из переданной коллекции числом.\n",
    "\n",
    "**Функция:**\n",
    "- `find_max(collection)`: принимает коллекцию с суммами покупок и возвращает наибольшую сумму.\n",
    "\n",
    "**Пример работы программы:**\n",
    "\n",
    "```python\n",
    "find_max([1000, 2500, 1500, 3000])\n",
    "# 3000\n",
    "\n",
    "find_max({500, 100, 750})\n",
    "# 750\n",
    "\n",
    "find_max((1200, 2000, 1800))\n",
    "# 2000\n",
    "```\n",
    "\n",
    "\n",
    "\n",
    "\n"
   ],
   "metadata": {
    "id": "dek1gSeupcdn"
   }
  },
  {
   "cell_type": "code",
   "source": [
    "##! red_sm03_cell06\n",
    "\n",
    "def find_max(collection):\n",
    "    return max(collection)\n",
    "\n",
    "\n",
    "print(find_max([1000, 2500, 1500, 3000]))\n",
    "print(find_max({500, 100, 750}))\n",
    "print(find_max((1200, 2000, 1800)))"
   ],
   "metadata": {
    "id": "huigtpt6pcdr",
    "ExecuteTime": {
     "end_time": "2024-09-25T13:27:53.341706Z",
     "start_time": "2024-09-25T13:27:53.339601Z"
    }
   },
   "outputs": [
    {
     "name": "stdout",
     "output_type": "stream",
     "text": [
      "3000\n",
      "750\n",
      "2000\n"
     ]
    }
   ],
   "execution_count": 10
  },
  {
   "cell_type": "markdown",
   "source": [
    "### Задачи средней сложности"
   ],
   "metadata": {
    "id": "vwkduVQP2-IT"
   }
  },
  {
   "cell_type": "markdown",
   "source": [
    "**Задача 7**\n",
    "\n",
    "В пекарне необходимо отслеживать количество ингредиентов на складе. Разработай функцию, которая будет обновлять данные о расходе продуктов и следить за тем, сколько раз пекари обращались к складу. Если какой-то из ингредиентов закончился, программа должна сообщить об этом.\n",
    "\n",
    "Задача — написать функцию `make_bakery(ingredient, weight)`, которая:\n",
    "\n",
    "1. Принимает два аргумента:\n",
    "   - `ingredient` — название ингредиента (строка).\n",
    "   - `weight` — количество использованного ингредиента (целое число в граммах).\n",
    "\n",
    "2. Обновляет количество ингредиентов на складе при каждом обращении пекарей.\n",
    "3. Отслеживает количество обращений к функции.\n",
    "4. Если один из ингредиентов полностью израсходован, выводит сообщение: `Продукты закончились` и больше не учитывает обращение для этого ингредиента.\n",
    "5. В конце дня выводит количество обращений к функции.\n",
    "\n",
    "**Ингредиенты на складе в начале дня:**\n",
    "- мука — 100 кг,\n",
    "- разрыхлитель — 1 кг,\n",
    "- яйца — 1000 шт,\n",
    "- мясо — 25 кг,\n",
    "- лук — 30 кг,\n",
    "- морковь — 25 кг.\n",
    "\n",
    "**Пример работы программы:**\n",
    "\n",
    "```python\n",
    "make_bakery('мука', 50000)\n",
    "make_bakery('лук', 15000)\n",
    "make_bakery('лук', 15000)\n",
    "make_bakery('лук', 1000)  # Продукты закончились\n",
    "\n",
    "# В конце дня:\n",
    "# Обращений к складу: 3\n",
    "```\n",
    "\n"
   ],
   "metadata": {
    "id": "hQakt-VU8k0-"
   }
  },
  {
   "metadata": {
    "ExecuteTime": {
     "end_time": "2024-09-25T13:32:11.919463Z",
     "start_time": "2024-09-25T13:32:11.913950Z"
    }
   },
   "cell_type": "code",
   "source": [
    "##! red_sm03_cell07\n",
    "\n",
    "# Используй этот словарь в решении\n",
    "ingredients = {'мука': 100000,\n",
    "               'разрыхлитель': 1000,\n",
    "               'яйца': 1000,\n",
    "               'мясо': 25000,\n",
    "               'лук': 30000,\n",
    "               'морковь': 25000}\n",
    "\n",
    "func_executions = 0\n",
    "\n",
    "\n",
    "def make_bakery(ingredient, weight):\n",
    "    global ingredients\n",
    "    global func_executions\n",
    "    if ingredients[ingredient] <= 0:\n",
    "        print(\"Продукты закончились\")\n",
    "        return ingredients\n",
    "    elif ingredients[ingredient] >= weight:\n",
    "        ingredients[ingredient] -= weight\n",
    "    func_executions += 1\n",
    "    return ingredients\n",
    "\n",
    "\n",
    "make_bakery('мука', 50000)\n",
    "make_bakery('лук', 15000)\n",
    "make_bakery('лук', 15000)\n",
    "make_bakery('лук', 1000)\n",
    "\n",
    "# В конце дня:\n",
    "print(f'Обращений к складу: {func_executions}')\n"
   ],
   "outputs": [
    {
     "name": "stdout",
     "output_type": "stream",
     "text": [
      "Продукты закончились\n",
      "Обращений к складу: 3\n"
     ]
    }
   ],
   "execution_count": 13
  },
  {
   "cell_type": "markdown",
   "source": [
    "**Задача 8**\n",
    "\n",
    "Тебе нужно написать функцию, которая создаёт матрицу, заполненную нулями или другим заданным значением. В зависимости от количества переданных аргументов матрица будет различной размерности и с разными значениями внутри.\n",
    "\n",
    "Задача — написать функцию `make_matrix(n, ...)`, которая:\n",
    "\n",
    "1. Если вызывается с одним аргументом (`n`), создаёт квадратную матрицу размером `n x n`, заполненную нулями.\n",
    "2. Если вызывается с двумя аргументами (`n` и `m`), создаёт матрицу размером `n x m`, заполненную нулями.\n",
    "3. Если вызывается с тремя аргументами (`n`, `m`, и `k`), создаёт матрицу размером `n x m`, заполненную значениями `k`.\n",
    "\n",
    "Если аргументы `m` или `k` не переданы, они принимают значения по умолчанию: `m` = `None`,\n",
    "`k` = 0.\n",
    "\n",
    "**Примеры работы программы:**\n",
    "\n",
    "```python\n",
    "make_matrix(3)\n",
    "# [[0, 0, 0],\n",
    "#  [0, 0, 0],\n",
    "#  [0, 0, 0]]\n",
    "\n",
    "make_matrix(2, 4)\n",
    "# [[0, 0, 0, 0],\n",
    "#  [0, 0, 0, 0]]\n",
    "\n",
    "make_matrix(2, 3, 1.5)\n",
    "# [[1.5, 1.5, 1.5],\n",
    "#  [1.5, 1.5, 1.5]]\n",
    "```\n",
    "\n"
   ],
   "metadata": {
    "id": "QeUVjlGO3GgZ"
   }
  },
  {
   "cell_type": "code",
   "source": [
    "##! red_sm03_cell08\n",
    "\n",
    "def make_matrix(n, m=None, k=0):\n",
    "    if m is None:\n",
    "        m = n\n",
    "    return [[k] * m for _ in range(n)]\n",
    "\n",
    "\n",
    "print(make_matrix(3))\n",
    "print(make_matrix(2, 4))\n",
    "print(make_matrix(2, 3, 1.5))\n"
   ],
   "metadata": {
    "id": "VisXfsd83Gge",
    "ExecuteTime": {
     "end_time": "2024-09-25T13:33:38.295469Z",
     "start_time": "2024-09-25T13:33:38.293472Z"
    }
   },
   "outputs": [
    {
     "name": "stdout",
     "output_type": "stream",
     "text": [
      "[[0, 0, 0], [0, 0, 0], [0, 0, 0]]\n",
      "[[0, 0, 0, 0], [0, 0, 0, 0]]\n",
      "[[1.5, 1.5, 1.5], [1.5, 1.5, 1.5]]\n"
     ]
    }
   ],
   "execution_count": 14
  },
  {
   "cell_type": "markdown",
   "source": [
    "**Задача 9**\n",
    "\n",
    "Тебе поручили написать функцию для банковского приложения, которая вычисляет, какая сумма кредита останется через 12 месяцев после регулярных выплат. Проценты начисляются каждый месяц, а клиент вносит регулярные платежи.\n",
    "\n",
    "Задача — написать функцию `calculate_remaining_loan(loan_amount, ...)`, которая:\n",
    "\n",
    "1. Принимает три аргумента:\n",
    "   - `loan_amount` — обязательный аргумент, общая сумма кредита.\n",
    "   - `annual_rate` — годовая процентная ставка, по умолчанию равна 10% (0,1).\n",
    "   - `monthly_payment` — ежемесячный платёж, по умолчанию равен 15% от суммы кредита (0,15 * `loan_amount`).\n",
    "   \n",
    "2. Выполняет следующие действия каждый месяц в течение 12 месяцев:\n",
    "   - Клиент вносит платёж в размере `monthly_payment` пятого числа.\n",
    "   - На оставшуюся сумму кредита начисляются проценты по ставке `annual_rate / 12` десятого числа.\n",
    "\n",
    "3. Возвращает оставшуюся сумму кредита через 12 месяцев. Если кредит выплачен полностью — возвращает 0.\n",
    "\n",
    "**Примеры работы программы:**\n",
    "\n",
    "```python\n",
    "calculate_remaining_loan(100000)\n",
    "# 0  (кредит полностью выплачен)\n",
    "\n",
    "calculate_remaining_loan(100000, 0.12, 12000)\n",
    "# Остаток кредита после 12 месяцев\n",
    "```\n"
   ],
   "metadata": {
    "id": "PQ58GksCDRoC"
   }
  },
  {
   "cell_type": "code",
   "source": [
    "##! red_sm03_cell09\n",
    "\n",
    "def calculate_remaining_loan(loan_amount, annual_rate=0.1, monthly_payment=None):\n",
    "    if monthly_payment is None:\n",
    "        monthly_payment = 0.15 * loan_amount\n",
    "    for _ in range(12):\n",
    "        loan_amount -= monthly_payment\n",
    "        loan_amount *= 1 + annual_rate / 12\n",
    "        if loan_amount <= 0:\n",
    "            return 0\n",
    "    return loan_amount\n",
    "\n",
    "\n",
    "print(calculate_remaining_loan(100000))\n",
    "print(calculate_remaining_loan(100000, 0.12, 12000))"
   ],
   "metadata": {
    "id": "w3_HCV14DRoK",
    "ExecuteTime": {
     "end_time": "2024-09-25T13:39:40.451426Z",
     "start_time": "2024-09-25T13:39:40.449545Z"
    }
   },
   "outputs": [
    {
     "name": "stdout",
     "output_type": "stream",
     "text": [
      "0\n",
      "97311.30936120225\n"
     ]
    }
   ],
   "execution_count": 21
  },
  {
   "cell_type": "markdown",
   "source": [
    "**Задача 10**\n",
    "\n",
    " Согласно политике конфиденциальности в компании запрещено использовать встроенные функции Python. Поэтому разработчики пишут их сами с нуля. Необходимо написать собственную реализацию функции `range()` с нуля.\n",
    "\n",
    "Задача — написать функцию `my_range(...)`, которая:\n",
    "\n",
    "1. Принимает от одного до трёх аргументов:\n",
    "   - Если передан один аргумент, он считается `stop`, а `start` принимается равным 0. Возвращается список чисел от 0 до `stop` (не включая его).\n",
    "   - Если переданы два аргумента, они принимаются как `start` и `stop`. Возвращается список чисел от `start` до `stop` (не включая его).\n",
    "   - Если переданы три аргумента, они принимаются как `start`, `stop` и `step`. Возвращается список чисел от `start` до `stop` с шагом `step`.\n",
    "\n",
    "2. Возвращает список чисел в заданном диапазоне.\n",
    "\n",
    "**Примеры работы программы:**\n",
    "\n",
    "```python\n",
    "my_range(5)\n",
    "# [0, 1, 2, 3, 4]\n",
    "\n",
    "my_range(2, 6)\n",
    "# [2, 3, 4, 5]\n",
    "\n",
    "my_range(1, 10, 3)\n",
    "# [1, 4, 7]\n",
    "```\n"
   ],
   "metadata": {
    "id": "Jt3thlA_H5qE"
   }
  },
  {
   "cell_type": "code",
   "source": [
    "##! red_sm03_cell10\n",
    "\n",
    "def my_range(*args):\n",
    "    start = 0\n",
    "    stop = 0\n",
    "    step = 1\n",
    "    if len(args) == 1:\n",
    "        stop = args[0]\n",
    "    elif len(args) == 2:\n",
    "        start, stop = args\n",
    "    elif len(args) == 3:\n",
    "        start, stop, step = args\n",
    "    \n",
    "    result = []\n",
    "    \n",
    "    while start < stop:\n",
    "        result.append(start)\n",
    "        start += step\n",
    "    \n",
    "    return result\n",
    "\n",
    "\n",
    "print(my_range(5))\n",
    "print(my_range(2, 6))\n",
    "print(my_range(1, 10, 3))"
   ],
   "metadata": {
    "id": "voPvMaUZH5qI",
    "ExecuteTime": {
     "end_time": "2024-09-25T13:45:02.458556Z",
     "start_time": "2024-09-25T13:45:02.456454Z"
    }
   },
   "outputs": [
    {
     "name": "stdout",
     "output_type": "stream",
     "text": [
      "[0, 1, 2, 3, 4]\n",
      "[2, 3, 4, 5]\n",
      "[1, 4, 7]\n"
     ]
    }
   ],
   "execution_count": 23
  },
  {
   "cell_type": "markdown",
   "source": [
    "**Задача 11**\n",
    "\n",
    "Компания, занимающаяся страхованием, хочет проанализировать, насколько часто повторяются одни и те же виды заявок от клиентов. Для этого нужно посчитать, сколько раз каждый тип запроса был отправлен клиентами.\n",
    "\n",
    "Напиши функцию `request_analysis(requests)`, которая:\n",
    "1. Принимает список строк `requests` — список типов заявок от клиентов, каждый элемент списка - строка.\n",
    "2. Возвращает словарь, где ключ — это тип заявки, а значение — количество её повторений.\n",
    "\n",
    "**Пример работы программы:**\n",
    "```python\n",
    "requests = ['Страхование автомобиля', 'Страхование жилья', 'Страхование автомобиля', 'Медицинская страховка']\n",
    "request_analysis(requests)\n",
    "# {'Страхование автомобиля': 2, 'Страхование жилья': 1, 'Медицинская страховка': 1}\n",
    "```\n",
    "\n",
    "\n"
   ],
   "metadata": {
    "id": "2sobYT_jTyE2"
   }
  },
  {
   "metadata": {
    "ExecuteTime": {
     "end_time": "2024-09-25T13:45:53.107139Z",
     "start_time": "2024-09-25T13:45:53.102859Z"
    }
   },
   "cell_type": "code",
   "source": [
    "##! red_sm03_cell11\n",
    "\n",
    "def request_analysis(requests):\n",
    "    result = {}\n",
    "    for request in requests:\n",
    "        if request in result:\n",
    "            result[request] += 1\n",
    "        else:\n",
    "            result[request] = 1\n",
    "    return result\n",
    "\n",
    "\n",
    "requests = ['Страхование автомобиля', 'Страхование жилья', 'Страхование автомобиля', 'Медицинская страховка']\n",
    "request_analysis(requests)\n"
   ],
   "outputs": [
    {
     "data": {
      "text/plain": [
       "{'Страхование автомобиля': 2,\n",
       " 'Страхование жилья': 1,\n",
       " 'Медицинская страховка': 1}"
      ]
     },
     "execution_count": 24,
     "metadata": {},
     "output_type": "execute_result"
    }
   ],
   "execution_count": 24
  },
  {
   "cell_type": "markdown",
   "source": [
    "**Задача 12**\n",
    "\n",
    "Отдел маркетинга компании проводит рекламные кампании в интернете. Каждый месяц они анализируют данные и ищут удачные кампании, которые приводят больше клиентов. Успешной рекламной кампанией считается та, где разница между начальным и конечным числом клиентов положительна.\n",
    "\n",
    "Задача — написать функцию `successful_campaigns(data)`, которая:\n",
    "1. Принимает список кортежей, где каждый кортеж состоит из двух значений: начальное и конечное количество клиентов для каждой кампании.\n",
    "2. Возвращает количество успешных рекламных кампаний.\n",
    "\n",
    "**Пример работы программы:**\n",
    "```python\n",
    "data = [(100, 150), (200, 190), (300, 350)]\n",
    "successful_campaigns(data)\n",
    "# 2\n",
    "```\n"
   ],
   "metadata": {
    "id": "pDOc39NQT0J2"
   }
  },
  {
   "metadata": {
    "ExecuteTime": {
     "end_time": "2024-09-25T13:46:27.910837Z",
     "start_time": "2024-09-25T13:46:27.908607Z"
    }
   },
   "cell_type": "code",
   "source": [
    "##! red_sm03_cell12\n",
    "\n",
    "def successful_campaigns(data):\n",
    "    return len([1 for start, end in data if end > start])\n",
    "\n",
    "\n",
    "data = [(100, 150), (200, 190), (300, 350)]\n",
    "successful_campaigns(data)\n"
   ],
   "outputs": [
    {
     "name": "stdout",
     "output_type": "stream",
     "text": [
      "2\n"
     ]
    }
   ],
   "execution_count": 25
  },
  {
   "cell_type": "markdown",
   "source": [
    "**Задача 13**\n",
    "\n",
    "Логистическая компания занимается доставкой товаров по всему городу. Они хотят проанализировать эффективность своих маршрутов и отобрать только те маршруты, которые позволили доставить товар быстрее определённого времени.\n",
    "\n",
    "Твоя задача — написать функцию `optimize_routes(routes, max_time)`, которая:\n",
    "1. Принимает два аргумента:\n",
    "   - `routes` — список целых чисел, каждый из которых представляет время доставки на определённом маршруте,\n",
    "   - `max_time` — максимальное время, в пределах которого считается, что доставка была эффективной.\n",
    "2. Возвращает количество эффективных маршрутов целым числом.\n",
    "\n",
    "**Пример работы программы:**\n",
    "```python\n",
    "routes = [30, 45, 20, 60]\n",
    "optimize_routes(routes, 40)\n",
    "# 2\n",
    "```\n"
   ],
   "metadata": {
    "id": "IcH99WTPT2o5"
   }
  },
  {
   "metadata": {
    "ExecuteTime": {
     "end_time": "2024-09-25T13:47:30.135869Z",
     "start_time": "2024-09-25T13:47:30.132939Z"
    }
   },
   "cell_type": "code",
   "source": [
    "##! red_sm03_cell13\n",
    "\n",
    "def optimize_routes(routes, max_time):\n",
    "    return len([1 for route in routes if route <= max_time])\n",
    "\n",
    "\n",
    "routes = [30, 45, 20, 60]\n",
    "optimize_routes(routes, 40)\n"
   ],
   "outputs": [
    {
     "data": {
      "text/plain": [
       "2"
      ]
     },
     "execution_count": 26,
     "metadata": {},
     "output_type": "execute_result"
    }
   ],
   "execution_count": 26
  },
  {
   "cell_type": "markdown",
   "source": [
    "### Cложные задачи"
   ],
   "metadata": {
    "id": "PDbOK065Q072"
   }
  },
  {
   "cell_type": "markdown",
   "source": [
    "**Задача 14**\n",
    "\n",
    "Компания хочет предсказать спрос на определённые товары, используя временные ряды продаж за прошлые месяцы. Тебе нужно создать функцию, которая находит среднее значение продаж и прогнозирует объёмы продаж на следующий месяц.\n",
    "\n",
    "Напиши функцию `predict_sales(sales)`, которая:\n",
    "1. Принимает список целых чисел `sales` — количество проданных единиц товара за несколько месяцев.\n",
    "2. Возвращает прогноз продаж на следующий месяц как среднее значение продаж за предыдущие месяцы.\n",
    "\n",
    "**Пример работы программы:**\n",
    "```python\n",
    "sales = [100, 150, 200, 250]\n",
    "predict_sales(sales)\n",
    "# 175.0\n",
    "```"
   ],
   "metadata": {
    "id": "6t9QqmqST_I-"
   }
  },
  {
   "metadata": {
    "ExecuteTime": {
     "end_time": "2024-09-25T13:48:18.829633Z",
     "start_time": "2024-09-25T13:48:18.825953Z"
    }
   },
   "cell_type": "code",
   "source": [
    "##! red_sm03_cell14\n",
    "\n",
    "def predict_sales(sales):\n",
    "    return sum(sales) / len(sales)\n",
    "\n",
    "\n",
    "sales = [100, 150, 200, 250]\n",
    "predict_sales(sales)\n"
   ],
   "outputs": [
    {
     "data": {
      "text/plain": [
       "175.0"
      ]
     },
     "execution_count": 27,
     "metadata": {},
     "output_type": "execute_result"
    }
   ],
   "execution_count": 27
  },
  {
   "cell_type": "markdown",
   "source": [
    "**Задача 15**\n",
    "\n",
    "Компания управляет несколькими складами, и тебе нужно написать функцию, которая определяет, какой склад работает наиболее эффективно. Эффективность определяется как отношение общего количества хранимых товаров к их стоимости.\n",
    "\n",
    "Задача — написать функцию `find_most_efficient(warehouses)`, которая:\n",
    "1. Принимает аргумент `warehouses`, представляющий список словарей, где каждый словарь содержит данные о складе:\n",
    "   - `name`: название склада (строка),\n",
    "   - `items`: количество товаров на складе (целое число),\n",
    "   - `cost`: общая стоимость товаров на складе (целое число).\n",
    "   \n",
    "2. Возвращает название самого эффективного склада (того, у которого отношение `items / cost` наибольшее). Если эффективность двух или более складов одинаковая - верни название первого из эффективных.\n",
    "\n",
    "**Пример работы программы:**\n",
    "\n",
    "```python\n",
    "warehouses = [\n",
    "    {'name': 'Склад 1', 'items': 1000, 'cost': 50000},\n",
    "    {'name': 'Склад 2', 'items': 800, 'cost': 40000},\n",
    "    {'name': 'Склад 3', 'items': 1200, 'cost': 60000}\n",
    "]\n",
    "print(find_most_efficient(warehouses))  \n",
    "# 'Склад 1'\n",
    "```\n"
   ],
   "metadata": {
    "id": "h7Wj1HvWVGl6"
   }
  },
  {
   "metadata": {
    "ExecuteTime": {
     "end_time": "2024-09-25T13:49:12.471206Z",
     "start_time": "2024-09-25T13:49:12.466646Z"
    }
   },
   "cell_type": "code",
   "source": [
    "##! red_sm03_cell15\n",
    "\n",
    "def find_most_efficient(warehouses):\n",
    "    return max(warehouses, key=lambda x: x['items'] / x['cost'])['name']\n",
    "\n",
    "\n",
    "warehouses = [\n",
    "    {'name': 'Склад 1', 'items': 1000, 'cost': 50000},\n",
    "    {'name': 'Склад 2', 'items': 800, 'cost': 40000},\n",
    "    {'name': 'Склад 3', 'items': 1200, 'cost': 60000}\n",
    "]\n",
    "find_most_efficient(warehouses)\n"
   ],
   "outputs": [
    {
     "data": {
      "text/plain": [
       "'Склад 1'"
      ]
     },
     "execution_count": 28,
     "metadata": {},
     "output_type": "execute_result"
    }
   ],
   "execution_count": 28
  },
  {
   "cell_type": "markdown",
   "source": [
    "**Задача 16**\n",
    "\n",
    "Маркетинговый отдел компании собирается запустить несколько кампаний по удержанию клиентов. Каждая кампания имеет свой бюджет и цель по количеству клиентов, которых нужно удержать.\n",
    "\n",
    "Напиши функцию `plan_campaigns(campaigns, budget)`, которая:\n",
    "1. Принимает список кортежей `campaigns`, где каждый кортеж содержит два значения:\n",
    "   - `cost` — стоимость кампании (целое число),\n",
    "   - `clients` — количество клиентов, которых планируется удержать (целое число).\n",
    "   \n",
    "2. Также принимает второй аргумент `budget` — общий доступный бюджет для кампаний.\n",
    "   \n",
    "3. Функция должна возвращать максимальное количество клиентов, которых можно удержать, не превышая заданный бюджет.\n",
    "\n",
    "**Пример работы программы:**\n",
    "\n",
    "```python\n",
    "campaigns = [(5000, 100), (7000, 200), (3000, 50), (4000, 80)]\n",
    "budget = 10000\n",
    "print(plan_campaigns(campaigns, budget))  \n",
    "# 250\n",
    "```"
   ],
   "metadata": {
    "id": "4-iJhmurVQS1"
   }
  },
  {
   "metadata": {
    "ExecuteTime": {
     "end_time": "2024-09-25T14:23:58.288315Z",
     "start_time": "2024-09-25T14:23:58.271788Z"
    }
   },
   "cell_type": "code",
   "source": [
    "##! red_sm03_cell16\n",
    "\n",
    "# Решаем как задачу о рюкзаке\n",
    "\n",
    "def plan_campaigns(campaigns, budget):\n",
    "    dp = [0] * (budget + 1)\n",
    "    \n",
    "    for cost, clients in campaigns:\n",
    "        for current_budget in range(budget, cost - 1, -1):\n",
    "            dp[current_budget] = max(dp[current_budget], dp[current_budget - cost] + clients)\n",
    "    \n",
    "    return dp[budget]\n",
    "\n",
    "\n",
    "campaigns = [(5000, 100), (7000, 200), (3000, 50), (4000, 80)]\n",
    "budget = 10000\n",
    "plan_campaigns(campaigns, budget)\n",
    "\n",
    "# Greedy solution\n",
    "\n",
    "from itertools import combinations\n",
    "\n",
    "max_users = 0 \n",
    "def plan_campaigns_greedy(campaigns, budget):\n",
    "    for i in range(1, len(campaigns) + 1):\n",
    "        for comb in combinations(campaigns, i):\n",
    "            if sum([x[0] for x in comb]) <= budget:\n",
    "                max_users = max(max_users, sum([x[1] for x in comb]))\n",
    "    return max_users\n",
    "\n",
    "campaigns = [(5000, 100), (7000, 200), (3000, 50), (4000, 80)]\n",
    "budget = 10000\n",
    "plan_campaigns(campaigns, budget)\n"
   ],
   "outputs": [
    {
     "data": {
      "text/plain": [
       "250"
      ]
     },
     "execution_count": 41,
     "metadata": {},
     "output_type": "execute_result"
    }
   ],
   "execution_count": 41
  },
  {
   "cell_type": "markdown",
   "source": [
    "**Задача 17**\n",
    "\n",
    "Финансовый отдел компании хочет спрогнозировать цены на продукты с учётом инфляции на ближайшие годы. Напиши функцию `forecast_prices(prices, inflation_rate, years)`, которая:\n",
    "1. Принимает три аргумента:\n",
    "   - `prices`: список текущих цен на продукты (список целых чисел),\n",
    "   - `inflation_rate`: годовая инфляция в процентах (целое число),\n",
    "   - `years`: количество лет, для которых нужно спрогнозировать рост цен (целое число).\n",
    "   \n",
    "2. Функция должна возвращать список цен через указанное количество лет с учётом ежегодного роста цен на основе инфляции.\n",
    "\n",
    "**Пример работы программы:**\n",
    "\n",
    "```python\n",
    "prices = [100, 200, 300]\n",
    "inflation_rate = 5  # 5% в год\n",
    "years = 2\n",
    "print(forecast_prices(prices, inflation_rate, years))\n",
    "# [110.25, 220.5, 330.75]\n",
    "```\n"
   ],
   "metadata": {
    "id": "23RB8C-IVR_8"
   }
  },
  {
   "metadata": {
    "ExecuteTime": {
     "end_time": "2024-09-25T14:04:39.232147Z",
     "start_time": "2024-09-25T14:04:39.227808Z"
    }
   },
   "cell_type": "code",
   "source": [
    "##! red_sm03_cell17\n",
    "\n",
    "def forecast_prices(prices, inflation_rate, years):\n",
    "    return [price * (1 + inflation_rate / 100) ** years for price in prices]\n",
    "\n",
    "\n",
    "prices = [100, 200, 300]\n",
    "inflation_rate = 5\n",
    "years = 2\n",
    "forecast_prices(prices, inflation_rate, years)\n"
   ],
   "outputs": [
    {
     "data": {
      "text/plain": [
       "[110.25, 220.5, 330.75]"
      ]
     },
     "execution_count": 40,
     "metadata": {},
     "output_type": "execute_result"
    }
   ],
   "execution_count": 40
  }
 ]
}
