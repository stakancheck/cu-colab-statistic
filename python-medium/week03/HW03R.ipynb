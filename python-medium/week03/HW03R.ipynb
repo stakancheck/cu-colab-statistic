{
 "nbformat": 4,
 "nbformat_minor": 0,
 "metadata": {
  "colab": {
   "provenance": []
  },
  "kernelspec": {
   "name": "python3",
   "display_name": "Python 3 (ipykernel)",
   "language": "python"
  },
  "language_info": {
   "name": "python"
  }
 },
 "cells": [
  {
   "cell_type": "markdown",
   "source": [
    "# *Красный трек*\n",
    "## Задачи по теме «Использование функций»\n",
    "\n",
    "Решая задачи, ты научишься использовать:\n",
    "\n",
    "- функции;\n",
    "- возвращение значения в место вызова функции;\n",
    "- позиционные и именованные аргументы;\n",
    "- аргументы по умолчанию.\n",
    "\n",
    "Время решения: ~ 40 минут."
   ],
   "metadata": {
    "id": "qw_uJKX4Qq3E"
   }
  },
  {
   "cell_type": "markdown",
   "source": [
    "# Блокирующее домашнее задание\n",
    "\n",
    "Данное домашнее задание является блокирующим: его выполнение и сдача обязательны для подтверждения основного уровня.\n",
    "\n",
    "Уровень и оценка не зависят друг от друга, для получения высокой оценки необходимо сдавать все домашние задания."
   ],
   "metadata": {
    "id": "-N700V_NWfqQ"
   }
  },
  {
   "cell_type": "markdown",
   "source": [
    "## Оценивание домашнего задания\n",
    "\n",
    "**Система оценивания —** бинарная:\n",
    "\n",
    "  - если все задачи решены корректно, без ошибок и полностью соответствуют стандартам кода на курсе, то задание выполнено и оценка — **10 баллов**;\n",
    "  - если решения содержат ошибки или не соответствуют требованиям, то задание не выполнено и оценка — **0 баллов**.  \n",
    "\n",
    "\n",
    "**Проверка задания**\n",
    "\n",
    "- Перед тем, как сдать задание, убедись, что твой код работает без ошибок и соответствует стандартам. Для этого используй автоматическую проверку.\n",
    "- Загрузи задание в LMS. Ассистент проверит, соответствуют ли твои решения требованиям и целям домашнего задания, и выставит оценку.\n",
    "\n",
    "\n",
    "**Доработка**\n",
    "\n",
    "  - Если твое задание получило 0 баллов, его вернут на доработку через LMS с комментариями о том, что нужно исправить.\n",
    "\n",
    "<!-- 1. **Максимальный балл:** 10 баллов.\n",
    "2. **Система оценивания:** Бинарная (выполнено/не выполнено).\n",
    "3. **Как получить 10 баллов:**\n",
    "- Все задачи должны быть решены корректно, без ошибок и полностью соответствовать стандартам кода на курсе.\n",
    "- Перед сдачей используй автоматическую проверку, чтобы убедиться, что твой код работает без ошибок и соответствует стандартам.\n",
    "- После сдачи ассистент проверит, насколько твои решения соответствуют требованиям и целям домашнего задания.\n",
    "4. **Оценка:**\n",
    "    - **10 баллов:** Если задачи решены правильно и все требования соблюдены.\n",
    "    - **0 баллов:** Если решения содержат ошибки или не соответствуют требованиям.\n",
    "5. **Доработка:** Если твое задание получило 0 баллов, его вернут тебе на доработку через LMS с комментариями о том, что нужно исправить. -->"
   ],
   "metadata": {
    "id": "9jUOIQrKyz4S"
   }
  },
  {
   "cell_type": "markdown",
   "source": [
    "# Рекомендации, которые помогут справиться с задачами:\n",
    "\n",
    "*   читай комментарии в коде, они помечены знаком `#`;\n",
    "*   запускай код в ячейке, чтобы посмотреть результат.\n",
    "\n",
    "\n",
    "\n",
    "\n",
    "\n"
   ],
   "metadata": {
    "id": "otNYqwQE-5Ig"
   }
  },
  {
   "cell_type": "markdown",
   "source": [
    "---\n",
    "Компания «Эффективный Менеджер» занимается разработкой ПО. Управляющий компании Алексей решил автоматизировать внутреннние процессы для повышения эффективности.\n",
    "\n"
   ],
   "metadata": {
    "id": "G_S0Q522M8YS"
   }
  },
  {
   "cell_type": "markdown",
   "source": [
    "\n",
    "**Задача 1**\n",
    "\n",
    "Алексей хочет оценить эффективность своих рекламных кампаний. Напиши функцию `calculate_total_cost`, которая принимает на вход список затрат на каждую рекламную кампанию и возвращает общую сумму затрат.\n",
    "\n"
   ],
   "metadata": {
    "id": "3YgdmdapQ4ia"
   }
  },
  {
   "cell_type": "code",
   "source": [
    "##! red_hw03_cell01\n",
    "\n",
    "# Определи функцию calculate_total_cost\n",
    "def calculate_total_cost(costs):\n",
    "    # Напиши код для подсчёта общей суммы затрат\n",
    "    total_cost = sum(costs)\n",
    "    return total_cost\n",
    "\n",
    "\n",
    "# Пример использования функции\n",
    "costs = [100, 200, 300, 400]\n",
    "print(calculate_total_cost(costs))  # Вывод: 1000"
   ],
   "metadata": {
    "id": "LJXOx3nNRiht",
    "ExecuteTime": {
     "end_time": "2024-09-25T15:06:35.973135Z",
     "start_time": "2024-09-25T15:06:35.969973Z"
    }
   },
   "outputs": [
    {
     "name": "stdout",
     "output_type": "stream",
     "text": [
      "1000\n"
     ]
    }
   ],
   "execution_count": 2
  },
  {
   "cell_type": "markdown",
   "source": [
    "**Задача 2**\n",
    "\n",
    "Алексей решил упростить расчёт заработной платы сотрудников. Напиши функцию `calculate_salary`, которая принимает на вход количество отработанных часов и ставку за час и возвращает общую сумму заработной платы.\n"
   ],
   "metadata": {
    "id": "ZMhXCcv2RpS2"
   }
  },
  {
   "cell_type": "code",
   "source": [
    "##! red_hw03_cell02\n",
    "\n",
    "\n",
    "# Определи функцию calculate_salary\n",
    "def calculate_salary(hours_worked, hourly_rate):\n",
    "    total_salary = hours_worked * hourly_rate\n",
    "    return total_salary\n",
    "\n",
    "\n",
    "# Пример использования функции\n",
    "hours_worked = 160\n",
    "hourly_rate = 15\n",
    "print(calculate_salary(hours_worked, hourly_rate))  # Вывод: 2400"
   ],
   "metadata": {
    "id": "a82sB191R584",
    "ExecuteTime": {
     "end_time": "2024-09-25T15:06:33.670527Z",
     "start_time": "2024-09-25T15:06:33.667132Z"
    }
   },
   "outputs": [
    {
     "name": "stdout",
     "output_type": "stream",
     "text": [
      "2400\n"
     ]
    }
   ],
   "execution_count": 1
  },
  {
   "cell_type": "markdown",
   "source": [
    "**Задача 3**\n",
    "\n",
    "Алексей хочет автоматизировать учёт затрат на различные проекты компании. Напиши функцию `calculate_project_expenses`, которая принимает на вход затраты по каждому проекту и возвращает общую сумму."
   ],
   "metadata": {
    "id": "gqRbtA_XkyyL"
   }
  },
  {
   "cell_type": "code",
   "source": [
    "##! red_hw03_cell03\n",
    "\n",
    "# Определи функцию calculate_project_expenses\n",
    "def calculate_project_expenses(costs):\n",
    "    total_expenses = sum(costs)\n",
    "    return total_expenses\n",
    "\n",
    "\n",
    "# Пример использования функции\n",
    "costs = [1000, 2500, 750]\n",
    "print(calculate_project_expenses(costs))  # Вывод: 4250"
   ],
   "metadata": {
    "id": "HymWfaK5meiA",
    "ExecuteTime": {
     "end_time": "2024-09-25T15:06:45.569121Z",
     "start_time": "2024-09-25T15:06:45.566753Z"
    }
   },
   "outputs": [
    {
     "name": "stdout",
     "output_type": "stream",
     "text": [
      "4250\n"
     ]
    }
   ],
   "execution_count": 3
  },
  {
   "cell_type": "markdown",
   "source": [
    "**Задача 4**\n",
    "\n",
    "Алексей хочет разделить проекты по их бюджетам. Напиши функцию `categorize_project`, которая принимает на вход имя проекта и его бюджет и возвращает категорию проекта:\n",
    "\n",
    "* Если бюджет меньше 5000, возвращает «Малобюджетный проект».\n",
    "* Если бюджет от 5000 до 20000, возвращает «Среднебюджетный проект».\n",
    "* Если бюджет больше 20000, возвращает «Крупнобюджетный проект»."
   ],
   "metadata": {
    "id": "2fphVH0n4fim"
   }
  },
  {
   "cell_type": "code",
   "source": [
    "##! red_hw03_cell04\n",
    "\n",
    "\n",
    "# Определи функцию categorize_project\n",
    "def categorize_project(project_name, budget):\n",
    "    if budget < 5000:\n",
    "        return \"Малобюджетный проект\"\n",
    "    elif 5000 <= budget <= 20000:\n",
    "        return \"Среднебюджетный проект\"\n",
    "    else:\n",
    "        return \"Крупнобюджетный проект\"\n",
    "\n",
    "\n",
    "# Пример использования функции\n",
    "print(categorize_project(\"Project Alpha\", 4000))  # Вывод: Малобюджетный проект\n",
    "print(categorize_project(\"Project Beta\", 15000))  # Вывод: Среднебюджетный проект\n",
    "print(categorize_project(\"Project Gamma\", 25000))  # Вывод: Крупнобюджетный проект\n"
   ],
   "metadata": {
    "id": "1iegkQj85bOQ",
    "ExecuteTime": {
     "end_time": "2024-09-25T15:07:03.637178Z",
     "start_time": "2024-09-25T15:07:03.634917Z"
    }
   },
   "outputs": [
    {
     "name": "stdout",
     "output_type": "stream",
     "text": [
      "Малобюджетный проект\n",
      "Среднебюджетный проект\n",
      "Крупнобюджетный проект\n"
     ]
    }
   ],
   "execution_count": 4
  },
  {
   "cell_type": "markdown",
   "source": [
    "**Задача 5**\n",
    "\n",
    "Финансовый аналитик компании «Эффективный Менеджер» Анна хочет вычислить годовой процент прибыли по каждому проекту. Обычно компания рассчитывает на 5% годового роста, но иногда этот показатель может изменяться. Напиши функцию `calculate_annual_project_profit`, которая принимает на вход начальную сумму инвестиций и процент годового роста (по умолчанию 5%) и возвращает итоговую сумму через год."
   ],
   "metadata": {
    "id": "PqQAbsvI6Ebg"
   }
  },
  {
   "cell_type": "code",
   "source": [
    "##! red_hw03_cell05\n",
    "\n",
    "\n",
    "# Определи функцию calculate_annual_project_profit с аргументом по умолчанию\n",
    "def calculate_annual_project_profit(initial_investment, growth_rate=5):\n",
    "    annual_profit = initial_investment + initial_investment * growth_rate / 100\n",
    "    return annual_profit\n",
    "\n",
    "\n",
    "# Пример использования функции с аргументом по умолчанию\n",
    "initial_investment = 1000\n",
    "print(calculate_annual_project_profit(initial_investment))  # Вывод: 1050.0\n",
    "\n",
    "# Пример использования функции с указанием аргумента\n",
    "growth_rate = 10\n",
    "print(calculate_annual_project_profit(initial_investment, growth_rate))  # Вывод: 1100.0\n"
   ],
   "metadata": {
    "id": "rjKLZBjL6_oj",
    "ExecuteTime": {
     "end_time": "2024-09-25T15:07:11.262134Z",
     "start_time": "2024-09-25T15:07:11.258677Z"
    }
   },
   "outputs": [
    {
     "name": "stdout",
     "output_type": "stream",
     "text": [
      "1050.0\n",
      "1100.0\n"
     ]
    }
   ],
   "execution_count": 5
  },
  {
   "cell_type": "markdown",
   "source": [
    "**Задача 6**\n",
    "\n",
    "HR-менеджер компании Ирина хочет оценить производительность разработчиков. Напиши функцию `calculate_performance_score`, которая принимает на вход:\n",
    "- количество завершённых проектов (коэффициент `0.5`),\n",
    "- количество исправленных багов (коэффициент `0.3`),\n",
    "- количество отработанных часов (коэффициент `0.2`).\n",
    "\n",
    "В скобках указаны коэффициенты значимости для каждого показателя. Считай, что производительность рассчитывается как сумма произведений каждого показателя на его вес."
   ],
   "metadata": {
    "id": "AXq3peZL7eBC"
   }
  },
  {
   "cell_type": "code",
   "source": [
    "##! red_hw03_cell06\n",
    "\n",
    "# Определи функцию calculate_performance_score с аргументами по умолчанию\n",
    "def calculate_performance_score(\n",
    "        projects,\n",
    "        bugs_fixed,\n",
    "        hours_worked,\n",
    "        project_weight=0.5,\n",
    "        bug_weight=0.3,\n",
    "        hour_weight=0.2\n",
    "):\n",
    "    performance_score = projects * project_weight + bugs_fixed * bug_weight + hours_worked * hour_weight\n",
    "    return performance_score\n",
    "\n",
    "\n",
    "# Пример использования функции с аргументами по умолчанию\n",
    "projects = 10\n",
    "bugs_fixed = 50\n",
    "hours_worked = 200\n",
    "print(calculate_performance_score(projects, bugs_fixed, hours_worked))  # Вывод: 60.0\n",
    "\n",
    "# Пример использования функции с указанием аргументов\n",
    "project_weight = 0.6\n",
    "bug_weight = 0.2\n",
    "hour_weight = 0.2\n",
    "print(calculate_performance_score(projects, bugs_fixed, hours_worked, project_weight, bug_weight,\n",
    "                                  hour_weight))  # Вывод: 56.0\n"
   ],
   "metadata": {
    "id": "XSypiQEf88Kf",
    "ExecuteTime": {
     "end_time": "2024-09-25T15:07:37.100056Z",
     "start_time": "2024-09-25T15:07:37.096657Z"
    }
   },
   "outputs": [
    {
     "name": "stdout",
     "output_type": "stream",
     "text": [
      "60.0\n",
      "56.0\n"
     ]
    }
   ],
   "execution_count": 6
  },
  {
   "cell_type": "markdown",
   "source": [
    "**Задача 7**\n",
    "\n",
    "Финансовый аналитик компании Анна хочет рассчитать среднее значение и медиану доходов за месяц. Напиши функции `calculate_average` и `calculate_median`, которые принимают на вход список чисел. Затем используй эти функции в основной программе для расчёта среднего и медианного дохода.\n",
    "\n",
    ">**Примечание**\n",
    ">\n",
    ">- Средний доход за месяц показывает, сколько в среднем компания получает в день.\n",
    ">- Медиана дохода — это значение, которое разделяет данные (в этом примере — входящие платежи) на две равные части. Половина платежей будет выше медианы, а половина — ниже."
   ],
   "metadata": {
    "id": "8MGq6ZMAtwxX"
   }
  },
  {
   "cell_type": "code",
   "source": [
    "##! red_hw03_cell07\n",
    "\n",
    "\n",
    "# Определи функцию calculate_average\n",
    "def calculate_average(incomes):\n",
    "    average_income = sum(incomes) / len(incomes)\n",
    "    return average_income\n",
    "\n",
    "\n",
    "# Определи функцию calculate_median\n",
    "\n",
    "def calculate_median(incomes):\n",
    "    sorted_incomes = sorted(incomes)\n",
    "    n = len(sorted_incomes)\n",
    "    if n % 2 == 0:\n",
    "        median_income = (sorted_incomes[n // 2 - 1] + sorted_incomes[n // 2]) / 2\n",
    "    else:\n",
    "        median_income = sorted_incomes[n // 2]\n",
    "    return median_income\n",
    "\n",
    "\n",
    "# Пример использования функций\n",
    "monthly_incomes = [1000, 2000, 1500, 3000, 2500]\n",
    "average_income = calculate_average(monthly_incomes)\n",
    "median_income = calculate_median(monthly_incomes)\n",
    "\n",
    "print(f\"Средний доход: {average_income}, Медианный доход: {median_income}\")\n"
   ],
   "metadata": {
    "id": "Z0E-byaHtztW",
    "ExecuteTime": {
     "end_time": "2024-09-25T15:08:04.974853Z",
     "start_time": "2024-09-25T15:08:04.970302Z"
    }
   },
   "outputs": [
    {
     "name": "stdout",
     "output_type": "stream",
     "text": [
      "Средний доход: 2000.0, Медианный доход: 2000\n"
     ]
    }
   ],
   "execution_count": 7
  }
 ]
}
