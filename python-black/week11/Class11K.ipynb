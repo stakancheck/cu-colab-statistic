{
 "cells": [
  {
   "cell_type": "markdown",
   "metadata": {
    "id": "Sme_76-IoBZV",
    "pycharm": {
     "name": "#%% md\n"
    }
   },
   "source": [
    "# Семинар по теме «`async`»"
   ]
  },
  {
   "cell_type": "markdown",
   "metadata": {
    "collapsed": false,
    "jupyter": {
     "outputs_hidden": false
    },
    "pycharm": {
     "name": "#%% md\n"
    }
   },
   "source": [
    "## Блокирующий семинар\n",
    "\n",
    "**Как влияет на уровень**\n",
    "\n",
    "Чтобы подтвердить продвинутый уровень, необходимо решить задачи и сдать на проверку ноутбук.\n",
    "\n",
    "**Как влияет на оценку**\n",
    "\n",
    "За выполнение заданий **всех** семинаров (блокирующих и неблокирующих) начисляются баллы. Чем больше баллов, тем выше оценка за курс."
   ]
  },
  {
   "cell_type": "markdown",
   "metadata": {
    "collapsed": false,
    "jupyter": {
     "outputs_hidden": false
    },
    "pycharm": {
     "name": "#%% md\n"
    }
   },
   "source": [
    "## Оценивание работы на семинаре\n",
    "\n",
    "**Система оценивания —** бинарная:\n",
    "\n",
    "  - если все задачи решены корректно, без ошибок и полностью соответствуют стандартам кода на курсе, то задание выполнено и оценка — **10 баллов**;\n",
    "  - если решения содержат ошибки или не соответствуют требованиям, то задание не выполнено и оценка — **0 баллов**.\n",
    "\n",
    "\n",
    "**Проверка задания**\n",
    "\n",
    "- Перед тем как сдать задание, убедись, что твой код работает без ошибок и соответствует стандартам. Для этого используй автоматическую проверку.\n",
    "- Загрузи задание на LMS. Ассистент проверит, соответствуют ли твои решения требованиям и целям задания, и выставит оценку.\n",
    "\n",
    "\n",
    "**Доработка**\n",
    "\n",
    "- Если твоё задание получило 0 баллов, его вернут на доработку через LMS с комментариями о том, что нужно исправить."
   ]
  },
  {
   "cell_type": "markdown",
   "metadata": {
    "id": "fqVp6h5woBZY",
    "pycharm": {
     "name": "#%% md\n"
    }
   },
   "source": [
    "Твоя задача — реализовать асинхронную систему для чтения, обработки и сохранения больших объёмов данных из CSV-файла, который содержит рецензии на игры. Данные обрабатываются по частям (чанкам), агрегируются по играм и сохраняются в отдельные CSV-файлы для каждой игры.\n",
    "\n",
    "Данные для задания нужно скачать по [ссылке из Яндекс.Диска ЦУ](https://disk.yandex.ru/d/JnMz7hjln5NAng)"
   ]
  },
  {
   "cell_type": "markdown",
   "metadata": {
    "id": "z7XLt4TEoBZZ",
    "pycharm": {
     "name": "#%% md\n"
    }
   },
   "source": [
    "### Шаг 1\n",
    "Создай класс для чтения файла CSV в чанках, чтобы обрабатывать его частями, не загружая весь файл в память.\n",
    "\n",
    "#### Создание класса `CSVReader`\n",
    "\n",
    "   - Атрибуты:\n",
    "     - `file_path` — путь к файлу CSV.\n",
    "     - `chunk_size` — размер чанка данных для чтения (по умолчанию 1024 байта).\n",
    "     - `headers` — список заголовков из CSV-файла.\n",
    "\n",
    "   - Методы:\n",
    "     - `__init__(self, file_path, chunk_size=1024)` — инициализирует объект с указанием пути к файлу и размера чанка.\n",
    "     \n",
    "     - `read_in_chunks(self)` — асинхронно читает файл CSV по частям, разбивает файл на строки и возвращает их по мере чтения.\n",
    "         - Ожидаемый вывод: каждая порция данных будет возвращена в виде списка словарей, где ключами являются заголовки CSV-файла.\n",
    "\n",
    "     - `parse_chunk(self, chunk)` — принимает строку с набором данных, разбивает её с использованием `csv.DictReader` и возвращает список словарей, соответствующих данным в каждой строке.\n",
    "\n",
    "     - `clean_review(self, review)` — очищает строку данных, убирая лишние пробелы и форматируя поле `username` с учётом возможных многострочных записей.\n"
   ]
  },
  {
   "cell_type": "markdown",
   "metadata": {
    "id": "hNYeARKAoBZa",
    "pycharm": {
     "name": "#%% md\n"
    }
   },
   "source": [
    "#### Примеры использования\n",
    "\n",
    "```python\n",
    "async def main():\n",
    "    csv_reader = CSVReader('steam_game_reviews.csv', chunk_size=2048)\n",
    "\n",
    "    async for chunk in csv_reader.read_in_chunks():\n",
    "        pprint(chunk)  # Печать каждой порции данных\n",
    "\n",
    "# Запуск асинхронной программы\n",
    "asyncio.run(main())\n",
    "```\n",
    "\n",
    "#### Ожидаемый вывод\n",
    "   - Если данные успешно считаны, то выводятся:\n",
    "     ```python\n",
    "     строки, соответствующие чанкам данных\n",
    "     ```\n",
    "   - Если файл пуст или данные не найдены:\n",
    "     ```\n",
    "     []\n",
    "     ```"
   ]
  },
  {
   "cell_type": "markdown",
   "metadata": {
    "id": "q2oNQT-soBZb",
    "pycharm": {
     "name": "#%% md\n"
    }
   },
   "source": [
    "### Шаг 2\n",
    "\n",
    "Cоздай класс для обработки рецензий. Этот класс будет агрегировать рецензии по играм, чтобы собирать все данные об игре в одном месте.\n",
    "\n",
    "#### Создание класса `GameDataProcessor`\n",
    "   - Атрибуты:\n",
    "     - `game_data` — словарь, в котором ключами будут названия игр, а значениями — списки рецензий.\n",
    "\n",
    "   - Методы:\n",
    "     - `__init__(self)` — инициализирует объект с пустым словарём для хранения данных по играм.\n",
    "     \n",
    "     - `process_review(self, review)` — добавляет рецензию в список соответствующей игры. Если игра ещё не встречалась, то создаётся новый список для неё.\n",
    "       - Ожидаемый вывод: данные рецензии добавляются в словарь, где ключ — это название игры.\n",
    "\n",
    "     - `get_all_game_data(self)` — возвращает полный словарь с данными по всем играм.\n",
    "       - Ожидаемый вывод: возвращает словарь с играми и списками рецензий.\n"
   ]
  },
  {
   "cell_type": "markdown",
   "metadata": {
    "id": "AvxXUu_HoBZc",
    "pycharm": {
     "name": "#%% md\n"
    }
   },
   "source": [
    "#### Примеры использования\n",
    "\n",
    "```python\n",
    "# Пример обработки рецензий\n",
    "processor = GameDataProcessor()\n",
    "\n",
    "review1 = {'game_name': 'Game A', 'review': 'Awesome!', 'rating': '5'}\n",
    "review2 = {'game_name': 'Game B', 'review': 'Not bad', 'rating': '4'}\n",
    "review3 = {'game_name': 'Game A', 'review': 'Loved it!', 'rating': '5'}\n",
    "\n",
    "# Обработка рецензий\n",
    "processor.process_review(review1)\n",
    "processor.process_review(review2)\n",
    "processor.process_review(review3)\n",
    "\n",
    "# Получение данных по играм\n",
    "game_data = processor.get_all_game_data()\n",
    "pprint(game_data)\n",
    "```\n",
    "\n",
    "#### Ожидаемый вывод\n",
    "```python\n",
    "{\n",
    "   'Game A': [\n",
    "       {'game_name': 'Game A', 'review': 'Awesome!', 'rating': '5'},\n",
    "       {'game_name': 'Game A', 'review': 'Loved it!', 'rating': '5'},\n",
    "   ],\n",
    "   'Game B': [\n",
    "       {'game_name': 'Game B', 'review': 'Not bad', 'rating': '4'},\n",
    "   ],\n",
    "}\n",
    "```"
   ]
  },
  {
   "cell_type": "markdown",
   "metadata": {
    "id": "f4OGBynOoBZe",
    "pycharm": {
     "name": "#%% md\n"
    }
   },
   "source": [
    "### Шаг 3\n",
    "\n",
    "Реализуй класс для асинхронного сохранения данных по играм в отдельные CSV-файлы. Каждая игра будет сохранена в свой файл, содержащий информацию о рецензиях.\n",
    "\n",
    "#### Cоздание класса `GameFileWriter`\n",
    "   - Атрибуты:\n",
    "     - `output_dir` — директория для сохранения файлов с данными по играм.\n",
    "\n",
    "   - Методы:\n",
    "     - `__init__(self, output_dir)` — инициализирует объект с указанием директории для сохранения файлов и создаёт директорию, если она не существует.\n",
    "     \n",
    "     - `save_game_data(self, game_name, reviews)` — асинхронно сохраняет данные о рецензиях по игре в отдельный CSV-файл. Каждая строка файла будет представлять одну рецензию.\n",
    "       - Ожидаемый вывод: CSV-файл будет сохранён в указанной директории с данными по рецензиям на игру.\n"
   ]
  },
  {
   "cell_type": "markdown",
   "metadata": {
    "id": "jXTQS2FnoBZe",
    "pycharm": {
     "name": "#%% md\n"
    }
   },
   "source": [
    "#### Примеры использования\n",
    "\n",
    "```python\n",
    "# Пример сохранения данных в CSV\n",
    "file_writer = GameFileWriter(\"output_data\")\n",
    "\n",
    "game_reviews = [\n",
    "    {'review': 'Great game!', 'hours_played': '10', 'helpful': '5', 'funny': '1', 'recommendation': 'Yes', 'date': '2024-10-12', 'username': 'user1', 'products_in_account': 100},\n",
    "    {'review': 'Not bad', 'hours_played': '8', 'helpful': '3', 'funny': '0', 'recommendation': 'No', 'date': '2024-10-11', 'username': 'user2', 'products_in_account': 50},\n",
    "]\n",
    "\n",
    "# Асинхронное сохранение рецензий в CSV-файл\n",
    "await file_writer.save_game_data('Game_A', game_reviews)\n",
    "```\n",
    "#### Ожидаемый вывод\n",
    "- В директории `output_data` создаётся файл `Game_A.csv` со следующим содержимым:\n",
    "     ```\n",
    "     review,hours_played,helpful,funny,recommendation,date,username,products_in_account\n",
    "     Great game!,10,5,1,Yes,2024-10-12,user1,100\n",
    "     Not bad,8,3,0,No,2024-10-11,user2,50\n",
    "     ```"
   ]
  },
  {
   "cell_type": "markdown",
   "metadata": {
    "id": "ItV2FccKoBZe",
    "pycharm": {
     "name": "#%% md\n"
    }
   },
   "source": [
    "### Шаг 4\n",
    "Cоздай класс для управления чтением, обработкой и сохранением рецензий. Класс `ReviewManager` объединяет все предыдущие шаги, организуя работу с большими данными и разделяя их по играм для дальнейшего сохранения.\n",
    "\n",
    "\n",
    "####  Создание класса `ReviewManager`\n",
    "   - Атрибуты:\n",
    "     - `csv_reader` — экземпляр класса `CSVReader` для чтения данных из CSV-файла.\n",
    "     - `data_processor` — экземпляр класса `GameDataProcessor` для обработки рецензий.\n",
    "     - `file_writer` — экземпляр класса `GameFileWriter` для сохранения данных по играм в отдельные файлы.\n",
    "   \n",
    "   - Методы:\n",
    "     - `__init__(self, csv_path, output_dir, chunk_size=10000, total_lines=909740)` — инициализирует экземпляры классов для чтения данных, обработки рецензий и их сохранения.\n",
    "     \n",
    "     - `process_reviews(self)` — управляет чтением рецензий из файла, обработкой каждой рецензии и сохранением данных по играм в CSV-файлы.\n",
    "       - Ожидаемый вывод: печатаются сообщения о процессе обработки чанков данных и записи рецензий для каждой игры.\n",
    "\n",
    "     - `_write_game_data(self, game, reviews, index, total_games)` — сохраняет данные по конкретной игре в файл, выводит сообщения о процессе записи данных.\n"
   ]
  },
  {
   "cell_type": "markdown",
   "metadata": {
    "id": "0BI_iGd2oBZf",
    "pycharm": {
     "name": "#%% md\n"
    }
   },
   "source": [
    "#### Примеры использования\n",
    "\n",
    "```python\n",
    "# Пример использования ReviewManager для чтения и обработки рецензий\n",
    "review_manager = ReviewManager('reviews.csv', 'output_data')\n",
    "\n",
    "# Асинхронная обработка рецензий\n",
    "await review_manager.process_reviews()\n",
    "```\n",
    "\n",
    "#### Ожидаемый вывод\n",
    "   - Во время обработки данных:\n",
    "     ```\n",
    "     Processing chunk 1\n",
    "     Processing chunk 2\n",
    "     ...\n",
    "     ```\n",
    "   - Во время записи данных:\n",
    "     ```\n",
    "     Writing data for 'Game A' (1 / 50)...\n",
    "     Complete 'Game A' (1 / 50)...\n",
    "     Writing data for 'Game B' (2 / 50)...\n",
    "     Complete 'Game B' (2 / 50)...\n",
    "     ...\n",
    "     ```"
   ]
  }
 ],
 "metadata": {
  "colab": {
   "provenance": []
  },
  "kernelspec": {
   "display_name": "Python 3 (ipykernel)",
   "language": "python",
   "name": "python3"
  },
  "language_info": {
   "codemirror_mode": {
    "name": "ipython",
    "version": 3
   },
   "file_extension": ".py",
   "mimetype": "text/x-python",
   "name": "python",
   "nbconvert_exporter": "python",
   "pygments_lexer": "ipython3",
   "version": "3.11.2"
  }
 },
 "nbformat": 4,
 "nbformat_minor": 4
}
