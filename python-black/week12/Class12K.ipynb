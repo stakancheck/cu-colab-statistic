{
 "cells": [
  {
   "cell_type": "markdown",
   "metadata": {
    "deletable": false,
    "editable": false,
    "id": "7bLGCG5KDhPW",
    "pycharm": {
     "name": "#%% md\n"
    }
   },
   "source": [
    "# Семинар по теме «`Использование библиотеки asyncio`»"
   ]
  },
  {
   "cell_type": "markdown",
   "metadata": {
    "collapsed": false,
    "deletable": false,
    "editable": false,
    "jupyter": {
     "outputs_hidden": false
    },
    "pycharm": {
     "name": "#%% md\n"
    }
   },
   "source": [
    "## Блокирующий семинар\n",
    "\n",
    "**Как влияет на уровень**\n",
    "\n",
    "Чтобы подтвердить продвинутый уровень, необходимо решить задачи и сдать на проверку ноутбук.\n",
    "\n",
    "**Как влияет на оценку**\n",
    "\n",
    "За выполнение заданий **всех** семинаров (блокирующих и неблокирующих) начисляются баллы. Чем больше баллов, тем выше оценка за курс."
   ]
  },
  {
   "cell_type": "markdown",
   "metadata": {
    "collapsed": false,
    "deletable": false,
    "editable": false,
    "jupyter": {
     "outputs_hidden": false
    },
    "pycharm": {
     "name": "#%% md\n"
    }
   },
   "source": [
    "## Оценивание работы на семинаре\n",
    "\n",
    "**Система оценивания —** бинарная:\n",
    "\n",
    "  - если все задачи решены корректно, без ошибок и полностью соответствуют стандартам кода на курсе, то задание выполнено и оценка — **10 баллов**;\n",
    "  - если решения содержат ошибки или не соответствуют требованиям, то задание не выполнено и оценка — **0 баллов**.\n",
    "\n",
    "\n",
    "**Проверка задания**\n",
    "\n",
    "- Перед тем как сдать задание, убедись, что твой код работает без ошибок и соответствует стандартам. Для этого используй автоматическую проверку.\n",
    "- Загрузи задание на LMS. Ассистент проверит, соответствуют ли твои решения требованиям и целям задания, и выставит оценку.\n",
    "\n",
    "\n",
    "**Доработка**\n",
    "\n",
    "- Если твоё задание получило 0 баллов, его вернут на доработку через LMS с комментариями о том, что нужно исправить."
   ]
  },
  {
   "cell_type": "markdown",
   "metadata": {
    "deletable": false,
    "editable": false,
    "id": "KV9O0fTgDhPY",
    "pycharm": {
     "name": "#%% md\n"
    }
   },
   "source": [
    "Твоя задача в этом семинаре — создать асинхронный веб-скрейпер для сбора данных с YouTube.\n",
    "\n",
    "## Шаг 1\n",
    "\n",
    "Реализуй класс `YouTubeScraper`, который будет асинхронно загружать HTML страницы с видео по URL этих видео.\n",
    "\n",
    "### Создай класс `YouTubeScraper`\n",
    "\n",
    "   - Атрибуты:\n",
    "     - `video_urls` — список URL видео для обработки.\n",
    "\n",
    "   - Методы:\n",
    "     - `__init__(self, video_urls)` — инициализирует объект с предоставленным списком URL видео.\n",
    "\n",
    "     - `fetch_html(self, url, session)` — асинхронно получает HTML страницы по URL с помощью переданной сессии. Логирует успешные и неудачные попытки загрузки.\n",
    "       - **Ожидаемый вывод**\n",
    "\n",
    "         При успешной загрузке:\n",
    "         ```\n",
    "         Successfully fetched HTML for <url>\n",
    "         ```\n",
    "         При ошибке:\n",
    "         ```\n",
    "         Failed to fetch <url>: <описание ошибки>\n",
    "         ```\n",
    "\n",
    "     - `get_video_data(self)` — создаёт асинхронные задачи, чтобы загрузить HTML для каждого видео из `video_urls`. Возвращает результаты выполнения задач.\n",
    "       - **Ожидаемый вывод:** cписок HTML-содержимого для каждого видео или `None` для URL, загрузка которого не удалась.\n",
    "\n"
   ]
  },
  {
   "cell_type": "markdown",
   "metadata": {
    "deletable": false,
    "editable": false,
    "id": "cR1W7EGPDhPY",
    "pycharm": {
     "name": "#%% md\n"
    }
   },
   "source": [
    "### Примеры использования\n",
    "\n",
    "  ```python\n",
    "  # Пример асинхронного сбора HTML-данных с YouTube\n",
    "  video_urls = [\n",
    "          'https://www.youtube.com/watch?v=ModFC1bhobA',\n",
    "          'https://www.youtube.com/watch?v=SIm2W9TtzR0',\n",
    "  ]\n",
    "  scraper = YouTubeScraper(video_urls)\n",
    "\n",
    "  # Запуск асинхронного сбора данных\n",
    "  video_data = await scraper.get_video_data()\n",
    "  pprint(video_data)\n",
    "  ```\n",
    "\n",
    "### Ожидаемый вывод\n",
    "   - При успешном выполнении:\n",
    "     - Логирование успешной загрузки:\n",
    "     ```\n",
    "     Successfully fetched HTML for https://www.youtube.com/watch?v=ModFC1bhobA\n",
    "     Successfully fetched HTML for https://www.youtube.com/watch?v=SIm2W9TtzR0\n",
    "     ```\n",
    "     - HTML-код страницы.\n",
    "   - Если возникла ошибка при получении данных для одного из URL:\n",
    "     ```\n",
    "     Failed to fetch https://www.youtube.com/watch?v=example1: <описание ошибки>\n",
    "     ```"
   ]
  },
  {
   "cell_type": "markdown",
   "metadata": {
    "deletable": false,
    "editable": false,
    "id": "MdKtUMDkpOt6",
    "pycharm": {
     "name": "#%% md\n"
    }
   },
   "source": [
    "### Шаг 2\n",
    "\n",
    "Чтобы выполнить этот шаг, сначала изучи информацию про парсинг и библиотеку `BeautifulSoup`.\n"
   ]
  },
  {
   "cell_type": "markdown",
   "metadata": {
    "deletable": false,
    "editable": false,
    "id": "QixUs7WRMFnY",
    "pycharm": {
     "name": "#%% md\n"
    }
   },
   "source": [
    "### `BeautifulSoup`\n",
    "\n",
    "> `BeautifulSoup` — это библиотека для Python, которая позволяет извлекать информацию из HTML-кода.\n",
    "\n",
    "В данном случае она поможет тебе найти и сохранить нужные данные из HTML страницы.\n",
    "\n",
    "Для начала работы с BeautifulSoup:\n",
    "1. Импортируй библиотеку: `from bs4 import BeautifulSoup`.\n",
    "2. Создай объект `soup`, используя HTML-контент страницы:\n",
    "   ```python\n",
    "   soup = BeautifulSoup(html_content, 'html.parser')\n",
    "   ```\n",
    "3. Используй методы `find` и `find_all`, чтобы найти определённые теги с особыми атрибутами. Например, чтобы получить значение атрибута `'content'` из тега `<meta name='title'>`, используй:\n",
    "   ```python\n",
    "   soup.find('meta', attrs={'name': 'title'})['content']\n",
    "   ```\n",
    "\n",
    "4. Если элемента не существует, BeautifulSoup может выдать ошибку. Чтобы этого избежать, используй блок `try-except`, как показано в функции.\n",
    "\n",
    "5. Заметка: используй `print(soup.prettify())` чтобы просмотреть отформатированый `html`. Также ты можешь сохранить его файл и вручную просмотреть интересующие тебя строки.\n",
    "\n",
    "#### Все тэги\n",
    "\n",
    "Ключевые строки для поиска данных в HTML:\n",
    "- **Название видео** — ищется по тегу `<meta name='title'>`.\n",
    "- **Описание видео** — ищется по тегу `<meta name='description'>`.\n",
    "- **Имя канала** — ищется по тегу `<link itemprop='name'>`.\n",
    "- **Количество просмотров** — ищется по тегу `<meta itemprop='interactionCount'>`.\n",
    "- **Дата загрузки видео** — ищется по тегу `<meta itemprop='uploadDate'>`.\n",
    "- **Жанр видео** — ищется по тегу `<meta itemprop='genre'>`.\n",
    "\n",
    "#### Примеры\n",
    "\n",
    "1. **Описание видео** — ищется по тегу `<meta name='description'>`:\n",
    "   ```python\n",
    "   soup.find('meta', attrs={'name': 'description'})['content']\n",
    "   ```\n",
    "\n",
    "3. **Теги видео** — ищутся с помощью `find_all` по тегу `<meta property='og:video:tag'>`:\n",
    "   ```python\n",
    "   [tag['content'] for tag in soup.find_all('meta', property='og:video:tag')]\n",
    "   ```\n",
    "\n",
    "4. **Имя канала** — ищется по тегу `<link itemprop=\"name\">`:\n",
    "   ```python\n",
    "   soup.find('link', itemprop='name')['content']\n",
    "   ```\n"
   ]
  },
  {
   "cell_type": "markdown",
   "metadata": {
    "deletable": false,
    "editable": false,
    "id": "Y9OJFdS6NKUP",
    "pycharm": {
     "name": "#%% md\n"
    }
   },
   "source": [
    "### Парсинг\n",
    "\n",
    "> **Парсинг** — это извлечение целевой информации из текста. Парсинг помогает программам автоматически находить и обрабатывать данные, например, из веб-страницы.\n",
    "\n",
    "**Пример.** Есть HTML-код страницы с информацией о книге. Нужно получить название книги и её автора.\n",
    "\n",
    "```html\n",
    "<html>\n",
    "  <head><title>Жанр: Фэнтези</title></head>\n",
    "  <body>\n",
    "    <h1>Название: Гарри Поттер</h1>\n",
    "    <p>Автор: Джоан Роулинг</p>\n",
    "  </body>\n",
    "</html>\n",
    "```\n",
    "\n",
    "Для парсинга используем библиотеку BeautifulSoup:\n",
    "\n",
    "```python\n",
    "from bs4 import BeautifulSoup\n",
    "\n",
    "html_content = \"\"\"<html><head><title>Жанр: Фэнтези</title></head><body><h1>Название: Гарри Поттер </h1><p>Автор: Джоан Роулинг</p></body></html>\"\"\"\n",
    "soup = BeautifulSoup(html_content, 'html.parser')\n",
    "\n",
    "# Извлекаем название и автора\n",
    "title = soup.find('h1').text.replace('Название: ', '')\n",
    "author = soup.find('p').text.replace('Автор: ', '')\n",
    "\n",
    "print('Название книги:', title)\n",
    "print('Автор:', author)\n",
    "```\n",
    "\n",
    "**Результат:**\n",
    "```\n",
    "Название книги: Гарри Поттер\n",
    "Автор: Джоан Роулинг\n",
    "```\n"
   ]
  },
  {
   "cell_type": "markdown",
   "metadata": {
    "deletable": false,
    "editable": false,
    "id": "2Im0yPRbDhPZ",
    "pycharm": {
     "name": "#%% md\n"
    }
   },
   "source": [
    "Реализуй класс `YouTubeParser`, который будет обрабатывать HTML страницы с видео и извлекать информацию о видео: название, описание, теги и другие метаданные.\n",
    "\n",
    "### Создай класс `YouTubeParser`\n",
    "\n",
    "Методы:\n",
    "  - `parse(self, html_content)` — асинхронно парсит HTML-содержимое страницы и извлекает метаданные. Если HTML отсутствует, возвращает пустой словарь. В случае успешного парсинга или ошибки логирует соответствующие сообщения.\n",
    "       - **Ожидаемый вывод:**\n",
    "         - При успешном парсинге:\n",
    "           ```\n",
    "           Successfully parsed video data\n",
    "           ```\n",
    "         - Если HTML отсутствует:\n",
    "           ```\n",
    "           No HTML content to parse\n",
    "           ```\n",
    "         - При ошибке парсинга:\n",
    "           ```\n",
    "           Error parsing HTML content: <описание ошибки>\n",
    "           ```\n"
   ]
  },
  {
   "cell_type": "markdown",
   "metadata": {
    "deletable": false,
    "editable": false,
    "id": "E_AauQ09DhPa",
    "pycharm": {
     "name": "#%% md\n"
    }
   },
   "source": [
    "### Примеры использования\n",
    "\n",
    "  ```python\n",
    "  # Пример асинхронного парсинга данных из HTML видео\n",
    "  html_content = '<html>...</html>'  # Здесь HTML-содержимое страницы YouTube\n",
    "  parser = YouTubeParser()\n",
    "\n",
    "  # Асинхронный вызов парсинга\n",
    "  video_data = await parser.parse(html_content)\n",
    "  pprint(video_data)\n",
    "  ```\n",
    "\n",
    "### Ожидаемый вывод\n",
    "   - При успешном парсинге возвращает словарь с данными:\n",
    "     ```python\n",
    "     {\n",
    "         'title': 'Пример видео',\n",
    "         'description': 'Описание видео',\n",
    "         'tags': ['Tag1', 'Tag2'],\n",
    "         'channel_name': 'Название канала',\n",
    "         'views_number': '123456',\n",
    "         'upload_date': '2024-10-10',\n",
    "         'genre': 'Жанр видео'\n",
    "     }\n",
    "     ```\n",
    "\n",
    "- Если HTML-содержимое отсутствует или произошла ошибка:\n",
    "\n",
    "     ```\n",
    "     {}\n",
    "     ```"
   ]
  },
  {
   "cell_type": "markdown",
   "metadata": {
    "deletable": false,
    "editable": false,
    "id": "qoGKh00sDhPb",
    "pycharm": {
     "name": "#%% md\n"
    }
   },
   "source": [
    "## Шаг 3\n",
    "\n",
    "Реализуй класс `GoogleSheetWriter` для сохранения данных о видео на YouTube в Google Sheets. Этот класс авторизуется с помощью сервисного аккаунта и записывает данные в указанный Google Sheet.\n",
    "\n",
    "\n",
    "### Создай класс `GoogleSheetWriter`\n",
    "   - Атрибуты:\n",
    "     - `sheet_id` — ID таблицы Google Sheets.\n",
    "     - `worksheet_name` — название рабочего листа (по умолчанию `'YouTube Data'`).\n",
    "     - `sheet` — объект таблицы Google Sheets.\n",
    "     - `agcm` — менеджер для асинхронной работы с Google Sheets API.\n",
    "\n",
    "   - Методы:\n",
    "     - `__init__(self, spreadsheet_id, worksheet_name='YouTube Data')` — инициализирует объект с ID таблицы и именем рабочего листа.\n",
    "\n",
    "     - `get_creds()` — статический метод для получения и настройки учётных данных сервисного аккаунта.\n",
    "\n",
    "     - `init_spreadsheet(self)` — инициализирует таблицу, открывая её по `sheet_id`. Логирует успешную инициализацию.\n",
    "       - **Ожидаемый вывод:**\n",
    "         ```\n",
    "         Initialized spreadsheet '<spreadsheet_id>'\n",
    "         ```\n",
    "\n",
    "     - `write_to_sheet(self, data)` — записывает данные о видео в Google Sheets. Если таблица не инициализирована, вызывает `init_spreadsheet()`. Записывает теги в виде строки, разделённой запятыми.\n",
    "       - **Ожидаемый вывод:**\n",
    "         ```\n",
    "         Data written to sheet.\n",
    "         ```\n",
    "\n",
    "### Примеры использования\n",
    "\n",
    "  ```python\n",
    "  # Пример записи данных в Google Sheets\n",
    "  sheet_writer = GoogleSheetWriter('your_spreadsheet_id')\n",
    "\n",
    "  # Пример данных для записи\n",
    "  video_data = [\n",
    "      {\n",
    "          'title': 'Пример видео',\n",
    "          'description': 'Описание видео',\n",
    "          'tags': ['Tag1', 'Tag2'],\n",
    "          'channel_name': 'Название канала',\n",
    "          'views_number': '123456',\n",
    "          'upload_date': '2024-10-15',\n",
    "          'genre': 'Жанр видео'\n",
    "      }\n",
    "  ]\n",
    "\n",
    "  # Асинхронная запись данных в Google Sheets\n",
    "  await sheet_writer.write_to_sheet(video_data)\n",
    "  ```\n",
    "\n",
    "### Ожидаемый вывод\n",
    "   - При успешной инициализации таблицы:\n",
    "     ```\n",
    "     Initialized spreadsheet 'your_spreadsheet_id'\n",
    "     ```\n",
    "   - После успешной записи данных:\n",
    "     ```\n",
    "     Data written to sheet.\n",
    "     ```"
   ]
  },
  {
   "cell_type": "markdown",
   "metadata": {
    "deletable": false,
    "editable": false,
    "id": "c71mbEysDhPb",
    "pycharm": {
     "name": "#%% md\n"
    }
   },
   "source": [
    "### Шаг 4\n",
    "\n",
    "Создай конвейер данных `YouTubeDataPipeline`, который связывает загрузку HTML страниц, парсинг данных и запись их в Google Sheets. `YouTubeDataPipeline` последовательно выполняет этапы загрузки, обработки и сохранения данных о видео с помощью ранее созданных классов.\n",
    "\n",
    "\n",
    "### Создай класс `YouTubeDataPipeline`\n",
    "   - Атрибуты:\n",
    "     - `scraper` — экземпляр класса `YouTubeScraper` для асинхронной загрузки HTML-данных по URL.\n",
    "     - `parser` — экземпляр класса `YouTubeParser` для извлечения метаданных из HTML.\n",
    "     - `writer` — экземпляр класса `GoogleSheetWriter` для записи данных в Google Sheets.\n",
    "\n",
    "   - Методы:\n",
    "     - `__init__(self, video_urls, spreadsheet_id)` — инициализирует экземпляры `scraper`, `parser` и `writer` для работы с данными видео и таблицей Google Sheets.\n",
    "\n",
    "     - `run(self)` — асинхронно выполняет сбор данных, обработку HTML и сохранение в таблице. Логирует начало и завершение работы конвейера данных.\n",
    "       - **Ожидаемый вывод:** cообщения о начале и завершении выполнения конвейера:\n",
    "         ```\n",
    "         Starting YouTube data pipeline...\n",
    "         Pipeline completed!\n",
    "         ```\n",
    "\n"
   ]
  },
  {
   "cell_type": "markdown",
   "metadata": {
    "deletable": false,
    "editable": false,
    "id": "EFS_W8aMDhPc",
    "pycharm": {
     "name": "#%% md\n"
    }
   },
   "source": [
    "### Примеры использования\n",
    "\n",
    "```python\n",
    "# Используем YouTubeDataPipeline для сбора и сохранения данных о видео\n",
    "video_urls = [\n",
    "    'https://www.youtube.com/watch?v=NSDdJeCmXXE',\n",
    "    'https://www.youtube.com/watch?v=WGsMydFFPMk'\n",
    "]\n",
    "spreadsheet_id = '1-_bLzWOiOkRIlyM3boc5gLyrHs_rvTUspZyQHUHpxus'\n",
    "\n",
    "pipeline = YouTubeDataPipeline(video_urls, spreadsheet_id)\n",
    "asyncio.run(pipeline.run())\n",
    "```\n",
    "\n",
    "### Ожидаемый вывод\n",
    "   - При успешном выполнении всех шагов:\n",
    "     ```\n",
    "     Starting YouTube data pipeline...\n",
    "     Successfully fetched HTML for https://www.youtube.com/watch?v=NSDdJeCmXXE\n",
    "     Successfully parsed video data\n",
    "     Successfully fetched HTML for https://www.youtube.com/watch?v=WGsMydFFPMk\n",
    "     Successfully parsed video data\n",
    "     Pipeline completed!\n",
    "     ```\n",
    "     А также обновлённые данные в Google Sheets.\n",
    "   - В случае ошибки при загрузке или парсинге данных:\n",
    "     ```\n",
    "     Failed to fetch <url>: <описание ошибки>\n",
    "     Error parsing HTML content: <описание ошибки>\n",
    "     ```"
   ]
  }
 ],
 "metadata": {
  "colab": {
   "provenance": []
  },
  "kernelspec": {
   "display_name": "Python 3 (ipykernel)",
   "language": "python",
   "name": "python3"
  },
  "language_info": {
   "codemirror_mode": {
    "name": "ipython",
    "version": 3
   },
   "file_extension": ".py",
   "mimetype": "text/x-python",
   "name": "python",
   "nbconvert_exporter": "python",
   "pygments_lexer": "ipython3",
   "version": "3.12.7"
  }
 },
 "nbformat": 4,
 "nbformat_minor": 4
}
